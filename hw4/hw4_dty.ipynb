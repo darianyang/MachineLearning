{
 "cells": [
  {
   "cell_type": "markdown",
   "metadata": {},
   "source": [
    "## HW4 Classification of Green Fluorescent Protein\n",
    "### Darian Yang\n",
    "\n",
    "You can start with basic models, and then try your best to optimize your predictions by using more sophisticated models, feature engineering, and fine-tuning the hyperparameters. The grade of this homework will be based on the score you get on Kaggle. \n",
    "\n",
    "There is no specific requirement for a written summary for this homework, but please leave some necessary notes/comments in your submission to help the grader understand your workflow.\n",
    "\n",
    "In this work you will predict the brightness level binarized for classification between high brightness (class 1) and low brightness (class 0) for a set of mutants of Green Fluorescent Protein\n",
    "\n",
    "Please explore descriptors/featurisations for amino acid sequences.\n",
    "The performance will be measured using F1 score metric (sklearn.metrics.f1_score)\n",
    "\n",
    "Overfitting is prevented by using a public and private leaderboard..\n",
    "\n",
    "#### Overall:\n",
    "* Get data from Kaggle\n",
    "* Make features\n",
    "* Build classification models using only Scikit Learn!\n",
    "* Submit solution for autograding to Kaggle\n",
    "* Submit IPYNB file to canvas\n",
    "\n",
    "#### Dataset Description\n",
    "This dataset provides quantitative measurements of the brightness level binarized for classification between high brightness (class 1) and low brightness (class 0) for a set of mutants of Green Fluorescent Protein\n",
    "\n",
    "File descriptions\n",
    "* X_train_kaggle.csv - the training set: amino acid sequences Id column\n",
    "* y_train_kaggle.csv - the training set: brightness class for training with Id column\n",
    "* X_test_kaggle.csv - the test set: amino acid sequences with Id column that you should predict\n",
    "* y_sample_submission.csv - a sample submission file in the correct format\n",
    "\n",
    "To work with amino acid sequence for building a ML model you have to perform a feature engineering.\n",
    "* a good start -subfolder \"descriptors\" contains descriptors for amino acids and papers describing their construction\n",
    "\n",
    "#### Submission Format\n",
    "For every molecule in the dataset, submission files should contain two columns: Id and ACTIVE.\n",
    "\n",
    "The file should contain a header and have the following format:\n",
    "\n",
    "```\n",
    "Id,Brightness_Class\n",
    "1,1\n",
    "```"
   ]
  },
  {
   "cell_type": "code",
   "execution_count": 2,
   "metadata": {},
   "outputs": [],
   "source": [
    "import numpy as np\n",
    "import matplotlib.pyplot as plt\n",
    "import pandas as pd"
   ]
  },
  {
   "cell_type": "code",
   "execution_count": 3,
   "metadata": {},
   "outputs": [],
   "source": [
    "X_train = pd.read_csv(\"X_train_kaggle.csv\").to_numpy()\n",
    "y_train = pd.read_csv(\"y_train_kaggle.csv\").to_numpy()\n",
    "X_test = pd.read_csv(\"X_test_kaggle.csv\").to_numpy()"
   ]
  },
  {
   "cell_type": "code",
   "execution_count": 4,
   "metadata": {},
   "outputs": [
    {
     "data": {
      "text/plain": [
       "array([['SKGEELFTGVVPILVELDGDVNGHKFSVSGEGEGDATYGKLTLKFISTTGKLPVPWPTLVTTLSYGVQCFSRYPDHTKQHDFFKSAMPEGYVQERTIFFKDDGNYKTRAEVKSEGDTLVNRIELKGIDFKEDGNILGHKLEYNYNSHNVYIMADKQKNGIKVNFKIRHNIEDGSVQLADHYQQNTPIGDGPVLLPDNHYLSTQSALSKDPNEKRDHMVLLEFVTAAGITHGMDELYK',\n",
       "        11328],\n",
       "       ['SKGEELFTGVVPILVELDGDVNGHKFSVSGEGEGDATYGKLTLKFICTTGKLPVPWPTLVTTLSYGVQCFSRYPDHMKQHDFFKSAMPEGYAQERTIFFKDDGNYKTRAEVKFEGDTLVNRIELKGIDFKEDGNILGHKLEYNYNSHNVYNMADKQKNGIKVNFKIRHNTEDGSVQLADHYQQNTPIGDGPVLLPDNHYLSTPSALSKDPNEERDHMVLLEFVTAAGITHGMDELYK',\n",
       "        5781],\n",
       "       ['SKGEELFTGVVPILVELDGDVNGHKFSVSGEGEGDATYGKLTLKFIRTTGKLPVPWPTLVTTLSYGVQCSSRYPDHMKQHDLFKSAMPEGYAQERTIFSKDDGNYETRAEVRFEGDALVNRIELKGIDFKEDGNILGHKLEYNYNSHNVYIMADKQKNGIKVNFKIRHNIEDGSEQLADHYQQNTPIGDGPVLLPDDHYLSTQSALSKDPNEKRDHMVLLEFVTAAGITHGMDELYK',\n",
       "        13681],\n",
       "       ...,\n",
       "       ['SKGEELFTGVVPVLVELDGDVNGHKFSVSGEGEGDATYGKLTLKLICTTGKLPVPWPTLVTTLSYGVQCFSRYPDHMKQHDFFKSAMPEGYVQERTIFFKDDGNYKTRAEVMFEGDTLVNRIELKGIDFKEDGNILGHKLEYNYNSHNVYIMADKQKNGIKVNFKIRHNIEDGSVQLADHYQQNTPIGDGPVLLPDNHYLSTQSALSEDPNEKRDRMVLLEFVTAAGITHGMDELYK',\n",
       "        4140],\n",
       "       ['SKGEELFTGVVPILVELDGDVNGHKFSVSGEGEGDATYGKLTLKFICTTGKLPVPWPTLVTTLSYGVQCFSRYPDHMKQHDFFMSAMPEGYVQERTIFFKDDGNYKTRAEVKFEGDTLVNRIELKGIDFKEDGNILGHKLEYNYNSHNVYIMADKQKNGIKVNFKIRHNIEDGSVQLADHYQQNTPIGDGPVLLPDNHYLSTQSALSKDPNEKRDHMVLLEFVTAAGITHGMDEQYK',\n",
       "        15193],\n",
       "       ['SKGEELFTGVVPILVELDGDVNGHKFSVSGEGEGDATYGKLTLKFICTTGKLPVPWPTLVTTLSYGVQCFSRYPDHMKQHDFFKSAMPEGYVQERTILFKYDGNYKTRAEVKFEGDTLVNRIELKGIDFKEDGNILGHKLEYNYNSHNVYIMADKQKNGIKVNFKIRHNIEDGSVQLADHYQQNTPIGDGPVLLPDSHYLSTQSALSKDPNEKRDHMVLLEFVTAAGITRGMDELYK',\n",
       "        30255]], dtype=object)"
      ]
     },
     "execution_count": 4,
     "metadata": {},
     "output_type": "execute_result"
    }
   ],
   "source": [
    "X_train"
   ]
  },
  {
   "cell_type": "code",
   "execution_count": 5,
   "metadata": {},
   "outputs": [
    {
     "data": {
      "text/plain": [
       "array([[    0, 11328],\n",
       "       [    0,  5781],\n",
       "       [    0, 13681],\n",
       "       ...,\n",
       "       [    0,  4140],\n",
       "       [    1, 15193],\n",
       "       [    1, 30255]])"
      ]
     },
     "execution_count": 5,
     "metadata": {},
     "output_type": "execute_result"
    }
   ],
   "source": [
    "y_train"
   ]
  },
  {
   "cell_type": "markdown",
   "metadata": {},
   "source": [
    "First get rid of the 225 aa length sequences, only keeping lengths of 237."
   ]
  },
  {
   "cell_type": "code",
   "execution_count": 6,
   "metadata": {},
   "outputs": [
    {
     "data": {
      "text/plain": [
       "33029"
      ]
     },
     "execution_count": 6,
     "metadata": {},
     "output_type": "execute_result"
    }
   ],
   "source": [
    "to_filter = []\n",
    "for seq in X_train[:,0]:\n",
    "    if len(seq) < 237:\n",
    "        to_filter.append(False)\n",
    "    else:\n",
    "        to_filter.append(True)\n",
    "\n",
    "len(to_filter)"
   ]
  },
  {
   "cell_type": "code",
   "execution_count": 7,
   "metadata": {},
   "outputs": [],
   "source": [
    "X_train = X_train[to_filter]\n",
    "y_train = y_train[to_filter]"
   ]
  },
  {
   "cell_type": "markdown",
   "metadata": {},
   "source": [
    "Perhaps doing something like MSA and only looking at the non-conserved region to reduce dimensions could be helpful?"
   ]
  },
  {
   "cell_type": "code",
   "execution_count": 16,
   "metadata": {},
   "outputs": [
    {
     "data": {
      "text/plain": [
       "'SKGEELFTGVVPILVELDGDVNGHKFSVSGEGEGDATYGKLTLKFICTTGKLPVPWPTLVTTLSYGVQCFSRYPDHMKQHDFFKSAMPEGYAQERTIFFKDDGNYKTRAEVKFEGDTLVNRIELKGIDFKEDGNILGHKLEYNYNSHNVYNMADKQKNGIKVNFKIRHNTEDGSVQLADHYQQNTPIGDGPVLLPDNHYLSTPSALSKDPNEERDHMVLLEFVTAAGITHGMDELYK'"
      ]
     },
     "execution_count": 16,
     "metadata": {},
     "output_type": "execute_result"
    }
   ],
   "source": [
    "X_train[1,0]"
   ]
  },
  {
   "cell_type": "code",
   "execution_count": 29,
   "metadata": {},
   "outputs": [],
   "source": [
    "# I want to find the most commonly substituted GFP sequence positions\n",
    "common = []\n",
    "for seq in X_train[:,0]:\n",
    "    common.append([i for i in range(len(X_train[1,0])) if X_train[0,0][i] != seq[i]])"
   ]
  },
  {
   "cell_type": "code",
   "execution_count": 33,
   "metadata": {},
   "outputs": [],
   "source": [
    "common_flat = [item for sublist in common for item in sublist]"
   ]
  },
  {
   "cell_type": "code",
   "execution_count": 36,
   "metadata": {},
   "outputs": [
    {
     "data": {
      "text/plain": [
       "210768"
      ]
     },
     "execution_count": 36,
     "metadata": {},
     "output_type": "execute_result"
    }
   ],
   "source": [
    "len(common_flat)"
   ]
  },
  {
   "cell_type": "code",
   "execution_count": 45,
   "metadata": {},
   "outputs": [],
   "source": [
    "hist, edges = np.histogram(common_flat, bins=237)\n",
    "midpoints = (edges[:-1] + edges[1:]) / 2"
   ]
  },
  {
   "cell_type": "code",
   "execution_count": 46,
   "metadata": {},
   "outputs": [
    {
     "data": {
      "text/plain": [
       "array([  751,   111,   599,   466,   485,   998,   580,   122,   462,\n",
       "         427,    97,   621,   414,   354,   500,   389,   553,   102,\n",
       "         473,   276,   900,   118,   596,   763,   664,   586,   464,\n",
       "         470,    93,   498,    73,   543,    79,   618,    79,   604,\n",
       "         560,   110,   745,   355,   520,   302,   753,   915,   883,\n",
       "       30887,   534,   434,    93,   859,   326,   105,   407,    70,\n",
       "         364,   108,   444,   362,   445,   691,   411,   415,   423,\n",
       "         392,   118,   723,   370,   371,   864,   591,   216,   428,\n",
       "         138,   514,   466, 30803,   930,   576,     0,   507,   355,\n",
       "         679,   903,   533,   358,   140,   782,   145,   623,    78,\n",
       "         406,   536,   314,   440,   161,   579,   702,  1048,   822,\n",
       "         829,   515,   413,   105,   890,   421,   937,   470,   179,\n",
       "         110,   425,   435,  1029, 30833,   435,    92,   596,   591,\n",
       "           0,     0,  1079,   170,   778,   473,   291,   806,    86,\n",
       "        1022,   521,   896,   785,   498,   568,   152,   872,   767,\n",
       "         400,   142,   555,   801,   315,   553,   531,  1012,   596,\n",
       "         937,   576,   480,   947,   558,   597,   533,  1041,   143,\n",
       "         481,   927,   614,  1006,     0,  1030,   164,   913,   738,\n",
       "         657,  1256,   979,   944,   884,   198,   520,   963,  1013,\n",
       "         619,   538,   158,   628,   714,   533,   550,   115,   491,\n",
       "         360,   516,   340,   531,   883,   558,   132,   715,   120,\n",
       "         620,   156,   129,   530,   487,   527,    96,   565,  1027,\n",
       "         324,   501,   369,   579,   498,   455,   399,   149,   320,\n",
       "         566,   849,   327,   148,   802,   315,  1000,   155,   585,\n",
       "         350,   743,   440,   338,   400,   387,   905,   499,   596,\n",
       "         141,   173,   188,  1089,   486,   569,   175,  1043,   621,\n",
       "         536,   464,   513])"
      ]
     },
     "execution_count": 46,
     "metadata": {},
     "output_type": "execute_result"
    }
   ],
   "source": [
    "hist"
   ]
  },
  {
   "cell_type": "code",
   "execution_count": 47,
   "metadata": {},
   "outputs": [
    {
     "data": {
      "text/plain": [
       "<BarContainer object of 237 artists>"
      ]
     },
     "execution_count": 47,
     "metadata": {},
     "output_type": "execute_result"
    },
    {
     "data": {
      "image/png": "[encoded data removed]",
      "text/plain": [
       "<Figure size 640x480 with 1 Axes>"
      ]
     },
     "metadata": {},
     "output_type": "display_data"
    }
   ],
   "source": [
    "plt.bar(midpoints, hist)"
   ]
  },
  {
   "cell_type": "code",
   "execution_count": 48,
   "metadata": {},
   "outputs": [
    {
     "name": "stdout",
     "output_type": "stream",
     "text": [
      "30887 at 46\n",
      "30803 at 76\n",
      "30833 at 113\n"
     ]
    }
   ],
   "source": [
    "for i, count in enumerate(hist):\n",
    "    if count > 5000:\n",
    "        print(f\"{count} at {i + 1}\")"
   ]
  },
  {
   "cell_type": "markdown",
   "metadata": {},
   "source": [
    "So resids 46, 76, and 113 seem to have the most mutations. Not sure if this is super important to focus on but maybe I'll come back to it if needed. Maybe I could just look at the features for these three residues only?"
   ]
  },
  {
   "cell_type": "markdown",
   "metadata": {},
   "source": [
    "#### Okay, time to build in some features using the descriptors. \n",
    "Let's start with just one file, I'll go with physical.csv.\n",
    "\n",
    "My goal here is to build a large 2d array where each row is a GFP sequence and the number of columns will be of size 237 (aa) by n features. At first I thought it would be good to keep the columns to 237 to match the residues and add features depth-wise, but now I think it's best to make a big 2d array."
   ]
  },
  {
   "cell_type": "code",
   "execution_count": 77,
   "metadata": {},
   "outputs": [
    {
     "name": "stdout",
     "output_type": "stream",
     "text": [
      "descriptors    X_test_kaggle.csv   y_sample_submission.csv\n",
      "hw4_dty.ipynb  X_train_kaggle.csv  y_train_kaggle.csv\n"
     ]
    }
   ],
   "source": [
    "!ls"
   ]
  },
  {
   "cell_type": "code",
   "execution_count": 78,
   "metadata": {},
   "outputs": [
    {
     "name": "stdout",
     "output_type": "stream",
     "text": [
      "(20, 2)\n"
     ]
    },
    {
     "data": {
      "text/plain": [
       "array([-2.9 , -1.03])"
      ]
     },
     "execution_count": 78,
     "metadata": {},
     "output_type": "execute_result"
    }
   ],
   "source": [
    "def process_feature(feature_name):\n",
    "    \"\"\"\n",
    "    Output a df with single aa code as index and cols as features.\n",
    "    \"\"\"\n",
    "    features = pd.read_csv(f\"descriptors/{feature_name}.csv\", skiprows=2, index_col=1)\n",
    "    return features.drop(\"AA_3\", axis=1)\n",
    "    \n",
    "f = process_feature(\"Physical\")\n",
    "print(np.shape(f))\n",
    "f.loc[\"A\"].to_numpy()"
   ]
  },
  {
   "cell_type": "code",
   "execution_count": 70,
   "metadata": {},
   "outputs": [],
   "source": [
    "def feature_array_from_seqs(sequences, features):\n",
    "    \"\"\"\n",
    "    Take a 1d GFP sequences array and features (df) and return features \n",
    "    for each amino acid in the input sequence.\n",
    "    \"\"\"\n",
    "    n_features = np.shape(features)[1]\n",
    "    # make final feature array: sequence = 237 and features are 20 aa by n features\n",
    "    feature_array = np.zeros((len(sequences), len(sequences[0]) * n_features))\n",
    "\n",
    "    # loop through sequences\n",
    "    for i, seq in enumerate(sequences):\n",
    "        # loop through each residue in the sequence\n",
    "        for j, aa in enumerate(seq):\n",
    "            # add the feature float values to array at appropriate indicies\n",
    "            feature_array[i, j+j : j+j+n_features] = features.loc[aa].to_numpy()\n",
    "    \n",
    "    return feature_array"
   ]
  },
  {
   "cell_type": "code",
   "execution_count": 72,
   "metadata": {},
   "outputs": [
    {
     "data": {
      "text/plain": [
       "array([[-2.36,  0.38,  0.92, ..., -0.18,  0.92,  1.23],\n",
       "       [-2.36,  0.38,  0.92, ..., -0.18,  0.92,  1.23],\n",
       "       [-2.36,  0.38,  0.92, ..., -0.18,  0.92,  1.23],\n",
       "       ...,\n",
       "       [-2.36,  0.38,  0.92, ..., -0.18,  0.92,  1.23],\n",
       "       [-2.36,  0.38,  0.92, ..., -0.18,  0.92,  1.23],\n",
       "       [-2.36,  0.38,  0.92, ..., -0.18,  0.92,  1.23]])"
      ]
     },
     "execution_count": 72,
     "metadata": {},
     "output_type": "execute_result"
    }
   ],
   "source": [
    "# test\n",
    "fa = feature_array_from_seqs(X_train[:10,0], f)\n",
    "fa[:10]"
   ]
  },
  {
   "cell_type": "code",
   "execution_count": 73,
   "metadata": {},
   "outputs": [
    {
     "data": {
      "text/plain": [
       "(10, 474)"
      ]
     },
     "execution_count": 73,
     "metadata": {},
     "output_type": "execute_result"
    }
   ],
   "source": [
    "fa.shape"
   ]
  },
  {
   "cell_type": "code",
   "execution_count": 69,
   "metadata": {},
   "outputs": [
    {
     "data": {
      "text/plain": [
       "array(['SKGEELFTGVVPILVELDGDVNGHKFSVSGEGEGDATYGKLTLKFISTTGKLPVPWPTLVTTLSYGVQCFSRYPDHTKQHDFFKSAMPEGYVQERTIFFKDDGNYKTRAEVKSEGDTLVNRIELKGIDFKEDGNILGHKLEYNYNSHNVYIMADKQKNGIKVNFKIRHNIEDGSVQLADHYQQNTPIGDGPVLLPDNHYLSTQSALSKDPNEKRDHMVLLEFVTAAGITHGMDELYK',\n",
       "       'SKGEELFTGVVPILVELDGDVNGHKFSVSGEGEGDATYGKLTLKFICTTGKLPVPWPTLVTTLSYGVQCFSRYPDHMKQHDFFKSAMPEGYAQERTIFFKDDGNYKTRAEVKFEGDTLVNRIELKGIDFKEDGNILGHKLEYNYNSHNVYNMADKQKNGIKVNFKIRHNTEDGSVQLADHYQQNTPIGDGPVLLPDNHYLSTPSALSKDPNEERDHMVLLEFVTAAGITHGMDELYK',\n",
       "       'SKGEELFTGVVPILVELDGDVNGHKFSVSGEGEGDATYGKLTLKFIRTTGKLPVPWPTLVTTLSYGVQCSSRYPDHMKQHDLFKSAMPEGYAQERTIFSKDDGNYETRAEVRFEGDALVNRIELKGIDFKEDGNILGHKLEYNYNSHNVYIMADKQKNGIKVNFKIRHNIEDGSEQLADHYQQNTPIGDGPVLLPDDHYLSTQSALSKDPNEKRDHMVLLEFVTAAGITHGMDELYK',\n",
       "       ...,\n",
       "       'SKGEELFTGVVPVLVELDGDVNGHKFSVSGEGEGDATYGKLTLKLICTTGKLPVPWPTLVTTLSYGVQCFSRYPDHMKQHDFFKSAMPEGYVQERTIFFKDDGNYKTRAEVMFEGDTLVNRIELKGIDFKEDGNILGHKLEYNYNSHNVYIMADKQKNGIKVNFKIRHNIEDGSVQLADHYQQNTPIGDGPVLLPDNHYLSTQSALSEDPNEKRDRMVLLEFVTAAGITHGMDELYK',\n",
       "       'SKGEELFTGVVPILVELDGDVNGHKFSVSGEGEGDATYGKLTLKFICTTGKLPVPWPTLVTTLSYGVQCFSRYPDHMKQHDFFMSAMPEGYVQERTIFFKDDGNYKTRAEVKFEGDTLVNRIELKGIDFKEDGNILGHKLEYNYNSHNVYIMADKQKNGIKVNFKIRHNIEDGSVQLADHYQQNTPIGDGPVLLPDNHYLSTQSALSKDPNEKRDHMVLLEFVTAAGITHGMDEQYK',\n",
       "       'SKGEELFTGVVPILVELDGDVNGHKFSVSGEGEGDATYGKLTLKFICTTGKLPVPWPTLVTTLSYGVQCFSRYPDHMKQHDFFKSAMPEGYVQERTILFKYDGNYKTRAEVKFEGDTLVNRIELKGIDFKEDGNILGHKLEYNYNSHNVYIMADKQKNGIKVNFKIRHNIEDGSVQLADHYQQNTPIGDGPVLLPDSHYLSTQSALSKDPNEKRDHMVLLEFVTAAGITRGMDELYK'],\n",
       "      dtype=object)"
      ]
     },
     "execution_count": 69,
     "metadata": {},
     "output_type": "execute_result"
    }
   ],
   "source": [
    "X_train[:,0]"
   ]
  },
  {
   "cell_type": "markdown",
   "metadata": {},
   "source": [
    "Building the feature array works. Now to do this for every sequence."
   ]
  },
  {
   "cell_type": "code",
   "execution_count": 80,
   "metadata": {},
   "outputs": [],
   "source": [
    "feat_array = feature_array_from_seqs(X_train[:,0], process_feature(\"Physical\"))"
   ]
  },
  {
   "cell_type": "markdown",
   "metadata": {},
   "source": [
    "Okay, so now maybe I can build a model using this set of features for each sequence."
   ]
  },
  {
   "cell_type": "code",
   "execution_count": null,
   "metadata": {},
   "outputs": [],
   "source": []
  }
 ],
 "metadata": {
  "kernelspec": {
   "display_name": "ml",
   "language": "python",
   "name": "ml"
  },
  "language_info": {
   "codemirror_mode": {
    "name": "ipython",
    "version": 3
   },
   "file_extension": ".py",
   "mimetype": "text/x-python",
   "name": "python",
   "nbconvert_exporter": "python",
   "pygments_lexer": "ipython3",
   "version": "3.8.13"
  }
 },
 "nbformat": 4,
 "nbformat_minor": 4
}
