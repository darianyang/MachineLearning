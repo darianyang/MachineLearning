{
 "cells": [
  {
   "cell_type": "markdown",
   "metadata": {},
   "source": [
    "## HW4 Classification of Green Fluorescent Protein\n",
    "### Darian Yang\n",
    "\n",
    "You can start with basic models, and then try your best to optimize your predictions by using more sophisticated models, feature engineering, and fine-tuning the hyperparameters. The grade of this homework will be based on the score you get on Kaggle. \n",
    "\n",
    "There is no specific requirement for a written summary for this homework, but please leave some necessary notes/comments in your submission to help the grader understand your workflow.\n",
    "\n",
    "In this work you will predict the brightness level binarized for classification between high brightness (class 1) and low brightness (class 0) for a set of mutants of Green Fluorescent Protein\n",
    "\n",
    "Please explore descriptors/featurisations for amino acid sequences.\n",
    "The performance will be measured using F1 score metric (sklearn.metrics.f1_score)\n",
    "\n",
    "Overfitting is prevented by using a public and private leaderboard..\n",
    "\n",
    "#### Overall:\n",
    "* Get data from Kaggle\n",
    "* Make features\n",
    "* Build classification models using only Scikit Learn!\n",
    "* Submit solution for autograding to Kaggle\n",
    "* Submit IPYNB file to canvas\n",
    "\n",
    "#### Dataset Description\n",
    "This dataset provides quantitative measurements of the brightness level binarized for classification between high brightness (class 1) and low brightness (class 0) for a set of mutants of Green Fluorescent Protein\n",
    "\n",
    "File descriptions\n",
    "* X_train_kaggle.csv - the training set: amino acid sequences Id column\n",
    "* y_train_kaggle.csv - the training set: brightness class for training with Id column\n",
    "* X_test_kaggle.csv - the test set: amino acid sequences with Id column that you should predict\n",
    "* y_sample_submission.csv - a sample submission file in the correct format\n",
    "\n",
    "To work with amino acid sequence for building a ML model you have to perform a feature engineering.\n",
    "* a good start -subfolder \"descriptors\" contains descriptors for amino acids and papers describing their construction\n",
    "\n",
    "#### Submission Format\n",
    "For every molecule in the dataset, submission files should contain two columns: Id and ACTIVE.\n",
    "\n",
    "The file should contain a header and have the following format:\n",
    "\n",
    "```\n",
    "Id,Brightness_Class\n",
    "1,1\n",
    "```"
   ]
  },
  {
   "cell_type": "code",
   "execution_count": 5,
   "metadata": {},
   "outputs": [],
   "source": [
    "import numpy as np\n",
    "import matplotlib.pyplot as plt\n",
    "import pandas as pd"
   ]
  },
  {
   "cell_type": "code",
   "execution_count": 6,
   "metadata": {},
   "outputs": [],
   "source": [
    "X_train = pd.read_csv(\"X_train_kaggle.csv\", index_col=1).to_numpy()\n",
    "y_train = pd.read_csv(\"y_train_kaggle.csv\", index_col=1).to_numpy()\n",
    "X_test = pd.read_csv(\"X_test_kaggle.csv\", index_col=1).to_numpy()"
   ]
  },
  {
   "cell_type": "code",
   "execution_count": 7,
   "metadata": {},
   "outputs": [],
   "source": [
    "TEST_ID = pd.read_csv(\"X_test_kaggle.csv\",index_col=1).index"
   ]
  },
  {
   "cell_type": "code",
   "execution_count": 5,
   "metadata": {},
   "outputs": [
    {
     "data": {
      "text/plain": [
       "Int64Index([50579, 37987, 53977, 10677, 35653, 53275, 7765, 3759, 39236,\n",
       "            48246],\n",
       "           dtype='int64', name='Id')"
      ]
     },
     "execution_count": 5,
     "metadata": {},
     "output_type": "execute_result"
    }
   ],
   "source": [
    "TEST_ID[:10]"
   ]
  },
  {
   "cell_type": "code",
   "execution_count": 6,
   "metadata": {},
   "outputs": [
    {
     "data": {
      "text/plain": [
       "(33029, 1)"
      ]
     },
     "execution_count": 6,
     "metadata": {},
     "output_type": "execute_result"
    }
   ],
   "source": [
    "X_train.shape"
   ]
  },
  {
   "cell_type": "code",
   "execution_count": 7,
   "metadata": {},
   "outputs": [
    {
     "data": {
      "text/plain": [
       "array([[0],\n",
       "       [0],\n",
       "       [0],\n",
       "       ...,\n",
       "       [0],\n",
       "       [1],\n",
       "       [1]])"
      ]
     },
     "execution_count": 7,
     "metadata": {},
     "output_type": "execute_result"
    }
   ],
   "source": [
    "y_train"
   ]
  },
  {
   "cell_type": "markdown",
   "metadata": {},
   "source": [
    "First get rid of the 225 aa length sequences, only keeping lengths of 237."
   ]
  },
  {
   "cell_type": "code",
   "execution_count": 8,
   "metadata": {},
   "outputs": [
    {
     "data": {
      "text/plain": [
       "33029"
      ]
     },
     "execution_count": 8,
     "metadata": {},
     "output_type": "execute_result"
    }
   ],
   "source": [
    "to_filter = []\n",
    "for seq in X_train[:,0]:\n",
    "    if len(seq) < 237:\n",
    "        to_filter.append(False)\n",
    "    else:\n",
    "        to_filter.append(True)\n",
    "\n",
    "len(to_filter)"
   ]
  },
  {
   "cell_type": "code",
   "execution_count": 9,
   "metadata": {},
   "outputs": [],
   "source": [
    "X_train = X_train[to_filter]\n",
    "y_train = y_train[to_filter]"
   ]
  },
  {
   "cell_type": "markdown",
   "metadata": {},
   "source": [
    "Perhaps doing something like MSA and only looking at the non-conserved region to reduce dimensions could be helpful?"
   ]
  },
  {
   "cell_type": "code",
   "execution_count": 10,
   "metadata": {},
   "outputs": [
    {
     "data": {
      "text/plain": [
       "array([['SKGEELFTGVVPILVELDGDVNGHKFSVSGEGEGDATYGKLTLKFISTTGKLPVPWPTLVTTLSYGVQCFSRYPDHTKQHDFFKSAMPEGYVQERTIFFKDDGNYKTRAEVKSEGDTLVNRIELKGIDFKEDGNILGHKLEYNYNSHNVYIMADKQKNGIKVNFKIRHNIEDGSVQLADHYQQNTPIGDGPVLLPDNHYLSTQSALSKDPNEKRDHMVLLEFVTAAGITHGMDELYK'],\n",
       "       ['SKGEELFTGVVPILVELDGDVNGHKFSVSGEGEGDATYGKLTLKFICTTGKLPVPWPTLVTTLSYGVQCFSRYPDHMKQHDFFKSAMPEGYAQERTIFFKDDGNYKTRAEVKFEGDTLVNRIELKGIDFKEDGNILGHKLEYNYNSHNVYNMADKQKNGIKVNFKIRHNTEDGSVQLADHYQQNTPIGDGPVLLPDNHYLSTPSALSKDPNEERDHMVLLEFVTAAGITHGMDELYK'],\n",
       "       ['SKGEELFTGVVPILVELDGDVNGHKFSVSGEGEGDATYGKLTLKFIRTTGKLPVPWPTLVTTLSYGVQCSSRYPDHMKQHDLFKSAMPEGYAQERTIFSKDDGNYETRAEVRFEGDALVNRIELKGIDFKEDGNILGHKLEYNYNSHNVYIMADKQKNGIKVNFKIRHNIEDGSEQLADHYQQNTPIGDGPVLLPDDHYLSTQSALSKDPNEKRDHMVLLEFVTAAGITHGMDELYK'],\n",
       "       ...,\n",
       "       ['SKGEELFTGVVPVLVELDGDVNGHKFSVSGEGEGDATYGKLTLKLICTTGKLPVPWPTLVTTLSYGVQCFSRYPDHMKQHDFFKSAMPEGYVQERTIFFKDDGNYKTRAEVMFEGDTLVNRIELKGIDFKEDGNILGHKLEYNYNSHNVYIMADKQKNGIKVNFKIRHNIEDGSVQLADHYQQNTPIGDGPVLLPDNHYLSTQSALSEDPNEKRDRMVLLEFVTAAGITHGMDELYK'],\n",
       "       ['SKGEELFTGVVPILVELDGDVNGHKFSVSGEGEGDATYGKLTLKFICTTGKLPVPWPTLVTTLSYGVQCFSRYPDHMKQHDFFMSAMPEGYVQERTIFFKDDGNYKTRAEVKFEGDTLVNRIELKGIDFKEDGNILGHKLEYNYNSHNVYIMADKQKNGIKVNFKIRHNIEDGSVQLADHYQQNTPIGDGPVLLPDNHYLSTQSALSKDPNEKRDHMVLLEFVTAAGITHGMDEQYK'],\n",
       "       ['SKGEELFTGVVPILVELDGDVNGHKFSVSGEGEGDATYGKLTLKFICTTGKLPVPWPTLVTTLSYGVQCFSRYPDHMKQHDFFKSAMPEGYVQERTILFKYDGNYKTRAEVKFEGDTLVNRIELKGIDFKEDGNILGHKLEYNYNSHNVYIMADKQKNGIKVNFKIRHNIEDGSVQLADHYQQNTPIGDGPVLLPDSHYLSTQSALSKDPNEKRDHMVLLEFVTAAGITRGMDELYK']],\n",
       "      dtype=object)"
      ]
     },
     "execution_count": 10,
     "metadata": {},
     "output_type": "execute_result"
    }
   ],
   "source": [
    "X_train"
   ]
  },
  {
   "cell_type": "code",
   "execution_count": 11,
   "metadata": {},
   "outputs": [
    {
     "data": {
      "text/plain": [
       "3227016"
      ]
     },
     "execution_count": 11,
     "metadata": {},
     "output_type": "execute_result"
    }
   ],
   "source": [
    "# I want to find the most commonly substituted GFP sequence positions\n",
    "common = []\n",
    "\n",
    "# I can't go through all of the sequences for times sake, so every 300 for now\n",
    "for seq1 in X_train[::300,0]:\n",
    "    for seq2 in X_train[:,0]:\n",
    "        common.append([i for i in range(len(X_train[1,0])) if seq1[i] != seq2[i]])\n",
    "len(common)"
   ]
  },
  {
   "cell_type": "code",
   "execution_count": 12,
   "metadata": {},
   "outputs": [],
   "source": [
    "common_flat = [item for sublist in common for item in sublist]"
   ]
  },
  {
   "cell_type": "code",
   "execution_count": 13,
   "metadata": {},
   "outputs": [
    {
     "data": {
      "text/plain": [
       "25148613"
      ]
     },
     "execution_count": 13,
     "metadata": {},
     "output_type": "execute_result"
    }
   ],
   "source": [
    "len(common_flat)"
   ]
  },
  {
   "cell_type": "code",
   "execution_count": 14,
   "metadata": {},
   "outputs": [],
   "source": [
    "hist, edges = np.histogram(common_flat, bins=237)\n",
    "midpoints = (edges[:-1] + edges[1:]) / 2"
   ]
  },
  {
   "cell_type": "code",
   "execution_count": 15,
   "metadata": {},
   "outputs": [
    {
     "data": {
      "text/plain": [
       "array([ 78104,  11544, 183485,  48464, 110942, 341076, 150993,  12688,\n",
       "       108658, 105246,  10088, 155408, 164819,  97873, 112672, 101387,\n",
       "       178749,  41502,  79731,  59334, 153523,  43136,  61984, 169185,\n",
       "       159339, 181633, 109008,  79198,   9672,  82199,   7592, 147084,\n",
       "         8216, 185206,   8216, 243446, 149336,  11440, 107401,  36920,\n",
       "        54080,  61949, 138220, 184606, 211132, 140309, 176907,  75526,\n",
       "        40599, 179279,  64544,  10920, 103447,  38216,  98556,  11232,\n",
       "        76559,  37648,  46280, 161516,  42744,  73543,  74351,  40768,\n",
       "        12272, 135221,  68887,  38584, 179476, 182004,  22464, 136046,\n",
       "        14352, 114112,  48464, 228292, 215354,  90007,      0, 173928,\n",
       "        98020, 131019, 153457, 115975, 128669,  14560, 231425,  15080,\n",
       "        64792,   8112,  72794, 116354,  32656, 106736,  16744,  90348,\n",
       "       103097, 138582, 205464, 176141,  53560,  73326,  10920, 272034,\n",
       "        74334, 186836, 139775,  18616,  11440,  44200, 106124, 225910,\n",
       "       102624, 136750,   9568, 152409, 121990,      0,      0, 378117,\n",
       "       110050, 110825, 109921,  60974,  83824,  70806, 284354,  54184,\n",
       "       123032, 231707,  51792, 119226,  77398, 180472, 139909,  72066,\n",
       "        14768, 118493, 173141,  63349,  87621, 176585, 253701, 152958,\n",
       "       246388,  90039, 141040, 187941,  88115, 122853, 206921, 197244,\n",
       "        14872, 140924, 245328, 124143, 253536,      0, 166627,  47903,\n",
       "       184328, 166882, 128186, 218701, 250082, 157839, 181093,  20592,\n",
       "        84336, 129826, 224831, 124474,  86066,  47230,  95320, 163950,\n",
       "        85650,  87343,  11960,  81585, 129137,  83994,  65925,  55224,\n",
       "       121674, 148937,  13728, 195081,  12480, 124572,  16224,  75124,\n",
       "        85317,  50648,  85009,   9984, 149219, 314566,  64252,  82558,\n",
       "        69029, 150718,  82230,  77875,  41496,  15496,  63966, 179537,\n",
       "       177794,  94960,  15392, 233623,  32760, 133638,  46938,  60840,\n",
       "       128088, 167430,  45760, 126711,  72047,  70858, 154040,  82137,\n",
       "       122082,  45481,  17992,  50350, 202146,  50544,  89323,  49031,\n",
       "       138178, 125251, 146511,  48256,  83699])"
      ]
     },
     "execution_count": 15,
     "metadata": {},
     "output_type": "execute_result"
    }
   ],
   "source": [
    "hist"
   ]
  },
  {
   "cell_type": "code",
   "execution_count": 16,
   "metadata": {},
   "outputs": [
    {
     "data": {
      "text/plain": [
       "<BarContainer object of 237 artists>"
      ]
     },
     "execution_count": 16,
     "metadata": {},
     "output_type": "execute_result"
    },
    {
     "data": {
      "image/png": "[encoded data removed]",
      "text/plain": [
       "<Figure size 640x480 with 1 Axes>"
      ]
     },
     "metadata": {},
     "output_type": "display_data"
    }
   ],
   "source": [
    "plt.bar(midpoints, hist)"
   ]
  },
  {
   "cell_type": "code",
   "execution_count": 17,
   "metadata": {},
   "outputs": [
    {
     "name": "stdout",
     "output_type": "stream",
     "text": [
      "341076 at 6\n",
      "272034 at 104\n",
      "378117 at 120\n",
      "284354 at 127\n",
      "253701 at 143\n",
      "253536 at 157\n",
      "250082 at 165\n",
      "314566 at 198\n"
     ]
    }
   ],
   "source": [
    "for i, count in enumerate(hist):\n",
    "    if count > 250000:\n",
    "        print(f\"{count} at {i + 1}\")"
   ]
  },
  {
   "cell_type": "markdown",
   "metadata": {},
   "source": [
    "Overall the mutations seem to be pretty evenly dispersed, if it were the case that only a few residues were being tested then I would have tried focusing on those but this doesn't seem to be the case."
   ]
  },
  {
   "cell_type": "markdown",
   "metadata": {},
   "source": [
    "### Okay, time to build in some features using the descriptors. \n",
    "Let's start with just one file, I'll go with physical.csv.\n",
    "\n",
    "My goal here is to build a large 2d array where each row is a GFP sequence and the number of columns will be of size 237 (aa) by n features. At first I thought it would be good to keep the columns to 237 to match the residues and add features depth-wise, but now I think it's best to make a big 2d array."
   ]
  },
  {
   "cell_type": "code",
   "execution_count": 18,
   "metadata": {},
   "outputs": [
    {
     "name": "stdout",
     "output_type": "stream",
     "text": [
      "descriptors\t      LogisticRegression.csv  X_train_kaggle.csv\n",
      "hw4_dty.ipynb\t      RidgeRegression.csv     y_sample_submission.csv\n",
      "LinearRegression.csv  X_test_kaggle.csv       y_train_kaggle.csv\n"
     ]
    }
   ],
   "source": [
    "!ls"
   ]
  },
  {
   "cell_type": "code",
   "execution_count": 8,
   "metadata": {},
   "outputs": [
    {
     "name": "stdout",
     "output_type": "stream",
     "text": [
      "(20, 2)\n"
     ]
    },
    {
     "data": {
      "text/plain": [
       "array([-2.9 , -1.03])"
      ]
     },
     "execution_count": 8,
     "metadata": {},
     "output_type": "execute_result"
    }
   ],
   "source": [
    "def process_feature(feature_name):\n",
    "    \"\"\"\n",
    "    Output a df with single aa code as index and cols as features.\n",
    "    \"\"\"\n",
    "    features = pd.read_csv(f\"descriptors/{feature_name}.csv\", skiprows=2, index_col=1)\n",
    "    return features.drop(\"AA_3\", axis=1)\n",
    "    \n",
    "f = process_feature(\"Physical\")\n",
    "print(np.shape(f))\n",
    "f.loc[\"A\"].to_numpy()"
   ]
  },
  {
   "cell_type": "code",
   "execution_count": 20,
   "metadata": {},
   "outputs": [
    {
     "data": {
      "text/html": [
       "<div>\n",
       "<style scoped>\n",
       "    .dataframe tbody tr th:only-of-type {\n",
       "        vertical-align: middle;\n",
       "    }\n",
       "\n",
       "    .dataframe tbody tr th {\n",
       "        vertical-align: top;\n",
       "    }\n",
       "\n",
       "    .dataframe thead th {\n",
       "        text-align: right;\n",
       "    }\n",
       "</style>\n",
       "<table border=\"1\" class=\"dataframe\">\n",
       "  <thead>\n",
       "    <tr style=\"text-align: right;\">\n",
       "      <th></th>\n",
       "      <th>Vol</th>\n",
       "      <th>Hydro</th>\n",
       "    </tr>\n",
       "    <tr>\n",
       "      <th>AA_1</th>\n",
       "      <th></th>\n",
       "      <th></th>\n",
       "    </tr>\n",
       "  </thead>\n",
       "  <tbody>\n",
       "    <tr>\n",
       "      <th>A</th>\n",
       "      <td>-2.90</td>\n",
       "      <td>-1.03</td>\n",
       "    </tr>\n",
       "    <tr>\n",
       "      <th>R</th>\n",
       "      <td>2.41</td>\n",
       "      <td>1.31</td>\n",
       "    </tr>\n",
       "    <tr>\n",
       "      <th>N</th>\n",
       "      <td>-0.68</td>\n",
       "      <td>0.79</td>\n",
       "    </tr>\n",
       "    <tr>\n",
       "      <th>D</th>\n",
       "      <td>-0.92</td>\n",
       "      <td>1.23</td>\n",
       "    </tr>\n",
       "    <tr>\n",
       "      <th>C</th>\n",
       "      <td>-1.89</td>\n",
       "      <td>0.15</td>\n",
       "    </tr>\n",
       "    <tr>\n",
       "      <th>Q</th>\n",
       "      <td>0.36</td>\n",
       "      <td>1.09</td>\n",
       "    </tr>\n",
       "    <tr>\n",
       "      <th>E</th>\n",
       "      <td>0.16</td>\n",
       "      <td>1.28</td>\n",
       "    </tr>\n",
       "    <tr>\n",
       "      <th>G</th>\n",
       "      <td>-4.04</td>\n",
       "      <td>0.01</td>\n",
       "    </tr>\n",
       "    <tr>\n",
       "      <th>H</th>\n",
       "      <td>0.83</td>\n",
       "      <td>1.15</td>\n",
       "    </tr>\n",
       "    <tr>\n",
       "      <th>I</th>\n",
       "      <td>0.51</td>\n",
       "      <td>-1.32</td>\n",
       "    </tr>\n",
       "    <tr>\n",
       "      <th>L</th>\n",
       "      <td>0.52</td>\n",
       "      <td>-1.40</td>\n",
       "    </tr>\n",
       "    <tr>\n",
       "      <th>K</th>\n",
       "      <td>0.92</td>\n",
       "      <td>1.23</td>\n",
       "    </tr>\n",
       "    <tr>\n",
       "      <th>M</th>\n",
       "      <td>0.92</td>\n",
       "      <td>-1.42</td>\n",
       "    </tr>\n",
       "    <tr>\n",
       "      <th>F</th>\n",
       "      <td>2.22</td>\n",
       "      <td>-1.47</td>\n",
       "    </tr>\n",
       "    <tr>\n",
       "      <th>P</th>\n",
       "      <td>-1.25</td>\n",
       "      <td>-0.64</td>\n",
       "    </tr>\n",
       "    <tr>\n",
       "      <th>S</th>\n",
       "      <td>-2.36</td>\n",
       "      <td>0.38</td>\n",
       "    </tr>\n",
       "    <tr>\n",
       "      <th>T</th>\n",
       "      <td>-1.19</td>\n",
       "      <td>0.28</td>\n",
       "    </tr>\n",
       "    <tr>\n",
       "      <th>W</th>\n",
       "      <td>4.28</td>\n",
       "      <td>-0.18</td>\n",
       "    </tr>\n",
       "    <tr>\n",
       "      <th>Y</th>\n",
       "      <td>2.75</td>\n",
       "      <td>-0.18</td>\n",
       "    </tr>\n",
       "    <tr>\n",
       "      <th>V</th>\n",
       "      <td>-0.65</td>\n",
       "      <td>-1.27</td>\n",
       "    </tr>\n",
       "  </tbody>\n",
       "</table>\n",
       "</div>"
      ],
      "text/plain": [
       "       Vol  Hydro\n",
       "AA_1             \n",
       "A    -2.90  -1.03\n",
       "R     2.41   1.31\n",
       "N    -0.68   0.79\n",
       "D    -0.92   1.23\n",
       "C    -1.89   0.15\n",
       "Q     0.36   1.09\n",
       "E     0.16   1.28\n",
       "G    -4.04   0.01\n",
       "H     0.83   1.15\n",
       "I     0.51  -1.32\n",
       "L     0.52  -1.40\n",
       "K     0.92   1.23\n",
       "M     0.92  -1.42\n",
       "F     2.22  -1.47\n",
       "P    -1.25  -0.64\n",
       "S    -2.36   0.38\n",
       "T    -1.19   0.28\n",
       "W     4.28  -0.18\n",
       "Y     2.75  -0.18\n",
       "V    -0.65  -1.27"
      ]
     },
     "execution_count": 20,
     "metadata": {},
     "output_type": "execute_result"
    }
   ],
   "source": [
    "f"
   ]
  },
  {
   "cell_type": "code",
   "execution_count": 9,
   "metadata": {},
   "outputs": [],
   "source": [
    "def feature_array_from_seqs(sequences, features):\n",
    "    \"\"\"\n",
    "    Take a 1d GFP sequences array and features (df) and return features \n",
    "    for each amino acid in the input sequence.\n",
    "    \"\"\"\n",
    "    n_features = np.shape(features)[1]\n",
    "    # make final feature array: sequence = 237 and features are 20 aa by n features\n",
    "    feature_array = np.zeros((len(sequences), len(sequences[0]) * n_features))\n",
    "\n",
    "    # loop through sequences\n",
    "    for i, seq in enumerate(sequences):\n",
    "        # loop through each residue in the sequence\n",
    "        for j, aa in enumerate(seq):\n",
    "            # add the feature float values to array at appropriate indicies\n",
    "            feature_array[i, j+j : j+j+n_features] = features.loc[aa].to_numpy()\n",
    "    \n",
    "    return feature_array"
   ]
  },
  {
   "cell_type": "code",
   "execution_count": 22,
   "metadata": {},
   "outputs": [
    {
     "data": {
      "text/plain": [
       "(474,)"
      ]
     },
     "execution_count": 22,
     "metadata": {},
     "output_type": "execute_result"
    }
   ],
   "source": [
    "# test\n",
    "fa = feature_array_from_seqs(X_train[:10,0], f)\n",
    "fa[0].shape"
   ]
  },
  {
   "cell_type": "code",
   "execution_count": 23,
   "metadata": {},
   "outputs": [
    {
     "data": {
      "text/plain": [
       "'SKGEELFTGVVPILVELDGDVNGHKFSVSGEGEGDATYGKLTLKFISTTGKLPVPWPTLVTTLSYGVQCFSRYPDHTKQHDFFKSAMPEGYVQERTIFFKDDGNYKTRAEVKSEGDTLVNRIELKGIDFKEDGNILGHKLEYNYNSHNVYIMADKQKNGIKVNFKIRHNIEDGSVQLADHYQQNTPIGDGPVLLPDNHYLSTQSALSKDPNEKRDHMVLLEFVTAAGITHGMDELYK'"
      ]
     },
     "execution_count": 23,
     "metadata": {},
     "output_type": "execute_result"
    }
   ],
   "source": [
    "X_train[0,0]"
   ]
  },
  {
   "cell_type": "markdown",
   "metadata": {},
   "source": [
    "Building the feature array works. Now to do this for every sequence."
   ]
  },
  {
   "cell_type": "code",
   "execution_count": null,
   "metadata": {},
   "outputs": [],
   "source": [
    "X_train_fa = feature_array_from_seqs(X_train[:,0], process_feature(\"Physical\"))"
   ]
  },
  {
   "cell_type": "code",
   "execution_count": null,
   "metadata": {},
   "outputs": [],
   "source": [
    "X_train_fa[:5]"
   ]
  },
  {
   "cell_type": "code",
   "execution_count": null,
   "metadata": {},
   "outputs": [],
   "source": [
    "X_test_fa = feature_array_from_seqs(X_test[:,0], process_feature(\"Physical\"))"
   ]
  },
  {
   "cell_type": "code",
   "execution_count": null,
   "metadata": {},
   "outputs": [],
   "source": [
    "X_test_fa.shape"
   ]
  },
  {
   "cell_type": "markdown",
   "metadata": {},
   "source": [
    "Okay, so now maybe I can build a model using this set of features for each sequence. Note that this took a while to build."
   ]
  },
  {
   "cell_type": "code",
   "execution_count": 54,
   "metadata": {},
   "outputs": [
    {
     "name": "stderr",
     "output_type": "stream",
     "text": [
      "/ihome/lchong/dty7/Apps/anaconda3/envs/ml/lib/python3.8/site-packages/scipy/__init__.py:146: UserWarning: A NumPy version >=1.16.5 and <1.23.0 is required for this version of SciPy (detected version 1.23.1\n",
      "  warnings.warn(f\"A NumPy version >={np_minversion} and <{np_maxversion}\"\n"
     ]
    }
   ],
   "source": [
    "from sklearn import linear_model"
   ]
  },
  {
   "cell_type": "code",
   "execution_count": 55,
   "metadata": {},
   "outputs": [],
   "source": [
    "def worker(model, save_to=\"submission.csv\", linear=False):\n",
    "    model = model.fit(X_train_fa, y_train[:,0])\n",
    "    y_test = model.predict(X_test_fa)\n",
    "\n",
    "    # for linear regression and etc., predicted values are not binary\n",
    "    if linear:\n",
    "        ret = {\"Id\":TEST_ID, \"Brightness_Class\":(y_test>0.5).astype(int)}\n",
    "    else:\n",
    "        ret = {\"Id\":TEST_ID, \"Brightness_Class\":y_test}\n",
    "    ret = pd.DataFrame(data=ret)\n",
    "    ret.set_index(\"Id\")\n",
    "    ret.to_csv(save_to, index=False)"
   ]
  },
  {
   "cell_type": "markdown",
   "metadata": {},
   "source": [
    "Let's try linear, logistic, and ridge."
   ]
  },
  {
   "cell_type": "code",
   "execution_count": null,
   "metadata": {},
   "outputs": [],
   "source": [
    "worker(linear_model.LinearRegression(), save_to=\"LinearRegression.csv\", linear=True)"
   ]
  },
  {
   "cell_type": "code",
   "execution_count": null,
   "metadata": {},
   "outputs": [],
   "source": [
    "worker(linear_model.LogisticRegression(max_iter=1000), save_to=\"LogisticRegression.csv\")"
   ]
  },
  {
   "cell_type": "code",
   "execution_count": null,
   "metadata": {},
   "outputs": [],
   "source": [
    "worker(linear_model.RidgeClassifier(), save_to=\"RidgeRegression.csv\")"
   ]
  },
  {
   "cell_type": "markdown",
   "metadata": {},
   "source": [
    "My scores were not too good (<baseline), logistic performed the best (slightly). However; this was expected as I am using simple models with only 2 features."
   ]
  },
  {
   "cell_type": "markdown",
   "metadata": {},
   "source": [
    "## To get better peformance, I can:\n",
    "* Using more/different descriptors (features):\n",
    "    * To narrow it down, I could also to process all descriptors and reduce dimensionality by PCA.\n",
    "* Using more advanced classification methods such as SVMs or decision trees."
   ]
  },
  {
   "cell_type": "markdown",
   "metadata": {},
   "source": [
    "To look at all descriptors, I need to expand my previously made process_feature function for multiple descriptor csvs."
   ]
  },
  {
   "cell_type": "code",
   "execution_count": 42,
   "metadata": {},
   "outputs": [],
   "source": [
    "def process_features(feature_names):\n",
    "    \"\"\"\n",
    "    Input list of feature names.\n",
    "    Output a df with single aa code as index and cols as features.\n",
    "    \"\"\"\n",
    "    # append the 1 letter AA codes as the all_features df index labels\n",
    "    df = pd.read_csv(\"descriptors/template.csv\", skiprows=2, index_col=1)\n",
    "    df = df.drop(\"AA_3\", axis=1)\n",
    "    \n",
    "    # go through each feature requested\n",
    "    for feat in feature_names:\n",
    "        features = pd.read_csv(f\"descriptors/{feat}.csv\", skiprows=2, index_col=1)\n",
    "        features = features.drop(\"AA_3\", axis=1)\n",
    "        \n",
    "        # add features as rows to all_features df\n",
    "        for idx, colname in enumerate(features.columns):\n",
    "            df[colname] = features.iloc[:,idx]\n",
    "    \n",
    "    return df"
   ]
  },
  {
   "cell_type": "code",
   "execution_count": 45,
   "metadata": {},
   "outputs": [
    {
     "data": {
      "text/html": [
       "<div>\n",
       "<style scoped>\n",
       "    .dataframe tbody tr th:only-of-type {\n",
       "        vertical-align: middle;\n",
       "    }\n",
       "\n",
       "    .dataframe tbody tr th {\n",
       "        vertical-align: top;\n",
       "    }\n",
       "\n",
       "    .dataframe thead th {\n",
       "        text-align: right;\n",
       "    }\n",
       "</style>\n",
       "<table border=\"1\" class=\"dataframe\">\n",
       "  <thead>\n",
       "    <tr style=\"text-align: right;\">\n",
       "      <th></th>\n",
       "      <th>Vol</th>\n",
       "      <th>Hydro</th>\n",
       "      <th>Z(1)</th>\n",
       "      <th>Z(2)</th>\n",
       "      <th>Z(3)</th>\n",
       "    </tr>\n",
       "    <tr>\n",
       "      <th>AA_1</th>\n",
       "      <th></th>\n",
       "      <th></th>\n",
       "      <th></th>\n",
       "      <th></th>\n",
       "      <th></th>\n",
       "    </tr>\n",
       "  </thead>\n",
       "  <tbody>\n",
       "    <tr>\n",
       "      <th>A</th>\n",
       "      <td>-2.90</td>\n",
       "      <td>-1.03</td>\n",
       "      <td>0.07</td>\n",
       "      <td>-1.73</td>\n",
       "      <td>0.09</td>\n",
       "    </tr>\n",
       "    <tr>\n",
       "      <th>R</th>\n",
       "      <td>2.41</td>\n",
       "      <td>1.31</td>\n",
       "      <td>2.88</td>\n",
       "      <td>2.52</td>\n",
       "      <td>-3.44</td>\n",
       "    </tr>\n",
       "    <tr>\n",
       "      <th>N</th>\n",
       "      <td>-0.68</td>\n",
       "      <td>0.79</td>\n",
       "      <td>3.22</td>\n",
       "      <td>1.45</td>\n",
       "      <td>0.84</td>\n",
       "    </tr>\n",
       "    <tr>\n",
       "      <th>D</th>\n",
       "      <td>-0.92</td>\n",
       "      <td>1.23</td>\n",
       "      <td>3.64</td>\n",
       "      <td>1.13</td>\n",
       "      <td>2.36</td>\n",
       "    </tr>\n",
       "    <tr>\n",
       "      <th>C</th>\n",
       "      <td>-1.89</td>\n",
       "      <td>0.15</td>\n",
       "      <td>0.71</td>\n",
       "      <td>-0.97</td>\n",
       "      <td>4.13</td>\n",
       "    </tr>\n",
       "    <tr>\n",
       "      <th>Q</th>\n",
       "      <td>0.36</td>\n",
       "      <td>1.09</td>\n",
       "      <td>2.18</td>\n",
       "      <td>0.53</td>\n",
       "      <td>-1.14</td>\n",
       "    </tr>\n",
       "    <tr>\n",
       "      <th>E</th>\n",
       "      <td>0.16</td>\n",
       "      <td>1.28</td>\n",
       "      <td>3.08</td>\n",
       "      <td>0.39</td>\n",
       "      <td>-0.07</td>\n",
       "    </tr>\n",
       "    <tr>\n",
       "      <th>G</th>\n",
       "      <td>-4.04</td>\n",
       "      <td>0.01</td>\n",
       "      <td>2.23</td>\n",
       "      <td>-5.36</td>\n",
       "      <td>0.30</td>\n",
       "    </tr>\n",
       "    <tr>\n",
       "      <th>H</th>\n",
       "      <td>0.83</td>\n",
       "      <td>1.15</td>\n",
       "      <td>2.41</td>\n",
       "      <td>1.74</td>\n",
       "      <td>1.11</td>\n",
       "    </tr>\n",
       "    <tr>\n",
       "      <th>I</th>\n",
       "      <td>0.51</td>\n",
       "      <td>-1.32</td>\n",
       "      <td>-4.44</td>\n",
       "      <td>-1.68</td>\n",
       "      <td>-1.03</td>\n",
       "    </tr>\n",
       "    <tr>\n",
       "      <th>L</th>\n",
       "      <td>0.52</td>\n",
       "      <td>-1.40</td>\n",
       "      <td>-4.19</td>\n",
       "      <td>-1.03</td>\n",
       "      <td>-0.98</td>\n",
       "    </tr>\n",
       "    <tr>\n",
       "      <th>K</th>\n",
       "      <td>0.92</td>\n",
       "      <td>1.23</td>\n",
       "      <td>2.84</td>\n",
       "      <td>1.41</td>\n",
       "      <td>-3.14</td>\n",
       "    </tr>\n",
       "    <tr>\n",
       "      <th>M</th>\n",
       "      <td>0.92</td>\n",
       "      <td>-1.42</td>\n",
       "      <td>-2.49</td>\n",
       "      <td>-0.27</td>\n",
       "      <td>-0.41</td>\n",
       "    </tr>\n",
       "    <tr>\n",
       "      <th>F</th>\n",
       "      <td>2.22</td>\n",
       "      <td>-1.47</td>\n",
       "      <td>-4.92</td>\n",
       "      <td>1.30</td>\n",
       "      <td>0.45</td>\n",
       "    </tr>\n",
       "    <tr>\n",
       "      <th>P</th>\n",
       "      <td>-1.25</td>\n",
       "      <td>-0.64</td>\n",
       "      <td>-1.22</td>\n",
       "      <td>0.88</td>\n",
       "      <td>2.23</td>\n",
       "    </tr>\n",
       "    <tr>\n",
       "      <th>S</th>\n",
       "      <td>-2.36</td>\n",
       "      <td>0.38</td>\n",
       "      <td>1.96</td>\n",
       "      <td>-1.63</td>\n",
       "      <td>0.57</td>\n",
       "    </tr>\n",
       "    <tr>\n",
       "      <th>T</th>\n",
       "      <td>-1.19</td>\n",
       "      <td>0.28</td>\n",
       "      <td>0.92</td>\n",
       "      <td>-2.09</td>\n",
       "      <td>-1.40</td>\n",
       "    </tr>\n",
       "    <tr>\n",
       "      <th>W</th>\n",
       "      <td>4.28</td>\n",
       "      <td>-0.18</td>\n",
       "      <td>-4.75</td>\n",
       "      <td>3.65</td>\n",
       "      <td>0.85</td>\n",
       "    </tr>\n",
       "    <tr>\n",
       "      <th>Y</th>\n",
       "      <td>2.75</td>\n",
       "      <td>-0.18</td>\n",
       "      <td>-1.39</td>\n",
       "      <td>2.32</td>\n",
       "      <td>0.01</td>\n",
       "    </tr>\n",
       "    <tr>\n",
       "      <th>V</th>\n",
       "      <td>-0.65</td>\n",
       "      <td>-1.27</td>\n",
       "      <td>-2.69</td>\n",
       "      <td>-2.53</td>\n",
       "      <td>-1.29</td>\n",
       "    </tr>\n",
       "  </tbody>\n",
       "</table>\n",
       "</div>"
      ],
      "text/plain": [
       "       Vol  Hydro  Z(1)  Z(2)  Z(3)\n",
       "AA_1                               \n",
       "A    -2.90  -1.03  0.07 -1.73  0.09\n",
       "R     2.41   1.31  2.88  2.52 -3.44\n",
       "N    -0.68   0.79  3.22  1.45  0.84\n",
       "D    -0.92   1.23  3.64  1.13  2.36\n",
       "C    -1.89   0.15  0.71 -0.97  4.13\n",
       "Q     0.36   1.09  2.18  0.53 -1.14\n",
       "E     0.16   1.28  3.08  0.39 -0.07\n",
       "G    -4.04   0.01  2.23 -5.36  0.30\n",
       "H     0.83   1.15  2.41  1.74  1.11\n",
       "I     0.51  -1.32 -4.44 -1.68 -1.03\n",
       "L     0.52  -1.40 -4.19 -1.03 -0.98\n",
       "K     0.92   1.23  2.84  1.41 -3.14\n",
       "M     0.92  -1.42 -2.49 -0.27 -0.41\n",
       "F     2.22  -1.47 -4.92  1.30  0.45\n",
       "P    -1.25  -0.64 -1.22  0.88  2.23\n",
       "S    -2.36   0.38  1.96 -1.63  0.57\n",
       "T    -1.19   0.28  0.92 -2.09 -1.40\n",
       "W     4.28  -0.18 -4.75  3.65  0.85\n",
       "Y     2.75  -0.18 -1.39  2.32  0.01\n",
       "V    -0.65  -1.27 -2.69 -2.53 -1.29"
      ]
     },
     "execution_count": 45,
     "metadata": {},
     "output_type": "execute_result"
    }
   ],
   "source": [
    "process_features([\"Physical\", \"Z-scale\"])"
   ]
  },
  {
   "cell_type": "markdown",
   "metadata": {},
   "source": [
    "This works for multiple descriptors now. Next I will try all of them and then do some feature selection to prune the list."
   ]
  },
  {
   "cell_type": "code",
   "execution_count": 51,
   "metadata": {},
   "outputs": [],
   "source": [
    "all_desc = process_features([\"DPPS\", \"MS-WHIM\", \"Physical\", \"ST-scale\", \"T-scale\", \"VHSE-scale\", \"Z-scale\"])"
   ]
  },
  {
   "cell_type": "markdown",
   "metadata": {},
   "source": [
    "I will try first using all of the features."
   ]
  },
  {
   "cell_type": "code",
   "execution_count": 52,
   "metadata": {},
   "outputs": [],
   "source": [
    "X_train_fa = feature_array_from_seqs(X_train[:,0], all_desc)\n",
    "X_test_fa = feature_array_from_seqs(X_test[:,0], all_desc)"
   ]
  },
  {
   "cell_type": "code",
   "execution_count": 56,
   "metadata": {},
   "outputs": [
    {
     "name": "stderr",
     "output_type": "stream",
     "text": [
      "/ihome/lchong/dty7/Apps/anaconda3/envs/ml/lib/python3.8/site-packages/sklearn/linear_model/_logistic.py:444: ConvergenceWarning: lbfgs failed to converge (status=1):\n",
      "STOP: TOTAL NO. of ITERATIONS REACHED LIMIT.\n",
      "\n",
      "Increase the number of iterations (max_iter) or scale the data as shown in:\n",
      "    https://scikit-learn.org/stable/modules/preprocessing.html\n",
      "Please also refer to the documentation for alternative solver options:\n",
      "    https://scikit-learn.org/stable/modules/linear_model.html#logistic-regression\n",
      "  n_iter_i = _check_optimize_result(\n"
     ]
    }
   ],
   "source": [
    "worker(linear_model.LogisticRegression(), save_to=\"LogisticRegression_allf.csv\")"
   ]
  },
  {
   "cell_type": "markdown",
   "metadata": {},
   "source": [
    "The score got worse when using all descriptors compared to using just 'Physical'. This makes sense since I likely added poor features and unnecessarily increased dimensionality and added noise."
   ]
  },
  {
   "cell_type": "markdown",
   "metadata": {},
   "source": [
    "So, which features are important here in terms of explaining the variance? For now (and for ease) I will just use the AA descriptor dataset for this part. If needed I can use the full per residue feature array."
   ]
  },
  {
   "cell_type": "code",
   "execution_count": 57,
   "metadata": {},
   "outputs": [],
   "source": [
    "from sklearn.decomposition import PCA\n",
    "from sklearn.preprocessing import StandardScaler"
   ]
  },
  {
   "cell_type": "code",
   "execution_count": 82,
   "metadata": {},
   "outputs": [],
   "source": [
    "scaler = StandardScaler()\n",
    "scaler.fit(all_desc)\n",
    "all_desc_scaled = scaler.transform(all_desc)\n",
    "desc_names = all_desc.columns"
   ]
  },
  {
   "cell_type": "code",
   "execution_count": 83,
   "metadata": {},
   "outputs": [
    {
     "data": {
      "text/html": [
       "<div>\n",
       "<style scoped>\n",
       "    .dataframe tbody tr th:only-of-type {\n",
       "        vertical-align: middle;\n",
       "    }\n",
       "\n",
       "    .dataframe tbody tr th {\n",
       "        vertical-align: top;\n",
       "    }\n",
       "\n",
       "    .dataframe thead th {\n",
       "        text-align: right;\n",
       "    }\n",
       "</style>\n",
       "<table border=\"1\" class=\"dataframe\">\n",
       "  <thead>\n",
       "    <tr style=\"text-align: right;\">\n",
       "      <th></th>\n",
       "      <th>D1</th>\n",
       "      <th>D2</th>\n",
       "      <th>D3</th>\n",
       "      <th>D4</th>\n",
       "      <th>D5</th>\n",
       "      <th>D6</th>\n",
       "      <th>D7</th>\n",
       "      <th>D8</th>\n",
       "      <th>D9</th>\n",
       "      <th>D10</th>\n",
       "      <th>...</th>\n",
       "      <th>VHSE2</th>\n",
       "      <th>VHSE3</th>\n",
       "      <th>VHSE4</th>\n",
       "      <th>VHSE5</th>\n",
       "      <th>VHSE6</th>\n",
       "      <th>VHSE7</th>\n",
       "      <th>VHSE8</th>\n",
       "      <th>Z(1)</th>\n",
       "      <th>Z(2)</th>\n",
       "      <th>Z(3)</th>\n",
       "    </tr>\n",
       "  </thead>\n",
       "  <tbody>\n",
       "    <tr>\n",
       "      <th>0</th>\n",
       "      <td>-0.387243</td>\n",
       "      <td>-1.189422</td>\n",
       "      <td>-0.283470</td>\n",
       "      <td>0.219839</td>\n",
       "      <td>-1.301647</td>\n",
       "      <td>-0.785861</td>\n",
       "      <td>0.006744</td>\n",
       "      <td>-0.993002</td>\n",
       "      <td>-1.156349</td>\n",
       "      <td>-0.009295</td>\n",
       "      <td>...</td>\n",
       "      <td>-1.138434</td>\n",
       "      <td>-1.383601</td>\n",
       "      <td>-9.450797e-01</td>\n",
       "      <td>2.049596e-02</td>\n",
       "      <td>-0.932173</td>\n",
       "      <td>0.370010</td>\n",
       "      <td>-0.491851</td>\n",
       "      <td>0.023078</td>\n",
       "      <td>-0.833101</td>\n",
       "      <td>0.050936</td>\n",
       "    </tr>\n",
       "    <tr>\n",
       "      <th>1</th>\n",
       "      <td>0.756624</td>\n",
       "      <td>1.706166</td>\n",
       "      <td>-2.234068</td>\n",
       "      <td>-0.624049</td>\n",
       "      <td>1.011498</td>\n",
       "      <td>1.421377</td>\n",
       "      <td>-1.566828</td>\n",
       "      <td>2.653147</td>\n",
       "      <td>2.630559</td>\n",
       "      <td>0.068975</td>\n",
       "      <td>...</td>\n",
       "      <td>1.488327</td>\n",
       "      <td>1.271846</td>\n",
       "      <td>1.304621e+00</td>\n",
       "      <td>1.588437e+00</td>\n",
       "      <td>1.508501</td>\n",
       "      <td>1.334809</td>\n",
       "      <td>0.850493</td>\n",
       "      <td>0.983825</td>\n",
       "      <td>1.211761</td>\n",
       "      <td>-1.992288</td>\n",
       "    </tr>\n",
       "    <tr>\n",
       "      <th>2</th>\n",
       "      <td>-0.831869</td>\n",
       "      <td>0.768508</td>\n",
       "      <td>0.192780</td>\n",
       "      <td>-0.079802</td>\n",
       "      <td>-0.486861</td>\n",
       "      <td>0.659132</td>\n",
       "      <td>-0.987546</td>\n",
       "      <td>-0.439357</td>\n",
       "      <td>1.032305</td>\n",
       "      <td>-0.185401</td>\n",
       "      <td>...</td>\n",
       "      <td>0.000513</td>\n",
       "      <td>-0.378837</td>\n",
       "      <td>7.088098e-01</td>\n",
       "      <td>-5.636388e-01</td>\n",
       "      <td>0.872695</td>\n",
       "      <td>0.749771</td>\n",
       "      <td>-0.819752</td>\n",
       "      <td>1.100072</td>\n",
       "      <td>0.696937</td>\n",
       "      <td>0.485049</td>\n",
       "    </tr>\n",
       "    <tr>\n",
       "      <th>3</th>\n",
       "      <td>-2.507766</td>\n",
       "      <td>1.371584</td>\n",
       "      <td>0.815958</td>\n",
       "      <td>0.219839</td>\n",
       "      <td>-0.687912</td>\n",
       "      <td>0.911655</td>\n",
       "      <td>-1.272864</td>\n",
       "      <td>0.054969</td>\n",
       "      <td>0.740087</td>\n",
       "      <td>-0.146266</td>\n",
       "      <td>...</td>\n",
       "      <td>0.687986</td>\n",
       "      <td>-0.419848</td>\n",
       "      <td>-1.027261e-02</td>\n",
       "      <td>-2.746458e+00</td>\n",
       "      <td>1.344422</td>\n",
       "      <td>0.031305</td>\n",
       "      <td>0.573827</td>\n",
       "      <td>1.243672</td>\n",
       "      <td>0.542971</td>\n",
       "      <td>1.364850</td>\n",
       "    </tr>\n",
       "    <tr>\n",
       "      <th>4</th>\n",
       "      <td>0.080185</td>\n",
       "      <td>0.462840</td>\n",
       "      <td>1.732992</td>\n",
       "      <td>-0.416135</td>\n",
       "      <td>-0.480512</td>\n",
       "      <td>-0.570749</td>\n",
       "      <td>0.537608</td>\n",
       "      <td>-1.178869</td>\n",
       "      <td>-1.013221</td>\n",
       "      <td>1.536530</td>\n",
       "      <td>...</td>\n",
       "      <td>-1.713038</td>\n",
       "      <td>-0.471111</td>\n",
       "      <td>-2.157247e-01</td>\n",
       "      <td>3.271043e-17</td>\n",
       "      <td>1.231617</td>\n",
       "      <td>-1.651960</td>\n",
       "      <td>-0.194691</td>\n",
       "      <td>0.241896</td>\n",
       "      <td>-0.467431</td>\n",
       "      <td>2.389356</td>\n",
       "    </tr>\n",
       "    <tr>\n",
       "      <th>5</th>\n",
       "      <td>-0.178230</td>\n",
       "      <td>0.479362</td>\n",
       "      <td>-0.288536</td>\n",
       "      <td>0.421638</td>\n",
       "      <td>0.082431</td>\n",
       "      <td>0.902302</td>\n",
       "      <td>-0.944316</td>\n",
       "      <td>-0.332583</td>\n",
       "      <td>1.151578</td>\n",
       "      <td>0.832104</td>\n",
       "      <td>...</td>\n",
       "      <td>0.123642</td>\n",
       "      <td>0.185061</td>\n",
       "      <td>1.643617e-01</td>\n",
       "      <td>9.223180e-02</td>\n",
       "      <td>0.431733</td>\n",
       "      <td>-0.204763</td>\n",
       "      <td>-0.420123</td>\n",
       "      <td>0.744493</td>\n",
       "      <td>0.254285</td>\n",
       "      <td>-0.661009</td>\n",
       "    </tr>\n",
       "    <tr>\n",
       "      <th>6</th>\n",
       "      <td>-2.047940</td>\n",
       "      <td>0.268699</td>\n",
       "      <td>-0.496262</td>\n",
       "      <td>0.849698</td>\n",
       "      <td>-0.048781</td>\n",
       "      <td>1.173531</td>\n",
       "      <td>-1.182946</td>\n",
       "      <td>-0.269309</td>\n",
       "      <td>0.841469</td>\n",
       "      <td>1.252803</td>\n",
       "      <td>...</td>\n",
       "      <td>0.410944</td>\n",
       "      <td>0.103040</td>\n",
       "      <td>3.698138e-01</td>\n",
       "      <td>-2.213563e+00</td>\n",
       "      <td>-0.173308</td>\n",
       "      <td>0.934520</td>\n",
       "      <td>0.020494</td>\n",
       "      <td>1.052206</td>\n",
       "      <td>0.186924</td>\n",
       "      <td>-0.041675</td>\n",
       "    </tr>\n",
       "    <tr>\n",
       "      <th>7</th>\n",
       "      <td>-1.086483</td>\n",
       "      <td>-2.065120</td>\n",
       "      <td>-1.504493</td>\n",
       "      <td>0.323796</td>\n",
       "      <td>-2.423300</td>\n",
       "      <td>0.883597</td>\n",
       "      <td>-0.365034</td>\n",
       "      <td>-1.578284</td>\n",
       "      <td>-1.287548</td>\n",
       "      <td>-0.743072</td>\n",
       "      <td>...</td>\n",
       "      <td>-1.569387</td>\n",
       "      <td>-2.695945</td>\n",
       "      <td>2.342154e+00</td>\n",
       "      <td>-5.431428e-01</td>\n",
       "      <td>-1.209057</td>\n",
       "      <td>2.063539</td>\n",
       "      <td>-1.373085</td>\n",
       "      <td>0.761589</td>\n",
       "      <td>-2.579654</td>\n",
       "      <td>0.172487</td>\n",
       "    </tr>\n",
       "    <tr>\n",
       "      <th>8</th>\n",
       "      <td>0.277796</td>\n",
       "      <td>1.107222</td>\n",
       "      <td>-0.334135</td>\n",
       "      <td>-1.156066</td>\n",
       "      <td>0.338506</td>\n",
       "      <td>0.528194</td>\n",
       "      <td>-0.335638</td>\n",
       "      <td>-0.043896</td>\n",
       "      <td>0.262996</td>\n",
       "      <td>0.147245</td>\n",
       "      <td>...</td>\n",
       "      <td>-0.256007</td>\n",
       "      <td>0.379862</td>\n",
       "      <td>1.951795e-01</td>\n",
       "      <td>5.226469e-01</td>\n",
       "      <td>1.313657</td>\n",
       "      <td>0.955048</td>\n",
       "      <td>0.666049</td>\n",
       "      <td>0.823131</td>\n",
       "      <td>0.836469</td>\n",
       "      <td>0.641329</td>\n",
       "    </tr>\n",
       "    <tr>\n",
       "      <th>9</th>\n",
       "      <td>0.726222</td>\n",
       "      <td>-1.292688</td>\n",
       "      <td>0.005320</td>\n",
       "      <td>0.696819</td>\n",
       "      <td>0.571302</td>\n",
       "      <td>-2.127974</td>\n",
       "      <td>1.544003</td>\n",
       "      <td>0.070787</td>\n",
       "      <td>-0.655403</td>\n",
       "      <td>-0.743072</td>\n",
       "      <td>...</td>\n",
       "      <td>-0.143138</td>\n",
       "      <td>0.308093</td>\n",
       "      <td>-1.849069e+00</td>\n",
       "      <td>3.074393e-01</td>\n",
       "      <td>-1.650019</td>\n",
       "      <td>-0.163708</td>\n",
       "      <td>-0.133210</td>\n",
       "      <td>-1.518903</td>\n",
       "      <td>-0.809044</td>\n",
       "      <td>-0.597339</td>\n",
       "    </tr>\n",
       "    <tr>\n",
       "      <th>10</th>\n",
       "      <td>0.623616</td>\n",
       "      <td>-1.061371</td>\n",
       "      <td>0.000253</td>\n",
       "      <td>0.825237</td>\n",
       "      <td>0.554372</td>\n",
       "      <td>-1.239467</td>\n",
       "      <td>1.334769</td>\n",
       "      <td>0.019378</td>\n",
       "      <td>-0.613658</td>\n",
       "      <td>-1.770361</td>\n",
       "      <td>...</td>\n",
       "      <td>0.072339</td>\n",
       "      <td>0.267083</td>\n",
       "      <td>-8.218084e-01</td>\n",
       "      <td>2.254555e-01</td>\n",
       "      <td>-1.403900</td>\n",
       "      <td>0.082624</td>\n",
       "      <td>-0.635308</td>\n",
       "      <td>-1.433428</td>\n",
       "      <td>-0.496300</td>\n",
       "      <td>-0.568398</td>\n",
       "    </tr>\n",
       "    <tr>\n",
       "      <th>11</th>\n",
       "      <td>0.939035</td>\n",
       "      <td>0.636327</td>\n",
       "      <td>-2.168203</td>\n",
       "      <td>-0.526207</td>\n",
       "      <td>0.586117</td>\n",
       "      <td>0.963095</td>\n",
       "      <td>-1.068818</td>\n",
       "      <td>0.810299</td>\n",
       "      <td>1.306632</td>\n",
       "      <td>-1.613822</td>\n",
       "      <td>...</td>\n",
       "      <td>0.718768</td>\n",
       "      <td>0.718201</td>\n",
       "      <td>8.218084e-01</td>\n",
       "      <td>1.680668e+00</td>\n",
       "      <td>0.688106</td>\n",
       "      <td>1.673514</td>\n",
       "      <td>0.133210</td>\n",
       "      <td>0.970149</td>\n",
       "      <td>0.677691</td>\n",
       "      <td>-1.818643</td>\n",
       "    </tr>\n",
       "    <tr>\n",
       "      <th>12</th>\n",
       "      <td>0.733823</td>\n",
       "      <td>-0.003924</td>\n",
       "      <td>0.613298</td>\n",
       "      <td>0.605092</td>\n",
       "      <td>0.590349</td>\n",
       "      <td>-0.262110</td>\n",
       "      <td>0.921491</td>\n",
       "      <td>-0.344446</td>\n",
       "      <td>-0.589803</td>\n",
       "      <td>-1.065934</td>\n",
       "      <td>...</td>\n",
       "      <td>-0.543309</td>\n",
       "      <td>0.441378</td>\n",
       "      <td>1.140488e-17</td>\n",
       "      <td>2.357035e-01</td>\n",
       "      <td>0.103575</td>\n",
       "      <td>-0.882174</td>\n",
       "      <td>-0.696789</td>\n",
       "      <td>-0.852193</td>\n",
       "      <td>-0.130631</td>\n",
       "      <td>-0.238473</td>\n",
       "    </tr>\n",
       "    <tr>\n",
       "      <th>13</th>\n",
       "      <td>1.018839</td>\n",
       "      <td>0.347181</td>\n",
       "      <td>1.125014</td>\n",
       "      <td>0.433869</td>\n",
       "      <td>1.062290</td>\n",
       "      <td>-0.140524</td>\n",
       "      <td>1.486939</td>\n",
       "      <td>0.446475</td>\n",
       "      <td>-0.834312</td>\n",
       "      <td>-0.273454</td>\n",
       "      <td>...</td>\n",
       "      <td>0.626421</td>\n",
       "      <td>0.984771</td>\n",
       "      <td>-1.643617e-01</td>\n",
       "      <td>2.561995e-01</td>\n",
       "      <td>0.288164</td>\n",
       "      <td>-1.364574</td>\n",
       "      <td>-0.204938</td>\n",
       "      <td>-1.683017</td>\n",
       "      <td>0.624765</td>\n",
       "      <td>0.259310</td>\n",
       "    </tr>\n",
       "    <tr>\n",
       "      <th>14</th>\n",
       "      <td>0.171390</td>\n",
       "      <td>-1.193552</td>\n",
       "      <td>0.897022</td>\n",
       "      <td>-3.553198</td>\n",
       "      <td>-0.802194</td>\n",
       "      <td>-0.285491</td>\n",
       "      <td>0.120871</td>\n",
       "      <td>0.478112</td>\n",
       "      <td>-0.995330</td>\n",
       "      <td>1.751772</td>\n",
       "      <td>...</td>\n",
       "      <td>-0.173920</td>\n",
       "      <td>-0.512122</td>\n",
       "      <td>5.136303e-02</td>\n",
       "      <td>-1.024798e-02</td>\n",
       "      <td>-1.373135</td>\n",
       "      <td>-0.194499</td>\n",
       "      <td>3.647897</td>\n",
       "      <td>-0.417976</td>\n",
       "      <td>0.422685</td>\n",
       "      <td>1.289604</td>\n",
       "    </tr>\n",
       "    <tr>\n",
       "      <th>15</th>\n",
       "      <td>-0.668459</td>\n",
       "      <td>-0.078276</td>\n",
       "      <td>0.537301</td>\n",
       "      <td>-0.422250</td>\n",
       "      <td>-1.210645</td>\n",
       "      <td>0.065235</td>\n",
       "      <td>-0.716062</td>\n",
       "      <td>-0.957411</td>\n",
       "      <td>-0.076931</td>\n",
       "      <td>0.675565</td>\n",
       "      <td>...</td>\n",
       "      <td>-0.881914</td>\n",
       "      <td>-1.096525</td>\n",
       "      <td>-4.211768e-01</td>\n",
       "      <td>-3.279353e-01</td>\n",
       "      <td>0.277909</td>\n",
       "      <td>-0.656371</td>\n",
       "      <td>0.112716</td>\n",
       "      <td>0.669275</td>\n",
       "      <td>-0.784986</td>\n",
       "      <td>0.328768</td>\n",
       "    </tr>\n",
       "    <tr>\n",
       "      <th>16</th>\n",
       "      <td>-0.208632</td>\n",
       "      <td>-0.272417</td>\n",
       "      <td>0.066118</td>\n",
       "      <td>-0.189875</td>\n",
       "      <td>-0.584212</td>\n",
       "      <td>-0.729745</td>\n",
       "      <td>-0.425556</td>\n",
       "      <td>-0.838773</td>\n",
       "      <td>0.101978</td>\n",
       "      <td>0.078759</td>\n",
       "      <td>...</td>\n",
       "      <td>-0.522787</td>\n",
       "      <td>-0.563385</td>\n",
       "      <td>-1.088896e+00</td>\n",
       "      <td>-6.148787e-02</td>\n",
       "      <td>-0.009229</td>\n",
       "      <td>-0.810328</td>\n",
       "      <td>0.399629</td>\n",
       "      <td>0.313696</td>\n",
       "      <td>-1.006313</td>\n",
       "      <td>-0.811501</td>\n",
       "    </tr>\n",
       "    <tr>\n",
       "      <th>17</th>\n",
       "      <td>1.474866</td>\n",
       "      <td>0.735463</td>\n",
       "      <td>0.851423</td>\n",
       "      <td>1.222721</td>\n",
       "      <td>1.970194</td>\n",
       "      <td>0.415962</td>\n",
       "      <td>1.301915</td>\n",
       "      <td>1.688223</td>\n",
       "      <td>-0.136567</td>\n",
       "      <td>-1.388796</td>\n",
       "      <td>...</td>\n",
       "      <td>2.114235</td>\n",
       "      <td>1.835744</td>\n",
       "      <td>7.704454e-01</td>\n",
       "      <td>7.685984e-01</td>\n",
       "      <td>-0.132289</td>\n",
       "      <td>-1.036132</td>\n",
       "      <td>-0.870987</td>\n",
       "      <td>-1.624893</td>\n",
       "      <td>1.755454</td>\n",
       "      <td>0.490837</td>\n",
       "    </tr>\n",
       "    <tr>\n",
       "      <th>18</th>\n",
       "      <td>0.798427</td>\n",
       "      <td>0.520669</td>\n",
       "      <td>0.582899</td>\n",
       "      <td>0.556171</td>\n",
       "      <td>1.248527</td>\n",
       "      <td>0.345816</td>\n",
       "      <td>0.641360</td>\n",
       "      <td>1.312535</td>\n",
       "      <td>0.149687</td>\n",
       "      <td>1.301722</td>\n",
       "      <td>...</td>\n",
       "      <td>1.642238</td>\n",
       "      <td>1.200078</td>\n",
       "      <td>7.499002e-01</td>\n",
       "      <td>5.431428e-01</td>\n",
       "      <td>0.257399</td>\n",
       "      <td>-0.984813</td>\n",
       "      <td>-0.532839</td>\n",
       "      <td>-0.476100</td>\n",
       "      <td>1.115532</td>\n",
       "      <td>0.004631</td>\n",
       "    </tr>\n",
       "    <tr>\n",
       "      <th>19</th>\n",
       "      <td>0.315798</td>\n",
       "      <td>-1.247251</td>\n",
       "      <td>-0.111209</td>\n",
       "      <td>0.592862</td>\n",
       "      <td>0.010476</td>\n",
       "      <td>-2.127974</td>\n",
       "      <td>0.969908</td>\n",
       "      <td>-0.557995</td>\n",
       "      <td>-0.858167</td>\n",
       "      <td>0.294000</td>\n",
       "      <td>...</td>\n",
       "      <td>-0.943479</td>\n",
       "      <td>-0.173783</td>\n",
       "      <td>-1.962068e+00</td>\n",
       "      <td>2.254555e-01</td>\n",
       "      <td>-1.434665</td>\n",
       "      <td>-0.245818</td>\n",
       "      <td>-0.030741</td>\n",
       "      <td>-0.920573</td>\n",
       "      <td>-1.218016</td>\n",
       "      <td>-0.747831</td>\n",
       "    </tr>\n",
       "  </tbody>\n",
       "</table>\n",
       "<p>20 rows × 39 columns</p>\n",
       "</div>"
      ],
      "text/plain": [
       "          D1        D2        D3        D4        D5        D6        D7  \\\n",
       "0  -0.387243 -1.189422 -0.283470  0.219839 -1.301647 -0.785861  0.006744   \n",
       "1   0.756624  1.706166 -2.234068 -0.624049  1.011498  1.421377 -1.566828   \n",
       "2  -0.831869  0.768508  0.192780 -0.079802 -0.486861  0.659132 -0.987546   \n",
       "3  -2.507766  1.371584  0.815958  0.219839 -0.687912  0.911655 -1.272864   \n",
       "4   0.080185  0.462840  1.732992 -0.416135 -0.480512 -0.570749  0.537608   \n",
       "5  -0.178230  0.479362 -0.288536  0.421638  0.082431  0.902302 -0.944316   \n",
       "6  -2.047940  0.268699 -0.496262  0.849698 -0.048781  1.173531 -1.182946   \n",
       "7  -1.086483 -2.065120 -1.504493  0.323796 -2.423300  0.883597 -0.365034   \n",
       "8   0.277796  1.107222 -0.334135 -1.156066  0.338506  0.528194 -0.335638   \n",
       "9   0.726222 -1.292688  0.005320  0.696819  0.571302 -2.127974  1.544003   \n",
       "10  0.623616 -1.061371  0.000253  0.825237  0.554372 -1.239467  1.334769   \n",
       "11  0.939035  0.636327 -2.168203 -0.526207  0.586117  0.963095 -1.068818   \n",
       "12  0.733823 -0.003924  0.613298  0.605092  0.590349 -0.262110  0.921491   \n",
       "13  1.018839  0.347181  1.125014  0.433869  1.062290 -0.140524  1.486939   \n",
       "14  0.171390 -1.193552  0.897022 -3.553198 -0.802194 -0.285491  0.120871   \n",
       "15 -0.668459 -0.078276  0.537301 -0.422250 -1.210645  0.065235 -0.716062   \n",
       "16 -0.208632 -0.272417  0.066118 -0.189875 -0.584212 -0.729745 -0.425556   \n",
       "17  1.474866  0.735463  0.851423  1.222721  1.970194  0.415962  1.301915   \n",
       "18  0.798427  0.520669  0.582899  0.556171  1.248527  0.345816  0.641360   \n",
       "19  0.315798 -1.247251 -0.111209  0.592862  0.010476 -2.127974  0.969908   \n",
       "\n",
       "          D8        D9       D10  ...     VHSE2     VHSE3         VHSE4  \\\n",
       "0  -0.993002 -1.156349 -0.009295  ... -1.138434 -1.383601 -9.450797e-01   \n",
       "1   2.653147  2.630559  0.068975  ...  1.488327  1.271846  1.304621e+00   \n",
       "2  -0.439357  1.032305 -0.185401  ...  0.000513 -0.378837  7.088098e-01   \n",
       "3   0.054969  0.740087 -0.146266  ...  0.687986 -0.419848 -1.027261e-02   \n",
       "4  -1.178869 -1.013221  1.536530  ... -1.713038 -0.471111 -2.157247e-01   \n",
       "5  -0.332583  1.151578  0.832104  ...  0.123642  0.185061  1.643617e-01   \n",
       "6  -0.269309  0.841469  1.252803  ...  0.410944  0.103040  3.698138e-01   \n",
       "7  -1.578284 -1.287548 -0.743072  ... -1.569387 -2.695945  2.342154e+00   \n",
       "8  -0.043896  0.262996  0.147245  ... -0.256007  0.379862  1.951795e-01   \n",
       "9   0.070787 -0.655403 -0.743072  ... -0.143138  0.308093 -1.849069e+00   \n",
       "10  0.019378 -0.613658 -1.770361  ...  0.072339  0.267083 -8.218084e-01   \n",
       "11  0.810299  1.306632 -1.613822  ...  0.718768  0.718201  8.218084e-01   \n",
       "12 -0.344446 -0.589803 -1.065934  ... -0.543309  0.441378  1.140488e-17   \n",
       "13  0.446475 -0.834312 -0.273454  ...  0.626421  0.984771 -1.643617e-01   \n",
       "14  0.478112 -0.995330  1.751772  ... -0.173920 -0.512122  5.136303e-02   \n",
       "15 -0.957411 -0.076931  0.675565  ... -0.881914 -1.096525 -4.211768e-01   \n",
       "16 -0.838773  0.101978  0.078759  ... -0.522787 -0.563385 -1.088896e+00   \n",
       "17  1.688223 -0.136567 -1.388796  ...  2.114235  1.835744  7.704454e-01   \n",
       "18  1.312535  0.149687  1.301722  ...  1.642238  1.200078  7.499002e-01   \n",
       "19 -0.557995 -0.858167  0.294000  ... -0.943479 -0.173783 -1.962068e+00   \n",
       "\n",
       "           VHSE5     VHSE6     VHSE7     VHSE8      Z(1)      Z(2)      Z(3)  \n",
       "0   2.049596e-02 -0.932173  0.370010 -0.491851  0.023078 -0.833101  0.050936  \n",
       "1   1.588437e+00  1.508501  1.334809  0.850493  0.983825  1.211761 -1.992288  \n",
       "2  -5.636388e-01  0.872695  0.749771 -0.819752  1.100072  0.696937  0.485049  \n",
       "3  -2.746458e+00  1.344422  0.031305  0.573827  1.243672  0.542971  1.364850  \n",
       "4   3.271043e-17  1.231617 -1.651960 -0.194691  0.241896 -0.467431  2.389356  \n",
       "5   9.223180e-02  0.431733 -0.204763 -0.420123  0.744493  0.254285 -0.661009  \n",
       "6  -2.213563e+00 -0.173308  0.934520  0.020494  1.052206  0.186924 -0.041675  \n",
       "7  -5.431428e-01 -1.209057  2.063539 -1.373085  0.761589 -2.579654  0.172487  \n",
       "8   5.226469e-01  1.313657  0.955048  0.666049  0.823131  0.836469  0.641329  \n",
       "9   3.074393e-01 -1.650019 -0.163708 -0.133210 -1.518903 -0.809044 -0.597339  \n",
       "10  2.254555e-01 -1.403900  0.082624 -0.635308 -1.433428 -0.496300 -0.568398  \n",
       "11  1.680668e+00  0.688106  1.673514  0.133210  0.970149  0.677691 -1.818643  \n",
       "12  2.357035e-01  0.103575 -0.882174 -0.696789 -0.852193 -0.130631 -0.238473  \n",
       "13  2.561995e-01  0.288164 -1.364574 -0.204938 -1.683017  0.624765  0.259310  \n",
       "14 -1.024798e-02 -1.373135 -0.194499  3.647897 -0.417976  0.422685  1.289604  \n",
       "15 -3.279353e-01  0.277909 -0.656371  0.112716  0.669275 -0.784986  0.328768  \n",
       "16 -6.148787e-02 -0.009229 -0.810328  0.399629  0.313696 -1.006313 -0.811501  \n",
       "17  7.685984e-01 -0.132289 -1.036132 -0.870987 -1.624893  1.755454  0.490837  \n",
       "18  5.431428e-01  0.257399 -0.984813 -0.532839 -0.476100  1.115532  0.004631  \n",
       "19  2.254555e-01 -1.434665 -0.245818 -0.030741 -0.920573 -1.218016 -0.747831  \n",
       "\n",
       "[20 rows x 39 columns]"
      ]
     },
     "execution_count": 83,
     "metadata": {},
     "output_type": "execute_result"
    }
   ],
   "source": [
    "df = pd.DataFrame(all_desc_scaled, columns=all_desc.columns)\n",
    "df"
   ]
  },
  {
   "cell_type": "code",
   "execution_count": 84,
   "metadata": {},
   "outputs": [
    {
     "data": {
      "text/plain": [
       "Text(0, 0.5, 'cumulative explained variance')"
      ]
     },
     "execution_count": 84,
     "metadata": {},
     "output_type": "execute_result"
    },
    {
     "data": {
      "image/png": "[encoded data removed]",
      "text/plain": [
       "<Figure size 640x480 with 1 Axes>"
      ]
     },
     "metadata": {},
     "output_type": "display_data"
    }
   ],
   "source": [
    "pca = PCA().fit(df)\n",
    "plt.plot(np.cumsum(pca.explained_variance_ratio_))\n",
    "plt.xlabel('number of components')\n",
    "plt.ylabel('cumulative explained variance')"
   ]
  },
  {
   "cell_type": "code",
   "execution_count": 85,
   "metadata": {},
   "outputs": [
    {
     "data": {
      "text/plain": [
       "Text(0, 0.5, 'PC2')"
      ]
     },
     "execution_count": 85,
     "metadata": {},
     "output_type": "execute_result"
    },
    {
     "data": {
      "image/png": "[encoded data removed]",
      "text/plain": [
       "<Figure size 640x480 with 1 Axes>"
      ]
     },
     "metadata": {},
     "output_type": "display_data"
    }
   ],
   "source": [
    "plt.scatter(pca.components_[0], pca.components_[1])\n",
    "plt.xlabel(\"PC1\")\n",
    "plt.ylabel(\"PC2\")"
   ]
  },
  {
   "cell_type": "code",
   "execution_count": 86,
   "metadata": {},
   "outputs": [
    {
     "data": {
      "text/plain": [
       "array([0.32593978, 0.56898931, 0.69384992, 0.76932601, 0.83909098,\n",
       "       0.88604282, 0.92097889, 0.94553659, 0.96213473, 0.97421195,\n",
       "       0.98293472, 0.98864835, 0.99207033, 0.99507245, 0.99736711,\n",
       "       0.99860471, 0.99925431, 0.99975523, 1.        , 1.        ])"
      ]
     },
     "execution_count": 86,
     "metadata": {},
     "output_type": "execute_result"
    }
   ],
   "source": [
    "np.cumsum(pca.explained_variance_ratio_)"
   ]
  },
  {
   "cell_type": "markdown",
   "metadata": {},
   "source": [
    "So about 6 PCs can explain >85% of the total variance. Let's go with these."
   ]
  },
  {
   "cell_type": "code",
   "execution_count": 92,
   "metadata": {},
   "outputs": [],
   "source": [
    "pca = PCA(n_components=6).fit(df)"
   ]
  },
  {
   "cell_type": "code",
   "execution_count": 95,
   "metadata": {},
   "outputs": [],
   "source": [
    "pca_fit = pca.fit_transform(df)"
   ]
  },
  {
   "cell_type": "code",
   "execution_count": 98,
   "metadata": {},
   "outputs": [
    {
     "data": {
      "text/plain": [
       "array([ 5.38142709, -6.07815886,  0.29425645,  0.90978366,  2.9307907 ,\n",
       "       -1.35030822, -0.58869441,  6.98154606, -2.79300897,  1.1929171 ,\n",
       "        0.47975548, -3.45148352, -0.90263446, -3.14255241,  1.74080721,\n",
       "        3.58846288,  2.7337501 , -6.38231385, -4.68043297,  3.13609095])"
      ]
     },
     "execution_count": 98,
     "metadata": {},
     "output_type": "execute_result"
    }
   ],
   "source": [
    "pca_fit.T[0]"
   ]
  },
  {
   "cell_type": "code",
   "execution_count": 99,
   "metadata": {},
   "outputs": [
    {
     "data": {
      "text/html": [
       "<div>\n",
       "<style scoped>\n",
       "    .dataframe tbody tr th:only-of-type {\n",
       "        vertical-align: middle;\n",
       "    }\n",
       "\n",
       "    .dataframe tbody tr th {\n",
       "        vertical-align: top;\n",
       "    }\n",
       "\n",
       "    .dataframe thead th {\n",
       "        text-align: right;\n",
       "    }\n",
       "</style>\n",
       "<table border=\"1\" class=\"dataframe\">\n",
       "  <thead>\n",
       "    <tr style=\"text-align: right;\">\n",
       "      <th></th>\n",
       "      <th>0</th>\n",
       "      <th>1</th>\n",
       "      <th>2</th>\n",
       "      <th>3</th>\n",
       "      <th>4</th>\n",
       "      <th>5</th>\n",
       "    </tr>\n",
       "    <tr>\n",
       "      <th>AA_1</th>\n",
       "      <th></th>\n",
       "      <th></th>\n",
       "      <th></th>\n",
       "      <th></th>\n",
       "      <th></th>\n",
       "      <th></th>\n",
       "    </tr>\n",
       "  </thead>\n",
       "  <tbody>\n",
       "    <tr>\n",
       "      <th>A</th>\n",
       "      <td>5.381427</td>\n",
       "      <td>-0.413375</td>\n",
       "      <td>0.952966</td>\n",
       "      <td>1.129120</td>\n",
       "      <td>0.142331</td>\n",
       "      <td>-1.009810</td>\n",
       "    </tr>\n",
       "    <tr>\n",
       "      <th>R</th>\n",
       "      <td>-6.078159</td>\n",
       "      <td>4.134772</td>\n",
       "      <td>4.201360</td>\n",
       "      <td>-1.514076</td>\n",
       "      <td>1.246131</td>\n",
       "      <td>-0.295475</td>\n",
       "    </tr>\n",
       "    <tr>\n",
       "      <th>N</th>\n",
       "      <td>0.294256</td>\n",
       "      <td>3.329894</td>\n",
       "      <td>-1.439012</td>\n",
       "      <td>-0.194668</td>\n",
       "      <td>-1.367692</td>\n",
       "      <td>0.027704</td>\n",
       "    </tr>\n",
       "    <tr>\n",
       "      <th>D</th>\n",
       "      <td>0.909784</td>\n",
       "      <td>4.828819</td>\n",
       "      <td>-3.625491</td>\n",
       "      <td>-0.496544</td>\n",
       "      <td>-2.056743</td>\n",
       "      <td>0.523830</td>\n",
       "    </tr>\n",
       "    <tr>\n",
       "      <th>C</th>\n",
       "      <td>2.930791</td>\n",
       "      <td>-0.858116</td>\n",
       "      <td>-1.615959</td>\n",
       "      <td>-1.310821</td>\n",
       "      <td>1.422037</td>\n",
       "      <td>3.616872</td>\n",
       "    </tr>\n",
       "    <tr>\n",
       "      <th>Q</th>\n",
       "      <td>-1.350308</td>\n",
       "      <td>2.179967</td>\n",
       "      <td>-0.027269</td>\n",
       "      <td>-0.443281</td>\n",
       "      <td>-0.771567</td>\n",
       "      <td>0.263838</td>\n",
       "    </tr>\n",
       "    <tr>\n",
       "      <th>E</th>\n",
       "      <td>-0.588694</td>\n",
       "      <td>4.226095</td>\n",
       "      <td>-0.864940</td>\n",
       "      <td>0.018303</td>\n",
       "      <td>-1.580783</td>\n",
       "      <td>0.205055</td>\n",
       "    </tr>\n",
       "    <tr>\n",
       "      <th>G</th>\n",
       "      <td>6.981546</td>\n",
       "      <td>2.748276</td>\n",
       "      <td>3.116508</td>\n",
       "      <td>4.908367</td>\n",
       "      <td>1.310309</td>\n",
       "      <td>0.150355</td>\n",
       "    </tr>\n",
       "    <tr>\n",
       "      <th>H</th>\n",
       "      <td>-2.793009</td>\n",
       "      <td>1.947561</td>\n",
       "      <td>-1.827371</td>\n",
       "      <td>0.041710</td>\n",
       "      <td>1.684318</td>\n",
       "      <td>-1.096509</td>\n",
       "    </tr>\n",
       "    <tr>\n",
       "      <th>I</th>\n",
       "      <td>1.192917</td>\n",
       "      <td>-4.826131</td>\n",
       "      <td>1.179024</td>\n",
       "      <td>-1.542548</td>\n",
       "      <td>-1.880189</td>\n",
       "      <td>-1.295438</td>\n",
       "    </tr>\n",
       "    <tr>\n",
       "      <th>L</th>\n",
       "      <td>0.479755</td>\n",
       "      <td>-4.030996</td>\n",
       "      <td>2.020204</td>\n",
       "      <td>-0.019367</td>\n",
       "      <td>-1.767653</td>\n",
       "      <td>-0.270023</td>\n",
       "    </tr>\n",
       "    <tr>\n",
       "      <th>K</th>\n",
       "      <td>-3.451484</td>\n",
       "      <td>2.371466</td>\n",
       "      <td>4.691471</td>\n",
       "      <td>-1.041212</td>\n",
       "      <td>0.484335</td>\n",
       "      <td>-0.043244</td>\n",
       "    </tr>\n",
       "    <tr>\n",
       "      <th>M</th>\n",
       "      <td>-0.902634</td>\n",
       "      <td>-3.297491</td>\n",
       "      <td>1.749773</td>\n",
       "      <td>-0.687743</td>\n",
       "      <td>-0.518337</td>\n",
       "      <td>3.096691</td>\n",
       "    </tr>\n",
       "    <tr>\n",
       "      <th>F</th>\n",
       "      <td>-3.142552</td>\n",
       "      <td>-4.077997</td>\n",
       "      <td>-1.128807</td>\n",
       "      <td>1.819689</td>\n",
       "      <td>0.404011</td>\n",
       "      <td>1.143868</td>\n",
       "    </tr>\n",
       "    <tr>\n",
       "      <th>P</th>\n",
       "      <td>1.740807</td>\n",
       "      <td>-1.866683</td>\n",
       "      <td>-1.947415</td>\n",
       "      <td>-2.063199</td>\n",
       "      <td>5.233604</td>\n",
       "      <td>-1.208990</td>\n",
       "    </tr>\n",
       "    <tr>\n",
       "      <th>S</th>\n",
       "      <td>3.588463</td>\n",
       "      <td>1.658948</td>\n",
       "      <td>-1.404024</td>\n",
       "      <td>-0.564031</td>\n",
       "      <td>0.125613</td>\n",
       "      <td>-0.374645</td>\n",
       "    </tr>\n",
       "    <tr>\n",
       "      <th>T</th>\n",
       "      <td>2.733750</td>\n",
       "      <td>-0.009718</td>\n",
       "      <td>-1.077576</td>\n",
       "      <td>-1.779748</td>\n",
       "      <td>-1.074884</td>\n",
       "      <td>-1.486672</td>\n",
       "    </tr>\n",
       "    <tr>\n",
       "      <th>W</th>\n",
       "      <td>-6.382314</td>\n",
       "      <td>-2.917983</td>\n",
       "      <td>-2.105649</td>\n",
       "      <td>2.891447</td>\n",
       "      <td>-0.295466</td>\n",
       "      <td>-1.694865</td>\n",
       "    </tr>\n",
       "    <tr>\n",
       "      <th>Y</th>\n",
       "      <td>-4.680433</td>\n",
       "      <td>-1.413132</td>\n",
       "      <td>-1.778430</td>\n",
       "      <td>2.052108</td>\n",
       "      <td>0.272185</td>\n",
       "      <td>0.726476</td>\n",
       "    </tr>\n",
       "    <tr>\n",
       "      <th>V</th>\n",
       "      <td>3.136091</td>\n",
       "      <td>-3.714177</td>\n",
       "      <td>0.930638</td>\n",
       "      <td>-1.203506</td>\n",
       "      <td>-1.011561</td>\n",
       "      <td>-0.979016</td>\n",
       "    </tr>\n",
       "  </tbody>\n",
       "</table>\n",
       "</div>"
      ],
      "text/plain": [
       "             0         1         2         3         4         5\n",
       "AA_1                                                            \n",
       "A     5.381427 -0.413375  0.952966  1.129120  0.142331 -1.009810\n",
       "R    -6.078159  4.134772  4.201360 -1.514076  1.246131 -0.295475\n",
       "N     0.294256  3.329894 -1.439012 -0.194668 -1.367692  0.027704\n",
       "D     0.909784  4.828819 -3.625491 -0.496544 -2.056743  0.523830\n",
       "C     2.930791 -0.858116 -1.615959 -1.310821  1.422037  3.616872\n",
       "Q    -1.350308  2.179967 -0.027269 -0.443281 -0.771567  0.263838\n",
       "E    -0.588694  4.226095 -0.864940  0.018303 -1.580783  0.205055\n",
       "G     6.981546  2.748276  3.116508  4.908367  1.310309  0.150355\n",
       "H    -2.793009  1.947561 -1.827371  0.041710  1.684318 -1.096509\n",
       "I     1.192917 -4.826131  1.179024 -1.542548 -1.880189 -1.295438\n",
       "L     0.479755 -4.030996  2.020204 -0.019367 -1.767653 -0.270023\n",
       "K    -3.451484  2.371466  4.691471 -1.041212  0.484335 -0.043244\n",
       "M    -0.902634 -3.297491  1.749773 -0.687743 -0.518337  3.096691\n",
       "F    -3.142552 -4.077997 -1.128807  1.819689  0.404011  1.143868\n",
       "P     1.740807 -1.866683 -1.947415 -2.063199  5.233604 -1.208990\n",
       "S     3.588463  1.658948 -1.404024 -0.564031  0.125613 -0.374645\n",
       "T     2.733750 -0.009718 -1.077576 -1.779748 -1.074884 -1.486672\n",
       "W    -6.382314 -2.917983 -2.105649  2.891447 -0.295466 -1.694865\n",
       "Y    -4.680433 -1.413132 -1.778430  2.052108  0.272185  0.726476\n",
       "V     3.136091 -3.714177  0.930638 -1.203506 -1.011561 -0.979016"
      ]
     },
     "execution_count": 99,
     "metadata": {},
     "output_type": "execute_result"
    }
   ],
   "source": [
    "# make a feature key df in the same format as previous\n",
    "# append the 1 letter AA codes as the all_features df index labels\n",
    "df = pd.read_csv(\"descriptors/template.csv\", skiprows=2, index_col=1)\n",
    "df = df.drop(\"AA_3\", axis=1)\n",
    "\n",
    "# add pcs as rows to df\n",
    "for idx, pc in enumerate(pca_fit.T):\n",
    "    df[idx] = pc\n",
    "df"
   ]
  },
  {
   "cell_type": "code",
   "execution_count": 100,
   "metadata": {},
   "outputs": [],
   "source": [
    "X_train_fa = feature_array_from_seqs(X_train[:,0], df)"
   ]
  },
  {
   "cell_type": "code",
   "execution_count": 101,
   "metadata": {},
   "outputs": [],
   "source": [
    "X_test_fa = feature_array_from_seqs(X_test[:,0], df)"
   ]
  },
  {
   "cell_type": "code",
   "execution_count": 102,
   "metadata": {},
   "outputs": [
    {
     "name": "stderr",
     "output_type": "stream",
     "text": [
      "/ihome/lchong/dty7/Apps/anaconda3/envs/ml/lib/python3.8/site-packages/sklearn/linear_model/_logistic.py:444: ConvergenceWarning: lbfgs failed to converge (status=1):\n",
      "STOP: TOTAL NO. of ITERATIONS REACHED LIMIT.\n",
      "\n",
      "Increase the number of iterations (max_iter) or scale the data as shown in:\n",
      "    https://scikit-learn.org/stable/modules/preprocessing.html\n",
      "Please also refer to the documentation for alternative solver options:\n",
      "    https://scikit-learn.org/stable/modules/linear_model.html#logistic-regression\n",
      "  n_iter_i = _check_optimize_result(\n"
     ]
    }
   ],
   "source": [
    "worker(linear_model.LogisticRegression(), save_to=\"LogisticRegression_pca.csv\")"
   ]
  },
  {
   "cell_type": "markdown",
   "metadata": {},
   "source": [
    "Overall, I got the best score from using just the physical descriptors. Maybe I can find a good combination from random educated guessing."
   ]
  },
  {
   "cell_type": "code",
   "execution_count": null,
   "metadata": {},
   "outputs": [],
   "source": []
  },
  {
   "cell_type": "code",
   "execution_count": null,
   "metadata": {},
   "outputs": [],
   "source": []
  },
  {
   "cell_type": "code",
   "execution_count": null,
   "metadata": {},
   "outputs": [],
   "source": []
  },
  {
   "cell_type": "code",
   "execution_count": null,
   "metadata": {},
   "outputs": [],
   "source": []
  },
  {
   "cell_type": "code",
   "execution_count": null,
   "metadata": {},
   "outputs": [],
   "source": []
  },
  {
   "cell_type": "markdown",
   "metadata": {},
   "source": [
    "### Now I will try some other classification models:"
   ]
  },
  {
   "cell_type": "markdown",
   "metadata": {},
   "source": [
    "Starting with SVMs and decision trees since we went over these in class."
   ]
  },
  {
   "cell_type": "markdown",
   "metadata": {},
   "source": [
    "I will start with a simple linear SVM."
   ]
  },
  {
   "cell_type": "code",
   "execution_count": null,
   "metadata": {},
   "outputs": [],
   "source": []
  },
  {
   "cell_type": "code",
   "execution_count": null,
   "metadata": {},
   "outputs": [],
   "source": []
  },
  {
   "cell_type": "code",
   "execution_count": null,
   "metadata": {},
   "outputs": [],
   "source": []
  },
  {
   "cell_type": "markdown",
   "metadata": {},
   "source": [
    "Now I will try using the RBF kernel and CV to find the best C and $\\gamma$ parameters."
   ]
  },
  {
   "cell_type": "code",
   "execution_count": null,
   "metadata": {},
   "outputs": [],
   "source": []
  },
  {
   "cell_type": "code",
   "execution_count": null,
   "metadata": {},
   "outputs": [],
   "source": []
  },
  {
   "cell_type": "code",
   "execution_count": null,
   "metadata": {},
   "outputs": [],
   "source": []
  },
  {
   "cell_type": "markdown",
   "metadata": {},
   "source": [
    "Next, how do decision trees fair for this classification problem?"
   ]
  },
  {
   "cell_type": "code",
   "execution_count": null,
   "metadata": {},
   "outputs": [],
   "source": []
  }
 ],
 "metadata": {
  "kernelspec": {
   "display_name": "ml",
   "language": "python",
   "name": "ml"
  },
  "language_info": {
   "codemirror_mode": {
    "name": "ipython",
    "version": 3
   },
   "file_extension": ".py",
   "mimetype": "text/x-python",
   "name": "python",
   "nbconvert_exporter": "python",
   "pygments_lexer": "ipython3",
   "version": "3.8.13"
  }
 },
 "nbformat": 4,
 "nbformat_minor": 4
}
