{
 "cells": [
  {
   "cell_type": "markdown",
   "metadata": {},
   "source": [
    "## HW4 Classification of Green Fluorescent Protein\n",
    "### Darian Yang\n",
    "\n",
    "You can start with basic models, and then try your best to optimize your predictions by using more sophisticated models, feature engineering, and fine-tuning the hyperparameters. The grade of this homework will be based on the score you get on Kaggle. \n",
    "\n",
    "There is no specific requirement for a written summary for this homework, but please leave some necessary notes/comments in your submission to help the grader understand your workflow.\n",
    "\n",
    "In this work you will predict the brightness level binarized for classification between high brightness (class 1) and low brightness (class 0) for a set of mutants of Green Fluorescent Protein\n",
    "\n",
    "Please explore descriptors/featurisations for amino acid sequences.\n",
    "The performance will be measured using F1 score metric (sklearn.metrics.f1_score)\n",
    "\n",
    "Overfitting is prevented by using a public and private leaderboard..\n",
    "\n",
    "#### Overall:\n",
    "* Get data from Kaggle\n",
    "* Make features\n",
    "* Build classification models using only Scikit Learn!\n",
    "* Submit solution for autograding to Kaggle\n",
    "* Submit IPYNB file to canvas\n",
    "\n",
    "#### Dataset Description\n",
    "This dataset provides quantitative measurements of the brightness level binarized for classification between high brightness (class 1) and low brightness (class 0) for a set of mutants of Green Fluorescent Protein\n",
    "\n",
    "File descriptions\n",
    "* X_train_kaggle.csv - the training set: amino acid sequences Id column\n",
    "* y_train_kaggle.csv - the training set: brightness class for training with Id column\n",
    "* X_test_kaggle.csv - the test set: amino acid sequences with Id column that you should predict\n",
    "* y_sample_submission.csv - a sample submission file in the correct format\n",
    "\n",
    "To work with amino acid sequence for building a ML model you have to perform a feature engineering.\n",
    "* a good start -subfolder \"descriptors\" contains descriptors for amino acids and papers describing their construction\n",
    "\n",
    "#### Submission Format\n",
    "For every molecule in the dataset, submission files should contain two columns: Id and ACTIVE.\n",
    "\n",
    "The file should contain a header and have the following format:\n",
    "\n",
    "```\n",
    "Id,Brightness_Class\n",
    "1,1\n",
    "```"
   ]
  },
  {
   "cell_type": "code",
   "execution_count": 1,
   "metadata": {},
   "outputs": [],
   "source": [
    "import numpy as np\n",
    "import matplotlib.pyplot as plt\n",
    "import pandas as pd"
   ]
  },
  {
   "cell_type": "code",
   "execution_count": 2,
   "metadata": {},
   "outputs": [],
   "source": [
    "X_train = pd.read_csv(\"X_train_kaggle.csv\", index_col=1).to_numpy()\n",
    "y_train = pd.read_csv(\"y_train_kaggle.csv\", index_col=1).to_numpy()\n",
    "X_test = pd.read_csv(\"X_test_kaggle.csv\", index_col=1).to_numpy()"
   ]
  },
  {
   "cell_type": "code",
   "execution_count": 3,
   "metadata": {},
   "outputs": [],
   "source": [
    "TEST_ID = pd.read_csv(\"X_test_kaggle.csv\",index_col=1).index"
   ]
  },
  {
   "cell_type": "code",
   "execution_count": 4,
   "metadata": {},
   "outputs": [
    {
     "data": {
      "text/plain": [
       "Int64Index([50579, 37987, 53977, 10677, 35653, 53275, 7765, 3759, 39236,\n",
       "            48246],\n",
       "           dtype='int64', name='Id')"
      ]
     },
     "execution_count": 4,
     "metadata": {},
     "output_type": "execute_result"
    }
   ],
   "source": [
    "TEST_ID[:10]"
   ]
  },
  {
   "cell_type": "code",
   "execution_count": 5,
   "metadata": {},
   "outputs": [
    {
     "data": {
      "text/plain": [
       "(33029, 1)"
      ]
     },
     "execution_count": 5,
     "metadata": {},
     "output_type": "execute_result"
    }
   ],
   "source": [
    "X_train.shape"
   ]
  },
  {
   "cell_type": "code",
   "execution_count": 6,
   "metadata": {},
   "outputs": [
    {
     "data": {
      "text/plain": [
       "array(['SKGEELFTGVVPILVELDGDVNGHKFSVSGEGEGDATYGKLTLKFICTTGKLPVPWPTLVTTLSYGVQCFSRYPDHMKQHDFFKSAMPEGYAQERTIFFKDDGNYKTRAEVKFEGDTLVNRIELKGIDFKEDGNILGHKLEYNYNSHNVYNMADKQKNGIKVNFKIRHNTEDGSVQLADHYQQNTPIGDGPVLLPDNHYLSTPSALSKDPNEERDHMVLLEFVTAAGITHGMDELYK'],\n",
       "      dtype=object)"
      ]
     },
     "execution_count": 6,
     "metadata": {},
     "output_type": "execute_result"
    }
   ],
   "source": [
    "X_train[1]"
   ]
  },
  {
   "cell_type": "code",
   "execution_count": 7,
   "metadata": {},
   "outputs": [
    {
     "data": {
      "text/plain": [
       "array([[0],\n",
       "       [0],\n",
       "       [0],\n",
       "       ...,\n",
       "       [0],\n",
       "       [1],\n",
       "       [1]])"
      ]
     },
     "execution_count": 7,
     "metadata": {},
     "output_type": "execute_result"
    }
   ],
   "source": [
    "y_train"
   ]
  },
  {
   "cell_type": "markdown",
   "metadata": {},
   "source": [
    "#### First get rid of the 225 aa length sequences, only keeping lengths of 237."
   ]
  },
  {
   "cell_type": "code",
   "execution_count": 8,
   "metadata": {},
   "outputs": [
    {
     "data": {
      "text/plain": [
       "33029"
      ]
     },
     "execution_count": 8,
     "metadata": {},
     "output_type": "execute_result"
    }
   ],
   "source": [
    "to_filter = []\n",
    "for seq in X_train[:,0]:\n",
    "    if len(seq) < 237:\n",
    "        to_filter.append(False)\n",
    "    else:\n",
    "        to_filter.append(True)\n",
    "\n",
    "len(to_filter)"
   ]
  },
  {
   "cell_type": "code",
   "execution_count": 9,
   "metadata": {},
   "outputs": [],
   "source": [
    "X_train = X_train[to_filter]\n",
    "y_train = y_train[to_filter]"
   ]
  },
  {
   "cell_type": "code",
   "execution_count": 10,
   "metadata": {},
   "outputs": [
    {
     "data": {
      "text/plain": [
       "(31029, 1)"
      ]
     },
     "execution_count": 10,
     "metadata": {},
     "output_type": "execute_result"
    }
   ],
   "source": [
    "X_train.shape"
   ]
  },
  {
   "cell_type": "markdown",
   "metadata": {},
   "source": [
    "#### Perhaps doing something like MSA and only looking at the non-conserved region to reduce dimensions could be helpful?"
   ]
  },
  {
   "cell_type": "code",
   "execution_count": 25,
   "metadata": {},
   "outputs": [
    {
     "data": {
      "text/plain": [
       "31029"
      ]
     },
     "execution_count": 25,
     "metadata": {},
     "output_type": "execute_result"
    }
   ],
   "source": [
    "# I want to find the most commonly substituted GFP sequence positions\n",
    "common = []\n",
    "\n",
    "# I can't go through all of the sequences for times sake, so every 300 for now\n",
    "#for seq1 in X_train[::300,0]:\n",
    "#    for seq2 in X_train[:,0]:\n",
    "#        common.append([i for i in range(len(X_train[1,0])) if seq1[i] != seq2[i]])\n",
    "\n",
    "# could just compare to WT (note, no methionine since all have to start with it)\n",
    "wt = \"SKGEELFTGVVPILVELDGDVNGHKFSVSGEGEGDATYGKLTLKFICTTGKLPVPWPTLVTTLSYGVQCFSRYPDHMKQHDFFKSAMPEGYVQERTIFFKDDGNYKTRAEVKFEGDTLVNRIELKGIDFKEDGNILGHKLEYNYNSHNVYIMADKQKNGIKVNFKIRHNIEDGSVQLADHYQQNTPIGDGPVLLPDNHYLSTQSALSKDPNEKRDHMVLLEFVTAAGITHGMDELYK\"\n",
    "for seq in X_train[:,0]:\n",
    "    common.append([i for i in range(len(wt)) if wt[i] != seq[i]])\n",
    "    \n",
    "len(common)"
   ]
  },
  {
   "cell_type": "code",
   "execution_count": 26,
   "metadata": {},
   "outputs": [
    {
     "data": {
      "text/plain": [
       "[[46, 76, 112],\n",
       " [91, 150, 169, 202, 212],\n",
       " [46, 69, 81, 91, 98, 105, 111, 116, 174, 196],\n",
       " [112, 126],\n",
       " [24, 39, 199, 202],\n",
       " [82, 148, 162, 188],\n",
       " [27, 70, 95, 104, 121, 140, 142, 183, 219],\n",
       " [226],\n",
       " [145, 156, 228],\n",
       " [6, 88, 146, 160, 234]]"
      ]
     },
     "execution_count": 26,
     "metadata": {},
     "output_type": "execute_result"
    }
   ],
   "source": [
    "common[:10]"
   ]
  },
  {
   "cell_type": "code",
   "execution_count": 27,
   "metadata": {},
   "outputs": [],
   "source": [
    "common_flat = [item for sublist in common for item in sublist]"
   ]
  },
  {
   "cell_type": "code",
   "execution_count": 28,
   "metadata": {},
   "outputs": [
    {
     "data": {
      "text/plain": [
       "120166"
      ]
     },
     "execution_count": 28,
     "metadata": {},
     "output_type": "execute_result"
    }
   ],
   "source": [
    "len(common_flat)"
   ]
  },
  {
   "cell_type": "code",
   "execution_count": 29,
   "metadata": {},
   "outputs": [
    {
     "data": {
      "text/plain": [
       "[46, 76, 112, 91, 150, 169, 202, 212, 46, 69]"
      ]
     },
     "execution_count": 29,
     "metadata": {},
     "output_type": "execute_result"
    }
   ],
   "source": [
    "common_flat[:10]"
   ]
  },
  {
   "cell_type": "code",
   "execution_count": 30,
   "metadata": {},
   "outputs": [
    {
     "data": {
      "text/plain": [
       "162"
      ]
     },
     "execution_count": 30,
     "metadata": {},
     "output_type": "execute_result"
    }
   ],
   "source": [
    "# find the mode of the list\n",
    "max(set(common_flat), key=common_flat.count)"
   ]
  },
  {
   "cell_type": "code",
   "execution_count": 31,
   "metadata": {},
   "outputs": [
    {
     "data": {
      "text/plain": [
       "'N'"
      ]
     },
     "execution_count": 31,
     "metadata": {},
     "output_type": "execute_result"
    }
   ],
   "source": [
    "wt[162]"
   ]
  },
  {
   "cell_type": "code",
   "execution_count": 32,
   "metadata": {},
   "outputs": [
    {
     "data": {
      "text/plain": [
       "'N'"
      ]
     },
     "execution_count": 32,
     "metadata": {},
     "output_type": "execute_result"
    }
   ],
   "source": [
    "X_train[0,0][162]"
   ]
  },
  {
   "cell_type": "code",
   "execution_count": 33,
   "metadata": {},
   "outputs": [
    {
     "name": "stdout",
     "output_type": "stream",
     "text": [
      "['N']\n",
      "['N']\n",
      "['N']\n",
      "['N']\n",
      "['N']\n",
      "['Y']\n",
      "['N']\n",
      "['N']\n",
      "['N']\n",
      "['N']\n"
     ]
    }
   ],
   "source": [
    "for seq in X_train[:10,0]:\n",
    "    seq_str = str(seq)\n",
    "    positions = [162]\n",
    "    filt_str = [seq_str[i] for i in positions]\n",
    "    print(filt_str)"
   ]
  },
  {
   "cell_type": "code",
   "execution_count": 34,
   "metadata": {},
   "outputs": [],
   "source": [
    "hist, edges = np.histogram(common_flat, bins=237)\n",
    "midpoints = (edges[:-1] + edges[1:]) / 2"
   ]
  },
  {
   "cell_type": "code",
   "execution_count": 35,
   "metadata": {},
   "outputs": [
    {
     "data": {
      "text/plain": [
       "array([ 751,  111,  599,  466,  485,  998,  580,  122,  462,  427,   97,\n",
       "        621,  414,  354,  500,  389,  553,  102,  473,  276,  900,  118,\n",
       "        596,  763,  664,  586,  464,  470,   93,  498,   73,  543,   79,\n",
       "        618,   79,  604,  560,  110,  745,  355,  520,  302,  753,  915,\n",
       "        883,  473,  534,  434,   93,  859,  326,  105,  407,   70,  364,\n",
       "        108,  444,  362,  445,  691,  411,  415,  423,  392,  118,  723,\n",
       "        370,  371,  864,  591,  216,  428,  138,  514,  466,  751,  930,\n",
       "        576,    0,  507,  355,  679,  903,  533,  358,  140,  782,  145,\n",
       "        623,   78,  406,  536,  314,  440,  161,  579,  702, 1048,  822,\n",
       "        829,  515,  413,  105,  890,  421,  937,  470,  179,  110,  425,\n",
       "        435, 1029,  697,  435,   92,  596,  591,    0,    0, 1079,  170,\n",
       "        778,  473,  291,  806,   86, 1022,  521,  896,  785,  498,  568,\n",
       "        152,  872,  767,  400,  142,  555,  801,  315,  553,  531, 1012,\n",
       "        596,  937,  576,  480,  947,  558,  597,  533, 1041,  143,  481,\n",
       "        927,  614, 1006,    0, 1030,  164,  913,  738,  657, 1256,  979,\n",
       "        944,  884,  198,  520,  963, 1013,  619,  538,  158,  628,  714,\n",
       "        533,  550,  115,  491,  360,  516,  340,  531,  883,  558,  132,\n",
       "        715,  120,  620,  156,  129,  530,  487,  527,   96,  565, 1027,\n",
       "        324,  501,  369,  579,  498,  455,  399,  149,  320,  566,  849,\n",
       "        327,  148,  802,  315, 1000,  155,  585,  350,  743,  440,  338,\n",
       "        400,  387,  905,  499,  596,  141,  173,  188, 1089,  486,  569,\n",
       "        175, 1043,  621,  536,  464,  513])"
      ]
     },
     "execution_count": 35,
     "metadata": {},
     "output_type": "execute_result"
    }
   ],
   "source": [
    "hist"
   ]
  },
  {
   "cell_type": "code",
   "execution_count": 36,
   "metadata": {},
   "outputs": [
    {
     "data": {
      "text/plain": [
       "<BarContainer object of 237 artists>"
      ]
     },
     "execution_count": 36,
     "metadata": {},
     "output_type": "execute_result"
    },
    {
     "data": {
      "image/png": "[encoded data removed]",
      "text/plain": [
       "<Figure size 640x480 with 1 Axes>"
      ]
     },
     "metadata": {},
     "output_type": "display_data"
    }
   ],
   "source": [
    "plt.bar(midpoints, hist)"
   ]
  },
  {
   "cell_type": "code",
   "execution_count": 37,
   "metadata": {},
   "outputs": [],
   "source": [
    "freq_res = [i for i, bin_count in enumerate(hist) if bin_count > 1000]"
   ]
  },
  {
   "cell_type": "code",
   "execution_count": 38,
   "metadata": {},
   "outputs": [
    {
     "data": {
      "text/plain": [
       "array([ 97, 111, 119, 126, 142, 151, 156, 158, 163, 170, 197, 228, 232])"
      ]
     },
     "execution_count": 38,
     "metadata": {},
     "output_type": "execute_result"
    }
   ],
   "source": [
    "# frequently mutated residue positions\n",
    "np.array(freq_res)"
   ]
  },
  {
   "cell_type": "markdown",
   "metadata": {},
   "source": [
    "Overall the mutations seem to be pretty evenly dispersed, but there are certainly top contenders. I may filter the sequence space based on these findings. I did end up trying this but the results were not very predictive, so sticking with the entire sequence."
   ]
  },
  {
   "cell_type": "markdown",
   "metadata": {},
   "source": [
    "### Okay, time to build in some features using the descriptors. \n",
    "Let's start with just one file, I'll go with physical.csv.\n",
    "\n",
    "My goal here is to build a large 2d array where each row is a GFP sequence and the number of columns will be of size 237 (aa) by n features. At first I thought it would be good to keep the columns to 237 to match the residues and add features depth-wise, but now I think it's best to make a big 2d array."
   ]
  },
  {
   "cell_type": "markdown",
   "metadata": {},
   "source": [
    "To look at one or multiple descriptors:"
   ]
  },
  {
   "cell_type": "code",
   "execution_count": 11,
   "metadata": {},
   "outputs": [],
   "source": [
    "def process_features(feature_names):\n",
    "    \"\"\"\n",
    "    Input list of feature names.\n",
    "    Output a df with single aa code as index and cols as features.\n",
    "    \"\"\"\n",
    "    # append the 1 letter AA codes as the all_features df index labels\n",
    "    df = pd.read_csv(\"descriptors/template.csv\", skiprows=2, index_col=1)\n",
    "    df = df.drop(\"AA_3\", axis=1)\n",
    "    \n",
    "    # go through each feature requested\n",
    "    for feat in feature_names:\n",
    "        features = pd.read_csv(f\"descriptors/{feat}.csv\", skiprows=2, index_col=1)\n",
    "        features = features.drop(\"AA_3\", axis=1)\n",
    "        \n",
    "        # add features as rows to all_features df\n",
    "        for idx, colname in enumerate(features.columns):\n",
    "            df[colname] = features.iloc[:,idx]\n",
    "    \n",
    "    return df"
   ]
  },
  {
   "cell_type": "code",
   "execution_count": 12,
   "metadata": {},
   "outputs": [],
   "source": [
    "f = process_features([\"Physical\", \"Z-scale\"])"
   ]
  },
  {
   "cell_type": "markdown",
   "metadata": {},
   "source": [
    "This works for multiple descriptors now. Next I will try all of them and then do some feature selection to prune the list."
   ]
  },
  {
   "cell_type": "code",
   "execution_count": 13,
   "metadata": {},
   "outputs": [],
   "source": [
    "#from tqdm.auto import tqdm\n",
    "#from tqdm.notebook import tqdm\n",
    "\n",
    "def feature_array_from_seqs(sequences, features, filter_res=None):\n",
    "    \"\"\"\n",
    "    Take a 1d GFP sequences array and features (df) and return features \n",
    "    for each amino acid in the input sequence.\n",
    "    \n",
    "    Parameters\n",
    "    ----------\n",
    "    filter_res : None or list of int(s)\n",
    "        Residue number(s) to filter. None by default.\n",
    "    \"\"\"\n",
    "    if filter_res:\n",
    "        # new array with each row as updated/reduced sequence\n",
    "        filter_seq = []\n",
    "        for seq in sequences:\n",
    "            seq_str = str(seq)\n",
    "            positions = filter_res\n",
    "            filt_str = [seq_str[i] for i in positions]\n",
    "            filter_seq.append(\"\".join(filt_str))\n",
    "        sequences = np.array(filter_seq)\n",
    "    \n",
    "    n_features = np.shape(features)[1]\n",
    "    # make final feature array: sequence = 237 and features are 20 aa by n features\n",
    "    feature_array = np.zeros((len(sequences), len(sequences[0]) * n_features))\n",
    "\n",
    "    # loop through sequences\n",
    "    for i, seq in enumerate(sequences):\n",
    "        # loop through each residue in the sequence\n",
    "        for j, aa in enumerate(seq):\n",
    "            # add the feature float values to array at appropriate indicies\n",
    "            feature_array[i, j+j : j+j+n_features] = features.loc[aa].to_numpy()\n",
    "    \n",
    "    return feature_array"
   ]
  },
  {
   "cell_type": "code",
   "execution_count": 42,
   "metadata": {},
   "outputs": [
    {
     "data": {
      "text/plain": [
       "(1000, 65)"
      ]
     },
     "execution_count": 42,
     "metadata": {},
     "output_type": "execute_result"
    }
   ],
   "source": [
    "# test\n",
    "fa = feature_array_from_seqs(X_train[:1000,0], f, filter_res=freq_res)\n",
    "fa.shape"
   ]
  },
  {
   "cell_type": "markdown",
   "metadata": {},
   "source": [
    "Building the feature array works. Now to do this for every sequence."
   ]
  },
  {
   "cell_type": "code",
   "execution_count": null,
   "metadata": {},
   "outputs": [],
   "source": [
    "X_train_fa = feature_array_from_seqs(X_train[:,0], process_feature(\"Physical\"))"
   ]
  },
  {
   "cell_type": "code",
   "execution_count": null,
   "metadata": {},
   "outputs": [],
   "source": [
    "X_train_fa[:5]"
   ]
  },
  {
   "cell_type": "code",
   "execution_count": null,
   "metadata": {},
   "outputs": [],
   "source": [
    "X_test_fa = feature_array_from_seqs(X_test[:,0], process_feature(\"Physical\"))"
   ]
  },
  {
   "cell_type": "code",
   "execution_count": null,
   "metadata": {},
   "outputs": [],
   "source": [
    "X_test_fa.shape"
   ]
  },
  {
   "cell_type": "markdown",
   "metadata": {},
   "source": [
    "Okay, so now maybe I can build a model using this set of features for each sequence. Note that this took a while to build."
   ]
  },
  {
   "cell_type": "code",
   "execution_count": 14,
   "metadata": {},
   "outputs": [
    {
     "name": "stderr",
     "output_type": "stream",
     "text": [
      "/ihome/lchong/dty7/Apps/anaconda3/envs/ml/lib/python3.8/site-packages/scipy/__init__.py:146: UserWarning: A NumPy version >=1.16.5 and <1.23.0 is required for this version of SciPy (detected version 1.23.1\n",
      "  warnings.warn(f\"A NumPy version >={np_minversion} and <{np_maxversion}\"\n"
     ]
    }
   ],
   "source": [
    "from sklearn import linear_model\n",
    "from sklearn.preprocessing import StandardScaler\n",
    "from sklearn import model_selection\n",
    "from sklearn import tree\n",
    "from sklearn.ensemble import RandomForestClassifier"
   ]
  },
  {
   "cell_type": "code",
   "execution_count": 15,
   "metadata": {},
   "outputs": [],
   "source": [
    "def worker(model, save_to=None, linear=False,\n",
    "           X_train=X_train, y_train=y_train[:,0], X_test=X_test):\n",
    "    \n",
    "    model = model.fit(X_train, y_train)\n",
    "    y_test = model.predict(X_test)\n",
    "\n",
    "    if save_to:\n",
    "        # for linear regression and etc., predicted values are not binary\n",
    "        if linear:\n",
    "            ret = {\"Id\":TEST_ID, \"Brightness_Class\":(y_test>0.5).astype(int)}\n",
    "        else:\n",
    "            ret = {\"Id\":TEST_ID, \"Brightness_Class\":y_test}\n",
    "        ret = pd.DataFrame(data=ret)\n",
    "        ret.set_index(\"Id\")\n",
    "        ret.to_csv(save_to, index=False)\n",
    "    \n",
    "    return y_test"
   ]
  },
  {
   "cell_type": "code",
   "execution_count": 27,
   "metadata": {},
   "outputs": [],
   "source": [
    "X_train_fa = feature_array_from_seqs(X_train[:,0], process_features([\"MS-WHIM\"]))"
   ]
  },
  {
   "cell_type": "code",
   "execution_count": 28,
   "metadata": {},
   "outputs": [],
   "source": [
    "X_test_fa = feature_array_from_seqs(X_test[:,0], process_features([\"MS-WHIM\"]))"
   ]
  },
  {
   "cell_type": "markdown",
   "metadata": {},
   "source": [
    "Currently bottlenecked by this feature array generation step, how can it be sped up? I could run in parallel?"
   ]
  },
  {
   "cell_type": "code",
   "execution_count": 29,
   "metadata": {},
   "outputs": [],
   "source": [
    "# first scale\n",
    "scaler = StandardScaler()\n",
    "scaler.fit(X_train_fa)\n",
    "X_train_fa_scaled = scaler.transform(X_train_fa)\n",
    "X_test_fa_scaled = scaler.transform(X_test_fa)"
   ]
  },
  {
   "cell_type": "markdown",
   "metadata": {},
   "source": [
    "Testing some basic models:"
   ]
  },
  {
   "cell_type": "code",
   "execution_count": null,
   "metadata": {},
   "outputs": [],
   "source": [
    "worker(linear_model.LinearRegression(), save_to=\"LinearRegression.csv\", linear=True, X_train=X_train_fa_scaled, X_test=X_test_fa_scaled)"
   ]
  },
  {
   "cell_type": "code",
   "execution_count": null,
   "metadata": {},
   "outputs": [],
   "source": [
    "worker(linear_model.LogisticRegression(max_iter=1000), save_to=\"LogisticRegression.csv\", X_train=X_train_fa_scaled, X_test=X_test_fa_scaled)"
   ]
  },
  {
   "cell_type": "code",
   "execution_count": null,
   "metadata": {},
   "outputs": [],
   "source": [
    "worker(linear_model.RidgeClassifier(), save_to=\"RidgeRegression.csv\", X_train=X_train_fa_scaled, X_test=X_test_fa_scaled)"
   ]
  },
  {
   "cell_type": "markdown",
   "metadata": {},
   "source": [
    "My scores were not too good (<baseline), logistic performed the best (slightly). However; this was expected as I am using simple models with only 2 features."
   ]
  },
  {
   "cell_type": "markdown",
   "metadata": {},
   "source": [
    "What about a more complex model?"
   ]
  },
  {
   "cell_type": "code",
   "execution_count": 30,
   "metadata": {},
   "outputs": [
    {
     "data": {
      "text/plain": [
       "array([1, 1, 0, ..., 1, 0, 0])"
      ]
     },
     "execution_count": 30,
     "metadata": {},
     "output_type": "execute_result"
    }
   ],
   "source": [
    "worker(RandomForestClassifier(max_depth=None), save_to=\"rf.csv\", X_train=X_train_fa_scaled, X_test=X_test_fa_scaled)"
   ]
  },
  {
   "cell_type": "markdown",
   "metadata": {},
   "source": [
    "This does work better."
   ]
  },
  {
   "cell_type": "markdown",
   "metadata": {},
   "source": [
    "#### I will try splitting the training set and using other descriptors. Scoring myself to optimize."
   ]
  },
  {
   "cell_type": "code",
   "execution_count": 16,
   "metadata": {},
   "outputs": [],
   "source": [
    "from sklearn.metrics import f1_score \n",
    "\n",
    "def calc_score(model, X_train, y_train, X_test, y_test):\n",
    "    \"\"\"\n",
    "    Find the f1_score using an sklearn model.\n",
    "    \"\"\"\n",
    "    model = model.fit(X_train, y_train)\n",
    "    y_pred = model.predict(X_test)\n",
    "    f1 = f1_score(y_test, y_pred)\n",
    "    # RF\n",
    "    if hasattr(model, \"oob_score_\"):\n",
    "        #print(f\"OOB: {model.oob_score_}\")\n",
    "        return model.oob_score_, f1\n",
    "    else:\n",
    "        return f1"
   ]
  },
  {
   "cell_type": "code",
   "execution_count": 17,
   "metadata": {},
   "outputs": [],
   "source": [
    "def test_descriptors(features, cutoff=5000):\n",
    "    \"\"\"\n",
    "    Get f1 and with RF (oob score) for descriptor(s).\n",
    "    \"\"\"\n",
    "    # only some of the full sequence samples\n",
    "    X_train_fa = feature_array_from_seqs(X_train[:cutoff,0], process_features(features))\n",
    "    # using only a fraction of the GFP sequence \n",
    "    #X_train_fa = feature_array_from_seqs(X_train[:cutoff,0], process_features(features), filter_res=freq_res)\n",
    "\n",
    "    # scale\n",
    "    scaler = StandardScaler()\n",
    "    scaler.fit(X_train_fa)\n",
    "    X_train_fa_scaled = scaler.transform(X_train_fa)\n",
    "\n",
    "    f1 = 0\n",
    "    oob = 0\n",
    "    for trial in range(10):\n",
    "        # split training/test\n",
    "        X_train_b, X_test_b, y_train_b, y_test_b = \\\n",
    "            model_selection.train_test_split(X_train_fa_scaled, y_train[:cutoff,0], test_size=0.6)\n",
    "        # run RF and calc scoring\n",
    "        oobn, f1n = calc_score(RandomForestClassifier(max_depth=None, oob_score=True), \\\n",
    "                               X_train_b, y_train_b, X_test_b, y_test_b)\n",
    "        # find best metrics out of 10 trials\n",
    "        if f1n > f1:\n",
    "            f1 = f1n\n",
    "            oob = oobn\n",
    "    return oob, f1"
   ]
  },
  {
   "cell_type": "code",
   "execution_count": 26,
   "metadata": {},
   "outputs": [
    {
     "name": "stdout",
     "output_type": "stream",
     "text": [
      "['MS-WHIM', 'Z-scale']\n",
      "OOB: 0.798 | f1: 0.8035426731078905\n"
     ]
    }
   ],
   "source": [
    "features = [\"MS-WHIM\", \"Z-scale\"]\n",
    "print(features)\n",
    "oob, f1 = test_descriptors(features)\n",
    "print(f\"OOB: {oob} | f1: {f1}\")"
   ]
  },
  {
   "cell_type": "markdown",
   "metadata": {},
   "source": [
    "#### Recording best performances:\n",
    "* Using entire sequence (takes too much time):\n",
    "    * Z-scale alone: RF 0.796 \n",
    "    * Z-scale and Physical: RF 0.797\n",
    "* Using only 5000 samples:\n",
    "```\n",
    "['DPPS']\n",
    "OOB: 0.813 | f1: 0.7928429423459245\n",
    "['MS-WHIM']\n",
    "OOB: 0.808 | f1: 0.8095617529880479\n",
    "['Physical']\n",
    "OOB: 0.8075 | f1: 0.8045436741088916\n",
    "['ST-scale']\n",
    "OOB: 0.793 | f1: 0.7822994863690241\n",
    "['T-scale']\n",
    "OOB: 0.803 | f1: 0.7760949652067131\n",
    "['VHSE-scale']\n",
    "OOB: 0.8115 | f1: 0.792319749216301\n",
    "['Z-scale']\n",
    "OOB: 0.822 | f1: 0.7969745222929936\n",
    "['MS-WHIM', 'Physical']\n",
    "OOB: 0.8105 | f1: 0.8001592356687897\n",
    "['MS-WHIM', 'Physical', 'Z-scale']\n",
    "OOB: 0.807 | f1: 0.7948214986269125\n",
    "['MS-WHIM', 'Z-scale']\n",
    "OOB: 0.798 | f1: 0.8035426731078905\n",
    "```\n",
    "\n",
    "From these results, maybe best to just use MS-WHIM?"
   ]
  },
  {
   "cell_type": "markdown",
   "metadata": {},
   "source": [
    "Going to try optimizing ridge parameters:"
   ]
  },
  {
   "cell_type": "code",
   "execution_count": 49,
   "metadata": {},
   "outputs": [],
   "source": [
    "# only some of the full sequence samples\n",
    "X_train_fa = feature_array_from_seqs(X_train[:10000,0], process_features([\"MS-WHIM\"]))"
   ]
  },
  {
   "cell_type": "code",
   "execution_count": 51,
   "metadata": {},
   "outputs": [],
   "source": [
    "# scale\n",
    "scaler = StandardScaler()\n",
    "X_train_fa_scaled = scaler.fit_transform(X_train_fa)\n",
    "\n",
    "# split training/test\n",
    "X_train_b, X_test_b, y_train_b, y_test_b = \\\n",
    "    model_selection.train_test_split(X_train_fa_scaled, y_train[:10000,0], test_size=0.6)"
   ]
  },
  {
   "cell_type": "code",
   "execution_count": 55,
   "metadata": {},
   "outputs": [],
   "source": [
    "regr_cv = linear_model.RidgeCV(alphas=np.arange(1000, 1500, 1))"
   ]
  },
  {
   "cell_type": "code",
   "execution_count": 56,
   "metadata": {},
   "outputs": [],
   "source": [
    "model_cv = regr_cv.fit(X_train_b, y_train_b)"
   ]
  },
  {
   "cell_type": "code",
   "execution_count": 57,
   "metadata": {},
   "outputs": [
    {
     "data": {
      "text/plain": [
       "1209"
      ]
     },
     "execution_count": 57,
     "metadata": {},
     "output_type": "execute_result"
    }
   ],
   "source": [
    "model_cv.alpha_"
   ]
  },
  {
   "cell_type": "code",
   "execution_count": 59,
   "metadata": {},
   "outputs": [
    {
     "data": {
      "text/plain": [
       "0.7267169349908295"
      ]
     },
     "execution_count": 59,
     "metadata": {},
     "output_type": "execute_result"
    }
   ],
   "source": [
    "calc_score(linear_model.RidgeClassifier(alpha=model_cv.alpha_), X_train_b, y_train_b, X_test_b, y_test_b)"
   ]
  },
  {
   "cell_type": "code",
   "execution_count": 61,
   "metadata": {},
   "outputs": [
    {
     "data": {
      "text/plain": [
       "0.7289427398866524"
      ]
     },
     "execution_count": 61,
     "metadata": {},
     "output_type": "execute_result"
    }
   ],
   "source": [
    "calc_score(linear_model.RidgeClassifier(alpha=1), X_train_b, y_train_b, X_test_b, y_test_b)"
   ]
  },
  {
   "cell_type": "code",
   "execution_count": 63,
   "metadata": {},
   "outputs": [
    {
     "data": {
      "text/plain": [
       "0.7683890577507598"
      ]
     },
     "execution_count": 63,
     "metadata": {},
     "output_type": "execute_result"
    }
   ],
   "source": [
    "calc_score(linear_model.LogisticRegression(penalty=\"l1\", solver=\"liblinear\"), X_train_b, y_train_b, X_test_b, y_test_b)"
   ]
  },
  {
   "cell_type": "code",
   "execution_count": 64,
   "metadata": {},
   "outputs": [
    {
     "name": "stderr",
     "output_type": "stream",
     "text": [
      "/ihome/lchong/dty7/Apps/anaconda3/envs/ml/lib/python3.8/site-packages/sklearn/linear_model/_logistic.py:444: ConvergenceWarning: lbfgs failed to converge (status=1):\n",
      "STOP: TOTAL NO. of ITERATIONS REACHED LIMIT.\n",
      "\n",
      "Increase the number of iterations (max_iter) or scale the data as shown in:\n",
      "    https://scikit-learn.org/stable/modules/preprocessing.html\n",
      "Please also refer to the documentation for alternative solver options:\n",
      "    https://scikit-learn.org/stable/modules/linear_model.html#logistic-regression\n",
      "  n_iter_i = _check_optimize_result(\n"
     ]
    },
    {
     "data": {
      "text/plain": [
       "0.7635107679804958"
      ]
     },
     "execution_count": 64,
     "metadata": {},
     "output_type": "execute_result"
    }
   ],
   "source": [
    "calc_score(linear_model.LogisticRegression(penalty=\"l2\"), X_train_b, y_train_b, X_test_b, y_test_b)"
   ]
  },
  {
   "cell_type": "code",
   "execution_count": 65,
   "metadata": {},
   "outputs": [
    {
     "data": {
      "text/plain": [
       "(0.82625, 0.8009516256938937)"
      ]
     },
     "execution_count": 65,
     "metadata": {},
     "output_type": "execute_result"
    }
   ],
   "source": [
    "calc_score(RandomForestClassifier(max_depth=None, oob_score=True), X_train_b, y_train_b, X_test_b, y_test_b)"
   ]
  },
  {
   "cell_type": "markdown",
   "metadata": {},
   "source": [
    "What about using just a single value per amino acid?"
   ]
  },
  {
   "cell_type": "code",
   "execution_count": 25,
   "metadata": {},
   "outputs": [
    {
     "data": {
      "text/html": [
       "<div>\n",
       "<style scoped>\n",
       "    .dataframe tbody tr th:only-of-type {\n",
       "        vertical-align: middle;\n",
       "    }\n",
       "\n",
       "    .dataframe tbody tr th {\n",
       "        vertical-align: top;\n",
       "    }\n",
       "\n",
       "    .dataframe thead th {\n",
       "        text-align: right;\n",
       "    }\n",
       "</style>\n",
       "<table border=\"1\" class=\"dataframe\">\n",
       "  <thead>\n",
       "    <tr style=\"text-align: right;\">\n",
       "      <th></th>\n",
       "      <th>prod</th>\n",
       "    </tr>\n",
       "    <tr>\n",
       "      <th>AA_1</th>\n",
       "      <th></th>\n",
       "    </tr>\n",
       "  </thead>\n",
       "  <tbody>\n",
       "    <tr>\n",
       "      <th>A</th>\n",
       "      <td>2.9870</td>\n",
       "    </tr>\n",
       "    <tr>\n",
       "      <th>R</th>\n",
       "      <td>3.1571</td>\n",
       "    </tr>\n",
       "    <tr>\n",
       "      <th>N</th>\n",
       "      <td>-0.5372</td>\n",
       "    </tr>\n",
       "    <tr>\n",
       "      <th>D</th>\n",
       "      <td>-1.1316</td>\n",
       "    </tr>\n",
       "    <tr>\n",
       "      <th>C</th>\n",
       "      <td>-0.2835</td>\n",
       "    </tr>\n",
       "    <tr>\n",
       "      <th>Q</th>\n",
       "      <td>0.3924</td>\n",
       "    </tr>\n",
       "    <tr>\n",
       "      <th>E</th>\n",
       "      <td>0.2048</td>\n",
       "    </tr>\n",
       "    <tr>\n",
       "      <th>G</th>\n",
       "      <td>-0.0404</td>\n",
       "    </tr>\n",
       "    <tr>\n",
       "      <th>H</th>\n",
       "      <td>0.9545</td>\n",
       "    </tr>\n",
       "    <tr>\n",
       "      <th>I</th>\n",
       "      <td>-0.6732</td>\n",
       "    </tr>\n",
       "    <tr>\n",
       "      <th>L</th>\n",
       "      <td>-0.7280</td>\n",
       "    </tr>\n",
       "    <tr>\n",
       "      <th>K</th>\n",
       "      <td>1.1316</td>\n",
       "    </tr>\n",
       "    <tr>\n",
       "      <th>M</th>\n",
       "      <td>-1.3064</td>\n",
       "    </tr>\n",
       "    <tr>\n",
       "      <th>F</th>\n",
       "      <td>-3.2634</td>\n",
       "    </tr>\n",
       "    <tr>\n",
       "      <th>P</th>\n",
       "      <td>0.8000</td>\n",
       "    </tr>\n",
       "    <tr>\n",
       "      <th>S</th>\n",
       "      <td>-0.8968</td>\n",
       "    </tr>\n",
       "    <tr>\n",
       "      <th>T</th>\n",
       "      <td>-0.3332</td>\n",
       "    </tr>\n",
       "    <tr>\n",
       "      <th>W</th>\n",
       "      <td>-0.7704</td>\n",
       "    </tr>\n",
       "    <tr>\n",
       "      <th>Y</th>\n",
       "      <td>-0.4950</td>\n",
       "    </tr>\n",
       "    <tr>\n",
       "      <th>V</th>\n",
       "      <td>0.8255</td>\n",
       "    </tr>\n",
       "  </tbody>\n",
       "</table>\n",
       "</div>"
      ],
      "text/plain": [
       "        prod\n",
       "AA_1        \n",
       "A     2.9870\n",
       "R     3.1571\n",
       "N    -0.5372\n",
       "D    -1.1316\n",
       "C    -0.2835\n",
       "Q     0.3924\n",
       "E     0.2048\n",
       "G    -0.0404\n",
       "H     0.9545\n",
       "I    -0.6732\n",
       "L    -0.7280\n",
       "K     1.1316\n",
       "M    -1.3064\n",
       "F    -3.2634\n",
       "P     0.8000\n",
       "S    -0.8968\n",
       "T    -0.3332\n",
       "W    -0.7704\n",
       "Y    -0.4950\n",
       "V     0.8255"
      ]
     },
     "execution_count": 25,
     "metadata": {},
     "output_type": "execute_result"
    }
   ],
   "source": [
    "features = process_features([\"Physical\"])\n",
    "features[\"prod\"] = features[\"Vol\"] * features[\"Hydro\"]\n",
    "features = features.drop(\"Hydro\", axis=1)\n",
    "features = features.drop(\"Vol\", axis=1)\n",
    "features"
   ]
  },
  {
   "cell_type": "code",
   "execution_count": 26,
   "metadata": {},
   "outputs": [],
   "source": [
    "X_train_fa = feature_array_from_seqs(X_train[:,0], features)"
   ]
  },
  {
   "cell_type": "code",
   "execution_count": 27,
   "metadata": {},
   "outputs": [],
   "source": [
    "# scale\n",
    "scaler = StandardScaler()\n",
    "X_train_fa_scaled = scaler.fit_transform(X_train_fa)\n",
    "\n",
    "# split training/test\n",
    "X_train_b, X_test_b, y_train_b, y_test_b = \\\n",
    "    model_selection.train_test_split(X_train_fa_scaled, y_train[:,0], test_size=0.6)"
   ]
  },
  {
   "cell_type": "code",
   "execution_count": 28,
   "metadata": {},
   "outputs": [
    {
     "data": {
      "text/plain": [
       "(0.76730319877528, 0.7249306625577812)"
      ]
     },
     "execution_count": 28,
     "metadata": {},
     "output_type": "execute_result"
    }
   ],
   "source": [
    "calc_score(RandomForestClassifier(max_depth=None, oob_score=True), X_train_b, y_train_b, X_test_b, y_test_b)"
   ]
  },
  {
   "cell_type": "markdown",
   "metadata": {},
   "source": [
    "Overall this wasn't too effective."
   ]
  },
  {
   "cell_type": "markdown",
   "metadata": {},
   "source": [
    "## To get better peformance, I can:\n",
    "* Using more/different descriptors (features):\n",
    "    * To narrow it down, I could also to process all descriptors and reduce dimensionality by PCA.\n",
    "    * Or maybe using RF to crop the features used."
   ]
  },
  {
   "cell_type": "code",
   "execution_count": 20,
   "metadata": {},
   "outputs": [],
   "source": [
    "all_desc = process_features([\"DPPS\", \"MS-WHIM\", \"Physical\", \"ST-scale\", \"T-scale\", \"VHSE-scale\", \"Z-scale\"])"
   ]
  },
  {
   "cell_type": "markdown",
   "metadata": {},
   "source": [
    "I will try first using all of the features and try to narrow it down."
   ]
  },
  {
   "cell_type": "code",
   "execution_count": 67,
   "metadata": {},
   "outputs": [],
   "source": [
    "X_train_fa = feature_array_from_seqs(X_train[:,0], all_desc)\n",
    "X_test_fa = feature_array_from_seqs(X_test[:,0], all_desc)"
   ]
  },
  {
   "cell_type": "code",
   "execution_count": 84,
   "metadata": {},
   "outputs": [],
   "source": [
    "scaler = StandardScaler()\n",
    "X_train_fa_scaled = scaler.fit_transform(X_train_fa)\n",
    "X_test_fa_scaled = scaler.transform(X_test_fa)"
   ]
  },
  {
   "cell_type": "code",
   "execution_count": 85,
   "metadata": {},
   "outputs": [
    {
     "data": {
      "text/plain": [
       "array([1, 1, 0, ..., 1, 0, 0])"
      ]
     },
     "execution_count": 85,
     "metadata": {},
     "output_type": "execute_result"
    }
   ],
   "source": [
    "worker(linear_model.LogisticRegression(max_iter=1000), save_to=\"LogisticRegression_allf.csv\", X_train=X_train_fa_scaled, X_test=X_test_fa_scaled)"
   ]
  },
  {
   "cell_type": "code",
   "execution_count": 86,
   "metadata": {},
   "outputs": [
    {
     "data": {
      "text/plain": [
       "array([1, 1, 0, ..., 1, 0, 0])"
      ]
     },
     "execution_count": 86,
     "metadata": {},
     "output_type": "execute_result"
    }
   ],
   "source": [
    "worker(RandomForestClassifier(max_depth=None), save_to=\"rf_allf.csv\", X_train=X_train_fa_scaled, X_test=X_test_fa_scaled)"
   ]
  },
  {
   "cell_type": "markdown",
   "metadata": {},
   "source": [
    "The score got worse when using all descriptors compared to using just 'Physical'. This makes sense since I likely added poor features and unnecessarily increased dimensionality and added noise."
   ]
  },
  {
   "cell_type": "markdown",
   "metadata": {},
   "source": [
    "Feature selection based on variance:"
   ]
  },
  {
   "cell_type": "code",
   "execution_count": 77,
   "metadata": {},
   "outputs": [
    {
     "data": {
      "text/plain": [
       "(31029, 9243)"
      ]
     },
     "execution_count": 77,
     "metadata": {},
     "output_type": "execute_result"
    }
   ],
   "source": [
    "X_train_fa.shape"
   ]
  },
  {
   "cell_type": "code",
   "execution_count": 69,
   "metadata": {},
   "outputs": [],
   "source": [
    "from sklearn.feature_selection import VarianceThreshold"
   ]
  },
  {
   "cell_type": "code",
   "execution_count": 75,
   "metadata": {},
   "outputs": [],
   "source": [
    "# drop zero variance features\n",
    "sel = VarianceThreshold(threshold=0)\n",
    "X_train_fa_thresh = sel.fit_transform(X_train_fa_scaled)"
   ]
  },
  {
   "cell_type": "code",
   "execution_count": 76,
   "metadata": {},
   "outputs": [
    {
     "data": {
      "text/plain": [
       "(31029, 466)"
      ]
     },
     "execution_count": 76,
     "metadata": {},
     "output_type": "execute_result"
    }
   ],
   "source": [
    "X_train_fa_thresh.shape"
   ]
  },
  {
   "cell_type": "markdown",
   "metadata": {},
   "source": [
    "Left with only 466 features from total of 9243, not bad!"
   ]
  },
  {
   "cell_type": "code",
   "execution_count": 88,
   "metadata": {},
   "outputs": [],
   "source": [
    "# split training/test\n",
    "X_train_b, X_test_b, y_train_b, y_test_b = \\\n",
    "    model_selection.train_test_split(X_train_fa_thresh, y_train[:,0], test_size=0.6)"
   ]
  },
  {
   "cell_type": "code",
   "execution_count": 89,
   "metadata": {},
   "outputs": [
    {
     "data": {
      "text/plain": [
       "(0.8481186044637822, 0.8140879849242967)"
      ]
     },
     "execution_count": 89,
     "metadata": {},
     "output_type": "execute_result"
    }
   ],
   "source": [
    "calc_score(RandomForestClassifier(max_depth=None, oob_score=True), X_train_b, y_train_b, X_test_b, y_test_b)"
   ]
  },
  {
   "cell_type": "code",
   "execution_count": 90,
   "metadata": {},
   "outputs": [
    {
     "data": {
      "text/plain": [
       "0.8141123416672194"
      ]
     },
     "execution_count": 90,
     "metadata": {},
     "output_type": "execute_result"
    }
   ],
   "source": [
    "calc_score(linear_model.LogisticRegression(max_iter=1000), X_train_b, y_train_b, X_test_b, y_test_b)"
   ]
  },
  {
   "cell_type": "markdown",
   "metadata": {},
   "source": [
    "What about using the entire descriptor sequence array dataset?"
   ]
  },
  {
   "cell_type": "code",
   "execution_count": 91,
   "metadata": {},
   "outputs": [],
   "source": [
    "X_train_b, X_test_b, y_train_b, y_test_b = \\\n",
    "    model_selection.train_test_split(X_train_fa_scaled, y_train[:,0], test_size=0.6)"
   ]
  },
  {
   "cell_type": "code",
   "execution_count": 92,
   "metadata": {},
   "outputs": [
    {
     "data": {
      "text/plain": [
       "(0.8490049149947627, 0.8265338293713349)"
      ]
     },
     "execution_count": 92,
     "metadata": {},
     "output_type": "execute_result"
    }
   ],
   "source": [
    "calc_score(RandomForestClassifier(max_depth=None, oob_score=True), X_train_b, y_train_b, X_test_b, y_test_b)"
   ]
  },
  {
   "cell_type": "code",
   "execution_count": 93,
   "metadata": {},
   "outputs": [
    {
     "data": {
      "text/plain": [
       "0.8173253075111226"
      ]
     },
     "execution_count": 93,
     "metadata": {},
     "output_type": "execute_result"
    }
   ],
   "source": [
    "calc_score(linear_model.LogisticRegression(max_iter=1000), X_train_b, y_train_b, X_test_b, y_test_b)"
   ]
  },
  {
   "cell_type": "markdown",
   "metadata": {},
   "source": [
    "Another avenue is tree based feature selection:"
   ]
  },
  {
   "cell_type": "code",
   "execution_count": 95,
   "metadata": {},
   "outputs": [],
   "source": [
    "from sklearn.feature_selection import SelectFromModel\n",
    "from sklearn.ensemble import ExtraTreesClassifier"
   ]
  },
  {
   "cell_type": "code",
   "execution_count": 103,
   "metadata": {},
   "outputs": [
    {
     "data": {
      "text/plain": [
       "(20686, 9243)"
      ]
     },
     "execution_count": 103,
     "metadata": {},
     "output_type": "execute_result"
    }
   ],
   "source": [
    "X_test_fa_scaled.shape"
   ]
  },
  {
   "cell_type": "code",
   "execution_count": 96,
   "metadata": {},
   "outputs": [],
   "source": [
    "clf = ExtraTreesClassifier(n_estimators=50)\n",
    "clf = clf.fit(X_train_fa_scaled, y_train[:,0])\n",
    "model = SelectFromModel(clf, prefit=True)\n",
    "X_train_fa_scaled_sel = model.transform(X_train_fa_scaled)"
   ]
  },
  {
   "cell_type": "code",
   "execution_count": 104,
   "metadata": {},
   "outputs": [],
   "source": [
    "X_test_fa_scaled_sel = model.transform(X_test_fa_scaled)"
   ]
  },
  {
   "cell_type": "code",
   "execution_count": 105,
   "metadata": {},
   "outputs": [
    {
     "data": {
      "text/plain": [
       "(20686, 466)"
      ]
     },
     "execution_count": 105,
     "metadata": {},
     "output_type": "execute_result"
    }
   ],
   "source": [
    "X_test_fa_scaled_sel.shape"
   ]
  },
  {
   "cell_type": "code",
   "execution_count": 99,
   "metadata": {},
   "outputs": [],
   "source": [
    "# split training/test\n",
    "X_train_b, X_test_b, y_train_b, y_test_b = \\\n",
    "    model_selection.train_test_split(X_train_fa_scaled_sel, y_train[:,0], test_size=0.6)"
   ]
  },
  {
   "cell_type": "code",
   "execution_count": 100,
   "metadata": {},
   "outputs": [
    {
     "data": {
      "text/plain": [
       "0.8183911070183516"
      ]
     },
     "execution_count": 100,
     "metadata": {},
     "output_type": "execute_result"
    }
   ],
   "source": [
    "calc_score(linear_model.LogisticRegression(max_iter=1000), X_train_b, y_train_b, X_test_b, y_test_b)"
   ]
  },
  {
   "cell_type": "code",
   "execution_count": 101,
   "metadata": {},
   "outputs": [
    {
     "data": {
      "text/plain": [
       "(0.8422367254854565, 0.812846791566029)"
      ]
     },
     "execution_count": 101,
     "metadata": {},
     "output_type": "execute_result"
    }
   ],
   "source": [
    "calc_score(RandomForestClassifier(max_depth=None, oob_score=True), X_train_b, y_train_b, X_test_b, y_test_b)"
   ]
  },
  {
   "cell_type": "code",
   "execution_count": 106,
   "metadata": {},
   "outputs": [
    {
     "data": {
      "text/plain": [
       "array([1, 1, 0, ..., 1, 0, 0])"
      ]
     },
     "execution_count": 106,
     "metadata": {},
     "output_type": "execute_result"
    }
   ],
   "source": [
    "worker(RandomForestClassifier(max_depth=None), save_to=\"rf_allf_fsel.csv\", X_train=X_train_fa_scaled_sel, X_test=X_test_fa_scaled_sel)"
   ]
  },
  {
   "cell_type": "markdown",
   "metadata": {},
   "source": [
    "It seems like when using the reduced features vs the entire dataset, entire dataset performs better. And RF is best, this was consistent with my results from kaggle submission."
   ]
  },
  {
   "cell_type": "markdown",
   "metadata": {},
   "source": [
    "#### Let's try getting some PCs and use these for the AA descriptors."
   ]
  },
  {
   "cell_type": "code",
   "execution_count": 18,
   "metadata": {},
   "outputs": [],
   "source": [
    "from sklearn.decomposition import PCA"
   ]
  },
  {
   "cell_type": "code",
   "execution_count": 21,
   "metadata": {},
   "outputs": [],
   "source": [
    "scaler = StandardScaler()\n",
    "scaler.fit(all_desc)\n",
    "all_desc_scaled = scaler.transform(all_desc)\n",
    "desc_names = all_desc.columns"
   ]
  },
  {
   "cell_type": "code",
   "execution_count": 22,
   "metadata": {},
   "outputs": [],
   "source": [
    "df = pd.DataFrame(all_desc_scaled, columns=all_desc.columns)"
   ]
  },
  {
   "cell_type": "code",
   "execution_count": 23,
   "metadata": {},
   "outputs": [],
   "source": [
    "pca = PCA().fit(df)"
   ]
  },
  {
   "cell_type": "code",
   "execution_count": 24,
   "metadata": {},
   "outputs": [
    {
     "data": {
      "text/plain": [
       "Text(0, 0.5, 'cumulative explained variance')"
      ]
     },
     "execution_count": 24,
     "metadata": {},
     "output_type": "execute_result"
    },
    {
     "data": {
      "image/png": "[encoded data removed]",
      "text/plain": [
       "<Figure size 640x480 with 1 Axes>"
      ]
     },
     "metadata": {},
     "output_type": "display_data"
    }
   ],
   "source": [
    "plt.plot(np.cumsum(pca.explained_variance_ratio_))\n",
    "plt.xlabel('number of components')\n",
    "plt.ylabel('cumulative explained variance')"
   ]
  },
  {
   "cell_type": "code",
   "execution_count": 25,
   "metadata": {},
   "outputs": [
    {
     "data": {
      "text/plain": [
       "Text(0, 0.5, 'PC2')"
      ]
     },
     "execution_count": 25,
     "metadata": {},
     "output_type": "execute_result"
    },
    {
     "data": {
      "image/png": "[encoded data removed]",
      "text/plain": [
       "<Figure size 640x480 with 1 Axes>"
      ]
     },
     "metadata": {},
     "output_type": "display_data"
    }
   ],
   "source": [
    "plt.scatter(pca.components_[0], pca.components_[1])\n",
    "plt.xlabel(\"PC1\")\n",
    "plt.ylabel(\"PC2\")"
   ]
  },
  {
   "cell_type": "code",
   "execution_count": 26,
   "metadata": {},
   "outputs": [
    {
     "data": {
      "text/plain": [
       "array([0.32593978, 0.56898931, 0.69384992, 0.76932601, 0.83909098,\n",
       "       0.88604282, 0.92097889, 0.94553659, 0.96213473, 0.97421195,\n",
       "       0.98293472, 0.98864835, 0.99207033, 0.99507245, 0.99736711,\n",
       "       0.99860471, 0.99925431, 0.99975523, 1.        , 1.        ])"
      ]
     },
     "execution_count": 26,
     "metadata": {},
     "output_type": "execute_result"
    }
   ],
   "source": [
    "np.cumsum(pca.explained_variance_ratio_)"
   ]
  },
  {
   "cell_type": "markdown",
   "metadata": {},
   "source": [
    "So about 6 PCs can explain >85% of the total variance. Let's go with these."
   ]
  },
  {
   "cell_type": "code",
   "execution_count": 27,
   "metadata": {},
   "outputs": [],
   "source": [
    "pca = PCA(n_components=6).fit(df)"
   ]
  },
  {
   "cell_type": "code",
   "execution_count": 28,
   "metadata": {},
   "outputs": [],
   "source": [
    "pca_fit = pca.fit_transform(df)"
   ]
  },
  {
   "cell_type": "code",
   "execution_count": 29,
   "metadata": {},
   "outputs": [
    {
     "data": {
      "text/plain": [
       "array([ 5.38142709, -6.07815886,  0.29425645,  0.90978366,  2.9307907 ,\n",
       "       -1.35030822, -0.58869441,  6.98154606, -2.79300897,  1.1929171 ,\n",
       "        0.47975548, -3.45148352, -0.90263446, -3.14255241,  1.74080721,\n",
       "        3.58846288,  2.7337501 , -6.38231385, -4.68043297,  3.13609095])"
      ]
     },
     "execution_count": 29,
     "metadata": {},
     "output_type": "execute_result"
    }
   ],
   "source": [
    "pca_fit.T[0]"
   ]
  },
  {
   "cell_type": "code",
   "execution_count": 30,
   "metadata": {},
   "outputs": [
    {
     "data": {
      "text/html": [
       "<div>\n",
       "<style scoped>\n",
       "    .dataframe tbody tr th:only-of-type {\n",
       "        vertical-align: middle;\n",
       "    }\n",
       "\n",
       "    .dataframe tbody tr th {\n",
       "        vertical-align: top;\n",
       "    }\n",
       "\n",
       "    .dataframe thead th {\n",
       "        text-align: right;\n",
       "    }\n",
       "</style>\n",
       "<table border=\"1\" class=\"dataframe\">\n",
       "  <thead>\n",
       "    <tr style=\"text-align: right;\">\n",
       "      <th></th>\n",
       "      <th>0</th>\n",
       "      <th>1</th>\n",
       "      <th>2</th>\n",
       "      <th>3</th>\n",
       "      <th>4</th>\n",
       "      <th>5</th>\n",
       "    </tr>\n",
       "    <tr>\n",
       "      <th>AA_1</th>\n",
       "      <th></th>\n",
       "      <th></th>\n",
       "      <th></th>\n",
       "      <th></th>\n",
       "      <th></th>\n",
       "      <th></th>\n",
       "    </tr>\n",
       "  </thead>\n",
       "  <tbody>\n",
       "    <tr>\n",
       "      <th>A</th>\n",
       "      <td>5.381427</td>\n",
       "      <td>-0.413375</td>\n",
       "      <td>0.952966</td>\n",
       "      <td>1.129120</td>\n",
       "      <td>0.142331</td>\n",
       "      <td>-1.009810</td>\n",
       "    </tr>\n",
       "    <tr>\n",
       "      <th>R</th>\n",
       "      <td>-6.078159</td>\n",
       "      <td>4.134772</td>\n",
       "      <td>4.201360</td>\n",
       "      <td>-1.514076</td>\n",
       "      <td>1.246131</td>\n",
       "      <td>-0.295475</td>\n",
       "    </tr>\n",
       "    <tr>\n",
       "      <th>N</th>\n",
       "      <td>0.294256</td>\n",
       "      <td>3.329894</td>\n",
       "      <td>-1.439012</td>\n",
       "      <td>-0.194668</td>\n",
       "      <td>-1.367692</td>\n",
       "      <td>0.027704</td>\n",
       "    </tr>\n",
       "    <tr>\n",
       "      <th>D</th>\n",
       "      <td>0.909784</td>\n",
       "      <td>4.828819</td>\n",
       "      <td>-3.625491</td>\n",
       "      <td>-0.496544</td>\n",
       "      <td>-2.056743</td>\n",
       "      <td>0.523830</td>\n",
       "    </tr>\n",
       "    <tr>\n",
       "      <th>C</th>\n",
       "      <td>2.930791</td>\n",
       "      <td>-0.858116</td>\n",
       "      <td>-1.615959</td>\n",
       "      <td>-1.310821</td>\n",
       "      <td>1.422037</td>\n",
       "      <td>3.616872</td>\n",
       "    </tr>\n",
       "    <tr>\n",
       "      <th>Q</th>\n",
       "      <td>-1.350308</td>\n",
       "      <td>2.179967</td>\n",
       "      <td>-0.027269</td>\n",
       "      <td>-0.443281</td>\n",
       "      <td>-0.771567</td>\n",
       "      <td>0.263838</td>\n",
       "    </tr>\n",
       "    <tr>\n",
       "      <th>E</th>\n",
       "      <td>-0.588694</td>\n",
       "      <td>4.226095</td>\n",
       "      <td>-0.864940</td>\n",
       "      <td>0.018303</td>\n",
       "      <td>-1.580783</td>\n",
       "      <td>0.205055</td>\n",
       "    </tr>\n",
       "    <tr>\n",
       "      <th>G</th>\n",
       "      <td>6.981546</td>\n",
       "      <td>2.748276</td>\n",
       "      <td>3.116508</td>\n",
       "      <td>4.908367</td>\n",
       "      <td>1.310309</td>\n",
       "      <td>0.150355</td>\n",
       "    </tr>\n",
       "    <tr>\n",
       "      <th>H</th>\n",
       "      <td>-2.793009</td>\n",
       "      <td>1.947561</td>\n",
       "      <td>-1.827371</td>\n",
       "      <td>0.041710</td>\n",
       "      <td>1.684318</td>\n",
       "      <td>-1.096509</td>\n",
       "    </tr>\n",
       "    <tr>\n",
       "      <th>I</th>\n",
       "      <td>1.192917</td>\n",
       "      <td>-4.826131</td>\n",
       "      <td>1.179024</td>\n",
       "      <td>-1.542548</td>\n",
       "      <td>-1.880189</td>\n",
       "      <td>-1.295438</td>\n",
       "    </tr>\n",
       "    <tr>\n",
       "      <th>L</th>\n",
       "      <td>0.479755</td>\n",
       "      <td>-4.030996</td>\n",
       "      <td>2.020204</td>\n",
       "      <td>-0.019367</td>\n",
       "      <td>-1.767653</td>\n",
       "      <td>-0.270023</td>\n",
       "    </tr>\n",
       "    <tr>\n",
       "      <th>K</th>\n",
       "      <td>-3.451484</td>\n",
       "      <td>2.371466</td>\n",
       "      <td>4.691471</td>\n",
       "      <td>-1.041212</td>\n",
       "      <td>0.484335</td>\n",
       "      <td>-0.043244</td>\n",
       "    </tr>\n",
       "    <tr>\n",
       "      <th>M</th>\n",
       "      <td>-0.902634</td>\n",
       "      <td>-3.297491</td>\n",
       "      <td>1.749773</td>\n",
       "      <td>-0.687743</td>\n",
       "      <td>-0.518337</td>\n",
       "      <td>3.096691</td>\n",
       "    </tr>\n",
       "    <tr>\n",
       "      <th>F</th>\n",
       "      <td>-3.142552</td>\n",
       "      <td>-4.077997</td>\n",
       "      <td>-1.128807</td>\n",
       "      <td>1.819689</td>\n",
       "      <td>0.404011</td>\n",
       "      <td>1.143868</td>\n",
       "    </tr>\n",
       "    <tr>\n",
       "      <th>P</th>\n",
       "      <td>1.740807</td>\n",
       "      <td>-1.866683</td>\n",
       "      <td>-1.947415</td>\n",
       "      <td>-2.063199</td>\n",
       "      <td>5.233604</td>\n",
       "      <td>-1.208990</td>\n",
       "    </tr>\n",
       "    <tr>\n",
       "      <th>S</th>\n",
       "      <td>3.588463</td>\n",
       "      <td>1.658948</td>\n",
       "      <td>-1.404024</td>\n",
       "      <td>-0.564031</td>\n",
       "      <td>0.125613</td>\n",
       "      <td>-0.374645</td>\n",
       "    </tr>\n",
       "    <tr>\n",
       "      <th>T</th>\n",
       "      <td>2.733750</td>\n",
       "      <td>-0.009718</td>\n",
       "      <td>-1.077576</td>\n",
       "      <td>-1.779748</td>\n",
       "      <td>-1.074884</td>\n",
       "      <td>-1.486672</td>\n",
       "    </tr>\n",
       "    <tr>\n",
       "      <th>W</th>\n",
       "      <td>-6.382314</td>\n",
       "      <td>-2.917983</td>\n",
       "      <td>-2.105649</td>\n",
       "      <td>2.891447</td>\n",
       "      <td>-0.295466</td>\n",
       "      <td>-1.694865</td>\n",
       "    </tr>\n",
       "    <tr>\n",
       "      <th>Y</th>\n",
       "      <td>-4.680433</td>\n",
       "      <td>-1.413132</td>\n",
       "      <td>-1.778430</td>\n",
       "      <td>2.052108</td>\n",
       "      <td>0.272185</td>\n",
       "      <td>0.726476</td>\n",
       "    </tr>\n",
       "    <tr>\n",
       "      <th>V</th>\n",
       "      <td>3.136091</td>\n",
       "      <td>-3.714177</td>\n",
       "      <td>0.930638</td>\n",
       "      <td>-1.203506</td>\n",
       "      <td>-1.011561</td>\n",
       "      <td>-0.979016</td>\n",
       "    </tr>\n",
       "  </tbody>\n",
       "</table>\n",
       "</div>"
      ],
      "text/plain": [
       "             0         1         2         3         4         5\n",
       "AA_1                                                            \n",
       "A     5.381427 -0.413375  0.952966  1.129120  0.142331 -1.009810\n",
       "R    -6.078159  4.134772  4.201360 -1.514076  1.246131 -0.295475\n",
       "N     0.294256  3.329894 -1.439012 -0.194668 -1.367692  0.027704\n",
       "D     0.909784  4.828819 -3.625491 -0.496544 -2.056743  0.523830\n",
       "C     2.930791 -0.858116 -1.615959 -1.310821  1.422037  3.616872\n",
       "Q    -1.350308  2.179967 -0.027269 -0.443281 -0.771567  0.263838\n",
       "E    -0.588694  4.226095 -0.864940  0.018303 -1.580783  0.205055\n",
       "G     6.981546  2.748276  3.116508  4.908367  1.310309  0.150355\n",
       "H    -2.793009  1.947561 -1.827371  0.041710  1.684318 -1.096509\n",
       "I     1.192917 -4.826131  1.179024 -1.542548 -1.880189 -1.295438\n",
       "L     0.479755 -4.030996  2.020204 -0.019367 -1.767653 -0.270023\n",
       "K    -3.451484  2.371466  4.691471 -1.041212  0.484335 -0.043244\n",
       "M    -0.902634 -3.297491  1.749773 -0.687743 -0.518337  3.096691\n",
       "F    -3.142552 -4.077997 -1.128807  1.819689  0.404011  1.143868\n",
       "P     1.740807 -1.866683 -1.947415 -2.063199  5.233604 -1.208990\n",
       "S     3.588463  1.658948 -1.404024 -0.564031  0.125613 -0.374645\n",
       "T     2.733750 -0.009718 -1.077576 -1.779748 -1.074884 -1.486672\n",
       "W    -6.382314 -2.917983 -2.105649  2.891447 -0.295466 -1.694865\n",
       "Y    -4.680433 -1.413132 -1.778430  2.052108  0.272185  0.726476\n",
       "V     3.136091 -3.714177  0.930638 -1.203506 -1.011561 -0.979016"
      ]
     },
     "execution_count": 30,
     "metadata": {},
     "output_type": "execute_result"
    }
   ],
   "source": [
    "# make a feature key df in the same format as previous\n",
    "# append the 1 letter AA codes as the all_features df index labels\n",
    "df = pd.read_csv(\"descriptors/template.csv\", skiprows=2, index_col=1)\n",
    "df = df.drop(\"AA_3\", axis=1)\n",
    "\n",
    "# add pcs as rows to df\n",
    "for idx, pc in enumerate(pca_fit.T):\n",
    "    df[idx] = pc\n",
    "df"
   ]
  },
  {
   "cell_type": "code",
   "execution_count": 31,
   "metadata": {},
   "outputs": [],
   "source": [
    "X_train_pca = feature_array_from_seqs(X_train[:,0], df)"
   ]
  },
  {
   "cell_type": "code",
   "execution_count": 32,
   "metadata": {},
   "outputs": [],
   "source": [
    "X_test_pca = feature_array_from_seqs(X_test[:,0], df)"
   ]
  },
  {
   "cell_type": "code",
   "execution_count": 33,
   "metadata": {},
   "outputs": [],
   "source": [
    "# scaling\n",
    "scaler = StandardScaler()\n",
    "X_train_pca_scaled = scaler.fit_transform(X_train_pca)\n",
    "X_test_pca_scaled = scaler.transform(X_test_pca)"
   ]
  },
  {
   "cell_type": "code",
   "execution_count": 124,
   "metadata": {},
   "outputs": [],
   "source": [
    "# split training/test\n",
    "X_train_b, X_test_b, y_train_b, y_test_b = \\\n",
    "    model_selection.train_test_split(X_train_pca_scaled, y_train[:,0], test_size=0.6)"
   ]
  },
  {
   "cell_type": "code",
   "execution_count": 125,
   "metadata": {},
   "outputs": [
    {
     "data": {
      "text/plain": [
       "0.8206923890063426"
      ]
     },
     "execution_count": 125,
     "metadata": {},
     "output_type": "execute_result"
    }
   ],
   "source": [
    "calc_score(linear_model.LogisticRegression(max_iter=1000), X_train_b, y_train_b, X_test_b, y_test_b)"
   ]
  },
  {
   "cell_type": "code",
   "execution_count": 126,
   "metadata": {},
   "outputs": [
    {
     "data": {
      "text/plain": [
       "(0.85053581500282, 0.8246929541047189)"
      ]
     },
     "execution_count": 126,
     "metadata": {},
     "output_type": "execute_result"
    }
   ],
   "source": [
    "calc_score(RandomForestClassifier(max_depth=None, oob_score=True), X_train_b, y_train_b, X_test_b, y_test_b)"
   ]
  },
  {
   "cell_type": "markdown",
   "metadata": {},
   "source": [
    "PCA based descriptors score okay, about the same as using all descriptors maybe a little less."
   ]
  },
  {
   "cell_type": "code",
   "execution_count": 131,
   "metadata": {},
   "outputs": [
    {
     "data": {
      "text/plain": [
       "array([1, 1, 0, ..., 1, 0, 0])"
      ]
     },
     "execution_count": 131,
     "metadata": {},
     "output_type": "execute_result"
    }
   ],
   "source": [
    "worker(linear_model.LogisticRegression(max_iter=1000), save_to=\"LogisticRegression_pca.csv\", X_train=X_train_pca_scaled, X_test=X_test_pca_scaled)"
   ]
  },
  {
   "cell_type": "code",
   "execution_count": 130,
   "metadata": {},
   "outputs": [
    {
     "data": {
      "text/plain": [
       "array([1, 1, 0, ..., 1, 0, 0])"
      ]
     },
     "execution_count": 130,
     "metadata": {},
     "output_type": "execute_result"
    }
   ],
   "source": [
    "worker(RandomForestClassifier(max_depth=None), save_to=\"rf_pca.csv\", X_train=X_train_pca_scaled, X_test=X_test_pca_scaled)"
   ]
  },
  {
   "cell_type": "markdown",
   "metadata": {},
   "source": [
    "Let's try further reducing this dataset."
   ]
  },
  {
   "cell_type": "code",
   "execution_count": 34,
   "metadata": {},
   "outputs": [],
   "source": [
    "from sklearn.feature_selection import VarianceThreshold"
   ]
  },
  {
   "cell_type": "code",
   "execution_count": 35,
   "metadata": {},
   "outputs": [
    {
     "data": {
      "text/plain": [
       "(31029, 1422)"
      ]
     },
     "execution_count": 35,
     "metadata": {},
     "output_type": "execute_result"
    }
   ],
   "source": [
    "X_train_pca_scaled.shape"
   ]
  },
  {
   "cell_type": "code",
   "execution_count": 43,
   "metadata": {},
   "outputs": [],
   "source": [
    "# drop zero variance features\n",
    "sel = VarianceThreshold(threshold=0)\n",
    "X_train_pca_thresh = sel.fit_transform(X_train_pca_scaled)\n",
    "X_test_pca_thresh = sel.transform(X_test_pca_scaled)"
   ]
  },
  {
   "cell_type": "code",
   "execution_count": 44,
   "metadata": {},
   "outputs": [
    {
     "data": {
      "text/plain": [
       "(31029, 466)"
      ]
     },
     "execution_count": 44,
     "metadata": {},
     "output_type": "execute_result"
    }
   ],
   "source": [
    "X_train_pca_thresh.shape"
   ]
  },
  {
   "cell_type": "code",
   "execution_count": 40,
   "metadata": {},
   "outputs": [],
   "source": [
    "# split training/test\n",
    "X_train_b, X_test_b, y_train_b, y_test_b = \\\n",
    "    model_selection.train_test_split(X_train_pca_thresh, y_train[:,0], test_size=0.6)"
   ]
  },
  {
   "cell_type": "code",
   "execution_count": 41,
   "metadata": {},
   "outputs": [
    {
     "data": {
      "text/plain": [
       "(0.8467488518249939, 0.8201578470694786)"
      ]
     },
     "execution_count": 41,
     "metadata": {},
     "output_type": "execute_result"
    }
   ],
   "source": [
    "calc_score(RandomForestClassifier(max_depth=None, oob_score=True), X_train_b, y_train_b, X_test_b, y_test_b)"
   ]
  },
  {
   "cell_type": "code",
   "execution_count": 45,
   "metadata": {},
   "outputs": [
    {
     "data": {
      "text/plain": [
       "array([1, 1, 0, ..., 1, 0, 0])"
      ]
     },
     "execution_count": 45,
     "metadata": {},
     "output_type": "execute_result"
    }
   ],
   "source": [
    "worker(RandomForestClassifier(max_depth=None), save_to=\"rf_pca_thresh.csv\", X_train=X_train_pca_thresh, X_test=X_test_pca_thresh)"
   ]
  },
  {
   "cell_type": "markdown",
   "metadata": {},
   "source": [
    "Overall, I got the best score from using all descriptors. Maybe I can find a good combination from random educated guessing or by scoring each set of descriptors somehow. But using the PCA set seems to be a useful way to reduce dimensions without as much loss in predictivity as with tree or variance based feature selection."
   ]
  },
  {
   "cell_type": "markdown",
   "metadata": {},
   "source": [
    "#### Trying SVMs on the PCA based descriptors"
   ]
  },
  {
   "cell_type": "markdown",
   "metadata": {},
   "source": [
    "Splitting the training data for cross validation and for speeding up computations."
   ]
  },
  {
   "cell_type": "markdown",
   "metadata": {},
   "source": [
    "I will start with a simple linear SVM."
   ]
  },
  {
   "cell_type": "code",
   "execution_count": 46,
   "metadata": {},
   "outputs": [],
   "source": [
    "from sklearn import svm"
   ]
  },
  {
   "cell_type": "code",
   "execution_count": 66,
   "metadata": {},
   "outputs": [],
   "source": [
    "# try with small subset and split samples\n",
    "X_train_b, X_test_b, y_train_b, y_test_b = \\\n",
    "    model_selection.train_test_split(X_train_pca_thresh[:5000,:], y_train[:5000,0], test_size=0.6)"
   ]
  },
  {
   "cell_type": "code",
   "execution_count": 52,
   "metadata": {},
   "outputs": [
    {
     "name": "stderr",
     "output_type": "stream",
     "text": [
      "/ihome/lchong/dty7/Apps/anaconda3/envs/ml/lib/python3.8/site-packages/sklearn/svm/_base.py:1225: ConvergenceWarning: Liblinear failed to converge, increase the number of iterations.\n",
      "  warnings.warn(\n"
     ]
    },
    {
     "data": {
      "text/plain": [
       "0.8126577363618714"
      ]
     },
     "execution_count": 52,
     "metadata": {},
     "output_type": "execute_result"
    }
   ],
   "source": [
    "calc_score(svm.LinearSVC(max_iter=10000), X_train=X_train_b, y_train=y_train_b, X_test=X_test_b, y_test=y_test_b)"
   ]
  },
  {
   "cell_type": "code",
   "execution_count": 57,
   "metadata": {},
   "outputs": [
    {
     "data": {
      "text/plain": [
       "0.8132892947347969"
      ]
     },
     "execution_count": 57,
     "metadata": {},
     "output_type": "execute_result"
    }
   ],
   "source": [
    "calc_score(svm.LinearSVC(max_iter=10000, dual=False), X_train=X_train_b, y_train=y_train_b, X_test=X_test_b, y_test=y_test_b)"
   ]
  },
  {
   "cell_type": "code",
   "execution_count": 56,
   "metadata": {},
   "outputs": [
    {
     "data": {
      "text/plain": [
       "0.8131270632403391"
      ]
     },
     "execution_count": 56,
     "metadata": {},
     "output_type": "execute_result"
    }
   ],
   "source": [
    "calc_score(svm.LinearSVC(max_iter=10000, penalty=\"l1\", dual=False), X_train=X_train_b, y_train=y_train_b, X_test=X_test_b, y_test=y_test_b)"
   ]
  },
  {
   "cell_type": "code",
   "execution_count": 58,
   "metadata": {},
   "outputs": [
    {
     "data": {
      "text/plain": [
       "0.8130018130018131"
      ]
     },
     "execution_count": 58,
     "metadata": {},
     "output_type": "execute_result"
    }
   ],
   "source": [
    "calc_score(svm.LinearSVC(max_iter=10000, dual=False, C=10), X_train=X_train_b, y_train=y_train_b, X_test=X_test_b, y_test=y_test_b)"
   ]
  },
  {
   "cell_type": "code",
   "execution_count": 59,
   "metadata": {},
   "outputs": [
    {
     "data": {
      "text/plain": [
       "0.8132081579799287"
      ]
     },
     "execution_count": 59,
     "metadata": {},
     "output_type": "execute_result"
    }
   ],
   "source": [
    "calc_score(svm.LinearSVC(max_iter=10000, dual=False, C=100), X_train=X_train_b, y_train=y_train_b, X_test=X_test_b, y_test=y_test_b)"
   ]
  },
  {
   "cell_type": "code",
   "execution_count": 61,
   "metadata": {},
   "outputs": [
    {
     "data": {
      "text/plain": [
       "0.813155509517027"
      ]
     },
     "execution_count": 61,
     "metadata": {},
     "output_type": "execute_result"
    }
   ],
   "source": [
    "calc_score(svm.LinearSVC(max_iter=10000, dual=False, C=50), X_train=X_train_b, y_train=y_train_b, X_test=X_test_b, y_test=y_test_b)"
   ]
  },
  {
   "cell_type": "code",
   "execution_count": 62,
   "metadata": {},
   "outputs": [
    {
     "data": {
      "text/plain": [
       "array([1, 1, 0, ..., 1, 0, 0])"
      ]
     },
     "execution_count": 62,
     "metadata": {},
     "output_type": "execute_result"
    }
   ],
   "source": [
    "worker(svm.LinearSVC(max_iter=10000, dual=False, C=100), save_to=\"lsvm_pca_thresh.csv\", X_train=X_train_pca_thresh, y_train=y_train[:,0], X_test=X_test_pca_thresh)"
   ]
  },
  {
   "cell_type": "markdown",
   "metadata": {},
   "source": [
    "What about the non linear SVC?"
   ]
  },
  {
   "cell_type": "code",
   "execution_count": 67,
   "metadata": {},
   "outputs": [
    {
     "data": {
      "text/plain": [
       "0.7451136816912645"
      ]
     },
     "execution_count": 67,
     "metadata": {},
     "output_type": "execute_result"
    }
   ],
   "source": [
    "calc_score(svm.SVC(kernel=\"linear\"), X_train=X_train_b, y_train=y_train_b, X_test=X_test_b, y_test=y_test_b)"
   ]
  },
  {
   "cell_type": "code",
   "execution_count": 68,
   "metadata": {},
   "outputs": [
    {
     "data": {
      "text/plain": [
       "0.7483766233766234"
      ]
     },
     "execution_count": 68,
     "metadata": {},
     "output_type": "execute_result"
    }
   ],
   "source": [
    "calc_score(svm.SVC(kernel=\"rbf\"), X_train=X_train_b, y_train=y_train_b, X_test=X_test_b, y_test=y_test_b)"
   ]
  },
  {
   "cell_type": "markdown",
   "metadata": {},
   "source": [
    "Still too large of a dataset for SVM except linear."
   ]
  },
  {
   "cell_type": "markdown",
   "metadata": {},
   "source": [
    "I want to try RBF kernel using default parameters, but dataset is too large, not really feasible."
   ]
  },
  {
   "cell_type": "code",
   "execution_count": null,
   "metadata": {},
   "outputs": [],
   "source": [
    "worker(svm.SVC(kernel=\"rbf\"), save_to=\"rbf_svm_phy.csv\")"
   ]
  },
  {
   "cell_type": "markdown",
   "metadata": {},
   "source": [
    "I want to also try using the RBF kernel and CV to find the best C and $\\gamma$ parameters."
   ]
  },
  {
   "cell_type": "markdown",
   "metadata": {},
   "source": [
    "#### I'm out of time, but maybe I could have also tried using a voting scheme with a combination of things such as lSVM, logistic, and decision trees. Or perhaps figured out how to use SVM with optimized C and $\\gamma$ parameters."
   ]
  },
  {
   "cell_type": "markdown",
   "metadata": {},
   "source": [
    "Overall I feel like I did something wrong with setting up the input array of features per sequence."
   ]
  },
  {
   "cell_type": "code",
   "execution_count": null,
   "metadata": {},
   "outputs": [],
   "source": []
  }
 ],
 "metadata": {
  "kernelspec": {
   "display_name": "ml",
   "language": "python",
   "name": "ml"
  },
  "language_info": {
   "codemirror_mode": {
    "name": "ipython",
    "version": 3
   },
   "file_extension": ".py",
   "mimetype": "text/x-python",
   "name": "python",
   "nbconvert_exporter": "python",
   "pygments_lexer": "ipython3",
   "version": "3.8.13"
  }
 },
 "nbformat": 4,
 "nbformat_minor": 4
}
