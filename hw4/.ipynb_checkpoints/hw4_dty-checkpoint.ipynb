{
 "cells": [
  {
   "cell_type": "markdown",
   "metadata": {},
   "source": [
    "## HW4 Classification of Green Fluorescent Protein\n",
    "### Darian Yang\n",
    "\n",
    "You can start with basic models, and then try your best to optimize your predictions by using more sophisticated models, feature engineering, and fine-tuning the hyperparameters. The grade of this homework will be based on the score you get on Kaggle. \n",
    "\n",
    "There is no specific requirement for a written summary for this homework, but please leave some necessary notes/comments in your submission to help the grader understand your workflow.\n",
    "\n",
    "In this work you will predict the brightness level binarized for classification between high brightness (class 1) and low brightness (class 0) for a set of mutants of Green Fluorescent Protein\n",
    "\n",
    "Please explore descriptors/featurisations for amino acid sequences.\n",
    "The performance will be measured using F1 score metric (sklearn.metrics.f1_score)\n",
    "\n",
    "Overfitting is prevented by using a public and private leaderboard..\n",
    "\n",
    "#### Overall:\n",
    "* Get data from Kaggle\n",
    "* Make features\n",
    "* Build classification models using only Scikit Learn!\n",
    "* Submit solution for autograding to Kaggle\n",
    "* Submit IPYNB file to canvas\n",
    "\n",
    "#### Dataset Description\n",
    "This dataset provides quantitative measurements of the brightness level binarized for classification between high brightness (class 1) and low brightness (class 0) for a set of mutants of Green Fluorescent Protein\n",
    "\n",
    "File descriptions\n",
    "* X_train_kaggle.csv - the training set: amino acid sequences Id column\n",
    "* y_train_kaggle.csv - the training set: brightness class for training with Id column\n",
    "* X_test_kaggle.csv - the test set: amino acid sequences with Id column that you should predict\n",
    "* y_sample_submission.csv - a sample submission file in the correct format\n",
    "\n",
    "To work with amino acid sequence for building a ML model you have to perform a feature engineering.\n",
    "* a good start -subfolder \"descriptors\" contains descriptors for amino acids and papers describing their construction\n",
    "\n",
    "#### Submission Format\n",
    "For every molecule in the dataset, submission files should contain two columns: Id and ACTIVE.\n",
    "\n",
    "The file should contain a header and have the following format:\n",
    "\n",
    "```\n",
    "Id,Brightness_Class\n",
    "1,1\n",
    "```"
   ]
  },
  {
   "cell_type": "code",
   "execution_count": 2,
   "metadata": {},
   "outputs": [],
   "source": [
    "import numpy as np\n",
    "import matplotlib.pyplot as plt\n",
    "import pandas as pd"
   ]
  },
  {
   "cell_type": "code",
   "execution_count": 65,
   "metadata": {},
   "outputs": [],
   "source": [
    "X_train = pd.read_csv(\"X_train_kaggle.csv\", index_col=1).to_numpy()\n",
    "y_train = pd.read_csv(\"y_train_kaggle.csv\", index_col=1).to_numpy()\n",
    "X_test = pd.read_csv(\"X_test_kaggle.csv\", index_col=1).to_numpy()"
   ]
  },
  {
   "cell_type": "code",
   "execution_count": 66,
   "metadata": {},
   "outputs": [],
   "source": [
    "TEST_ID = pd.read_csv(\"X_test_kaggle.csv\",index_col=1).index"
   ]
  },
  {
   "cell_type": "code",
   "execution_count": 67,
   "metadata": {},
   "outputs": [
    {
     "data": {
      "text/plain": [
       "Int64Index([50579, 37987, 53977, 10677, 35653, 53275, 7765, 3759, 39236,\n",
       "            48246],\n",
       "           dtype='int64', name='Id')"
      ]
     },
     "execution_count": 67,
     "metadata": {},
     "output_type": "execute_result"
    }
   ],
   "source": [
    "TEST_ID[:10]"
   ]
  },
  {
   "cell_type": "code",
   "execution_count": 69,
   "metadata": {},
   "outputs": [
    {
     "data": {
      "text/plain": [
       "(33029, 1)"
      ]
     },
     "execution_count": 69,
     "metadata": {},
     "output_type": "execute_result"
    }
   ],
   "source": [
    "X_train.shape"
   ]
  },
  {
   "cell_type": "code",
   "execution_count": 59,
   "metadata": {},
   "outputs": [
    {
     "data": {
      "text/plain": [
       "array([[0],\n",
       "       [0],\n",
       "       [0],\n",
       "       ...,\n",
       "       [0],\n",
       "       [1],\n",
       "       [1]])"
      ]
     },
     "execution_count": 59,
     "metadata": {},
     "output_type": "execute_result"
    }
   ],
   "source": [
    "y_train"
   ]
  },
  {
   "cell_type": "markdown",
   "metadata": {},
   "source": [
    "First get rid of the 225 aa length sequences, only keeping lengths of 237."
   ]
  },
  {
   "cell_type": "code",
   "execution_count": 70,
   "metadata": {},
   "outputs": [
    {
     "data": {
      "text/plain": [
       "33029"
      ]
     },
     "execution_count": 70,
     "metadata": {},
     "output_type": "execute_result"
    }
   ],
   "source": [
    "to_filter = []\n",
    "for seq in X_train[:,0]:\n",
    "    if len(seq) < 237:\n",
    "        to_filter.append(False)\n",
    "    else:\n",
    "        to_filter.append(True)\n",
    "\n",
    "len(to_filter)"
   ]
  },
  {
   "cell_type": "code",
   "execution_count": 71,
   "metadata": {},
   "outputs": [],
   "source": [
    "X_train = X_train[to_filter]\n",
    "y_train = y_train[to_filter]"
   ]
  },
  {
   "cell_type": "markdown",
   "metadata": {},
   "source": [
    "Perhaps doing something like MSA and only looking at the non-conserved region to reduce dimensions could be helpful?"
   ]
  },
  {
   "cell_type": "code",
   "execution_count": 72,
   "metadata": {},
   "outputs": [
    {
     "data": {
      "text/plain": [
       "array([['SKGEELFTGVVPILVELDGDVNGHKFSVSGEGEGDATYGKLTLKFISTTGKLPVPWPTLVTTLSYGVQCFSRYPDHTKQHDFFKSAMPEGYVQERTIFFKDDGNYKTRAEVKSEGDTLVNRIELKGIDFKEDGNILGHKLEYNYNSHNVYIMADKQKNGIKVNFKIRHNIEDGSVQLADHYQQNTPIGDGPVLLPDNHYLSTQSALSKDPNEKRDHMVLLEFVTAAGITHGMDELYK'],\n",
       "       ['SKGEELFTGVVPILVELDGDVNGHKFSVSGEGEGDATYGKLTLKFICTTGKLPVPWPTLVTTLSYGVQCFSRYPDHMKQHDFFKSAMPEGYAQERTIFFKDDGNYKTRAEVKFEGDTLVNRIELKGIDFKEDGNILGHKLEYNYNSHNVYNMADKQKNGIKVNFKIRHNTEDGSVQLADHYQQNTPIGDGPVLLPDNHYLSTPSALSKDPNEERDHMVLLEFVTAAGITHGMDELYK'],\n",
       "       ['SKGEELFTGVVPILVELDGDVNGHKFSVSGEGEGDATYGKLTLKFIRTTGKLPVPWPTLVTTLSYGVQCSSRYPDHMKQHDLFKSAMPEGYAQERTIFSKDDGNYETRAEVRFEGDALVNRIELKGIDFKEDGNILGHKLEYNYNSHNVYIMADKQKNGIKVNFKIRHNIEDGSEQLADHYQQNTPIGDGPVLLPDDHYLSTQSALSKDPNEKRDHMVLLEFVTAAGITHGMDELYK'],\n",
       "       ...,\n",
       "       ['SKGEELFTGVVPVLVELDGDVNGHKFSVSGEGEGDATYGKLTLKLICTTGKLPVPWPTLVTTLSYGVQCFSRYPDHMKQHDFFKSAMPEGYVQERTIFFKDDGNYKTRAEVMFEGDTLVNRIELKGIDFKEDGNILGHKLEYNYNSHNVYIMADKQKNGIKVNFKIRHNIEDGSVQLADHYQQNTPIGDGPVLLPDNHYLSTQSALSEDPNEKRDRMVLLEFVTAAGITHGMDELYK'],\n",
       "       ['SKGEELFTGVVPILVELDGDVNGHKFSVSGEGEGDATYGKLTLKFICTTGKLPVPWPTLVTTLSYGVQCFSRYPDHMKQHDFFMSAMPEGYVQERTIFFKDDGNYKTRAEVKFEGDTLVNRIELKGIDFKEDGNILGHKLEYNYNSHNVYIMADKQKNGIKVNFKIRHNIEDGSVQLADHYQQNTPIGDGPVLLPDNHYLSTQSALSKDPNEKRDHMVLLEFVTAAGITHGMDEQYK'],\n",
       "       ['SKGEELFTGVVPILVELDGDVNGHKFSVSGEGEGDATYGKLTLKFICTTGKLPVPWPTLVTTLSYGVQCFSRYPDHMKQHDFFKSAMPEGYVQERTILFKYDGNYKTRAEVKFEGDTLVNRIELKGIDFKEDGNILGHKLEYNYNSHNVYIMADKQKNGIKVNFKIRHNIEDGSVQLADHYQQNTPIGDGPVLLPDSHYLSTQSALSKDPNEKRDHMVLLEFVTAAGITRGMDELYK']],\n",
       "      dtype=object)"
      ]
     },
     "execution_count": 72,
     "metadata": {},
     "output_type": "execute_result"
    }
   ],
   "source": [
    "X_train"
   ]
  },
  {
   "cell_type": "code",
   "execution_count": 208,
   "metadata": {},
   "outputs": [
    {
     "data": {
      "text/plain": [
       "3227016"
      ]
     },
     "execution_count": 208,
     "metadata": {},
     "output_type": "execute_result"
    }
   ],
   "source": [
    "# I want to find the most commonly substituted GFP sequence positions\n",
    "common = []\n",
    "\n",
    "# I can't go through all of the sequences for times sake, so every 300 for now\n",
    "for seq1 in X_train[::300,0]:\n",
    "    for seq2 in X_train[:,0]:\n",
    "        common.append([i for i in range(len(X_train[1,0])) if seq1[i] != seq2[i]])\n",
    "len(common)"
   ]
  },
  {
   "cell_type": "code",
   "execution_count": 209,
   "metadata": {},
   "outputs": [],
   "source": [
    "common_flat = [item for sublist in common for item in sublist]"
   ]
  },
  {
   "cell_type": "code",
   "execution_count": 210,
   "metadata": {},
   "outputs": [
    {
     "data": {
      "text/plain": [
       "25148613"
      ]
     },
     "execution_count": 210,
     "metadata": {},
     "output_type": "execute_result"
    }
   ],
   "source": [
    "len(common_flat)"
   ]
  },
  {
   "cell_type": "code",
   "execution_count": 211,
   "metadata": {},
   "outputs": [],
   "source": [
    "hist, edges = np.histogram(common_flat, bins=237)\n",
    "midpoints = (edges[:-1] + edges[1:]) / 2"
   ]
  },
  {
   "cell_type": "code",
   "execution_count": 212,
   "metadata": {},
   "outputs": [
    {
     "data": {
      "text/plain": [
       "array([ 78104,  11544, 183485,  48464, 110942, 341076, 150993,  12688,\n",
       "       108658, 105246,  10088, 155408, 164819,  97873, 112672, 101387,\n",
       "       178749,  41502,  79731,  59334, 153523,  43136,  61984, 169185,\n",
       "       159339, 181633, 109008,  79198,   9672,  82199,   7592, 147084,\n",
       "         8216, 185206,   8216, 243446, 149336,  11440, 107401,  36920,\n",
       "        54080,  61949, 138220, 184606, 211132, 140309, 176907,  75526,\n",
       "        40599, 179279,  64544,  10920, 103447,  38216,  98556,  11232,\n",
       "        76559,  37648,  46280, 161516,  42744,  73543,  74351,  40768,\n",
       "        12272, 135221,  68887,  38584, 179476, 182004,  22464, 136046,\n",
       "        14352, 114112,  48464, 228292, 215354,  90007,      0, 173928,\n",
       "        98020, 131019, 153457, 115975, 128669,  14560, 231425,  15080,\n",
       "        64792,   8112,  72794, 116354,  32656, 106736,  16744,  90348,\n",
       "       103097, 138582, 205464, 176141,  53560,  73326,  10920, 272034,\n",
       "        74334, 186836, 139775,  18616,  11440,  44200, 106124, 225910,\n",
       "       102624, 136750,   9568, 152409, 121990,      0,      0, 378117,\n",
       "       110050, 110825, 109921,  60974,  83824,  70806, 284354,  54184,\n",
       "       123032, 231707,  51792, 119226,  77398, 180472, 139909,  72066,\n",
       "        14768, 118493, 173141,  63349,  87621, 176585, 253701, 152958,\n",
       "       246388,  90039, 141040, 187941,  88115, 122853, 206921, 197244,\n",
       "        14872, 140924, 245328, 124143, 253536,      0, 166627,  47903,\n",
       "       184328, 166882, 128186, 218701, 250082, 157839, 181093,  20592,\n",
       "        84336, 129826, 224831, 124474,  86066,  47230,  95320, 163950,\n",
       "        85650,  87343,  11960,  81585, 129137,  83994,  65925,  55224,\n",
       "       121674, 148937,  13728, 195081,  12480, 124572,  16224,  75124,\n",
       "        85317,  50648,  85009,   9984, 149219, 314566,  64252,  82558,\n",
       "        69029, 150718,  82230,  77875,  41496,  15496,  63966, 179537,\n",
       "       177794,  94960,  15392, 233623,  32760, 133638,  46938,  60840,\n",
       "       128088, 167430,  45760, 126711,  72047,  70858, 154040,  82137,\n",
       "       122082,  45481,  17992,  50350, 202146,  50544,  89323,  49031,\n",
       "       138178, 125251, 146511,  48256,  83699])"
      ]
     },
     "execution_count": 212,
     "metadata": {},
     "output_type": "execute_result"
    }
   ],
   "source": [
    "hist"
   ]
  },
  {
   "cell_type": "code",
   "execution_count": 213,
   "metadata": {},
   "outputs": [
    {
     "data": {
      "text/plain": [
       "<BarContainer object of 237 artists>"
      ]
     },
     "execution_count": 213,
     "metadata": {},
     "output_type": "execute_result"
    },
    {
     "data": {
      "image/png": "[encoded data removed]",
      "text/plain": [
       "<Figure size 640x480 with 1 Axes>"
      ]
     },
     "metadata": {},
     "output_type": "display_data"
    }
   ],
   "source": [
    "plt.bar(midpoints, hist)"
   ]
  },
  {
   "cell_type": "code",
   "execution_count": 214,
   "metadata": {},
   "outputs": [
    {
     "name": "stdout",
     "output_type": "stream",
     "text": [
      "341076 at 6\n",
      "272034 at 104\n",
      "378117 at 120\n",
      "284354 at 127\n",
      "253701 at 143\n",
      "253536 at 157\n",
      "250082 at 165\n",
      "314566 at 198\n"
     ]
    }
   ],
   "source": [
    "for i, count in enumerate(hist):\n",
    "    if count > 250000:\n",
    "        print(f\"{count} at {i + 1}\")"
   ]
  },
  {
   "cell_type": "markdown",
   "metadata": {},
   "source": [
    "Overall the mutations seem to be pretty evenly dispersed, if it were the case that only a few residues were being tested then I would have tried focusing on those but this doesn't seem to be the case."
   ]
  },
  {
   "cell_type": "markdown",
   "metadata": {},
   "source": [
    "#### Okay, time to build in some features using the descriptors. \n",
    "Let's start with just one file, I'll go with physical.csv.\n",
    "\n",
    "My goal here is to build a large 2d array where each row is a GFP sequence and the number of columns will be of size 237 (aa) by n features. At first I thought it would be good to keep the columns to 237 to match the residues and add features depth-wise, but now I think it's best to make a big 2d array."
   ]
  },
  {
   "cell_type": "code",
   "execution_count": 16,
   "metadata": {},
   "outputs": [
    {
     "name": "stdout",
     "output_type": "stream",
     "text": [
      "descriptors    X_test_kaggle.csv   y_sample_submission.csv\n",
      "hw4_dty.ipynb  X_train_kaggle.csv  y_train_kaggle.csv\n"
     ]
    }
   ],
   "source": [
    "!ls"
   ]
  },
  {
   "cell_type": "code",
   "execution_count": 17,
   "metadata": {},
   "outputs": [
    {
     "name": "stdout",
     "output_type": "stream",
     "text": [
      "(20, 2)\n"
     ]
    },
    {
     "data": {
      "text/plain": [
       "array([-2.9 , -1.03])"
      ]
     },
     "execution_count": 17,
     "metadata": {},
     "output_type": "execute_result"
    }
   ],
   "source": [
    "def process_feature(feature_name):\n",
    "    \"\"\"\n",
    "    Output a df with single aa code as index and cols as features.\n",
    "    \"\"\"\n",
    "    features = pd.read_csv(f\"descriptors/{feature_name}.csv\", skiprows=2, index_col=1)\n",
    "    return features.drop(\"AA_3\", axis=1)\n",
    "    \n",
    "f = process_feature(\"Physical\")\n",
    "print(np.shape(f))\n",
    "f.loc[\"A\"].to_numpy()"
   ]
  },
  {
   "cell_type": "code",
   "execution_count": 21,
   "metadata": {},
   "outputs": [
    {
     "data": {
      "text/html": [
       "<div>\n",
       "<style scoped>\n",
       "    .dataframe tbody tr th:only-of-type {\n",
       "        vertical-align: middle;\n",
       "    }\n",
       "\n",
       "    .dataframe tbody tr th {\n",
       "        vertical-align: top;\n",
       "    }\n",
       "\n",
       "    .dataframe thead th {\n",
       "        text-align: right;\n",
       "    }\n",
       "</style>\n",
       "<table border=\"1\" class=\"dataframe\">\n",
       "  <thead>\n",
       "    <tr style=\"text-align: right;\">\n",
       "      <th></th>\n",
       "      <th>Vol</th>\n",
       "      <th>Hydro</th>\n",
       "    </tr>\n",
       "    <tr>\n",
       "      <th>AA_1</th>\n",
       "      <th></th>\n",
       "      <th></th>\n",
       "    </tr>\n",
       "  </thead>\n",
       "  <tbody>\n",
       "    <tr>\n",
       "      <th>A</th>\n",
       "      <td>-2.90</td>\n",
       "      <td>-1.03</td>\n",
       "    </tr>\n",
       "    <tr>\n",
       "      <th>R</th>\n",
       "      <td>2.41</td>\n",
       "      <td>1.31</td>\n",
       "    </tr>\n",
       "    <tr>\n",
       "      <th>N</th>\n",
       "      <td>-0.68</td>\n",
       "      <td>0.79</td>\n",
       "    </tr>\n",
       "    <tr>\n",
       "      <th>D</th>\n",
       "      <td>-0.92</td>\n",
       "      <td>1.23</td>\n",
       "    </tr>\n",
       "    <tr>\n",
       "      <th>C</th>\n",
       "      <td>-1.89</td>\n",
       "      <td>0.15</td>\n",
       "    </tr>\n",
       "    <tr>\n",
       "      <th>Q</th>\n",
       "      <td>0.36</td>\n",
       "      <td>1.09</td>\n",
       "    </tr>\n",
       "    <tr>\n",
       "      <th>E</th>\n",
       "      <td>0.16</td>\n",
       "      <td>1.28</td>\n",
       "    </tr>\n",
       "    <tr>\n",
       "      <th>G</th>\n",
       "      <td>-4.04</td>\n",
       "      <td>0.01</td>\n",
       "    </tr>\n",
       "    <tr>\n",
       "      <th>H</th>\n",
       "      <td>0.83</td>\n",
       "      <td>1.15</td>\n",
       "    </tr>\n",
       "    <tr>\n",
       "      <th>I</th>\n",
       "      <td>0.51</td>\n",
       "      <td>-1.32</td>\n",
       "    </tr>\n",
       "    <tr>\n",
       "      <th>L</th>\n",
       "      <td>0.52</td>\n",
       "      <td>-1.40</td>\n",
       "    </tr>\n",
       "    <tr>\n",
       "      <th>K</th>\n",
       "      <td>0.92</td>\n",
       "      <td>1.23</td>\n",
       "    </tr>\n",
       "    <tr>\n",
       "      <th>M</th>\n",
       "      <td>0.92</td>\n",
       "      <td>-1.42</td>\n",
       "    </tr>\n",
       "    <tr>\n",
       "      <th>F</th>\n",
       "      <td>2.22</td>\n",
       "      <td>-1.47</td>\n",
       "    </tr>\n",
       "    <tr>\n",
       "      <th>P</th>\n",
       "      <td>-1.25</td>\n",
       "      <td>-0.64</td>\n",
       "    </tr>\n",
       "    <tr>\n",
       "      <th>S</th>\n",
       "      <td>-2.36</td>\n",
       "      <td>0.38</td>\n",
       "    </tr>\n",
       "    <tr>\n",
       "      <th>T</th>\n",
       "      <td>-1.19</td>\n",
       "      <td>0.28</td>\n",
       "    </tr>\n",
       "    <tr>\n",
       "      <th>W</th>\n",
       "      <td>4.28</td>\n",
       "      <td>-0.18</td>\n",
       "    </tr>\n",
       "    <tr>\n",
       "      <th>Y</th>\n",
       "      <td>2.75</td>\n",
       "      <td>-0.18</td>\n",
       "    </tr>\n",
       "    <tr>\n",
       "      <th>V</th>\n",
       "      <td>-0.65</td>\n",
       "      <td>-1.27</td>\n",
       "    </tr>\n",
       "  </tbody>\n",
       "</table>\n",
       "</div>"
      ],
      "text/plain": [
       "       Vol  Hydro\n",
       "AA_1             \n",
       "A    -2.90  -1.03\n",
       "R     2.41   1.31\n",
       "N    -0.68   0.79\n",
       "D    -0.92   1.23\n",
       "C    -1.89   0.15\n",
       "Q     0.36   1.09\n",
       "E     0.16   1.28\n",
       "G    -4.04   0.01\n",
       "H     0.83   1.15\n",
       "I     0.51  -1.32\n",
       "L     0.52  -1.40\n",
       "K     0.92   1.23\n",
       "M     0.92  -1.42\n",
       "F     2.22  -1.47\n",
       "P    -1.25  -0.64\n",
       "S    -2.36   0.38\n",
       "T    -1.19   0.28\n",
       "W     4.28  -0.18\n",
       "Y     2.75  -0.18\n",
       "V    -0.65  -1.27"
      ]
     },
     "execution_count": 21,
     "metadata": {},
     "output_type": "execute_result"
    }
   ],
   "source": [
    "f"
   ]
  },
  {
   "cell_type": "code",
   "execution_count": 18,
   "metadata": {},
   "outputs": [],
   "source": [
    "def feature_array_from_seqs(sequences, features):\n",
    "    \"\"\"\n",
    "    Take a 1d GFP sequences array and features (df) and return features \n",
    "    for each amino acid in the input sequence.\n",
    "    \"\"\"\n",
    "    n_features = np.shape(features)[1]\n",
    "    # make final feature array: sequence = 237 and features are 20 aa by n features\n",
    "    feature_array = np.zeros((len(sequences), len(sequences[0]) * n_features))\n",
    "\n",
    "    # loop through sequences\n",
    "    for i, seq in enumerate(sequences):\n",
    "        # loop through each residue in the sequence\n",
    "        for j, aa in enumerate(seq):\n",
    "            # add the feature float values to array at appropriate indicies\n",
    "            feature_array[i, j+j : j+j+n_features] = features.loc[aa].to_numpy()\n",
    "    \n",
    "    return feature_array"
   ]
  },
  {
   "cell_type": "code",
   "execution_count": 22,
   "metadata": {},
   "outputs": [
    {
     "data": {
      "text/plain": [
       "(474,)"
      ]
     },
     "execution_count": 22,
     "metadata": {},
     "output_type": "execute_result"
    }
   ],
   "source": [
    "# test\n",
    "fa = feature_array_from_seqs(X_train[:10,0], f)\n",
    "fa[0].shape"
   ]
  },
  {
   "cell_type": "code",
   "execution_count": 24,
   "metadata": {},
   "outputs": [
    {
     "data": {
      "text/plain": [
       "'SKGEELFTGVVPILVELDGDVNGHKFSVSGEGEGDATYGKLTLKFISTTGKLPVPWPTLVTTLSYGVQCFSRYPDHTKQHDFFKSAMPEGYVQERTIFFKDDGNYKTRAEVKSEGDTLVNRIELKGIDFKEDGNILGHKLEYNYNSHNVYIMADKQKNGIKVNFKIRHNIEDGSVQLADHYQQNTPIGDGPVLLPDNHYLSTQSALSKDPNEKRDHMVLLEFVTAAGITHGMDELYK'"
      ]
     },
     "execution_count": 24,
     "metadata": {},
     "output_type": "execute_result"
    }
   ],
   "source": [
    "X_train[0,0]"
   ]
  },
  {
   "cell_type": "markdown",
   "metadata": {},
   "source": [
    "Building the feature array works. Now to do this for every sequence."
   ]
  },
  {
   "cell_type": "code",
   "execution_count": 25,
   "metadata": {},
   "outputs": [],
   "source": [
    "feat_array = feature_array_from_seqs(X_train[:,0], process_feature(\"Physical\"))"
   ]
  },
  {
   "cell_type": "code",
   "execution_count": 43,
   "metadata": {},
   "outputs": [],
   "source": [
    "X_train_fa = feat_array"
   ]
  },
  {
   "cell_type": "code",
   "execution_count": 44,
   "metadata": {},
   "outputs": [
    {
     "data": {
      "text/plain": [
       "array([[-2.36,  0.38,  0.92, ..., -0.18,  0.92,  1.23],\n",
       "       [-2.36,  0.38,  0.92, ..., -0.18,  0.92,  1.23],\n",
       "       [-2.36,  0.38,  0.92, ..., -0.18,  0.92,  1.23],\n",
       "       [-2.36,  0.38,  0.92, ..., -0.18,  0.92,  1.23],\n",
       "       [-2.36,  0.38,  0.92, ..., -0.18,  0.92,  1.23]])"
      ]
     },
     "execution_count": 44,
     "metadata": {},
     "output_type": "execute_result"
    }
   ],
   "source": [
    "X_train_fa[:5]"
   ]
  },
  {
   "cell_type": "code",
   "execution_count": 45,
   "metadata": {},
   "outputs": [],
   "source": [
    "X_test_fa = feature_array_from_seqs(X_test[:,0], process_feature(\"Physical\"))"
   ]
  },
  {
   "cell_type": "code",
   "execution_count": 46,
   "metadata": {},
   "outputs": [
    {
     "data": {
      "text/plain": [
       "(20686, 474)"
      ]
     },
     "execution_count": 46,
     "metadata": {},
     "output_type": "execute_result"
    }
   ],
   "source": [
    "X_test_fa.shape"
   ]
  },
  {
   "cell_type": "markdown",
   "metadata": {},
   "source": [
    "Okay, so now maybe I can build a model using this set of features for each sequence. Note that this took a while to build."
   ]
  },
  {
   "cell_type": "code",
   "execution_count": 36,
   "metadata": {},
   "outputs": [
    {
     "name": "stderr",
     "output_type": "stream",
     "text": [
      "/ihome/lchong/dty7/Apps/anaconda3/envs/ml/lib/python3.8/site-packages/scipy/__init__.py:146: UserWarning: A NumPy version >=1.16.5 and <1.23.0 is required for this version of SciPy (detected version 1.23.1\n",
      "  warnings.warn(f\"A NumPy version >={np_minversion} and <{np_maxversion}\"\n"
     ]
    }
   ],
   "source": [
    "from sklearn import linear_model"
   ]
  },
  {
   "cell_type": "code",
   "execution_count": 85,
   "metadata": {},
   "outputs": [],
   "source": [
    "def worker(model, save_to=\"submission.csv\", linear=False):\n",
    "    model = model.fit(X_train_fa, y_train[:,0])\n",
    "    y_test = model.predict(X_test_fa)\n",
    "\n",
    "    # for linear regression and etc., predicted values are not binary\n",
    "    if linear:\n",
    "        ret = {\"Id\":TEST_ID, \"Brightness_Class\":(y_test>0.5).astype(int)}\n",
    "    else:\n",
    "        ret = {\"Id\":TEST_ID, \"Brightness_Class\":y_test}\n",
    "    ret = pd.DataFrame(data=ret)\n",
    "    ret.set_index(\"Id\")\n",
    "    ret.to_csv(save_to, index=False)"
   ]
  },
  {
   "cell_type": "markdown",
   "metadata": {},
   "source": [
    "Let's try linear, logistic, and ridge."
   ]
  },
  {
   "cell_type": "code",
   "execution_count": 86,
   "metadata": {},
   "outputs": [],
   "source": [
    "worker(linear_model.LinearRegression(), save_to=\"LinearRegression.csv\", linear=True)"
   ]
  },
  {
   "cell_type": "code",
   "execution_count": 89,
   "metadata": {},
   "outputs": [
    {
     "name": "stderr",
     "output_type": "stream",
     "text": [
      "/ihome/lchong/dty7/Apps/anaconda3/envs/ml/lib/python3.8/site-packages/sklearn/linear_model/_logistic.py:444: ConvergenceWarning: lbfgs failed to converge (status=1):\n",
      "STOP: TOTAL NO. of ITERATIONS REACHED LIMIT.\n",
      "\n",
      "Increase the number of iterations (max_iter) or scale the data as shown in:\n",
      "    https://scikit-learn.org/stable/modules/preprocessing.html\n",
      "Please also refer to the documentation for alternative solver options:\n",
      "    https://scikit-learn.org/stable/modules/linear_model.html#logistic-regression\n",
      "  n_iter_i = _check_optimize_result(\n"
     ]
    }
   ],
   "source": [
    "worker(linear_model.LogisticRegression(max_iter=1000), save_to=\"LogisticRegression.csv\")"
   ]
  },
  {
   "cell_type": "code",
   "execution_count": 90,
   "metadata": {},
   "outputs": [],
   "source": [
    "worker(linear_model.RidgeClassifier(), save_to=\"RidgeRegression.csv\")"
   ]
  },
  {
   "cell_type": "markdown",
   "metadata": {},
   "source": [
    "My scores were not too good (<baseline), logistic performed the best (slightly). However; this was expected as I am using simple models with only 2 features."
   ]
  },
  {
   "cell_type": "markdown",
   "metadata": {},
   "source": [
    "To get better peformance, I can:\n",
    "* Using more/different descriptors (features):\n",
    "    * To narrow it down, I can process all descriptors and only taking the top ranked for ~80% of the variance as selected by PCA.\n",
    "* Using more advanced classification methods such as SVMs or decision trees."
   ]
  },
  {
   "cell_type": "markdown",
   "metadata": {},
   "source": [
    "First need to convert to strings and then process them to only the three index positions"
   ]
  },
  {
   "cell_type": "code",
   "execution_count": 107,
   "metadata": {},
   "outputs": [
    {
     "data": {
      "text/plain": [
       "\"['SKGEELFTGVVPILVELDGDVNGHKFSVSGEGEGDATYGKLTLKFISTTGKLPVPWPTLVTTLSYGVQCFSRYPDHTKQHDFFKSAMPEGYVQERTIFFKDDGNYKTRAEVKSEGDTLVNRIELKGIDFKEDGNILGHKLEYNYNSHNVYIMADKQKNGIKVNFKIRHNIEDGSVQLADHYQQNTPIGDGPVLLPDNHYLSTQSALSKDPNEKRDHMVLLEFVTAAGITHGMDELYK']\""
      ]
     },
     "execution_count": 107,
     "metadata": {},
     "output_type": "execute_result"
    }
   ],
   "source": [
    "str(X_train[0])"
   ]
  },
  {
   "cell_type": "code",
   "execution_count": 179,
   "metadata": {},
   "outputs": [
    {
     "data": {
      "text/plain": [
       "'STS'"
      ]
     },
     "execution_count": 179,
     "metadata": {},
     "output_type": "execute_result"
    }
   ],
   "source": [
    "seq_str = str(X_train[0,0])\n",
    "#positions = [47, 77, 114]\n",
    "positions = [46, 76, 112]\n",
    "filt_str = [seq_str[i] for i in positions]\n",
    "\"\".join(filt_str)"
   ]
  },
  {
   "cell_type": "markdown",
   "metadata": {},
   "source": [
    "Note that the array object formatting forces the first two string positions to be [ and ' if the input is 2d, otherwise it is fine if 1d."
   ]
  },
  {
   "cell_type": "code",
   "execution_count": 180,
   "metadata": {},
   "outputs": [],
   "source": [
    "def only_3_residues(sequences):\n",
    "    # new array with each row as updated sequence\n",
    "    only_3 = []\n",
    "    for seq in sequences:\n",
    "        #print(seq)\n",
    "        seq_str = str(seq)\n",
    "        positions = [46, 76, 112]\n",
    "        filt_str = [seq_str[i] for i in positions]\n",
    "        only_3.append(\"\".join(filt_str))\n",
    "    return np.array(only_3)"
   ]
  },
  {
   "cell_type": "code",
   "execution_count": 181,
   "metadata": {},
   "outputs": [
    {
     "data": {
      "text/plain": [
       "(31029,)"
      ]
     },
     "execution_count": 181,
     "metadata": {},
     "output_type": "execute_result"
    }
   ],
   "source": [
    "X_train_o3 = only_3_residues(X_train[:,0])\n",
    "X_train_o3.shape"
   ]
  },
  {
   "cell_type": "code",
   "execution_count": 183,
   "metadata": {},
   "outputs": [
    {
     "data": {
      "text/plain": [
       "array(['SMF', 'CMF', 'CMF', 'CVF', 'CMF', 'CMF', 'CMF', 'CMF', 'CVL',\n",
       "       'CMF', 'CMF', 'CMF', 'CMF', 'CMF', 'CMF', 'CMF', 'CMF', 'CMF',\n",
       "       'CMF', 'CMF', 'CMF', 'CMF', 'CMF', 'CMF', 'CMF', 'CMF', 'CVF',\n",
       "       'CMF', 'CMF', 'CMF', 'CMF', 'CMF', 'CMF', 'CMF', 'CMF', 'CMF',\n",
       "       'CMF', 'CMF', 'CMF', 'CMF', 'CMF', 'CMF', 'CMF', 'CMF', 'CMF',\n",
       "       'CMF', 'CMF', 'CMF', 'CMF', 'CMF', 'CMY', 'CMF', 'CMF', 'CMF',\n",
       "       'CMF', 'CMF', 'CMF', 'CMF', 'CMF', 'RML', 'CMF', 'CMF', 'CMF',\n",
       "       'CMF', 'CMF', 'CMF', 'CMF', 'CMF', 'CMF', 'CLF', 'CMF', 'CMF',\n",
       "       'CMF', 'CMF', 'CMF', 'CMY', 'CMF', 'CMF', 'CMF', 'CMI', 'CMF',\n",
       "       'CMF', 'CMF', 'CMF', 'CMF', 'CMF', 'CMF', 'CMF', 'CVF', 'CMF',\n",
       "       'CMF', 'SMF', 'CMF', 'CMF', 'CMF', 'CMF', 'CMF', 'CMF', 'CMF',\n",
       "       'CMF'], dtype='<U3')"
      ]
     },
     "execution_count": 183,
     "metadata": {},
     "output_type": "execute_result"
    }
   ],
   "source": [
    "X_train_o3[100:200]"
   ]
  },
  {
   "cell_type": "code",
   "execution_count": 186,
   "metadata": {},
   "outputs": [
    {
     "data": {
      "text/plain": [
       "31029"
      ]
     },
     "execution_count": 186,
     "metadata": {},
     "output_type": "execute_result"
    }
   ],
   "source": [
    "# let's make sure that this was correctly done\n",
    "common = []\n",
    "for seq in X_train_o3:\n",
    "    common.append([i for i in range(len(X_train_o3[0])) if X_train_o3[1][i] != seq[i]])\n",
    "len(common)"
   ]
  },
  {
   "cell_type": "code",
   "execution_count": 187,
   "metadata": {},
   "outputs": [],
   "source": [
    "common_flat = [item for sublist in common for item in sublist]"
   ]
  },
  {
   "cell_type": "code",
   "execution_count": 188,
   "metadata": {},
   "outputs": [],
   "source": [
    "hist, edges = np.histogram(common_flat, bins=3)\n",
    "midpoints = (edges[:-1] + edges[1:]) / 2"
   ]
  },
  {
   "cell_type": "code",
   "execution_count": 189,
   "metadata": {},
   "outputs": [
    {
     "data": {
      "text/plain": [
       "<BarContainer object of 3 artists>"
      ]
     },
     "execution_count": 189,
     "metadata": {},
     "output_type": "execute_result"
    },
    {
     "data": {
      "image/png": "[encoded data removed]",
      "text/plain": [
       "<Figure size 640x480 with 1 Axes>"
      ]
     },
     "metadata": {},
     "output_type": "display_data"
    }
   ],
   "source": [
    "plt.bar(midpoints, hist)"
   ]
  },
  {
   "cell_type": "code",
   "execution_count": null,
   "metadata": {},
   "outputs": [],
   "source": [
    "# make a new list of sequences"
   ]
  },
  {
   "cell_type": "code",
   "execution_count": null,
   "metadata": {},
   "outputs": [],
   "source": []
  },
  {
   "cell_type": "code",
   "execution_count": null,
   "metadata": {},
   "outputs": [],
   "source": []
  },
  {
   "cell_type": "code",
   "execution_count": null,
   "metadata": {},
   "outputs": [],
   "source": []
  },
  {
   "cell_type": "code",
   "execution_count": null,
   "metadata": {},
   "outputs": [],
   "source": []
  },
  {
   "cell_type": "code",
   "execution_count": null,
   "metadata": {},
   "outputs": [],
   "source": []
  },
  {
   "cell_type": "markdown",
   "metadata": {},
   "source": [
    "To look at all descriptors, I need to expand my previously made process_feature function for multiple descriptor csvs."
   ]
  },
  {
   "cell_type": "code",
   "execution_count": null,
   "metadata": {},
   "outputs": [],
   "source": []
  }
 ],
 "metadata": {
  "kernelspec": {
   "display_name": "ml",
   "language": "python",
   "name": "ml"
  },
  "language_info": {
   "codemirror_mode": {
    "name": "ipython",
    "version": 3
   },
   "file_extension": ".py",
   "mimetype": "text/x-python",
   "name": "python",
   "nbconvert_exporter": "python",
   "pygments_lexer": "ipython3",
   "version": "3.8.13"
  }
 },
 "nbformat": 4,
 "nbformat_minor": 4
}
