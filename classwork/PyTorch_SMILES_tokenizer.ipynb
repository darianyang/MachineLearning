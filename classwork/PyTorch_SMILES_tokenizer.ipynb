{
  "nbformat": 4,
  "nbformat_minor": 0,
  "metadata": {
    "colab": {
      "provenance": []
    },
    "kernelspec": {
      "name": "python3",
      "display_name": "Python 3"
    }
  },
  "cells": [
    {
      "cell_type": "code",
      "metadata": {
        "id": "kwD3XYq0I9rd"
      },
      "source": [
        "import torch\n",
        "from torch import nn\n",
        "from torch.nn.utils.rnn import pad_sequence,pad_packed_sequence,pack_padded_sequence"
      ],
      "execution_count": null,
      "outputs": []
    },
    {
      "cell_type": "code",
      "metadata": {
        "id": "-9cvQqanJ16l"
      },
      "source": [
        "docs = ['cCcc1', \n",
        "        'NNccC1',\n",
        "        'CNcN2',\n",
        "        'ccN3']"
      ],
      "execution_count": null,
      "outputs": []
    },
    {
      "cell_type": "code",
      "metadata": {
        "colab": {
          "base_uri": "https://localhost:8080/"
        },
        "id": "KSa_bwF_LIkk",
        "outputId": "b134b7c1-5b84-4b95-f4ab-69a03fa11ab7"
      },
      "source": [
        "word_set=set()\n",
        "for seq in docs:\n",
        "  for word in list(seq):\n",
        "    word_set.add(word)\n",
        "\n",
        "word_list=['<pad>']+list(word_set)\n",
        "print(word_list)"
      ],
      "execution_count": null,
      "outputs": [
        {
          "output_type": "stream",
          "name": "stdout",
          "text": [
            "['<pad>', '3', 'N', 'c', '1', 'C', '2']\n"
          ]
        }
      ]
    },
    {
      "cell_type": "code",
      "metadata": {
        "id": "n1duVGmjMTJ-"
      },
      "source": [
        "word2idx={word: idx for idx,word in enumerate(word_list)}\n",
        "\n",
        "vocab_size=len(word_list)\n",
        "embedding_dim=10"
      ],
      "execution_count": null,
      "outputs": []
    },
    {
      "cell_type": "code",
      "metadata": {
        "colab": {
          "base_uri": "https://localhost:8080/"
        },
        "id": "fHlvGnHfOGwg",
        "outputId": "5a95dc35-36d7-4d0f-8906-92781b710c4a"
      },
      "source": [
        "x=[torch.LongTensor([word2idx[word]for word in list(seq)])for seq in docs]\n",
        "x_padded = pad_sequence(x, batch_first=True, padding_value=0)\n",
        "\n",
        "print(x_padded)"
      ],
      "execution_count": null,
      "outputs": [
        {
          "output_type": "stream",
          "name": "stdout",
          "text": [
            "tensor([[3, 5, 3, 3, 4, 0],\n",
            "        [2, 2, 3, 3, 5, 4],\n",
            "        [5, 2, 3, 2, 6, 0],\n",
            "        [3, 3, 2, 1, 0, 0]])\n"
          ]
        }
      ]
    },
    {
      "cell_type": "code",
      "metadata": {
        "colab": {
          "base_uri": "https://localhost:8080/"
        },
        "id": "aMJ35OEwU5gV",
        "outputId": "076d45d0-df6a-4730-f11e-1f2de80d9ddd"
      },
      "source": [
        "seq_len=torch.LongTensor(list(map(len,x)))\n",
        "print(seq_len)"
      ],
      "execution_count": null,
      "outputs": [
        {
          "output_type": "stream",
          "name": "stdout",
          "text": [
            "tensor([5, 6, 5, 4])\n"
          ]
        }
      ]
    },
    {
      "cell_type": "code",
      "metadata": {
        "id": "s-dxKq9O_p5l"
      },
      "source": [
        "embed=nn.Embedding(vocab_size,embedding_dim)\n",
        "lstm=nn.LSTM(embedding_dim,hidden_size=5,batch_first=True)"
      ],
      "execution_count": null,
      "outputs": []
    },
    {
      "cell_type": "code",
      "metadata": {
        "colab": {
          "base_uri": "https://localhost:8080/"
        },
        "id": "6itMLPT0_p8v",
        "outputId": "36c77d21-518e-40f4-b51d-bd76a252c44c"
      },
      "source": [
        "embedding_seq_tensor=embed(x_padded)\n",
        "print(embedding_seq_tensor)"
      ],
      "execution_count": null,
      "outputs": [
        {
          "output_type": "stream",
          "name": "stdout",
          "text": [
            "tensor([[[-2.2528,  1.2505,  1.2433,  0.1408, -1.2954, -0.2907,  0.4122,\n",
            "          -1.6750,  1.5804,  1.5785],\n",
            "         [ 1.1010,  0.9459, -0.4959, -1.2637, -0.6089, -0.1111,  0.7356,\n",
            "           1.2366,  1.7242, -0.1740],\n",
            "         [-2.2528,  1.2505,  1.2433,  0.1408, -1.2954, -0.2907,  0.4122,\n",
            "          -1.6750,  1.5804,  1.5785],\n",
            "         [-2.2528,  1.2505,  1.2433,  0.1408, -1.2954, -0.2907,  0.4122,\n",
            "          -1.6750,  1.5804,  1.5785],\n",
            "         [-1.5767, -0.7968,  0.5152,  0.1527,  0.3222, -0.3740, -0.1290,\n",
            "          -1.6324, -0.0990,  0.2662],\n",
            "         [-0.8084, -0.9533,  0.4109, -0.7779, -2.1192,  2.0858, -0.8745,\n",
            "          -0.5976, -1.3992,  1.6567]],\n",
            "\n",
            "        [[ 0.2103, -1.4328,  1.5144,  1.7459,  1.4352,  0.4651, -0.7167,\n",
            "           0.9513, -0.7678, -1.1378],\n",
            "         [ 0.2103, -1.4328,  1.5144,  1.7459,  1.4352,  0.4651, -0.7167,\n",
            "           0.9513, -0.7678, -1.1378],\n",
            "         [-2.2528,  1.2505,  1.2433,  0.1408, -1.2954, -0.2907,  0.4122,\n",
            "          -1.6750,  1.5804,  1.5785],\n",
            "         [-2.2528,  1.2505,  1.2433,  0.1408, -1.2954, -0.2907,  0.4122,\n",
            "          -1.6750,  1.5804,  1.5785],\n",
            "         [ 1.1010,  0.9459, -0.4959, -1.2637, -0.6089, -0.1111,  0.7356,\n",
            "           1.2366,  1.7242, -0.1740],\n",
            "         [-1.5767, -0.7968,  0.5152,  0.1527,  0.3222, -0.3740, -0.1290,\n",
            "          -1.6324, -0.0990,  0.2662]],\n",
            "\n",
            "        [[ 1.1010,  0.9459, -0.4959, -1.2637, -0.6089, -0.1111,  0.7356,\n",
            "           1.2366,  1.7242, -0.1740],\n",
            "         [ 0.2103, -1.4328,  1.5144,  1.7459,  1.4352,  0.4651, -0.7167,\n",
            "           0.9513, -0.7678, -1.1378],\n",
            "         [-2.2528,  1.2505,  1.2433,  0.1408, -1.2954, -0.2907,  0.4122,\n",
            "          -1.6750,  1.5804,  1.5785],\n",
            "         [ 0.2103, -1.4328,  1.5144,  1.7459,  1.4352,  0.4651, -0.7167,\n",
            "           0.9513, -0.7678, -1.1378],\n",
            "         [-0.3936, -0.0632, -0.0252, -0.8273, -0.8056,  0.9209, -0.3953,\n",
            "           1.4162,  1.4990, -0.5631],\n",
            "         [-0.8084, -0.9533,  0.4109, -0.7779, -2.1192,  2.0858, -0.8745,\n",
            "          -0.5976, -1.3992,  1.6567]],\n",
            "\n",
            "        [[-2.2528,  1.2505,  1.2433,  0.1408, -1.2954, -0.2907,  0.4122,\n",
            "          -1.6750,  1.5804,  1.5785],\n",
            "         [-2.2528,  1.2505,  1.2433,  0.1408, -1.2954, -0.2907,  0.4122,\n",
            "          -1.6750,  1.5804,  1.5785],\n",
            "         [ 0.2103, -1.4328,  1.5144,  1.7459,  1.4352,  0.4651, -0.7167,\n",
            "           0.9513, -0.7678, -1.1378],\n",
            "         [-1.5586, -0.2094,  0.3322, -0.5650, -0.2353, -0.4907, -1.1255,\n",
            "           2.2248,  1.0838,  0.3616],\n",
            "         [-0.8084, -0.9533,  0.4109, -0.7779, -2.1192,  2.0858, -0.8745,\n",
            "          -0.5976, -1.3992,  1.6567],\n",
            "         [-0.8084, -0.9533,  0.4109, -0.7779, -2.1192,  2.0858, -0.8745,\n",
            "          -0.5976, -1.3992,  1.6567]]], grad_fn=<EmbeddingBackward0>)\n"
          ]
        }
      ]
    },
    {
      "cell_type": "code",
      "metadata": {
        "colab": {
          "base_uri": "https://localhost:8080/"
        },
        "id": "Mqr2EF7bRC2n",
        "outputId": "258e65e1-a5d4-4b7e-d9c1-63222457252f"
      },
      "source": [
        "packed_input = pack_padded_sequence(embedding_seq_tensor, seq_len.cpu().numpy(), batch_first=True,enforce_sorted=False)\n",
        "print(packed_input.data.shape)\n"
      ],
      "execution_count": null,
      "outputs": [
        {
          "output_type": "stream",
          "name": "stdout",
          "text": [
            "torch.Size([4, 10])\n"
          ]
        }
      ]
    },
    {
      "cell_type": "code",
      "metadata": {
        "id": "Ag-GBtb5RDC5",
        "outputId": "d4f6ebd0-7f0d-44f3-bf00-322d4dfab954",
        "colab": {
          "base_uri": "https://localhost:8080/"
        }
      },
      "source": [
        "\n",
        "packed_output,(ht,ct)=lstm(packed_input)\n",
        "\n",
        "packed_output.data.shape\n"
      ],
      "execution_count": null,
      "outputs": [
        {
          "output_type": "execute_result",
          "data": {
            "text/plain": [
              "torch.Size([4, 5])"
            ]
          },
          "metadata": {},
          "execution_count": 20
        }
      ]
    },
    {
      "cell_type": "code",
      "metadata": {
        "colab": {
          "base_uri": "https://localhost:8080/"
        },
        "id": "jNbSdoOwIErI",
        "outputId": "2afc30ab-8451-4218-d17c-ef81fc3d42f4"
      },
      "source": [
        "output, input_sizes = pad_packed_sequence(packed_output, batch_first=True)\n",
        "print(ht[-1])"
      ],
      "execution_count": null,
      "outputs": [
        {
          "output_type": "stream",
          "name": "stdout",
          "text": [
            "tensor([[-0.2994,  0.0059, -0.3161, -0.2518,  0.1614],\n",
            "        [-0.2178,  0.0888, -0.1436,  0.0371, -0.3405],\n",
            "        [-0.2344, -0.0833, -0.2771, -0.4951,  0.1655],\n",
            "        [-0.2388, -0.2054,  0.1413,  0.3970, -0.1029]],\n",
            "       grad_fn=<SelectBackward0>)\n"
          ]
        }
      ]
    },
    {
      "cell_type": "code",
      "metadata": {
        "id": "-vOQvLLDIx_s"
      },
      "source": [],
      "execution_count": null,
      "outputs": []
    },
    {
      "cell_type": "code",
      "metadata": {
        "id": "hI2XtCObIyn7"
      },
      "source": [],
      "execution_count": null,
      "outputs": []
    },
    {
      "cell_type": "code",
      "metadata": {
        "id": "eupou2CX2L4k"
      },
      "source": [],
      "execution_count": null,
      "outputs": []
    },
    {
      "cell_type": "code",
      "metadata": {
        "id": "oON6Lx1r2L7T"
      },
      "source": [],
      "execution_count": null,
      "outputs": []
    },
    {
      "cell_type": "code",
      "metadata": {
        "id": "UgQTbBfX2L-P"
      },
      "source": [],
      "execution_count": null,
      "outputs": []
    }
  ]
}