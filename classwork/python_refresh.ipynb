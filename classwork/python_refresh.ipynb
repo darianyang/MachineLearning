{
 "cells": [
  {
   "cell_type": "markdown",
   "metadata": {},
   "source": [
    "# Python reviews for data analysis\n"
   ]
  },
  {
   "cell_type": "code",
   "execution_count": null,
   "metadata": {},
   "outputs": [],
   "source": [
    "import numpy as np\n",
    "import pandas as pd"
   ]
  },
  {
   "cell_type": "markdown",
   "metadata": {},
   "source": [
    "## before start"
   ]
  },
  {
   "cell_type": "code",
   "execution_count": null,
   "metadata": {},
   "outputs": [],
   "source": [
    "## error types:\n",
    "'''\n",
    "syntax errors: compile-time errors\n",
    "runtime errors: \"crash\"\n",
    "logical errors: compiles and runs, but is wrong\n",
    "'''\n",
    "\n",
    "## several output methods to make the output more readable\n",
    "# print single output\n",
    "print(\"Carpe\")\n",
    "print(\"diem\")\n",
    "print() # add a blank line\n",
    "\n",
    "#print on same line\n",
    "print(\"Carpe\", end=\"\")\n",
    "print(\"diem\")\n",
    "print()\n",
    "\n",
    "#print multiple items\n",
    "a = 3\n",
    "b = 4\n",
    "c = ((a**2) + (b**2))**0.5\n",
    "print(\"side a =\", a) # add text for the output results\n",
    "print(\"side b =\", b)\n",
    "print(\"hypotenuse c =\", c)"
   ]
  },
  {
   "cell_type": "markdown",
   "metadata": {},
   "source": [
    "## Data and expressions"
   ]
  },
  {
   "cell_type": "code",
   "execution_count": null,
   "metadata": {},
   "outputs": [],
   "source": [
    "## builtin types\n",
    "print(type(2))           # int\n",
    "print(type(2.2))         # float\n",
    "print(type(\"2.2\"))       # str  (string)\n",
    "print(type(True))     # bool (boolean)\n",
    "\n",
    "# These are the most common types, there are also others: list, range, tuple, set, dict, function, module"
   ]
  },
  {
   "cell_type": "code",
   "execution_count": null,
   "metadata": {},
   "outputs": [],
   "source": [
    "## builtin constants\n",
    "print(\"Some builtin constants:\")\n",
    "print(True)\n",
    "print(False)\n",
    "print(None)\n",
    "print()\n",
    "\n",
    "print(\"And some more constants in the math module:\")\n",
    "import math\n",
    "print(math.pi)\n",
    "print(math.e)"
   ]
  },
  {
   "cell_type": "code",
   "execution_count": null,
   "metadata": {},
   "outputs": [],
   "source": [
    "## builtin functions\n",
    "print(\"Type conversion functions:\")\n",
    "print(bool(0))   # convert to boolean (True or False)\n",
    "print(float(42)) # convert to a floating point number\n",
    "print(int(2.8))  # convert to an integer (int)\n",
    "\n",
    "print()\n",
    "print(\"And some basic math functions:\")\n",
    "print(abs(-5))   # absolute value\n",
    "print(max(2,3))  # return the max value\n",
    "print(min(2,3))  # return the min value\n",
    "print(pow(2,3))  # raise to the given power (pow(x,y) == x**y)\n",
    "print(round(2.354, 1)) # round with the given number of digits\n",
    "\n",
    "## ATTENTION on the round function\n",
    "print()\n",
    "print(round(0.5)) # This evaluates to 0 - what!\n",
    "print(round(1.5)) # And this will be 2 - so confusing!"
   ]
  },
  {
   "attachments": {
    "image.png": {
     "image/png": "[encoded data removed]"
    }
   },
   "cell_type": "markdown",
   "metadata": {},
   "source": [
    "### builtin mathmatical operations\n",
    "![image.png](attachment:image.png)"
   ]
  },
  {
   "cell_type": "code",
   "execution_count": null,
   "metadata": {},
   "outputs": [],
   "source": [
    "##things to be noted for the builtin operations\n",
    "# intefer division always go to left\n",
    "print(\"5 // 3 = \", 5//3)\n",
    "print(\"-5 //3 = \", -5//3)\n",
    "\n",
    "#modulo on negative values returns positive values\n",
    "print()\n",
    "print(\"5 % 3 = \", 5%3)\n",
    "print(\"-5 % 3 = \", -5%3)\n",
    "\n",
    "# approximate values of floating-point numbers\n",
    "print()\n",
    "print(0.1 + 0.1 == 0.2)\n",
    "print(0.1 + 0.1 + 0.1 == 0.3) #use a helper function\n",
    "print(0.1 + 0.1 +0.1)"
   ]
  },
  {
   "cell_type": "markdown",
   "metadata": {},
   "source": [
    "## functions"
   ]
  },
  {
   "cell_type": "code",
   "execution_count": null,
   "metadata": {},
   "outputs": [],
   "source": [
    "def f(x, y=2): #default arguments\n",
    "    '''\n",
    "    here can be some documentaion about the function\n",
    "    '''\n",
    "    result = x**y\n",
    "    return result # return terminate a function; print doesn't\n",
    "print(f(2))\n",
    "print(f(2, 4))\n",
    "print()\n"
   ]
  },
  {
   "cell_type": "code",
   "execution_count": null,
   "metadata": {},
   "outputs": [],
   "source": [
    "# local and global varaibles\n",
    "def f(x):\n",
    "    print(\"In f, x =\", x)\n",
    "    x += 5   #change local variable doesn't change the global variable\n",
    "    return x\n",
    "\n",
    "def g(x):\n",
    "    return f(x*2) + f(x*3)\n",
    "print(g(2))"
   ]
  },
  {
   "cell_type": "code",
   "execution_count": null,
   "metadata": {},
   "outputs": [],
   "source": [
    "# use global to change a global variable\n",
    "g = 100\n",
    "\n",
    "def f(x):\n",
    "    # If we modify a global variable, we must declare it as global.\n",
    "    # Otherwise, Python will assume it is a local variable.\n",
    "    global g\n",
    "    g += 1\n",
    "    return x + g\n",
    "\n",
    "print(f(5)) # 106\n",
    "print(f(5)) # 107\n",
    "print(g)    # 102, the value stored in g is changed!"
   ]
  },
  {
   "cell_type": "markdown",
   "metadata": {},
   "source": [
    "## conditionals\n",
    "- if statement\n",
    "- if-else statement\n",
    "- if-else expression\n",
    "- if-elif-else statement"
   ]
  },
  {
   "cell_type": "code",
   "execution_count": null,
   "metadata": {},
   "outputs": [],
   "source": [
    "## if statement\n",
    "def abs1(n):\n",
    "    if (n < 0):\n",
    "        n = -n\n",
    "    return n\n",
    "print(abs1(-2))\n",
    "print(abs1(2))\n",
    "print()\n",
    "\n",
    "## if-else statement\n",
    "def abs5(n):\n",
    "    if (n >= 0):\n",
    "        return n\n",
    "    else:          # for illustration only, don't use unnecessary else\n",
    "        return -n\n",
    "print(abs1(-2))\n",
    "print(abs1(2))\n",
    "print()\n",
    "\n",
    "## if-else expression\n",
    "def abs7(n):\n",
    "    return n if (n >= 0) else -n\n",
    "print(abs1(-2))\n",
    "print(abs1(2))\n",
    "print()\n",
    "\n",
    "## if-elif-else statement\n",
    "def getGrade(score):\n",
    "    if (score >= 90):\n",
    "        grade = \"A\"\n",
    "    elif (score >= 80): \n",
    "        grade = \"B\"\n",
    "    elif (score >= 70): # can contains several elif\n",
    "        grade = \"C\"\n",
    "    elif (score >= 60):\n",
    "        grade = \"D\"\n",
    "    else:\n",
    "        grade = \"F\"\n",
    "    return grade\n",
    "\n",
    "print(\"103 -->\", getGrade(103))\n",
    "print(\" 88 -->\", getGrade(88))\n",
    "print(\" 70 -->\", getGrade(70))\n",
    "print(\" 61 -->\", getGrade(61))\n",
    "print(\" 22 -->\", getGrade(22))"
   ]
  },
  {
   "cell_type": "markdown",
   "metadata": {},
   "source": [
    "## Loops\n",
    "- for loops\n",
    "- while loops\n",
    "- break and continue"
   ]
  },
  {
   "cell_type": "code",
   "execution_count": null,
   "metadata": {},
   "outputs": [],
   "source": [
    "## a for loop is the preferred way to loop over a fixed reange\n",
    "n = 5\n",
    "for row in range(n):\n",
    "    for col in range(n+3):\n",
    "        print(\"*\", end=\"\")\n",
    "    print()"
   ]
  },
  {
   "cell_type": "code",
   "execution_count": null,
   "metadata": {},
   "outputs": [],
   "source": [
    "## use while loop when there is an indeterminate number of iterations\n",
    "def leftmostDigit(n):\n",
    "    n = abs(n)\n",
    "    while (n >= 10):\n",
    "        n = n//10\n",
    "    return n\n",
    "\n",
    "print(leftmostDigit(72658489290098) == 7)"
   ]
  },
  {
   "cell_type": "code",
   "execution_count": null,
   "metadata": {},
   "outputs": [],
   "source": [
    "## continue and break in the loop\n",
    "for n in range(200):\n",
    "    if (n % 3 == 0):\n",
    "        continue # continue skips rest of this loop, so 0, 3, 6 is not printed here\n",
    "    elif (n == 8):\n",
    "        break # break skips rest of entire loop, so any integer bigger than 7 is not printed\n",
    "    print(n, end=\" \")\n",
    "print()"
   ]
  },
  {
   "cell_type": "markdown",
   "metadata": {},
   "source": [
    "## Strings\n",
    "- string literals and escape\n",
    "- string constants and and operations\n",
    "- string methods\n",
    "- string formating"
   ]
  },
  {
   "cell_type": "code",
   "execution_count": null,
   "metadata": {},
   "outputs": [],
   "source": [
    "## basic string literals and how to escape them\n",
    "\n",
    "print('single-quotes')\n",
    "print(\"double-quotes\") # triple quotes are also availabel\n",
    "print(\"Two types of quotes are useful when you want to 'cite something'\")\n",
    "print(\"abc\\ndef\") # \\n starts a newline\n",
    "print(\"abc\\tdef\") # \\t give a tab\n",
    "\n",
    "print()\n",
    "# ways to escape special characters\n",
    "print(\"Double-quote: \\\"\")\n",
    "print(\"Backslash: \\\\\")\n",
    "print(\"These items are tab-delimited, 3-per-line:\")\n",
    "print(\"abc\\tdef\\tg\\nhi\\tj\\\\\\tk\\n---\")"
   ]
  },
  {
   "cell_type": "code",
   "execution_count": null,
   "metadata": {},
   "outputs": [],
   "source": [
    "## string constants are useful in data processing\n",
    "import string\n",
    "print(string.ascii_letters)   # abcdefghijklmnopqrstuvwxyzABCDEFGHIJKLMNOPQRSTUVWXYZ\n",
    "print(string.ascii_lowercase) # abcdefghijklmnopqrstuvwxyz\n",
    "print(\"-----------\")\n",
    "print(string.ascii_uppercase) # ABCDEFGHIJKLMNOPQRSTUVWXYZ\n",
    "print(string.digits)          # 0123456789\n",
    "print(\"-----------\")\n",
    "print(string.punctuation)     # '!\"#$%&\\'()*+,-./:;<=>?@[\\\\]^_`{|}~'\n",
    "print(string.printable)       # digits + letters + punctuation + whitespace\n",
    "print(\"-----------\")\n",
    "print(string.whitespace)      # space + tab + linefeed + return + ..."
   ]
  },
  {
   "cell_type": "code",
   "execution_count": null,
   "metadata": {},
   "outputs": [],
   "source": [
    "## basic string operations\n",
    "\n",
    "print(\"abc\" + \"def\") # string + operator\n",
    "print(\"ring\" in \"strings\") # string in operator\n",
    "print()\n",
    "\n",
    "\n",
    "## string index is very similar to a list\n",
    "s = \"abcdef\"\n",
    "print(s[2]) # indexing a single character\n",
    "print(s[-1]) # also support negative indexes\n",
    "print(s[1:3]) # slicing a range of characters\n",
    "print(s[1:7:2]) # slicing with a step parameter\n",
    "print(s[::-1]) # reversing a string with slicing"
   ]
  },
  {
   "cell_type": "code",
   "execution_count": null,
   "metadata": {},
   "outputs": [],
   "source": [
    "## loop with or without indexes\n",
    "for i in range(len(s)):\n",
    "    print(i, s[i])\n",
    "    \n",
    "for c in s:\n",
    "    print(c)"
   ]
  },
  {
   "cell_type": "code",
   "execution_count": null,
   "metadata": {},
   "outputs": [],
   "source": [
    "## string methods for determing types\n",
    "def p(test):\n",
    "    print(\"True     \" if test else \"False    \", end=\"\")\n",
    "def printRow(s):\n",
    "    print(\" \" + s + \"  \", end=\"\")\n",
    "    p(s.isalnum())\n",
    "    p(s.isalpha())\n",
    "    p(s.isdigit())\n",
    "    p(s.islower())\n",
    "    p(s.isspace())\n",
    "    p(s.isupper())\n",
    "    print()\n",
    "def printTable():\n",
    "    print(\"  s   isalnum  isalpha  isdigit  islower  isspace  isupper\")\n",
    "    for s in \"ABCD,ABcd,abcd,ab12,1234,    ,AB?!\".split(\",\"):\n",
    "        printRow(s)\n",
    "printTable()"
   ]
  },
  {
   "cell_type": "code",
   "execution_count": null,
   "metadata": {},
   "outputs": [],
   "source": [
    "## strng edits\n",
    "print(\"This is nice. Yes!\".lower())\n",
    "print(\"So is this? Sure!!\".upper())\n",
    "print(\"   Strip removes leading and trailing whitespace only    \".strip())\n",
    "print(\"This is nice.  Really nice.\".replace(\"nice\", \"sweet\"))\n",
    "print(\"This is nice.  Really nice.\".replace(\"nice\", \"sweet\", 1)) # count = 1\n",
    "\n",
    "print(\"----------------\")\n",
    "s = \"This is so so fun!\"\n",
    "t = s.replace(\"so \", \"\")\n",
    "print(t)\n",
    "print(s) # note that s is unmodified (strings are immutable!)"
   ]
  },
  {
   "cell_type": "code",
   "execution_count": null,
   "metadata": {},
   "outputs": [],
   "source": [
    "## substring search\n",
    "print(\"This is a history test\".count(\" is \")) # 3\n",
    "print(\"This IS a history test\".count(\"is\")) # 2, caps are different\n",
    "print(\"-------\")\n",
    "print(\"Dogs and cats!\".startswith(\"Do\"))    # True\n",
    "print(\"Dogs and cats!\".startswith(\"Don't\")) # False\n",
    "print(\"-------\")\n",
    "print(\"Dogs and cats!\".endswith(\"!\"))       # True\n",
    "print(\"Dogs and cats!\".endswith(\"rats!\"))   # False\n",
    "print(\"-------\")\n",
    "print(\"Dogs and cats!\".find(\"and\"))         # 5, returns the first index\n",
    "print(\"Dogs and cats!\".find(\"or\"))          # If not found, it returns -1.\n",
    "print(\"-------\")\n",
    "print(\"Dogs and cats!\".index(\"and\"))        # 5, the starting index\n",
    "print(\"Dogs and cats!\".index(\"or\"))         # crash!"
   ]
  },
  {
   "cell_type": "code",
   "execution_count": null,
   "metadata": {},
   "outputs": [],
   "source": [
    "## formatting string with placeholders\n",
    "breed = \"beagle\" # %s for string\n",
    "print(\"Did you see a %s?\" % breed)\n",
    "\n",
    "dogs = 42 \n",
    "print(\"There are %d dogs.\" % dogs)\n",
    "\n",
    "grade = 87.385\n",
    "print(\"Your current grade is %f!\" % grade)\n",
    "\n",
    "grade = 87.385 # format a float with %.[precision]f\n",
    "print(\"Your current grade is %0.2f!\" % grade)\n",
    "\n",
    "dogs = 42\n",
    "cats = 18\n",
    "exclamation = \"Wow\"\n",
    "print(\"There are %d dogs and %d cats. %s!!!\" % (dogs, cats, exclamation)) # be in the same order"
   ]
  },
  {
   "cell_type": "markdown",
   "metadata": {},
   "source": [
    "# 1D lists and tuples\n",
    "- list index, slicing, aliases\n",
    "- list methods to manipunate lists\n",
    "- looping a list is the same as string\n",
    "-tuples and others"
   ]
  },
  {
   "cell_type": "code",
   "execution_count": null,
   "metadata": {},
   "outputs": [],
   "source": [
    "## basic properties of list\n",
    "a = [ 2, 3, 5, 2 ]\n",
    "print(\"a = \", a)\n",
    "print(\"len =\", len(a))\n",
    "print(\"min =\", min(a))\n",
    "print(\"max =\", max(a))\n",
    "print(\"sum =\", sum(a))\n",
    "\n",
    "## indexing and slicing is similar to string\n",
    "\n",
    "## original and liases change at the same time\n",
    "a = [ 2, 3, 5, 7 ] # Create a list\n",
    "b = a # Create an alias to the list\n",
    "a[0] = 42\n",
    "b[1] = 99 # Both are changed! We now have two references (aliases) to the SAME list\n",
    "print(a)\n",
    "print(b)"
   ]
  },
  {
   "cell_type": "code",
   "execution_count": null,
   "metadata": {},
   "outputs": [],
   "source": [
    "## lists can be modified destructively (change the list itself) or non-destructively (create new list)\n",
    "a = [ 2, 3 ] # add one item\n",
    "a.append(7)\n",
    "print(a)\n",
    "print()\n",
    "\n",
    "a = [ 2, 3 ] # add a list of items\n",
    "a += [ 11, 13 ]\n",
    "print(a)\n",
    "print()\n",
    "\n",
    "a = [ 2, 3 ] # another way to add a list of items\n",
    "a.extend([ 17, 19 ])\n",
    "print(a)\n",
    "print()\n",
    "\n",
    "a = [ 2, 3, 5, 7, 11 ] # insert a item at a given index\n",
    "a.insert(2, 42)  # at index 2, insert 42\n",
    "print(a)\n",
    "print()\n",
    "\n",
    "# above methods change a, if you don't want to change it\n",
    "# either construct a new list or use slicing\n",
    "a = [ 2, 3 ]\n",
    "b = a + [ 13, 17 ]\n",
    "print(a)\n",
    "print(b)"
   ]
  },
  {
   "cell_type": "code",
   "execution_count": null,
   "metadata": {},
   "outputs": [],
   "source": [
    "## removing elements\n",
    "a = [ 2, 3, 5, 3, 7, 6, 5, 11, 13 ]\n",
    "print(\"a =\", a)\n",
    "\n",
    "a.remove(5) # first 5 is removed\n",
    "print(\"After a.remove(5), a=\", a)\n",
    "\n",
    "a.remove(5)\n",
    "print(\"After another a.remove(5), a=\", a)\n",
    "print()\n",
    "# removing at a certain index\n",
    "a = [ 2, 3, 4, 5, 6, 7, 8 ]\n",
    "print(\"a =\", a)\n",
    "\n",
    "item = a.pop(3)\n",
    "print(\"After item = a.pop(3)\")\n",
    "print(\"   item =\", item)\n",
    "print(\"   a =\", a)\n",
    "\n",
    "# can also remove with slice assignment or with the del operator"
   ]
  },
  {
   "cell_type": "code",
   "execution_count": null,
   "metadata": {},
   "outputs": [],
   "source": [
    "## sort a list\n",
    "a = [ 7, 2, 5, 3, 5, 11, 7 ]\n",
    "print(\"At first, a =\", a)\n",
    "a.sort() # destructively\n",
    "print(\"After a.sort(), a =\",a)\n",
    "print()\n",
    "\n",
    "a = [ 7, 2, 5, 3, 5, 11, 7 ]\n",
    "print(\"At first\")\n",
    "print(\"   a =\", a)\n",
    "b = sorted(a) #non-destructively\n",
    "print(\"After b = sorted(a)\")\n",
    "print(\"   a =\", a)\n",
    "print(\"   b =\", b)"
   ]
  },
  {
   "cell_type": "code",
   "execution_count": null,
   "metadata": {},
   "outputs": [],
   "source": [
    "## tuple syntax\n",
    "t = (1, 2, 3)\n",
    "print(type(t), len(t), t)\n",
    "\n",
    "a = [1, 2, 3] # tuple can be constructed from a list\n",
    "t = tuple(a)\n",
    "print(type(t), len(t), t)\n",
    "print()\n",
    "\n",
    "## tuples help to assignment, for store pair information.\n",
    "(x, y, z) = (1, 2, 3)\n",
    "print(x)\n",
    "print(y)\n",
    "print(z)\n",
    "print()\n",
    "\n",
    "## tuples are immutable\n",
    "t = (1, 2, 3)\n",
    "print(t[0])\n",
    "\n",
    "t[0] = 42    # crash!\n",
    "print(t[0])"
   ]
  },
  {
   "cell_type": "code",
   "execution_count": null,
   "metadata": {},
   "outputs": [],
   "source": [
    "## list comprehension, a fast way to getcreate new list\n",
    "a = [i for i in range(10)]\n",
    "print(a)\n",
    "\n",
    "a = [(i*100) for i in range(20) if i%5 == 0]\n",
    "print(a)"
   ]
  },
  {
   "cell_type": "markdown",
   "metadata": {},
   "source": [
    "# sets and dictinaries"
   ]
  },
  {
   "cell_type": "code",
   "execution_count": 1,
   "metadata": {},
   "outputs": [
    {
     "name": "stdout",
     "output_type": "stream",
     "text": [
      "{'cat', 'dog', 'cow'}\n",
      "\n",
      "{2, 3, 5}\n"
     ]
    }
   ],
   "source": [
    "## sets basics\n",
    "# can be created via a list, any iterable object, or a statically-allocated set\n",
    "s = set([\"cat\", \"cow\", \"dog\"])\n",
    "print(s)     # prints {'cow', 'dog', 'cat'}\n",
    "print()\n",
    "s = { 2, 3, 5 }  # a set features a curly bracket\n",
    "print(s)     "
   ]
  },
  {
   "cell_type": "code",
   "execution_count": 2,
   "metadata": {},
   "outputs": [
    {
     "name": "stdout",
     "output_type": "stream",
     "text": [
      "{2, 4, 7, 8, 9, 10}\n",
      "2\n",
      "4\n",
      "7\n",
      "8\n",
      "9\n",
      "10\n",
      "\n",
      "{2}\n",
      "1\n"
     ]
    },
    {
     "ename": "TypeError",
     "evalue": "unhashable type: 'list'",
     "output_type": "error",
     "traceback": [
      "\u001b[0;31m---------------------------------------------------------------------------\u001b[0m",
      "\u001b[0;31mTypeError\u001b[0m                                 Traceback (most recent call last)",
      "\u001b[0;32m<ipython-input-2-97d8942635b7>\u001b[0m in \u001b[0;36m<module>\u001b[0;34m\u001b[0m\n\u001b[1;32m     14\u001b[0m \u001b[0;31m# elements must be immutable\u001b[0m\u001b[0;34m\u001b[0m\u001b[0;34m\u001b[0m\u001b[0;34m\u001b[0m\u001b[0m\n\u001b[1;32m     15\u001b[0m \u001b[0ma\u001b[0m \u001b[0;34m=\u001b[0m \u001b[0;34m[\u001b[0m\u001b[0;34m\"lists\"\u001b[0m\u001b[0;34m,\u001b[0m \u001b[0;34m\"are\"\u001b[0m\u001b[0;34m,\u001b[0m \u001b[0;34m\"mutable\"\u001b[0m\u001b[0;34m]\u001b[0m\u001b[0;34m\u001b[0m\u001b[0;34m\u001b[0m\u001b[0m\n\u001b[0;32m---> 16\u001b[0;31m \u001b[0ms\u001b[0m \u001b[0;34m=\u001b[0m \u001b[0mset\u001b[0m\u001b[0;34m(\u001b[0m\u001b[0;34m[\u001b[0m\u001b[0ma\u001b[0m\u001b[0;34m]\u001b[0m\u001b[0;34m)\u001b[0m       \u001b[0;31m# TypeError: unhashable type: 'list'\u001b[0m\u001b[0;34m\u001b[0m\u001b[0;34m\u001b[0m\u001b[0m\n\u001b[0m\u001b[1;32m     17\u001b[0m \u001b[0mprint\u001b[0m\u001b[0;34m(\u001b[0m\u001b[0ms\u001b[0m\u001b[0;34m)\u001b[0m\u001b[0;34m\u001b[0m\u001b[0;34m\u001b[0m\u001b[0m\n\u001b[1;32m     18\u001b[0m \u001b[0;34m\u001b[0m\u001b[0m\n",
      "\u001b[0;31mTypeError\u001b[0m: unhashable type: 'list'"
     ]
    }
   ],
   "source": [
    "## sets properties\n",
    "# sets are unordered, meaning no indexing\n",
    "s = set([2,4,8, 10, 9, 7])\n",
    "print(s)          \n",
    "for element in s:  # no specific order\n",
    "    print(element) \n",
    "print()\n",
    "\n",
    "# elements are unique\n",
    "s = set([2,2,2])\n",
    "print(s)          # prints {2}\n",
    "print(len(s))     # prints 1\n",
    "\n",
    "# elements must be immutable\n",
    "a = [\"lists\", \"are\", \"mutable\"]\n",
    "s = set([a])       # TypeError: unhashable type: 'list'\n",
    "print(s)\n",
    "\n",
    "# sets are more efficient than lists"
   ]
  },
  {
   "cell_type": "code",
   "execution_count": null,
   "metadata": {},
   "outputs": [],
   "source": [
    "## some set operations\n",
    "s = set([1, 2, 3])\n",
    "# l = len(s) \n",
    "# s2 = s.copy()\n",
    "# s.clear()\n",
    "# x in s test for membership\n",
    "# s.add(x)\n",
    "# s.remove(x)\n",
    "# s.discard(x) remove x from set s if present\n",
    "# s.issubset(s2)\n",
    "# s.union(s2) new set with elements from both set s and set s2\n",
    "# s.intersection(s2)\n",
    "# s.difference(s2)"
   ]
  },
  {
   "cell_type": "code",
   "execution_count": null,
   "metadata": {},
   "outputs": [],
   "source": [
    "## dictionary is a list of (key, value) paires, mapping key to value. Keys forms a set, values are unrestricted.\n",
    "d = dict() # construct a dictionary\n",
    "d[2] = 100\n",
    "d[4] = \"CMU\"\n",
    "d[8] = [300]\n",
    "print(d)  # unpredictable order\n",
    "\n",
    "d = dict() # changge the key:value pair information\n",
    "d[2] = 100\n",
    "d[2] = 200\n",
    "d[2] = 400\n",
    "print(d)  # { 2:400 }"
   ]
  },
  {
   "cell_type": "markdown",
   "metadata": {},
   "source": [
    "# Object-Oriented-Programming (OOP)"
   ]
  },
  {
   "cell_type": "code",
   "execution_count": null,
   "metadata": {},
   "outputs": [],
   "source": [
    "# object is a data strucuture that has use-defined properties and methods associated with it.\n",
    "# objects are defined using a class, which can be thought as a template for a generic object.\n",
    "\n",
    "def gcd(x, y):\n",
    "    '''find the greatest common divisor'''\n",
    "    if (y == 0): return x\n",
    "    else: return gcd(y, x%y)\n",
    "\n",
    "class Fraction(object):\n",
    "    def __init__(self, num, den): # constructor\n",
    "        # Partial implementation -- does not deal with 0 or negatives, etc\n",
    "        g = gcd(num, den)\n",
    "        self.num = num // g\n",
    "        self.den = den // g\n",
    "\n",
    "    def __repr__(self): # helps to print the instance as string\n",
    "        return '%d/%d' % (self.num, self.den)\n",
    "\n",
    "    def __eq__(self, other): # helps to compare different instances\n",
    "        return (isinstance(other, Fraction) and\n",
    "                ((self.num == other.num) and (self.den == other.den)))\n",
    "\n",
    "    def times(self, other): # attributes, emphasis differences between the above\n",
    "        if (isinstance(other, int)):\n",
    "            return Fraction(self.num * other, self.den)\n",
    "        else:\n",
    "            return Fraction(self.num * other.num, self.den * other.den)"
   ]
  },
  {
   "cell_type": "code",
   "execution_count": null,
   "metadata": {},
   "outputs": [],
   "source": [
    "def testFractionClass():\n",
    "    print('Testing Fraction class...', end='')\n",
    "    assert(str(Fraction(2, 3)) == '2/3')\n",
    "    assert(str([Fraction(2, 3)]) == '[2/3]')\n",
    "    assert(Fraction(2,3) == Fraction(2,3))\n",
    "    assert(Fraction(2,3) != Fraction(2,5))\n",
    "    assert(Fraction(2,3) != \"Don't crash here!\")\n",
    "    assert(Fraction(2,3).times(Fraction(3,4)) == Fraction(1,2))\n",
    "    assert(Fraction(2,3).times(5) == Fraction(10,3))\n",
    "    print('Passed.')\n",
    "\n",
    "if (__name__ == '__main__'):\n",
    "    testFractionClass()"
   ]
  },
  {
   "cell_type": "code",
   "execution_count": null,
   "metadata": {},
   "outputs": [],
   "source": [
    "## static methods\n",
    "class A(object):\n",
    "    @staticmethod\n",
    "    def f(x): # doesn't need to call self\n",
    "        return 10*x \n",
    "\n",
    "print(A.f(42))"
   ]
  },
  {
   "cell_type": "code",
   "execution_count": null,
   "metadata": {},
   "outputs": [],
   "source": [
    "## Inheritance\n",
    "class A(object):\n",
    "    def __init__(self, x):\n",
    "        self.x = x\n",
    "    def f(self):\n",
    "        return 10*self.x\n",
    "    def g(self):\n",
    "        return 100*self.x\n",
    "\n",
    "class B(A): # inherit the template from class A\n",
    "    def __init__(self, x=42, y=99):\n",
    "        super().__init__(x) # call overridden init!\n",
    "        self.y = y\n",
    "    def f(self): # can override methods too\n",
    "        return 1000*self.x\n",
    "\n",
    "\n",
    "a = A(5)\n",
    "b = B(7)\n",
    "print(a.f()) # 50\n",
    "print(a.g()) # 500\n",
    "print(b.f()) # 7000\n",
    "print(b.g()) # 700"
   ]
  },
  {
   "cell_type": "markdown",
   "metadata": {},
   "source": [
    "## Reference\n",
    "The materials mainly comes from a introduction programming course, 15-112. Here is the link:\n",
    "http://www.krivers.net/15112-s19/schedule.html"
   ]
  },
  {
   "cell_type": "code",
   "execution_count": null,
   "metadata": {},
   "outputs": [],
   "source": []
  }
 ],
 "metadata": {
  "kernelspec": {
   "display_name": "Python 3 (ipykernel)",
   "language": "python",
   "name": "python3"
  },
  "language_info": {
   "codemirror_mode": {
    "name": "ipython",
    "version": 3
   },
   "file_extension": ".py",
   "mimetype": "text/x-python",
   "name": "python",
   "nbconvert_exporter": "python",
   "pygments_lexer": "ipython3",
   "version": "3.8.13"
  }
 },
 "nbformat": 4,
 "nbformat_minor": 4
}
