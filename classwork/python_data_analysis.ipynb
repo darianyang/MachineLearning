{
 "cells": [
  {
   "cell_type": "code",
   "execution_count": 1,
   "metadata": {},
   "outputs": [],
   "source": [
    "import numpy as np\n",
    "import pandas as pd\n",
    "import matplotlib.pyplot as plt\n",
    "import seaborn as sns"
   ]
  },
  {
   "cell_type": "markdown",
   "metadata": {},
   "source": [
    "# Numpy\n",
    "- a library for manipulating high-dimensional arrays and matrces\n",
    "- a collection of high-level mathmatical functions for operating on the matrices\n",
    "- for numerical values"
   ]
  },
  {
   "cell_type": "code",
   "execution_count": 2,
   "metadata": {},
   "outputs": [
    {
     "name": "stdout",
     "output_type": "stream",
     "text": [
      "[1 2 3]\n",
      "[[1 2 3]]\n",
      "[[0 1 2]\n",
      " [3 4 5]\n",
      " [6 7 8]]\n"
     ]
    }
   ],
   "source": [
    "#create an array\n",
    "a = np.array([1,2,3])\n",
    "b = np.array([[x for x in range(1,4)]])\n",
    "c = np.arange(9).reshape(3,3)\n",
    "print(a)\n",
    "print(b)\n",
    "print(c)"
   ]
  },
  {
   "cell_type": "code",
   "execution_count": null,
   "metadata": {},
   "outputs": [],
   "source": []
  },
  {
   "cell_type": "code",
   "execution_count": 3,
   "metadata": {},
   "outputs": [
    {
     "name": "stdout",
     "output_type": "stream",
     "text": [
      "(3,)\n",
      "(1, 3)\n"
     ]
    }
   ],
   "source": [
    "# note the difference between a and b (see \"covector\")\n",
    "print(a.shape)\n",
    "print(b.shape)"
   ]
  },
  {
   "cell_type": "code",
   "execution_count": 73,
   "metadata": {},
   "outputs": [
    {
     "name": "stdout",
     "output_type": "stream",
     "text": [
      "[2 3 4]\n",
      "[[2 4 6]]\n",
      "[[False False False]\n",
      " [ True False False]\n",
      " [False False False]]\n"
     ]
    }
   ],
   "source": [
    "#operation broadcasting\n",
    "print(a + 1)\n",
    "print(b * 2)\n",
    "print(c == 3)"
   ]
  },
  {
   "cell_type": "code",
   "execution_count": 4,
   "metadata": {},
   "outputs": [
    {
     "name": "stdout",
     "output_type": "stream",
     "text": [
      "####################\n",
      "[[1]\n",
      " [2]\n",
      " [3]]\n",
      "[1 2 3]\n",
      "####################\n",
      "[[ 0  1  4]\n",
      " [ 9 16 25]\n",
      " [36 49 64]]\n",
      "[[ 0  1  4]\n",
      " [ 9 16 25]\n",
      " [36 49 64]]\n",
      "####################\n",
      "[[ 15  18  21]\n",
      " [ 42  54  66]\n",
      " [ 69  90 111]]\n",
      "[[ 15  18  21]\n",
      " [ 42  54  66]\n",
      " [ 69  90 111]]\n",
      "[[ 15  18  21]\n",
      " [ 42  54  66]\n",
      " [ 69  90 111]]\n"
     ]
    }
   ],
   "source": [
    "# Matrix operations\n",
    "\n",
    "# transpose\n",
    "print(\"#\"*20)\n",
    "print(b.T)\n",
    "print(a.T)\n",
    "\n",
    "# Hadamard product (element wise multiplication - np default)\n",
    "print(\"#\"*20)\n",
    "print(c * c)\n",
    "print(np.multiply(c,c))\n",
    "\n",
    "# dot product\n",
    "print(\"#\"*20)\n",
    "print(c @ c)\n",
    "print(np.dot(c,c))\n",
    "print(np.matmul(c,c))\n"
   ]
  },
  {
   "cell_type": "code",
   "execution_count": 5,
   "metadata": {},
   "outputs": [
    {
     "name": "stdout",
     "output_type": "stream",
     "text": [
      "[ 9 12 15]\n",
      "[ 3 12 21]\n",
      "[[0 1 2]\n",
      " [3 4 5]\n",
      " [6 7 8]]\n",
      "[[ 1  3  5]\n",
      " [ 4  6  8]\n",
      " [ 7  9 11]]\n",
      "[[ 1  2  3]\n",
      " [ 5  6  7]\n",
      " [ 9 10 11]]\n"
     ]
    }
   ],
   "source": [
    "#Important concept: Axes in numpy\n",
    "#consider it as the direction of i-th paranthesis in an array (i start from 0)\n",
    "print(np.sum(c,axis=0))\n",
    "print(np.sum(c,axis=1))\n",
    "#There are a lot of tricky ways to utilize this feature\n",
    "print(c)\n",
    "print(c + b)\n",
    "print(c + b.T)"
   ]
  },
  {
   "cell_type": "code",
   "execution_count": 93,
   "metadata": {},
   "outputs": [
    {
     "name": "stdout",
     "output_type": "stream",
     "text": [
      "[10 11 12 13 14 15 16 17 18 19]\n",
      "11\n",
      "[12 13]\n",
      "[13 15 17 19]\n",
      "[]\n",
      "[19 17 15 13 11]\n",
      "[19 17 15]\n"
     ]
    }
   ],
   "source": [
    "# Indexing\n",
    "# \":\" define range\n",
    "d = np.arange(10) + 10\n",
    "print(d)\n",
    "print(d[1])\n",
    "print(d[2:4])\n",
    "print(d[3::2])\n",
    "print(d[-1:-7])\n",
    "print(d[-1::-2])\n",
    "print(d[-1:-7:-2])"
   ]
  },
  {
   "cell_type": "code",
   "execution_count": 102,
   "metadata": {},
   "outputs": [
    {
     "name": "stdout",
     "output_type": "stream",
     "text": [
      "####################\n",
      "[[10 11 12]\n",
      " [13 14 15]\n",
      " [16 17 18]]\n",
      "####################\n",
      "14\n",
      "####################\n",
      "[10 11 12]\n",
      "[[10 11 12]]\n",
      "####################\n",
      "[12 15 18]\n",
      "[[12]\n",
      " [15]\n",
      " [18]]\n",
      "####################\n",
      "[[12]\n",
      " [15]]\n"
     ]
    }
   ],
   "source": [
    "# Indexing\n",
    "# \",\" separate dimension\n",
    "c = np.arange(9).reshape(3,3) + 10\n",
    "print(\"#\"*20)\n",
    "print(c)\n",
    "\n",
    "print(\"#\"*20)\n",
    "print(c[1,1])\n",
    "\n",
    "print(\"#\"*20)\n",
    "print(c[0,:])\n",
    "print(c[0:1,:])\n",
    "\n",
    "print(\"#\"*20)\n",
    "print(c[:,-1])\n",
    "print(c[:,-1:])\n",
    "\n",
    "print(\"#\"*20)\n",
    "print(c[0:2,-1:])"
   ]
  },
  {
   "cell_type": "code",
   "execution_count": 109,
   "metadata": {},
   "outputs": [
    {
     "name": "stdout",
     "output_type": "stream",
     "text": [
      "####################\n",
      "float64\n",
      "####################\n",
      "<U1\n",
      "[5 6 7]\n"
     ]
    }
   ],
   "source": [
    "#data type in Numpy\n",
    "\n",
    "print(\"#\"*20)\n",
    "a = np.array([])\n",
    "print(a.dtype)\n",
    "\n",
    "print(\"#\"*20)\n",
    "a = np.array(['1','2','3'])\n",
    "print(a.dtype)\n",
    "print(a.astype(int) + 4)"
   ]
  },
  {
   "cell_type": "code",
   "execution_count": 113,
   "metadata": {},
   "outputs": [
    {
     "name": "stdout",
     "output_type": "stream",
     "text": [
      "[1 2 3 4 5 6 7]\n",
      "[3 5]\n",
      "[1 2 4]\n",
      "[6 7]\n"
     ]
    }
   ],
   "source": [
    "#set operations\n",
    "a = np.array([1,2,3,4,5])\n",
    "b = np.array([3,5,6,7])\n",
    "print(np.union1d(a, b))\n",
    "print(np.intersect1d(a,b))\n",
    "print(np.setdiff1d(a, b))\n",
    "print(np.setdiff1d(b, a))\n",
    "# Please find function np.setdiff1d in numpy's manual and read it, it could be really helpful sometimes"
   ]
  },
  {
   "cell_type": "markdown",
   "metadata": {},
   "source": [
    "### Useful Tips"
   ]
  },
  {
   "cell_type": "code",
   "execution_count": 6,
   "metadata": {},
   "outputs": [
    {
     "data": {
      "text/plain": [
       "float"
      ]
     },
     "execution_count": 6,
     "metadata": {},
     "output_type": "execute_result"
    }
   ],
   "source": [
    "# np.nan is the placeholder for damaged data in numpy, it is considered as a float \n",
    "type(np.nan)"
   ]
  },
  {
   "cell_type": "code",
   "execution_count": 14,
   "metadata": {},
   "outputs": [
    {
     "data": {
      "text/plain": [
       "False"
      ]
     },
     "execution_count": 14,
     "metadata": {},
     "output_type": "execute_result"
    }
   ],
   "source": [
    "# np.nan is NOT equal to ANYTHING, including itself!\n",
    "a = np.nan\n",
    "a == a"
   ]
  },
  {
   "cell_type": "code",
   "execution_count": 31,
   "metadata": {},
   "outputs": [
    {
     "data": {
      "text/plain": [
       "array([False, False,  True, False, False])"
      ]
     },
     "execution_count": 31,
     "metadata": {},
     "output_type": "execute_result"
    }
   ],
   "source": [
    "# a way to detect np.nan in an array\n",
    "a = np.array([1, 2, np.nan, 4, 5])\n",
    "np.isnan(a)"
   ]
  },
  {
   "cell_type": "code",
   "execution_count": 37,
   "metadata": {},
   "outputs": [
    {
     "name": "stdout",
     "output_type": "stream",
     "text": [
      "[  1 100   3]\n"
     ]
    }
   ],
   "source": [
    "# Just like list in Python, copying np.array would only copy it's reference/pointer by default\n",
    "a = np.array([1,2,3])\n",
    "b = a\n",
    "b[1] = 100\n",
    "print(a)"
   ]
  },
  {
   "cell_type": "code",
   "execution_count": 38,
   "metadata": {},
   "outputs": [
    {
     "name": "stdout",
     "output_type": "stream",
     "text": [
      "[1 2 3]\n"
     ]
    }
   ],
   "source": [
    "#Therefore you may need deepcopy some time\n",
    "import copy\n",
    "\n",
    "a = np.array([1,2,3])\n",
    "b = copy.deepcopy(a)\n",
    "b[1] = 100\n",
    "print(a)"
   ]
  },
  {
   "cell_type": "code",
   "execution_count": 118,
   "metadata": {},
   "outputs": [
    {
     "name": "stdout",
     "output_type": "stream",
     "text": [
      "4.5\n",
      "4.5\n",
      "2.8722813232690143\n",
      "8.25\n"
     ]
    }
   ],
   "source": [
    "# you can find most of commonly used mathematical/statistical operations in numpy, so just search before you make it by yourself\n",
    "a = np.arange(10)\n",
    "print(np.mean(a))\n",
    "print(np.median(a))\n",
    "print(np.std(a))\n",
    "print(np.var(a))"
   ]
  },
  {
   "cell_type": "markdown",
   "metadata": {},
   "source": [
    "# Pandas dataframe\n",
    "- a powerful library for data manipulation and analysis, very useful in data science"
   ]
  },
  {
   "cell_type": "code",
   "execution_count": 6,
   "metadata": {},
   "outputs": [
    {
     "data": {
      "text/html": [
       "<div>\n",
       "<style scoped>\n",
       "    .dataframe tbody tr th:only-of-type {\n",
       "        vertical-align: middle;\n",
       "    }\n",
       "\n",
       "    .dataframe tbody tr th {\n",
       "        vertical-align: top;\n",
       "    }\n",
       "\n",
       "    .dataframe thead th {\n",
       "        text-align: right;\n",
       "    }\n",
       "</style>\n",
       "<table border=\"1\" class=\"dataframe\">\n",
       "  <thead>\n",
       "    <tr style=\"text-align: right;\">\n",
       "      <th></th>\n",
       "      <th>Date</th>\n",
       "      <th>Open</th>\n",
       "      <th>High</th>\n",
       "      <th>Low</th>\n",
       "      <th>Close</th>\n",
       "      <th>Volume</th>\n",
       "      <th>Adj Close</th>\n",
       "    </tr>\n",
       "  </thead>\n",
       "  <tbody>\n",
       "    <tr>\n",
       "      <th>0</th>\n",
       "      <td>2014-07-08</td>\n",
       "      <td>96.27</td>\n",
       "      <td>96.80</td>\n",
       "      <td>93.92</td>\n",
       "      <td>95.35</td>\n",
       "      <td>65130000</td>\n",
       "      <td>95.35</td>\n",
       "    </tr>\n",
       "    <tr>\n",
       "      <th>1</th>\n",
       "      <td>2014-07-07</td>\n",
       "      <td>94.14</td>\n",
       "      <td>95.99</td>\n",
       "      <td>94.10</td>\n",
       "      <td>95.97</td>\n",
       "      <td>56305400</td>\n",
       "      <td>95.97</td>\n",
       "    </tr>\n",
       "    <tr>\n",
       "      <th>2</th>\n",
       "      <td>2014-07-03</td>\n",
       "      <td>93.67</td>\n",
       "      <td>94.10</td>\n",
       "      <td>93.20</td>\n",
       "      <td>94.03</td>\n",
       "      <td>22891800</td>\n",
       "      <td>94.03</td>\n",
       "    </tr>\n",
       "    <tr>\n",
       "      <th>3</th>\n",
       "      <td>2014-07-02</td>\n",
       "      <td>93.87</td>\n",
       "      <td>94.06</td>\n",
       "      <td>93.09</td>\n",
       "      <td>93.48</td>\n",
       "      <td>28420900</td>\n",
       "      <td>93.48</td>\n",
       "    </tr>\n",
       "    <tr>\n",
       "      <th>4</th>\n",
       "      <td>2014-07-01</td>\n",
       "      <td>93.52</td>\n",
       "      <td>94.07</td>\n",
       "      <td>93.13</td>\n",
       "      <td>93.52</td>\n",
       "      <td>38170200</td>\n",
       "      <td>93.52</td>\n",
       "    </tr>\n",
       "    <tr>\n",
       "      <th>5</th>\n",
       "      <td>2014-06-30</td>\n",
       "      <td>92.10</td>\n",
       "      <td>93.73</td>\n",
       "      <td>92.09</td>\n",
       "      <td>92.93</td>\n",
       "      <td>49482300</td>\n",
       "      <td>92.93</td>\n",
       "    </tr>\n",
       "    <tr>\n",
       "      <th>6</th>\n",
       "      <td>2014-06-27</td>\n",
       "      <td>90.82</td>\n",
       "      <td>92.00</td>\n",
       "      <td>90.77</td>\n",
       "      <td>91.98</td>\n",
       "      <td>64006800</td>\n",
       "      <td>91.98</td>\n",
       "    </tr>\n",
       "    <tr>\n",
       "      <th>7</th>\n",
       "      <td>2014-06-26</td>\n",
       "      <td>90.37</td>\n",
       "      <td>91.05</td>\n",
       "      <td>89.80</td>\n",
       "      <td>90.90</td>\n",
       "      <td>32595800</td>\n",
       "      <td>90.90</td>\n",
       "    </tr>\n",
       "  </tbody>\n",
       "</table>\n",
       "</div>"
      ],
      "text/plain": [
       "         Date   Open   High    Low  Close    Volume  Adj Close\n",
       "0  2014-07-08  96.27  96.80  93.92  95.35  65130000      95.35\n",
       "1  2014-07-07  94.14  95.99  94.10  95.97  56305400      95.97\n",
       "2  2014-07-03  93.67  94.10  93.20  94.03  22891800      94.03\n",
       "3  2014-07-02  93.87  94.06  93.09  93.48  28420900      93.48\n",
       "4  2014-07-01  93.52  94.07  93.13  93.52  38170200      93.52\n",
       "5  2014-06-30  92.10  93.73  92.09  92.93  49482300      92.93\n",
       "6  2014-06-27  90.82  92.00  90.77  91.98  64006800      91.98\n",
       "7  2014-06-26  90.37  91.05  89.80  90.90  32595800      90.90"
      ]
     },
     "execution_count": 6,
     "metadata": {},
     "output_type": "execute_result"
    }
   ],
   "source": [
    "## basics: head(5), shape, columns, index, tail(), info()\n",
    "df = pd.read_csv(\"appl_1980_2014.csv\")\n",
    "df.head(8) # can change the rows"
   ]
  },
  {
   "cell_type": "code",
   "execution_count": 7,
   "metadata": {},
   "outputs": [
    {
     "name": "stdout",
     "output_type": "stream",
     "text": [
      "(8465, 7)\n",
      "Index(['Date', 'Open', 'High', 'Low', 'Close', 'Volume', 'Adj Close'], dtype='object')\n",
      "RangeIndex(start=0, stop=8465, step=1)\n"
     ]
    }
   ],
   "source": [
    "print(df.shape) \n",
    "print(df.columns)\n",
    "print(df.index)"
   ]
  },
  {
   "cell_type": "code",
   "execution_count": 10,
   "metadata": {},
   "outputs": [
    {
     "name": "stdout",
     "output_type": "stream",
     "text": [
      "            Date   Open   High    Low  Close     Volume  Adj Close\n",
      "8460  1980-12-18  26.63  26.75  26.63  26.63   18362400       0.41\n",
      "8461  1980-12-17  25.87  26.00  25.87  25.87   21610400       0.40\n",
      "8462  1980-12-16  25.37  25.37  25.25  25.25   26432000       0.39\n",
      "8463  1980-12-15  27.38  27.38  27.25  27.25   43971200       0.42\n",
      "8464  1980-12-12  28.75  28.87  28.75  28.75  117258400       0.45\n",
      "\n",
      "\n",
      "\n",
      "<class 'pandas.core.frame.DataFrame'>\n",
      "RangeIndex: 8465 entries, 0 to 8464\n",
      "Data columns (total 7 columns):\n",
      " #   Column     Non-Null Count  Dtype  \n",
      "---  ------     --------------  -----  \n",
      " 0   Date       8465 non-null   object \n",
      " 1   Open       8465 non-null   float64\n",
      " 2   High       8465 non-null   float64\n",
      " 3   Low        8465 non-null   float64\n",
      " 4   Close      8465 non-null   float64\n",
      " 5   Volume     8465 non-null   int64  \n",
      " 6   Adj Close  8465 non-null   float64\n",
      "dtypes: float64(5), int64(1), object(1)\n",
      "memory usage: 463.1+ KB\n",
      "None\n"
     ]
    }
   ],
   "source": [
    "print(df.tail()) #similar to the head\n",
    "print(\"\\n\\n\")\n",
    "print(df.info())"
   ]
  },
  {
   "cell_type": "code",
   "execution_count": 8,
   "metadata": {},
   "outputs": [
    {
     "data": {
      "text/html": [
       "<div>\n",
       "<style scoped>\n",
       "    .dataframe tbody tr th:only-of-type {\n",
       "        vertical-align: middle;\n",
       "    }\n",
       "\n",
       "    .dataframe tbody tr th {\n",
       "        vertical-align: top;\n",
       "    }\n",
       "\n",
       "    .dataframe thead th {\n",
       "        text-align: right;\n",
       "    }\n",
       "</style>\n",
       "<table border=\"1\" class=\"dataframe\">\n",
       "  <thead>\n",
       "    <tr style=\"text-align: right;\">\n",
       "      <th></th>\n",
       "      <th>Open</th>\n",
       "      <th>High</th>\n",
       "      <th>Low</th>\n",
       "      <th>Close</th>\n",
       "      <th>Volume</th>\n",
       "      <th>Adj Close</th>\n",
       "    </tr>\n",
       "  </thead>\n",
       "  <tbody>\n",
       "    <tr>\n",
       "      <th>count</th>\n",
       "      <td>8465.000000</td>\n",
       "      <td>8465.000000</td>\n",
       "      <td>8465.000000</td>\n",
       "      <td>8465.000000</td>\n",
       "      <td>8.465000e+03</td>\n",
       "      <td>8465.000000</td>\n",
       "    </tr>\n",
       "    <tr>\n",
       "      <th>mean</th>\n",
       "      <td>98.593926</td>\n",
       "      <td>99.848683</td>\n",
       "      <td>97.226790</td>\n",
       "      <td>98.549199</td>\n",
       "      <td>9.391214e+07</td>\n",
       "      <td>11.095014</td>\n",
       "    </tr>\n",
       "    <tr>\n",
       "      <th>std</th>\n",
       "      <td>141.965350</td>\n",
       "      <td>143.155674</td>\n",
       "      <td>140.548326</td>\n",
       "      <td>141.877244</td>\n",
       "      <td>8.993202e+07</td>\n",
       "      <td>21.133016</td>\n",
       "    </tr>\n",
       "    <tr>\n",
       "      <th>min</th>\n",
       "      <td>11.120000</td>\n",
       "      <td>11.120000</td>\n",
       "      <td>11.000000</td>\n",
       "      <td>11.000000</td>\n",
       "      <td>2.504000e+05</td>\n",
       "      <td>0.170000</td>\n",
       "    </tr>\n",
       "    <tr>\n",
       "      <th>25%</th>\n",
       "      <td>25.750000</td>\n",
       "      <td>26.000000</td>\n",
       "      <td>25.120000</td>\n",
       "      <td>25.630000</td>\n",
       "      <td>3.704960e+07</td>\n",
       "      <td>0.900000</td>\n",
       "    </tr>\n",
       "    <tr>\n",
       "      <th>50%</th>\n",
       "      <td>40.750000</td>\n",
       "      <td>41.500000</td>\n",
       "      <td>40.000000</td>\n",
       "      <td>40.750000</td>\n",
       "      <td>6.636000e+07</td>\n",
       "      <td>1.410000</td>\n",
       "    </tr>\n",
       "    <tr>\n",
       "      <th>75%</th>\n",
       "      <td>79.500000</td>\n",
       "      <td>81.000000</td>\n",
       "      <td>78.740000</td>\n",
       "      <td>80.000000</td>\n",
       "      <td>1.177701e+08</td>\n",
       "      <td>8.660000</td>\n",
       "    </tr>\n",
       "    <tr>\n",
       "      <th>max</th>\n",
       "      <td>702.410000</td>\n",
       "      <td>705.070000</td>\n",
       "      <td>699.570000</td>\n",
       "      <td>702.100000</td>\n",
       "      <td>1.855410e+09</td>\n",
       "      <td>96.280000</td>\n",
       "    </tr>\n",
       "  </tbody>\n",
       "</table>\n",
       "</div>"
      ],
      "text/plain": [
       "              Open         High          Low        Close        Volume  \\\n",
       "count  8465.000000  8465.000000  8465.000000  8465.000000  8.465000e+03   \n",
       "mean     98.593926    99.848683    97.226790    98.549199  9.391214e+07   \n",
       "std     141.965350   143.155674   140.548326   141.877244  8.993202e+07   \n",
       "min      11.120000    11.120000    11.000000    11.000000  2.504000e+05   \n",
       "25%      25.750000    26.000000    25.120000    25.630000  3.704960e+07   \n",
       "50%      40.750000    41.500000    40.000000    40.750000  6.636000e+07   \n",
       "75%      79.500000    81.000000    78.740000    80.000000  1.177701e+08   \n",
       "max     702.410000   705.070000   699.570000   702.100000  1.855410e+09   \n",
       "\n",
       "         Adj Close  \n",
       "count  8465.000000  \n",
       "mean     11.095014  \n",
       "std      21.133016  \n",
       "min       0.170000  \n",
       "25%       0.900000  \n",
       "50%       1.410000  \n",
       "75%       8.660000  \n",
       "max      96.280000  "
      ]
     },
     "execution_count": 8,
     "metadata": {},
     "output_type": "execute_result"
    }
   ],
   "source": [
    "df.describe() # statistical info in one method"
   ]
  },
  {
   "cell_type": "code",
   "execution_count": 9,
   "metadata": {
    "scrolled": true
   },
   "outputs": [
    {
     "name": "stdout",
     "output_type": "stream",
     "text": [
      "         Date   Open   High   Low  Close    Volume  Adj Close\n",
      "1  2014-07-07  94.14  95.99  94.1  95.97  56305400      95.97\n",
      "2  2014-07-03  93.67  94.10  93.2  94.03  22891800      94.03\n",
      "\n",
      "0    2014-07-08\n",
      "1    2014-07-07\n",
      "2    2014-07-03\n",
      "3    2014-07-02\n",
      "Name: Date, dtype: object\n",
      "\n",
      "1\n"
     ]
    }
   ],
   "source": [
    "## slicing with iloc or loc\n",
    "print(df.iloc[1:3, :]) # iloc is index based slicing method\n",
    "print()\n",
    "print(df.loc[0:3, \"Date\"]) # loc is label based slicing method\n",
    "print()\n",
    "\n",
    "print(df.columns.get_loc(\"Open\")) # you can also get the iloc index from labels\n",
    "                                  # for rows, use df.index.get_loc(\"row_name\")"
   ]
  },
  {
   "cell_type": "code",
   "execution_count": 10,
   "metadata": {},
   "outputs": [
    {
     "name": "stdout",
     "output_type": "stream",
     "text": [
      "         Date   Open   High    Low  Close    Volume  Adj Close\n",
      "0  2014-07-08  96.27  96.80  93.92  95.35  65130000        NaN\n",
      "1  2014-07-07  94.14  95.99  94.10  95.97  56305400      95.97\n",
      "2  2014-07-03  93.67  94.10  93.20  94.03  22891800      94.03\n",
      "3  2014-07-02  93.87  94.06  93.09  93.48  28420900        NaN\n",
      "4  2014-07-01  93.52  94.07  93.13  93.52  38170200      93.52\n",
      "5  2014-06-30  92.10  93.73  92.09  92.93  49482300      92.93\n",
      "\n",
      "<class 'pandas.core.series.Series'>\n",
      "<class 'pandas.core.series.Series'>\n",
      "<class 'pandas.core.series.Series'>\n",
      "\n",
      "<class 'pandas.core.frame.DataFrame'>\n"
     ]
    }
   ],
   "source": [
    "## change daraframe values by broadcasting\n",
    "df.iloc[::3, -1] = np.nan\n",
    "print(df.head(6))\n",
    "print()\n",
    "\n",
    "print(type(df['Open'])) # mind the differences between series and dataframe\n",
    "print(type(df.iloc[:, 1]))\n",
    "print(type(df.loc[:, 'Open']))\n",
    "print()\n",
    "\n",
    "print(type(df[['Open']])) # use double square brackets to make dataframe"
   ]
  },
  {
   "cell_type": "code",
   "execution_count": 11,
   "metadata": {},
   "outputs": [
    {
     "name": "stdout",
     "output_type": "stream",
     "text": [
      "0       False\n",
      "1       False\n",
      "2       False\n",
      "3       False\n",
      "4       False\n",
      "        ...  \n",
      "8460    False\n",
      "8461    False\n",
      "8462    False\n",
      "8463    False\n",
      "8464    False\n",
      "Name: Open, Length: 8465, dtype: bool\n"
     ]
    },
    {
     "data": {
      "text/html": [
       "<div>\n",
       "<style scoped>\n",
       "    .dataframe tbody tr th:only-of-type {\n",
       "        vertical-align: middle;\n",
       "    }\n",
       "\n",
       "    .dataframe tbody tr th {\n",
       "        vertical-align: top;\n",
       "    }\n",
       "\n",
       "    .dataframe thead th {\n",
       "        text-align: right;\n",
       "    }\n",
       "</style>\n",
       "<table border=\"1\" class=\"dataframe\">\n",
       "  <thead>\n",
       "    <tr style=\"text-align: right;\">\n",
       "      <th></th>\n",
       "      <th>Date</th>\n",
       "      <th>Open</th>\n",
       "      <th>High</th>\n",
       "      <th>Low</th>\n",
       "      <th>Close</th>\n",
       "      <th>Volume</th>\n",
       "      <th>Adj Close</th>\n",
       "    </tr>\n",
       "  </thead>\n",
       "  <tbody>\n",
       "    <tr>\n",
       "      <th>21</th>\n",
       "      <td>2014-06-06</td>\n",
       "      <td>649.90</td>\n",
       "      <td>651.26</td>\n",
       "      <td>644.47</td>\n",
       "      <td>645.57</td>\n",
       "      <td>87484600</td>\n",
       "      <td>NaN</td>\n",
       "    </tr>\n",
       "    <tr>\n",
       "      <th>438</th>\n",
       "      <td>2012-10-05</td>\n",
       "      <td>665.20</td>\n",
       "      <td>666.00</td>\n",
       "      <td>651.28</td>\n",
       "      <td>652.59</td>\n",
       "      <td>148501500</td>\n",
       "      <td>NaN</td>\n",
       "    </tr>\n",
       "    <tr>\n",
       "      <th>439</th>\n",
       "      <td>2012-10-04</td>\n",
       "      <td>671.25</td>\n",
       "      <td>674.25</td>\n",
       "      <td>665.55</td>\n",
       "      <td>666.80</td>\n",
       "      <td>92681400</td>\n",
       "      <td>91.44</td>\n",
       "    </tr>\n",
       "    <tr>\n",
       "      <th>440</th>\n",
       "      <td>2012-10-03</td>\n",
       "      <td>664.86</td>\n",
       "      <td>671.86</td>\n",
       "      <td>662.63</td>\n",
       "      <td>671.45</td>\n",
       "      <td>106070300</td>\n",
       "      <td>92.08</td>\n",
       "    </tr>\n",
       "    <tr>\n",
       "      <th>441</th>\n",
       "      <td>2012-10-02</td>\n",
       "      <td>661.81</td>\n",
       "      <td>666.35</td>\n",
       "      <td>650.65</td>\n",
       "      <td>661.31</td>\n",
       "      <td>156998100</td>\n",
       "      <td>NaN</td>\n",
       "    </tr>\n",
       "  </tbody>\n",
       "</table>\n",
       "</div>"
      ],
      "text/plain": [
       "           Date    Open    High     Low   Close     Volume  Adj Close\n",
       "21   2014-06-06  649.90  651.26  644.47  645.57   87484600        NaN\n",
       "438  2012-10-05  665.20  666.00  651.28  652.59  148501500        NaN\n",
       "439  2012-10-04  671.25  674.25  665.55  666.80   92681400      91.44\n",
       "440  2012-10-03  664.86  671.86  662.63  671.45  106070300      92.08\n",
       "441  2012-10-02  661.81  666.35  650.65  661.31  156998100        NaN"
      ]
     },
     "execution_count": 11,
     "metadata": {},
     "output_type": "execute_result"
    }
   ],
   "source": [
    "## filtering dataframe\n",
    "boolean = df.Open > 649 # get boolean by setting up some condition\n",
    "print(boolean)\n",
    "\n",
    "df2 = df[boolean] # subset with the boolean\n",
    "df2.head()"
   ]
  },
  {
   "cell_type": "code",
   "execution_count": 12,
   "metadata": {},
   "outputs": [
    {
     "data": {
      "text/html": [
       "<div>\n",
       "<style scoped>\n",
       "    .dataframe tbody tr th:only-of-type {\n",
       "        vertical-align: middle;\n",
       "    }\n",
       "\n",
       "    .dataframe tbody tr th {\n",
       "        vertical-align: top;\n",
       "    }\n",
       "\n",
       "    .dataframe thead th {\n",
       "        text-align: right;\n",
       "    }\n",
       "</style>\n",
       "<table border=\"1\" class=\"dataframe\">\n",
       "  <thead>\n",
       "    <tr style=\"text-align: right;\">\n",
       "      <th></th>\n",
       "      <th>Date</th>\n",
       "      <th>Open</th>\n",
       "      <th>High</th>\n",
       "      <th>Low</th>\n",
       "      <th>Close</th>\n",
       "      <th>Volume</th>\n",
       "      <th>Adj Close</th>\n",
       "    </tr>\n",
       "  </thead>\n",
       "  <tbody>\n",
       "    <tr>\n",
       "      <th>3</th>\n",
       "      <td>2014-07-02</td>\n",
       "      <td>93.87</td>\n",
       "      <td>94.06</td>\n",
       "      <td>93.09</td>\n",
       "      <td>93.48</td>\n",
       "      <td>28420900</td>\n",
       "      <td>NaN</td>\n",
       "    </tr>\n",
       "    <tr>\n",
       "      <th>4</th>\n",
       "      <td>2014-07-01</td>\n",
       "      <td>93.52</td>\n",
       "      <td>94.07</td>\n",
       "      <td>93.13</td>\n",
       "      <td>93.52</td>\n",
       "      <td>38170200</td>\n",
       "      <td>93.52</td>\n",
       "    </tr>\n",
       "    <tr>\n",
       "      <th>17</th>\n",
       "      <td>2014-06-12</td>\n",
       "      <td>94.04</td>\n",
       "      <td>94.12</td>\n",
       "      <td>91.90</td>\n",
       "      <td>92.29</td>\n",
       "      <td>54749000</td>\n",
       "      <td>92.29</td>\n",
       "    </tr>\n",
       "    <tr>\n",
       "      <th>18</th>\n",
       "      <td>2014-06-11</td>\n",
       "      <td>94.13</td>\n",
       "      <td>94.76</td>\n",
       "      <td>93.47</td>\n",
       "      <td>93.86</td>\n",
       "      <td>45681000</td>\n",
       "      <td>NaN</td>\n",
       "    </tr>\n",
       "    <tr>\n",
       "      <th>1354</th>\n",
       "      <td>2009-02-19</td>\n",
       "      <td>93.37</td>\n",
       "      <td>94.25</td>\n",
       "      <td>90.11</td>\n",
       "      <td>90.64</td>\n",
       "      <td>230701100</td>\n",
       "      <td>12.38</td>\n",
       "    </tr>\n",
       "  </tbody>\n",
       "</table>\n",
       "</div>"
      ],
      "text/plain": [
       "            Date   Open   High    Low  Close     Volume  Adj Close\n",
       "3     2014-07-02  93.87  94.06  93.09  93.48   28420900        NaN\n",
       "4     2014-07-01  93.52  94.07  93.13  93.52   38170200      93.52\n",
       "17    2014-06-12  94.04  94.12  91.90  92.29   54749000      92.29\n",
       "18    2014-06-11  94.13  94.76  93.47  93.86   45681000        NaN\n",
       "1354  2009-02-19  93.37  94.25  90.11  90.64  230701100      12.38"
      ]
     },
     "execution_count": 12,
     "metadata": {},
     "output_type": "execute_result"
    }
   ],
   "source": [
    "# combining filters\n",
    "df[(df['Open'] > 93) & (df['Close'] < 94)].head() # using &, not and"
   ]
  },
  {
   "cell_type": "code",
   "execution_count": 13,
   "metadata": {},
   "outputs": [
    {
     "data": {
      "text/html": [
       "<div>\n",
       "<style scoped>\n",
       "    .dataframe tbody tr th:only-of-type {\n",
       "        vertical-align: middle;\n",
       "    }\n",
       "\n",
       "    .dataframe tbody tr th {\n",
       "        vertical-align: top;\n",
       "    }\n",
       "\n",
       "    .dataframe thead th {\n",
       "        text-align: right;\n",
       "    }\n",
       "</style>\n",
       "<table border=\"1\" class=\"dataframe\">\n",
       "  <thead>\n",
       "    <tr style=\"text-align: right;\">\n",
       "      <th></th>\n",
       "      <th>Date</th>\n",
       "      <th>Open</th>\n",
       "      <th>High</th>\n",
       "      <th>Low</th>\n",
       "      <th>Close</th>\n",
       "      <th>Volume</th>\n",
       "      <th>Adj Close</th>\n",
       "    </tr>\n",
       "  </thead>\n",
       "  <tbody>\n",
       "    <tr>\n",
       "      <th>438</th>\n",
       "      <td>2012-10-05</td>\n",
       "      <td>665.20</td>\n",
       "      <td>666.00</td>\n",
       "      <td>651.28</td>\n",
       "      <td>652.59</td>\n",
       "      <td>148501500</td>\n",
       "      <td>NaN</td>\n",
       "    </tr>\n",
       "    <tr>\n",
       "      <th>439</th>\n",
       "      <td>2012-10-04</td>\n",
       "      <td>671.25</td>\n",
       "      <td>674.25</td>\n",
       "      <td>665.55</td>\n",
       "      <td>666.80</td>\n",
       "      <td>92681400</td>\n",
       "      <td>91.44</td>\n",
       "    </tr>\n",
       "    <tr>\n",
       "      <th>440</th>\n",
       "      <td>2012-10-03</td>\n",
       "      <td>664.86</td>\n",
       "      <td>671.86</td>\n",
       "      <td>662.63</td>\n",
       "      <td>671.45</td>\n",
       "      <td>106070300</td>\n",
       "      <td>92.08</td>\n",
       "    </tr>\n",
       "    <tr>\n",
       "      <th>441</th>\n",
       "      <td>2012-10-02</td>\n",
       "      <td>661.81</td>\n",
       "      <td>666.35</td>\n",
       "      <td>650.65</td>\n",
       "      <td>661.31</td>\n",
       "      <td>156998100</td>\n",
       "      <td>NaN</td>\n",
       "    </tr>\n",
       "    <tr>\n",
       "      <th>442</th>\n",
       "      <td>2012-10-01</td>\n",
       "      <td>671.16</td>\n",
       "      <td>676.75</td>\n",
       "      <td>656.50</td>\n",
       "      <td>659.39</td>\n",
       "      <td>135898700</td>\n",
       "      <td>90.42</td>\n",
       "    </tr>\n",
       "  </tbody>\n",
       "</table>\n",
       "</div>"
      ],
      "text/plain": [
       "           Date    Open    High     Low   Close     Volume  Adj Close\n",
       "438  2012-10-05  665.20  666.00  651.28  652.59  148501500        NaN\n",
       "439  2012-10-04  671.25  674.25  665.55  666.80   92681400      91.44\n",
       "440  2012-10-03  664.86  671.86  662.63  671.45  106070300      92.08\n",
       "441  2012-10-02  661.81  666.35  650.65  661.31  156998100        NaN\n",
       "442  2012-10-01  671.16  676.75  656.50  659.39  135898700      90.42"
      ]
     },
     "execution_count": 13,
     "metadata": {},
     "output_type": "execute_result"
    }
   ],
   "source": [
    "# either condition\n",
    "df[(df['Open'] > 650)  | (df['Open'] < 90)].head() # not or"
   ]
  },
  {
   "cell_type": "code",
   "execution_count": 14,
   "metadata": {},
   "outputs": [
    {
     "name": "stdout",
     "output_type": "stream",
     "text": [
      "   col_1 col_2\n",
      "0      3     a\n",
      "1      2     b\n",
      "2      1     c\n",
      "3      0     d\n",
      "<class 'numpy.ndarray'>\n"
     ]
    }
   ],
   "source": [
    "## dataframe can be built from dictionaries, csv file, excel etc\n",
    "data = {'col_1': [3, 2, 1, 0], 'col_2': ['a', 'b', 'c', 'd']}\n",
    "df = pd.DataFrame.from_dict(data)\n",
    "print(df)\n",
    "\n",
    "df = pd.read_csv(\"appl_1980_2014.csv\") # pd.read_csv(), pd.read_excel(), \n",
    "                                       # index_col, header and other information can also be specified\n",
    "\n",
    "## dataframe can output to csv, excel, etc.\n",
    "    # df.to_csv()\n",
    "    # df.to_excel()\n",
    "    \n",
    "## can be converted to array too\n",
    "array = df.to_numpy()\n",
    "print(type(array))"
   ]
  },
  {
   "cell_type": "code",
   "execution_count": 15,
   "metadata": {},
   "outputs": [
    {
     "name": "stdout",
     "output_type": "stream",
     "text": [
      "        one       two     three four   five  six  seven\n",
      "a -1.203306 -1.817463  0.136087  bar  False    0    NaN\n",
      "c  0.215943 -1.497233 -0.420839  bar   True    0    NaN\n",
      "e       NaN       NaN -2.543454  bar  False    0    NaN\n",
      "f       NaN -0.475820 -0.122274  bar  False    0    NaN\n",
      "h  0.780522  0.369428  0.345255  bar   True    0    NaN\n"
     ]
    }
   ],
   "source": [
    "## dealing with missing values\n",
    "\n",
    "# let's construct a small dataframe\n",
    "df = pd.DataFrame(np.random.randn(5, 3), \n",
    "                  index=[\"a\", \"c\", \"e\", \"f\", \"h\"], \n",
    "                  columns=[\"one\", \"two\", \"three\"])\n",
    "df['one']['e', 'f'] = np.nan\n",
    "df.iloc[2, 1] = np.nan\n",
    "df['four'] = ['bar' for i in range(len(df))]\n",
    "df['five'] = df['one'] > 0\n",
    "df['six'] = [0 for i in range(len(df))]\n",
    "df['seven'] = [np.nan for i in range(len(df))]\n",
    "print(df)"
   ]
  },
  {
   "cell_type": "code",
   "execution_count": 16,
   "metadata": {},
   "outputs": [
    {
     "name": "stdout",
     "output_type": "stream",
     "text": [
      "        one       two     three four   five  six  seven\n",
      "a -1.203306 -1.817463  0.136087  bar  False    0    NaN\n",
      "c  0.215943 -1.497233 -0.420839  bar   True    0    NaN\n",
      "e       NaN       NaN -2.543454  bar  False    0    NaN\n",
      "f       NaN -0.475820 -0.122274  bar  False    0    NaN\n",
      "h  0.780522  0.369428  0.345255  bar   True    0    NaN\n"
     ]
    }
   ],
   "source": [
    "print(df)"
   ]
  },
  {
   "cell_type": "code",
   "execution_count": 17,
   "metadata": {},
   "outputs": [
    {
     "data": {
      "text/plain": [
       "a   -1.817463\n",
       "c   -1.497233\n",
       "e         NaN\n",
       "f   -0.475820\n",
       "h    0.369428\n",
       "Name: two, dtype: float64"
      ]
     },
     "execution_count": 17,
     "metadata": {},
     "output_type": "execute_result"
    }
   ],
   "source": [
    "df.two"
   ]
  },
  {
   "cell_type": "code",
   "execution_count": 18,
   "metadata": {},
   "outputs": [
    {
     "name": "stdout",
     "output_type": "stream",
     "text": [
      "There are 8 nan in the dataframe\n",
      "        one       two  seven\n",
      "a -1.203306 -1.817463    NaN\n",
      "c  0.215943 -1.497233    NaN\n",
      "e       NaN       NaN    NaN\n",
      "f       NaN -0.475820    NaN\n",
      "h  0.780522  0.369428    NaN\n",
      "\n",
      "   seven\n",
      "a    NaN\n",
      "c    NaN\n",
      "e    NaN\n",
      "f    NaN\n",
      "h    NaN\n"
     ]
    }
   ],
   "source": [
    "print('There are %i nan in the dataframe' % df.isna().sum().sum())\n",
    "print(df.loc[:, df.isnull().any()]) # returns columns with any nan values\n",
    "                                    # df.isna() and df.isnull() are the same!\n",
    "print()\n",
    "print(df.loc[:, df.isnull().all()]) # returns columns with all nan values"
   ]
  },
  {
   "cell_type": "code",
   "execution_count": 19,
   "metadata": {},
   "outputs": [
    {
     "name": "stdout",
     "output_type": "stream",
     "text": [
      "        one       two     three four   five  six  seven\n",
      "a -1.203306 -1.817463  0.136087  bar  False    0    NaN\n",
      "c  0.215943 -1.497233 -0.420839  bar   True    0    NaN\n",
      "e       NaN       NaN -2.543454  bar  False    0    NaN\n",
      "f       NaN -0.475820 -0.122274  bar  False    0    NaN\n",
      "h  0.780522  0.369428  0.345255  bar   True    0    NaN\n"
     ]
    }
   ],
   "source": [
    "print(df)"
   ]
  },
  {
   "cell_type": "code",
   "execution_count": 20,
   "metadata": {},
   "outputs": [
    {
     "name": "stdout",
     "output_type": "stream",
     "text": [
      "        one       two     three  four   five  six  seven\n",
      "a -1.203306 -1.817463  0.136087   NaN  False    0    NaN\n",
      "c  0.215943 -1.497233 -0.420839   NaN   True    0    NaN\n",
      "e       NaN       NaN -2.543454   NaN  False    0    NaN\n",
      "f       NaN -0.475820 -0.122274   NaN  False    0    NaN\n",
      "h  0.780522  0.369428  0.345255   NaN   True    0    NaN\n",
      "\n",
      "        one       two     three  four   five  six  seven\n",
      "a -1.203306 -1.817463  0.136087   0.0  False    0    0.0\n",
      "c  0.215943 -1.497233 -0.420839   0.0   True    0    0.0\n",
      "e  0.000000  0.000000 -2.543454   0.0  False    0    0.0\n",
      "f  0.000000 -0.475820 -0.122274   0.0  False    0    0.0\n",
      "h  0.780522  0.369428  0.345255   0.0   True    0    0.0\n"
     ]
    }
   ],
   "source": [
    "## onvert strings into numerical values\n",
    "df['four'] = pd.to_numeric(df['four'], errors=\"coerce\")\n",
    "print(df)\n",
    "print()\n",
    "\n",
    "df = df.fillna(0) # nan values can be filled with other values\n",
    "print(df)"
   ]
  },
  {
   "cell_type": "markdown",
   "metadata": {},
   "source": [
    "# Matplotlib\n",
    "- a powerful plotting library for Python"
   ]
  },
  {
   "cell_type": "code",
   "execution_count": 21,
   "metadata": {},
   "outputs": [],
   "source": [
    "## preparing some data\n",
    "df = pd.read_csv(\"appl_1980_2014.csv\").iloc[100:200]\n",
    "op = list(df['Open'])\n",
    "high = list(df['High'])\n",
    "low = list(df['Low'])\n",
    "close = list(df['Close'])\n",
    "volume = list(df['Volume'])\n",
    "time = [i for i in range(len(op))]"
   ]
  },
  {
   "cell_type": "code",
   "execution_count": 22,
   "metadata": {},
   "outputs": [],
   "source": [
    "import matplotlib.pyplot as plt"
   ]
  },
  {
   "cell_type": "code",
   "execution_count": 23,
   "metadata": {},
   "outputs": [
    {
     "data": {
      "image/png": "[encoded data removed]",
      "text/plain": [
       "<Figure size 640x480 with 1 Axes>"
      ]
     },
     "metadata": {},
     "output_type": "display_data"
    }
   ],
   "source": [
    "## line plot\n",
    "plt.title(\"Apple stock price change over time\")\n",
    "plt.plot(op, label=\"Open\")\n",
    "plt.plot(high, label=\"high\")\n",
    "plt.plot(low, label=\"low\", c='r', marker=\"^\") # also other parameters\n",
    "plt.ylabel(\"Stock price\")\n",
    "plt.xlabel(\"Time\")\n",
    "plt.legend()\n",
    "plt.show() \n",
    "# plt.savefig(\"stock.png\") #change resolution here"
   ]
  },
  {
   "cell_type": "code",
   "execution_count": 24,
   "metadata": {},
   "outputs": [
    {
     "name": "stdout",
     "output_type": "stream",
     "text": [
      "Help on function plot in module matplotlib.pyplot:\n",
      "\n",
      "plot(*args, scalex=True, scaley=True, data=None, **kwargs)\n",
      "    Plot y versus x as lines and/or markers.\n",
      "    \n",
      "    Call signatures::\n",
      "    \n",
      "        plot([x], y, [fmt], *, data=None, **kwargs)\n",
      "        plot([x], y, [fmt], [x2], y2, [fmt2], ..., **kwargs)\n",
      "    \n",
      "    The coordinates of the points or line nodes are given by *x*, *y*.\n",
      "    \n",
      "    The optional parameter *fmt* is a convenient way for defining basic\n",
      "    formatting like color, marker and linestyle. It's a shortcut string\n",
      "    notation described in the *Notes* section below.\n",
      "    \n",
      "    >>> plot(x, y)        # plot x and y using default line style and color\n",
      "    >>> plot(x, y, 'bo')  # plot x and y using blue circle markers\n",
      "    >>> plot(y)           # plot y using x as index array 0..N-1\n",
      "    >>> plot(y, 'r+')     # ditto, but with red plusses\n",
      "    \n",
      "    You can use `.Line2D` properties as keyword arguments for more\n",
      "    control on the appearance. Line properties and *fmt* can be mixed.\n",
      "    The following two calls yield identical results:\n",
      "    \n",
      "    >>> plot(x, y, 'go--', linewidth=2, markersize=12)\n",
      "    >>> plot(x, y, color='green', marker='o', linestyle='dashed',\n",
      "    ...      linewidth=2, markersize=12)\n",
      "    \n",
      "    When conflicting with *fmt*, keyword arguments take precedence.\n",
      "    \n",
      "    \n",
      "    **Plotting labelled data**\n",
      "    \n",
      "    There's a convenient way for plotting objects with labelled data (i.e.\n",
      "    data that can be accessed by index ``obj['y']``). Instead of giving\n",
      "    the data in *x* and *y*, you can provide the object in the *data*\n",
      "    parameter and just give the labels for *x* and *y*::\n",
      "    \n",
      "    >>> plot('xlabel', 'ylabel', data=obj)\n",
      "    \n",
      "    All indexable objects are supported. This could e.g. be a `dict`, a\n",
      "    `pandas.DataFrame` or a structured numpy array.\n",
      "    \n",
      "    \n",
      "    **Plotting multiple sets of data**\n",
      "    \n",
      "    There are various ways to plot multiple sets of data.\n",
      "    \n",
      "    - The most straight forward way is just to call `plot` multiple times.\n",
      "      Example:\n",
      "    \n",
      "      >>> plot(x1, y1, 'bo')\n",
      "      >>> plot(x2, y2, 'go')\n",
      "    \n",
      "    - If *x* and/or *y* are 2D arrays a separate data set will be drawn\n",
      "      for every column. If both *x* and *y* are 2D, they must have the\n",
      "      same shape. If only one of them is 2D with shape (N, m) the other\n",
      "      must have length N and will be used for every data set m.\n",
      "    \n",
      "      Example:\n",
      "    \n",
      "      >>> x = [1, 2, 3]\n",
      "      >>> y = np.array([[1, 2], [3, 4], [5, 6]])\n",
      "      >>> plot(x, y)\n",
      "    \n",
      "      is equivalent to:\n",
      "    \n",
      "      >>> for col in range(y.shape[1]):\n",
      "      ...     plot(x, y[:, col])\n",
      "    \n",
      "    - The third way is to specify multiple sets of *[x]*, *y*, *[fmt]*\n",
      "      groups::\n",
      "    \n",
      "      >>> plot(x1, y1, 'g^', x2, y2, 'g-')\n",
      "    \n",
      "      In this case, any additional keyword argument applies to all\n",
      "      datasets. Also this syntax cannot be combined with the *data*\n",
      "      parameter.\n",
      "    \n",
      "    By default, each line is assigned a different style specified by a\n",
      "    'style cycle'. The *fmt* and line property parameters are only\n",
      "    necessary if you want explicit deviations from these defaults.\n",
      "    Alternatively, you can also change the style cycle using\n",
      "    :rc:`axes.prop_cycle`.\n",
      "    \n",
      "    \n",
      "    Parameters\n",
      "    ----------\n",
      "    x, y : array-like or scalar\n",
      "        The horizontal / vertical coordinates of the data points.\n",
      "        *x* values are optional and default to ``range(len(y))``.\n",
      "    \n",
      "        Commonly, these parameters are 1D arrays.\n",
      "    \n",
      "        They can also be scalars, or two-dimensional (in that case, the\n",
      "        columns represent separate data sets).\n",
      "    \n",
      "        These arguments cannot be passed as keywords.\n",
      "    \n",
      "    fmt : str, optional\n",
      "        A format string, e.g. 'ro' for red circles. See the *Notes*\n",
      "        section for a full description of the format strings.\n",
      "    \n",
      "        Format strings are just an abbreviation for quickly setting\n",
      "        basic line properties. All of these and more can also be\n",
      "        controlled by keyword arguments.\n",
      "    \n",
      "        This argument cannot be passed as keyword.\n",
      "    \n",
      "    data : indexable object, optional\n",
      "        An object with labelled data. If given, provide the label names to\n",
      "        plot in *x* and *y*.\n",
      "    \n",
      "        .. note::\n",
      "            Technically there's a slight ambiguity in calls where the\n",
      "            second label is a valid *fmt*. ``plot('n', 'o', data=obj)``\n",
      "            could be ``plt(x, y)`` or ``plt(y, fmt)``. In such cases,\n",
      "            the former interpretation is chosen, but a warning is issued.\n",
      "            You may suppress the warning by adding an empty format string\n",
      "            ``plot('n', 'o', '', data=obj)``.\n",
      "    \n",
      "    Returns\n",
      "    -------\n",
      "    list of `.Line2D`\n",
      "        A list of lines representing the plotted data.\n",
      "    \n",
      "    Other Parameters\n",
      "    ----------------\n",
      "    scalex, scaley : bool, default: True\n",
      "        These parameters determine if the view limits are adapted to the\n",
      "        data limits. The values are passed on to `autoscale_view`.\n",
      "    \n",
      "    **kwargs : `.Line2D` properties, optional\n",
      "        *kwargs* are used to specify properties like a line label (for\n",
      "        auto legends), linewidth, antialiasing, marker face color.\n",
      "        Example::\n",
      "    \n",
      "        >>> plot([1, 2, 3], [1, 2, 3], 'go-', label='line 1', linewidth=2)\n",
      "        >>> plot([1, 2, 3], [1, 4, 9], 'rs', label='line 2')\n",
      "    \n",
      "        If you specify multiple lines with one plot call, the kwargs apply\n",
      "        to all those lines. In case the label object is iterable, each\n",
      "        element is used as labels for each set of data.\n",
      "    \n",
      "        Here is a list of available `.Line2D` properties:\n",
      "    \n",
      "        Properties:\n",
      "        agg_filter: a filter function, which takes a (m, n, 3) float array and a dpi value, and returns a (m, n, 3) array and two offsets from the bottom left corner of the image\n",
      "        alpha: scalar or None\n",
      "        animated: bool\n",
      "        antialiased or aa: bool\n",
      "        clip_box: `.Bbox`\n",
      "        clip_on: bool\n",
      "        clip_path: Patch or (Path, Transform) or None\n",
      "        color or c: color\n",
      "        dash_capstyle: `.CapStyle` or {'butt', 'projecting', 'round'}\n",
      "        dash_joinstyle: `.JoinStyle` or {'miter', 'round', 'bevel'}\n",
      "        dashes: sequence of floats (on/off ink in points) or (None, None)\n",
      "        data: (2, N) array or two 1D arrays\n",
      "        drawstyle or ds: {'default', 'steps', 'steps-pre', 'steps-mid', 'steps-post'}, default: 'default'\n",
      "        figure: `.Figure`\n",
      "        fillstyle: {'full', 'left', 'right', 'bottom', 'top', 'none'}\n",
      "        gid: str\n",
      "        in_layout: bool\n",
      "        label: object\n",
      "        linestyle or ls: {'-', '--', '-.', ':', '', (offset, on-off-seq), ...}\n",
      "        linewidth or lw: float\n",
      "        marker: marker style string, `~.path.Path` or `~.markers.MarkerStyle`\n",
      "        markeredgecolor or mec: color\n",
      "        markeredgewidth or mew: float\n",
      "        markerfacecolor or mfc: color\n",
      "        markerfacecoloralt or mfcalt: color\n",
      "        markersize or ms: float\n",
      "        markevery: None or int or (int, int) or slice or list[int] or float or (float, float) or list[bool]\n",
      "        path_effects: `.AbstractPathEffect`\n",
      "        picker: float or callable[[Artist, Event], tuple[bool, dict]]\n",
      "        pickradius: float\n",
      "        rasterized: bool\n",
      "        sketch_params: (scale: float, length: float, randomness: float)\n",
      "        snap: bool or None\n",
      "        solid_capstyle: `.CapStyle` or {'butt', 'projecting', 'round'}\n",
      "        solid_joinstyle: `.JoinStyle` or {'miter', 'round', 'bevel'}\n",
      "        transform: unknown\n",
      "        url: str\n",
      "        visible: bool\n",
      "        xdata: 1D array\n",
      "        ydata: 1D array\n",
      "        zorder: float\n",
      "    \n",
      "    See Also\n",
      "    --------\n",
      "    scatter : XY scatter plot with markers of varying size and/or color (\n",
      "        sometimes also called bubble chart).\n",
      "    \n",
      "    Notes\n",
      "    -----\n",
      "    **Format Strings**\n",
      "    \n",
      "    A format string consists of a part for color, marker and line::\n",
      "    \n",
      "        fmt = '[marker][line][color]'\n",
      "    \n",
      "    Each of them is optional. If not provided, the value from the style\n",
      "    cycle is used. Exception: If ``line`` is given, but no ``marker``,\n",
      "    the data will be a line without markers.\n",
      "    \n",
      "    Other combinations such as ``[color][marker][line]`` are also\n",
      "    supported, but note that their parsing may be ambiguous.\n",
      "    \n",
      "    **Markers**\n",
      "    \n",
      "    =============   ===============================\n",
      "    character       description\n",
      "    =============   ===============================\n",
      "    ``'.'``         point marker\n",
      "    ``','``         pixel marker\n",
      "    ``'o'``         circle marker\n",
      "    ``'v'``         triangle_down marker\n",
      "    ``'^'``         triangle_up marker\n",
      "    ``'<'``         triangle_left marker\n",
      "    ``'>'``         triangle_right marker\n",
      "    ``'1'``         tri_down marker\n",
      "    ``'2'``         tri_up marker\n",
      "    ``'3'``         tri_left marker\n",
      "    ``'4'``         tri_right marker\n",
      "    ``'8'``         octagon marker\n",
      "    ``'s'``         square marker\n",
      "    ``'p'``         pentagon marker\n",
      "    ``'P'``         plus (filled) marker\n",
      "    ``'*'``         star marker\n",
      "    ``'h'``         hexagon1 marker\n",
      "    ``'H'``         hexagon2 marker\n",
      "    ``'+'``         plus marker\n",
      "    ``'x'``         x marker\n",
      "    ``'X'``         x (filled) marker\n",
      "    ``'D'``         diamond marker\n",
      "    ``'d'``         thin_diamond marker\n",
      "    ``'|'``         vline marker\n",
      "    ``'_'``         hline marker\n",
      "    =============   ===============================\n",
      "    \n",
      "    **Line Styles**\n",
      "    \n",
      "    =============    ===============================\n",
      "    character        description\n",
      "    =============    ===============================\n",
      "    ``'-'``          solid line style\n",
      "    ``'--'``         dashed line style\n",
      "    ``'-.'``         dash-dot line style\n",
      "    ``':'``          dotted line style\n",
      "    =============    ===============================\n",
      "    \n",
      "    Example format strings::\n",
      "    \n",
      "        'b'    # blue markers with default shape\n",
      "        'or'   # red circles\n",
      "        '-g'   # green solid line\n",
      "        '--'   # dashed line with default color\n",
      "        '^k:'  # black triangle_up markers connected by a dotted line\n",
      "    \n",
      "    **Colors**\n",
      "    \n",
      "    The supported color abbreviations are the single letter codes\n",
      "    \n",
      "    =============    ===============================\n",
      "    character        color\n",
      "    =============    ===============================\n",
      "    ``'b'``          blue\n",
      "    ``'g'``          green\n",
      "    ``'r'``          red\n",
      "    ``'c'``          cyan\n",
      "    ``'m'``          magenta\n",
      "    ``'y'``          yellow\n",
      "    ``'k'``          black\n",
      "    ``'w'``          white\n",
      "    =============    ===============================\n",
      "    \n",
      "    and the ``'CN'`` colors that index into the default property cycle.\n",
      "    \n",
      "    If the color is the only part of the format string, you can\n",
      "    additionally use any  `matplotlib.colors` spec, e.g. full names\n",
      "    (``'green'``) or hex strings (``'#008000'``).\n",
      "\n"
     ]
    }
   ],
   "source": [
    "help(plt.plot)"
   ]
  },
  {
   "cell_type": "code",
   "execution_count": 25,
   "metadata": {},
   "outputs": [
    {
     "data": {
      "image/png": "[encoded data removed]",
      "text/plain": [
       "<Figure size 640x480 with 1 Axes>"
      ]
     },
     "metadata": {},
     "output_type": "display_data"
    }
   ],
   "source": [
    "## scatter plot\n",
    "plt.title(\"Apple stock high price change over time\")\n",
    "plt.scatter(time, high, label=\"high\", c='g')\n",
    "plt.ylabel(\"Stock price\")\n",
    "plt.xlabel(\"Time\")\n",
    "plt.legend()\n",
    "plt.show() \n",
    "# plt.savefig(\"stock.png\")"
   ]
  },
  {
   "cell_type": "code",
   "execution_count": 26,
   "metadata": {},
   "outputs": [
    {
     "data": {
      "image/png": "[encoded data removed]",
      "text/plain": [
       "<Figure size 640x480 with 1 Axes>"
      ]
     },
     "metadata": {},
     "output_type": "display_data"
    }
   ],
   "source": [
    "# hist plot\n",
    "plt.title(\"Apple stock price distribution 1980-2014 (Partial)\")\n",
    "plt.hist(op, label=\"Open\", color=\"r\")\n",
    "# plt.hist(high, label=\"High\")\n",
    "plt.ylabel(\"count\")\n",
    "plt.xlabel(\"Open price\")\n",
    "plt.legend()\n",
    "plt.show() \n",
    "# plt.savefig(\"stock.png\")"
   ]
  },
  {
   "cell_type": "code",
   "execution_count": 31,
   "metadata": {},
   "outputs": [
    {
     "data": {
      "image/png": "[encoded data removed]",
      "text/plain": [
       "<Figure size 640x480 with 2 Axes>"
      ]
     },
     "metadata": {},
     "output_type": "display_data"
    }
   ],
   "source": [
    "# advanced skills\n",
    "fig, axs = plt.subplots(2, 1)\n",
    "\n",
    "axs[0].plot(time, op)\n",
    "axs[1].plot(time, volume)\n",
    "axs[0].set_title('Apple stock open price change over time')\n",
    "axs[0].set_xlabel('time')\n",
    "axs[0].set_ylabel('Open price')\n",
    "axs[0].set_title('Apple stock volume change over time')\n",
    "axs[1].set_ylabel('Volume')\n",
    "axs[1].set_xlabel('time')\n",
    "fig.tight_layout()\n",
    "plt.show()"
   ]
  },
  {
   "cell_type": "markdown",
   "metadata": {},
   "source": [
    "## Reference\n",
    "\n",
    "Numpy, Pandas and Matplotlib used materials from DataCamp;\n",
    "For plotting, there are many good examples here: https://matplotlib.org/gallery/index.html"
   ]
  },
  {
   "cell_type": "code",
   "execution_count": 28,
   "metadata": {},
   "outputs": [],
   "source": [
    "# Load the example planets dataset\n",
    "planets = sns.load_dataset(\"planets\")"
   ]
  },
  {
   "cell_type": "code",
   "execution_count": 29,
   "metadata": {},
   "outputs": [
    {
     "data": {
      "text/html": [
       "<div>\n",
       "<style scoped>\n",
       "    .dataframe tbody tr th:only-of-type {\n",
       "        vertical-align: middle;\n",
       "    }\n",
       "\n",
       "    .dataframe tbody tr th {\n",
       "        vertical-align: top;\n",
       "    }\n",
       "\n",
       "    .dataframe thead th {\n",
       "        text-align: right;\n",
       "    }\n",
       "</style>\n",
       "<table border=\"1\" class=\"dataframe\">\n",
       "  <thead>\n",
       "    <tr style=\"text-align: right;\">\n",
       "      <th></th>\n",
       "      <th>method</th>\n",
       "      <th>number</th>\n",
       "      <th>orbital_period</th>\n",
       "      <th>mass</th>\n",
       "      <th>distance</th>\n",
       "      <th>year</th>\n",
       "    </tr>\n",
       "  </thead>\n",
       "  <tbody>\n",
       "    <tr>\n",
       "      <th>0</th>\n",
       "      <td>Radial Velocity</td>\n",
       "      <td>1</td>\n",
       "      <td>269.300</td>\n",
       "      <td>7.10</td>\n",
       "      <td>77.40</td>\n",
       "      <td>2006</td>\n",
       "    </tr>\n",
       "    <tr>\n",
       "      <th>1</th>\n",
       "      <td>Radial Velocity</td>\n",
       "      <td>1</td>\n",
       "      <td>874.774</td>\n",
       "      <td>2.21</td>\n",
       "      <td>56.95</td>\n",
       "      <td>2008</td>\n",
       "    </tr>\n",
       "    <tr>\n",
       "      <th>2</th>\n",
       "      <td>Radial Velocity</td>\n",
       "      <td>1</td>\n",
       "      <td>763.000</td>\n",
       "      <td>2.60</td>\n",
       "      <td>19.84</td>\n",
       "      <td>2011</td>\n",
       "    </tr>\n",
       "    <tr>\n",
       "      <th>3</th>\n",
       "      <td>Radial Velocity</td>\n",
       "      <td>1</td>\n",
       "      <td>326.030</td>\n",
       "      <td>19.40</td>\n",
       "      <td>110.62</td>\n",
       "      <td>2007</td>\n",
       "    </tr>\n",
       "    <tr>\n",
       "      <th>4</th>\n",
       "      <td>Radial Velocity</td>\n",
       "      <td>1</td>\n",
       "      <td>516.220</td>\n",
       "      <td>10.50</td>\n",
       "      <td>119.47</td>\n",
       "      <td>2009</td>\n",
       "    </tr>\n",
       "  </tbody>\n",
       "</table>\n",
       "</div>"
      ],
      "text/plain": [
       "            method  number  orbital_period   mass  distance  year\n",
       "0  Radial Velocity       1         269.300   7.10     77.40  2006\n",
       "1  Radial Velocity       1         874.774   2.21     56.95  2008\n",
       "2  Radial Velocity       1         763.000   2.60     19.84  2011\n",
       "3  Radial Velocity       1         326.030  19.40    110.62  2007\n",
       "4  Radial Velocity       1         516.220  10.50    119.47  2009"
      ]
     },
     "execution_count": 29,
     "metadata": {},
     "output_type": "execute_result"
    }
   ],
   "source": [
    "planets.head()"
   ]
  },
  {
   "cell_type": "code",
   "execution_count": 14,
   "metadata": {},
   "outputs": [
    {
     "data": {
      "image/png": "[encoded data removed]",
      "text/plain": [
       "<Figure size 504x432 with 1 Axes>"
      ]
     },
     "metadata": {
      "needs_background": "light"
     },
     "output_type": "display_data"
    }
   ],
   "source": [
    "# Initialize the figure with a logarithmic x axis\n",
    "f, ax = plt.subplots(figsize=(7, 6))\n",
    "ax.set_xscale(\"log\")\n",
    "\n",
    "\n",
    "# Plot the orbital period with horizontal boxes\n",
    "sns.boxplot(x=\"distance\", y=\"method\", data=planets,\n",
    "            whis=[0, 100], width=.6, palette=\"vlag\")\n",
    "\n",
    "# Add in points to show each observation\n",
    "sns.stripplot(x=\"distance\", y=\"method\", data=planets,\n",
    "              size=4, color=\".3\", linewidth=0)\n",
    "\n",
    "# Tweak the visual presentation\n",
    "ax.xaxis.grid(True)\n",
    "ax.set(ylabel=\"\")\n",
    "sns.despine(trim=True, left=True)"
   ]
  },
  {
   "cell_type": "code",
   "execution_count": 15,
   "metadata": {},
   "outputs": [
    {
     "data": {
      "text/plain": [
       "<seaborn.axisgrid.FacetGrid at 0x7fda1421fb80>"
      ]
     },
     "execution_count": 15,
     "metadata": {},
     "output_type": "execute_result"
    },
    {
     "data": {
      "image/png": "[encoded data removed]",
      "text/plain": [
       "<Figure size 421.5x360 with 1 Axes>"
      ]
     },
     "metadata": {
      "needs_background": "light"
     },
     "output_type": "display_data"
    }
   ],
   "source": [
    "cmap = sns.cubehelix_palette(rot=-.2, as_cmap=True)\n",
    "\n",
    "g = sns.relplot(\n",
    "    data=planets,\n",
    "    x=\"distance\", y=\"orbital_period\",\n",
    "    hue=\"year\", size=\"mass\",\n",
    "    palette=cmap, sizes=(10, 200),\n",
    ")\n",
    "g.set(xscale=\"log\", yscale=\"log\")\n",
    "g.ax.xaxis.grid(True, \"minor\", linewidth=.25)\n",
    "g.ax.yaxis.grid(True, \"minor\", linewidth=.25)\n",
    "g.despine(left=True, bottom=True)\n"
   ]
  },
  {
   "cell_type": "code",
   "execution_count": 18,
   "metadata": {},
   "outputs": [
    {
     "data": {
      "image/png": "[encoded data removed]",
      "text/plain": [
       "<Figure size 432x288 with 1 Axes>"
      ]
     },
     "metadata": {},
     "output_type": "display_data"
    }
   ],
   "source": [
    "sns.set_theme(style=\"whitegrid\")\n",
    "\n",
    "# Load the example tips dataset\n",
    "tips = sns.load_dataset(\"tips\")\n",
    "\n",
    "# Draw a nested violinplot and split the violins for easier comparison\n",
    "sns.violinplot(data=tips, x=\"day\", y=\"total_bill\", hue=\"smoker\",\n",
    "               split=True, inner=\"quart\", linewidth=1,\n",
    "               palette={\"Yes\": \"b\", \"No\": \".85\"})\n",
    "sns.despine(left=True)"
   ]
  },
  {
   "cell_type": "code",
   "execution_count": 17,
   "metadata": {},
   "outputs": [
    {
     "data": {
      "text/plain": [
       "<AxesSubplot:>"
      ]
     },
     "execution_count": 17,
     "metadata": {},
     "output_type": "execute_result"
    },
    {
     "data": {
      "image/png": "[encoded data removed]",
      "text/plain": [
       "<Figure size 792x648 with 2 Axes>"
      ]
     },
     "metadata": {},
     "output_type": "display_data"
    }
   ],
   "source": [
    "from string import ascii_letters\n",
    "\n",
    "sns.set_theme(style=\"white\")\n",
    "\n",
    "# Generate a large random dataset\n",
    "rs = np.random.RandomState(33)\n",
    "d = pd.DataFrame(data=rs.normal(size=(100, 26)),\n",
    "                 columns=list(ascii_letters[26:]))\n",
    "\n",
    "# Compute the correlation matrix\n",
    "corr = d.corr()\n",
    "\n",
    "# Generate a mask for the upper triangle\n",
    "mask = np.triu(np.ones_like(corr, dtype=bool))\n",
    "\n",
    "# Set up the matplotlib figure\n",
    "f, ax = plt.subplots(figsize=(11, 9))\n",
    "\n",
    "# Generate a custom diverging colormap\n",
    "cmap = sns.diverging_palette(230, 20, as_cmap=True)\n",
    "\n",
    "# Draw the heatmap with the mask and correct aspect ratio\n",
    "sns.heatmap(corr, mask=mask, cmap=cmap, vmax=.3, center=0,\n",
    "            square=True, linewidths=.5, cbar_kws={\"shrink\": .5})"
   ]
  },
  {
   "cell_type": "markdown",
   "metadata": {},
   "source": [
    "# More examples in Seaborn Gallery - https://seaborn.pydata.org/examples/index.html"
   ]
  },
  {
   "cell_type": "code",
   "execution_count": null,
   "metadata": {},
   "outputs": [],
   "source": []
  }
 ],
 "metadata": {
  "kernelspec": {
   "display_name": "Python 3 (ipykernel)",
   "language": "python",
   "name": "python3"
  },
  "language_info": {
   "codemirror_mode": {
    "name": "ipython",
    "version": 3
   },
   "file_extension": ".py",
   "mimetype": "text/x-python",
   "name": "python",
   "nbconvert_exporter": "python",
   "pygments_lexer": "ipython3",
   "version": "3.8.13"
  }
 },
 "nbformat": 4,
 "nbformat_minor": 4
}
