{
 "cells": [
  {
   "cell_type": "markdown",
   "metadata": {},
   "source": [
    "# Machine Learning Final Project - QM/MM Trajectory Analysis for a Chemical Reaction\n",
    "\n",
    "By Anthony Bogetti"
   ]
  },
  {
   "cell_type": "code",
   "execution_count": 1,
   "metadata": {},
   "outputs": [],
   "source": [
    "# Imports\n",
    "import numpy as np\n",
    "import pandas as pd\n",
    "import mdtraj as md\n",
    "import h5py\n",
    "from scipy.spatial.distance import pdist\n",
    "from sklearn.cluster import KMeans\n",
    "from sklearn.decomposition import PCA\n",
    "from sklearn.preprocessing import StandardScaler\n",
    "import matplotlib.pyplot as plt"
   ]
  },
  {
   "cell_type": "markdown",
   "metadata": {},
   "source": [
    "## Initial Test:"
   ]
  },
  {
   "cell_type": "code",
   "execution_count": 3,
   "metadata": {},
   "outputs": [
    {
     "name": "stdout",
     "output_type": "stream",
     "text": [
      "[ 0  1  2  3  4  5  6  7  8  9 10 11 12 13 14 15 16 17 18 19 20 21 22 23\n",
      " 24 25 26 27 28 29 30 31 32 33 34 35 36]\n",
      "(37, 3)\n"
     ]
    }
   ],
   "source": [
    "# Prepare the atomic coordinates\n",
    "t = md.load(\"test.pdb\") # Loading in a single frame as a test\n",
    "topology = t.topology\n",
    "print(topology.select('resid 0 to 1'))\n",
    "topology = t.topology\n",
    "coords = t.xyz[:,0:37]\n",
    "coords = np.squeeze(coords)\n",
    "print(coords.shape)"
   ]
  },
  {
   "cell_type": "code",
   "execution_count": 4,
   "metadata": {},
   "outputs": [
    {
     "name": "stdout",
     "output_type": "stream",
     "text": [
      "(12, 4)\n",
      "[143.67911  -42.09825  -25.00117  149.22145  147.9005   -37.66518\n",
      " -32.63398  141.80034  158.10623  -16.045063 -31.84342  154.00526 ]\n"
     ]
    }
   ],
   "source": [
    "atom_indices = np.array([[15, 3, 0, 1],\n",
    "                [15, 3, 0, 2],\n",
    "                [11, 3, 0, 1],\n",
    "                [11, 3, 0, 2],\n",
    "                [4, 1, 0, 2],\n",
    "                [4, 1, 0, 3],\n",
    "                [8, 1, 0, 2],\n",
    "                [8, 1, 0, 3],\n",
    "                [20, 2, 0, 1],\n",
    "                [20, 2, 0, 3],\n",
    "                [22, 2, 0, 1],\n",
    "                [22, 2, 0, 3]\n",
    "               ])\n",
    "print(atom_indices.shape)\n",
    "dihedrals = np.squeeze(np.degrees(md.compute_dihedrals(t, atom_indices)))\n",
    "print(dihedrals)"
   ]
  },
  {
   "cell_type": "code",
   "execution_count": 5,
   "metadata": {},
   "outputs": [
    {
     "name": "stdout",
     "output_type": "stream",
     "text": [
      "(666,)\n"
     ]
    }
   ],
   "source": [
    "# Compute the condensed distance matrix\n",
    "distmat = pdist(coords, 'euclidean') # These will be the features used to train my model\n",
    "print(distmat.shape)"
   ]
  },
  {
   "cell_type": "code",
   "execution_count": 6,
   "metadata": {},
   "outputs": [
    {
     "name": "stdout",
     "output_type": "stream",
     "text": [
      "[ 0  1  2  3  4  5  6  7  8 11 12 13 14 15 20 21 22 23 24 34 35 36]\n",
      "(22, 3)\n",
      "[ 30.526268  31.26551  121.82448  ...  70.269966  72.69045  176.44257 ]\n"
     ]
    }
   ],
   "source": [
    "from itertools import combinations \n",
    "noH = [0,1,2,3,4,5,6,7,8,11,12,13,14,15,20,21,22,23,24,34,35,36]\n",
    "print(topology.select('resid 0 to 1')[noH])\n",
    "noHcoords = []\n",
    "for i in noH:\n",
    "    coord = t.xyz[:,i]\n",
    "    noHcoords.append(coord)\n",
    "noHcoords = np.squeeze(np.array(noHcoords))\n",
    "print(noHcoords.shape)\n",
    "perm = combinations(noH,3) \n",
    "a = np.array(list(perm))\n",
    "#print(a)\n",
    "angles = []\n",
    "for i in a:\n",
    "    #print(i)\n",
    "    mask = coords[i]\n",
    "    d1 = mask[0] - mask[1]\n",
    "    d2 = mask[2] - mask[1]\n",
    "    cosine_angle = np.dot(d1, d2) / (np.linalg.norm(d1) * np.linalg.norm(d2))\n",
    "    angle = np.arccos(cosine_angle)\n",
    "    angles.append(np.degrees(angle))\n",
    "angles = np.array(angles)\n",
    "print(angles)"
   ]
  },
  {
   "cell_type": "markdown",
   "metadata": {},
   "source": [
    "## To Do:\n",
    "1. w_crawl to get distmat for all data points (Done): this was time-consuming but not difficult, I end up with a \"condensed\" array of pairwise distance combinations between all of the 37 atoms in the system in Angstroms.\n",
    "2. Determine which data points are part of pathways that lead to products (Done): this was also not tricky, and didn't take too much time, I ran w_succ to get all of the successful trajectories and then used w_trace to get all of the conformations in the past along the successful conformation pathways, deleted the repeated entries and then for each iter:seg combo assigned a 1 if the pair is in the successful list and a 0 if not.\n",
    "3. Build main pandas dataset (Done)\n",
    "4. Train model using lasso/random forest and examine importance of each pairwise distance leading to each outcome: This worked almost too well... I need to look more into it to see if I did anything wrong but so far it is very promising!"
   ]
  },
  {
   "cell_type": "code",
   "execution_count": 8,
   "metadata": {},
   "outputs": [
    {
     "ename": "OSError",
     "evalue": "Unable to open file (unable to open file: name = 'west.h5', errno = 2, error message = 'No such file or directory', flags = 0, o_flags = 0)",
     "output_type": "error",
     "traceback": [
      "\u001b[0;31m---------------------------------------------------------------------------\u001b[0m",
      "\u001b[0;31mOSError\u001b[0m                                   Traceback (most recent call last)",
      "\u001b[0;32m<ipython-input-8-c2d8408b1b47>\u001b[0m in \u001b[0;36m<module>\u001b[0;34m\u001b[0m\n\u001b[1;32m      1\u001b[0m \u001b[0;31m# Load in my hdf5 data file\u001b[0m\u001b[0;34m\u001b[0m\u001b[0;34m\u001b[0m\u001b[0;34m\u001b[0m\u001b[0m\n\u001b[0;32m----> 2\u001b[0;31m \u001b[0mh5file\u001b[0m \u001b[0;34m=\u001b[0m \u001b[0mh5py\u001b[0m\u001b[0;34m.\u001b[0m\u001b[0mFile\u001b[0m\u001b[0;34m(\u001b[0m\u001b[0;34m\"west.h5\"\u001b[0m\u001b[0;34m,\u001b[0m \u001b[0;34m\"r\"\u001b[0m\u001b[0;34m)\u001b[0m\u001b[0;34m\u001b[0m\u001b[0;34m\u001b[0m\u001b[0m\n\u001b[0m\u001b[1;32m      3\u001b[0m \u001b[0mh5file\u001b[0m\u001b[0;34m.\u001b[0m\u001b[0mkeys\u001b[0m\u001b[0;34m(\u001b[0m\u001b[0;34m)\u001b[0m\u001b[0;34m\u001b[0m\u001b[0;34m\u001b[0m\u001b[0m\n",
      "\u001b[0;32m~/apps/anaconda3/lib/python3.8/site-packages/h5py/_hl/files.py\u001b[0m in \u001b[0;36m__init__\u001b[0;34m(self, name, mode, driver, libver, userblock_size, swmr, rdcc_nslots, rdcc_nbytes, rdcc_w0, track_order, **kwds)\u001b[0m\n\u001b[1;32m    404\u001b[0m             \u001b[0;32mwith\u001b[0m \u001b[0mphil\u001b[0m\u001b[0;34m:\u001b[0m\u001b[0;34m\u001b[0m\u001b[0;34m\u001b[0m\u001b[0m\n\u001b[1;32m    405\u001b[0m                 \u001b[0mfapl\u001b[0m \u001b[0;34m=\u001b[0m \u001b[0mmake_fapl\u001b[0m\u001b[0;34m(\u001b[0m\u001b[0mdriver\u001b[0m\u001b[0;34m,\u001b[0m \u001b[0mlibver\u001b[0m\u001b[0;34m,\u001b[0m \u001b[0mrdcc_nslots\u001b[0m\u001b[0;34m,\u001b[0m \u001b[0mrdcc_nbytes\u001b[0m\u001b[0;34m,\u001b[0m \u001b[0mrdcc_w0\u001b[0m\u001b[0;34m,\u001b[0m \u001b[0;34m**\u001b[0m\u001b[0mkwds\u001b[0m\u001b[0;34m)\u001b[0m\u001b[0;34m\u001b[0m\u001b[0;34m\u001b[0m\u001b[0m\n\u001b[0;32m--> 406\u001b[0;31m                 fid = make_fid(name, mode, userblock_size,\n\u001b[0m\u001b[1;32m    407\u001b[0m                                \u001b[0mfapl\u001b[0m\u001b[0;34m,\u001b[0m \u001b[0mfcpl\u001b[0m\u001b[0;34m=\u001b[0m\u001b[0mmake_fcpl\u001b[0m\u001b[0;34m(\u001b[0m\u001b[0mtrack_order\u001b[0m\u001b[0;34m=\u001b[0m\u001b[0mtrack_order\u001b[0m\u001b[0;34m)\u001b[0m\u001b[0;34m,\u001b[0m\u001b[0;34m\u001b[0m\u001b[0;34m\u001b[0m\u001b[0m\n\u001b[1;32m    408\u001b[0m                                swmr=swmr)\n",
      "\u001b[0;32m~/apps/anaconda3/lib/python3.8/site-packages/h5py/_hl/files.py\u001b[0m in \u001b[0;36mmake_fid\u001b[0;34m(name, mode, userblock_size, fapl, fcpl, swmr)\u001b[0m\n\u001b[1;32m    171\u001b[0m         \u001b[0;32mif\u001b[0m \u001b[0mswmr\u001b[0m \u001b[0;32mand\u001b[0m \u001b[0mswmr_support\u001b[0m\u001b[0;34m:\u001b[0m\u001b[0;34m\u001b[0m\u001b[0;34m\u001b[0m\u001b[0m\n\u001b[1;32m    172\u001b[0m             \u001b[0mflags\u001b[0m \u001b[0;34m|=\u001b[0m \u001b[0mh5f\u001b[0m\u001b[0;34m.\u001b[0m\u001b[0mACC_SWMR_READ\u001b[0m\u001b[0;34m\u001b[0m\u001b[0;34m\u001b[0m\u001b[0m\n\u001b[0;32m--> 173\u001b[0;31m         \u001b[0mfid\u001b[0m \u001b[0;34m=\u001b[0m \u001b[0mh5f\u001b[0m\u001b[0;34m.\u001b[0m\u001b[0mopen\u001b[0m\u001b[0;34m(\u001b[0m\u001b[0mname\u001b[0m\u001b[0;34m,\u001b[0m \u001b[0mflags\u001b[0m\u001b[0;34m,\u001b[0m \u001b[0mfapl\u001b[0m\u001b[0;34m=\u001b[0m\u001b[0mfapl\u001b[0m\u001b[0;34m)\u001b[0m\u001b[0;34m\u001b[0m\u001b[0;34m\u001b[0m\u001b[0m\n\u001b[0m\u001b[1;32m    174\u001b[0m     \u001b[0;32melif\u001b[0m \u001b[0mmode\u001b[0m \u001b[0;34m==\u001b[0m \u001b[0;34m'r+'\u001b[0m\u001b[0;34m:\u001b[0m\u001b[0;34m\u001b[0m\u001b[0;34m\u001b[0m\u001b[0m\n\u001b[1;32m    175\u001b[0m         \u001b[0mfid\u001b[0m \u001b[0;34m=\u001b[0m \u001b[0mh5f\u001b[0m\u001b[0;34m.\u001b[0m\u001b[0mopen\u001b[0m\u001b[0;34m(\u001b[0m\u001b[0mname\u001b[0m\u001b[0;34m,\u001b[0m \u001b[0mh5f\u001b[0m\u001b[0;34m.\u001b[0m\u001b[0mACC_RDWR\u001b[0m\u001b[0;34m,\u001b[0m \u001b[0mfapl\u001b[0m\u001b[0;34m=\u001b[0m\u001b[0mfapl\u001b[0m\u001b[0;34m)\u001b[0m\u001b[0;34m\u001b[0m\u001b[0;34m\u001b[0m\u001b[0m\n",
      "\u001b[0;32mh5py/_objects.pyx\u001b[0m in \u001b[0;36mh5py._objects.with_phil.wrapper\u001b[0;34m()\u001b[0m\n",
      "\u001b[0;32mh5py/_objects.pyx\u001b[0m in \u001b[0;36mh5py._objects.with_phil.wrapper\u001b[0;34m()\u001b[0m\n",
      "\u001b[0;32mh5py/h5f.pyx\u001b[0m in \u001b[0;36mh5py.h5f.open\u001b[0;34m()\u001b[0m\n",
      "\u001b[0;31mOSError\u001b[0m: Unable to open file (unable to open file: name = 'west.h5', errno = 2, error message = 'No such file or directory', flags = 0, o_flags = 0)"
     ]
    }
   ],
   "source": [
    "# Load in my hdf5 data file\n",
    "h5file = h5py.File(\"west.h5\", \"r\")\n",
    "h5file.keys()"
   ]
  },
  {
   "cell_type": "code",
   "execution_count": 4,
   "metadata": {},
   "outputs": [],
   "source": [
    "id_list = []\n",
    "weight_list = []\n",
    "success_list = []\n",
    "distmat_list = []\n",
    "angle_list = []\n",
    "for i in range(1,1001):\n",
    "    sweights = \"iterations/iter_\" + str(i).zfill(8) + \"/seg_index\"\n",
    "    ssuccess = \"iterations/iter_\" + str(i).zfill(8) + \"/auxdata/success\"\n",
    "    sdistmat = \"iterations/iter_\" + str(i).zfill(8) + \"/auxdata/distmat\"\n",
    "    sangles = \"iterations/iter_\" + str(i).zfill(8) + \"/auxdata/angles\"\n",
    "\n",
    "    weights = h5file[sweights][:]['weight']\n",
    "    successes = h5file[ssuccess][:,0]\n",
    "    distmats = h5file[sdistmat][:]\n",
    "    angles = h5file[sangles][:]\n",
    "\n",
    "\n",
    "    n_segs = weights.shape[0]\n",
    "    for j in range(1,n_segs):\n",
    "        id = str(i).zfill(4) + str(j).zfill(4)\n",
    "        weight = weights[j]\n",
    "        success = successes[j]\n",
    "        distmat = distmats[j]\n",
    "        angle = angles[j]\n",
    "        id_list.append(id)  \n",
    "        weight_list.append(weight)\n",
    "        success_list.append(int(success))\n",
    "        distmat_list.append(distmat)\n",
    "        angle_list.append(angle)"
   ]
  },
  {
   "cell_type": "code",
   "execution_count": 5,
   "metadata": {},
   "outputs": [],
   "source": [
    "n = np.array(distmat_list)\n",
    "#n2 = np.array(angle_list)"
   ]
  },
  {
   "cell_type": "code",
   "execution_count": 1,
   "metadata": {},
   "outputs": [
    {
     "name": "stdout",
     "output_type": "stream",
     "text": [
      "[['C1' 'C2']\n",
      " ['C1' 'C3']\n",
      " ['C1' 'C4']\n",
      " ...\n",
      " ['N1' 'N2']\n",
      " ['N1' 'N3']\n",
      " ['N2' 'N3']]\n",
      "(1540, 3)\n"
     ]
    }
   ],
   "source": [
    "from itertools import combinations \n",
    "import numpy as np\n",
    "atoms = ['C1', 'C2', 'C3', 'C4', 'C5', 'C6', 'C7', 'C8', 'C9', 'H1', 'H2', 'C10', 'C11', 'C12', 'C13', 'C14', 'H3', 'H4', 'H5', 'H6', 'C15', 'C16', 'C17', 'C18', 'C19', 'H7', 'H8', 'H9', 'H10', 'H11', 'H12', 'H13', 'H14', 'H15', 'N1', 'N2', 'N3']\n",
    "perm = combinations(atoms,2) \n",
    "a = np.array(list(perm))\n",
    "print(a)\n",
    "\n",
    "noH = ['C1', 'C2', 'C3', 'C4', 'C5', 'C6', 'C7', 'C8', 'C9', 'C10', 'C11', 'C12', 'C13', 'C14', 'C15', 'C16', 'C17', 'C18', 'C19', 'N1', 'N2', 'N3']\n",
    "perm2 = combinations(noH,3) \n",
    "a2 = np.array(list(perm2))\n",
    "print(a2.shape)"
   ]
  },
  {
   "cell_type": "code",
   "execution_count": 7,
   "metadata": {},
   "outputs": [],
   "source": [
    "mydata = pd.DataFrame()\n",
    "mydata['ID'] = id_list\n",
    "mydata['weight'] = weight_list\n",
    "mydata['success'] = success_list\n",
    "for i in range(0,666):\n",
    "    if 'H' in a[i,0]:\n",
    "        continue\n",
    "    elif 'H' in a[i,1]:\n",
    "        continue\n",
    "    else:\n",
    "        fname = 'b' + str(a[i,0]) + '-' + str(a[i,1])\n",
    "        mydata[fname] = n[:,i]\n",
    "mydata.to_csv(\"mydata.csv\")\n",
    "\n",
    "#for i in range(0,a2.shape[0]):\n",
    "#        fname = 'a' + str(a2[i,0]) + '-' + str(a2[i,1]) + '-' + str(a2[i,2])\n",
    "#        mydata[fname] = n2[:,i]\n",
    "#mydata.head"
   ]
  },
  {
   "cell_type": "code",
   "execution_count": null,
   "metadata": {},
   "outputs": [],
   "source": [
    "# Split dataset into training and test\n",
    "from sklearn.model_selection import train_test_split\n",
    "X = mydata.iloc[:,3:234]\n",
    "X_1 = mydata.iloc\n",
    "y = mydata.iloc[:,2]\n",
    "W = mydata.iloc[:,1]/1000\n",
    "Xtrain, Xtest, ytrain, ytest, Wtrain, Wtest = train_test_split(X, y, W, test_size=0.25, random_state=None)"
   ]
  },
  {
   "cell_type": "code",
   "execution_count": null,
   "metadata": {},
   "outputs": [],
   "source": [
    "# Correlation matrix for all non H-contining features\n",
    "names = Xtrain.columns\n",
    "correlations = Xtrain.corr()\n",
    "fig = plt.figure()\n",
    "ax = fig.add_subplot(111)\n",
    "cax = ax.matshow(correlations, vmin=-1, vmax=1)\n",
    "fig.colorbar(cax)\n",
    "#ticks = np.arange(1,232,1)\n",
    "#ax.set_xticks(ticks)\n",
    "#ax.set_yticks(ticks)\n",
    "#ax.set_xticklabels(names)\n",
    "#ax.set_yticklabels(names)\n",
    "plt.show()"
   ]
  },
  {
   "cell_type": "code",
   "execution_count": null,
   "metadata": {},
   "outputs": [],
   "source": [
    "Sc = StandardScaler()\n",
    "X = Sc.fit_transform(Xtrain)\n",
    "pca = PCA(5)\n",
    "pca_data = pd.DataFrame(pca.fit_transform(X), columns=['Pc1', 'Pc2', 'Pc3', 'Pc4', 'Pc5'])\n",
    "\n",
    "# Cluster the fingerprints and add the cluster labels to the dataframe with the PCs\n",
    "kmeans = KMeans(n_clusters=3).fit(X)\n",
    "pca_data['cluster'] = pd.Categorical(kmeans.labels_)\n",
    "\n",
    "#pca_data['C6-C10'] = mydata['C6-C10']\n",
    "\n",
    "# Plot the first two PCs colored by the cluster labels\n",
    "pca_data.plot(kind='scatter', x='Pc1', y='Pc2', c='cluster', cmap='jet')"
   ]
  },
  {
   "cell_type": "code",
   "execution_count": null,
   "metadata": {},
   "outputs": [],
   "source": [
    "# Fit model and make predictions\n",
    "from sklearn.ensemble import RandomForestClassifier\n",
    "\n",
    "rfc = RandomForestClassifier(max_depth=2, random_state=0)\n",
    "\n",
    "# For no weights, just remove Wtrain\n",
    "rfc.fit(Xtrain, ytrain, Wtrain)\n",
    "predictions = rfc.predict(Xtest)"
   ]
  },
  {
   "cell_type": "code",
   "execution_count": null,
   "metadata": {},
   "outputs": [],
   "source": [
    "# Evaluate our model\n",
    "from sklearn.metrics import classification_report\n",
    "from sklearn.metrics import roc_curve, auc\n",
    "acc = rfc.score(Xtest,ytest)\n",
    "print(\"Overall accuracy:\", acc)\n",
    "yscore = rfc.predict_proba(Xtest)[:,1]\n",
    "fpr = dict()\n",
    "tpr = dict()\n",
    "fpr, tpr, _ = roc_curve(ytest, yscore)\n",
    "\n",
    "roc_auc = dict()\n",
    "roc_auc = auc(fpr, tpr)\n",
    "print(\"AUC:\", roc_auc)\n",
    "plt.figure(figsize=(10,10))\n",
    "plt.plot([0, 1], [0, 1], 'k--')\n",
    "plt.xlim([-0.05, 1.0])\n",
    "plt.ylim([0.0, 1.05])\n",
    "plt.xlabel('False Positive Rate')\n",
    "plt.ylabel('True Positive Rate')\n",
    "plt.grid(True)\n",
    "plt.plot(fpr, tpr, label='AUC = {0}'.format(roc_auc))        \n",
    "plt.legend(loc=\"lower right\", shadow=True, fancybox =True) \n",
    "plt.show()"
   ]
  },
  {
   "cell_type": "code",
   "execution_count": null,
   "metadata": {},
   "outputs": [],
   "source": [
    "# Plot feature importance\n",
    "fig = plt.figure(figsize=(20, 10))\n",
    "ax = fig.add_axes([0,0,1,1])\n",
    "importances = list(rfc.feature_importances_)\n",
    "for i, num in enumerate(importances):\n",
    "    #print(Xtrain.columns[i], num)\n",
    "    if num == 0:\n",
    "        continue\n",
    "    elif num > 0.02:\n",
    "        ax.bar(Xtrain.columns[i], num, color='tomato')\n",
    "    else:\n",
    "        ax.bar(Xtrain.columns[i], num, color='dodgerblue')\n",
    "        \n",
    "plt.xticks(rotation=90)\n",
    "left, width = .25, .725\n",
    "bottom, height = .25, .7\n",
    "right = left + width\n",
    "top = bottom + height\n",
    "#ax.text(right, top, 'Random Forest Feature Importance',\n",
    "#        horizontalalignment='right',\n",
    "#        verticalalignment='top',\n",
    "#        fontsize=40,\n",
    "#        transform=ax.transAxes)\n",
    "plt.show()"
   ]
  },
  {
   "attachments": {
    "image.png": {
     "image/png": "[encoded data removed]"
    }
   },
   "cell_type": "markdown",
   "metadata": {},
   "source": [
    "![image.png](attachment:image.png)\n",
    "\n",
    "The C-N atomic distances are not too surprising.  However, the C1-C3/C1-C2 distances are!  I'll try to take a closer look at those."
   ]
  },
  {
   "cell_type": "code",
   "execution_count": null,
   "metadata": {},
   "outputs": [],
   "source": [
    "# Histogram the C1C3 distances to see what's going on\n",
    "C1C3 = mydata.iloc[:,4]\n",
    "n, bins, patches = plt.hist(C1C3, 50, density=True, facecolor='g', alpha=0.75)\n",
    "plt.show()"
   ]
  },
  {
   "cell_type": "markdown",
   "metadata": {},
   "source": [
    "Nothing too surprising there..."
   ]
  },
  {
   "cell_type": "code",
   "execution_count": null,
   "metadata": {},
   "outputs": [],
   "source": [
    "# Split the C1C3 distance dataset into successful and unsuccessful parts\n",
    "C1C3_slist = []\n",
    "C1C3_ulist = []\n",
    "\n",
    "for i,row in mydata.iterrows():\n",
    "    s = row['success']\n",
    "    if s == 1:\n",
    "        C1C3_slist.append(row['C7-C10'])\n",
    "    else:\n",
    "        C1C3_ulist.append(row['C7-C10'])\n"
   ]
  },
  {
   "cell_type": "code",
   "execution_count": null,
   "metadata": {},
   "outputs": [],
   "source": [
    "# Histogram the successful and unsuccessful datapoints' C1C3 distances separately\n",
    "n, bins, patches = plt.hist(C1C3_ulist, 50, density=True, facecolor='gold', alpha=0.4)\n",
    "n, bins, patches = plt.hist(C1C3_slist, 50, density=True, facecolor='dodgerblue', alpha=0.4)\n",
    "plt.show()"
   ]
  },
  {
   "cell_type": "markdown",
   "metadata": {},
   "source": [
    "This is interesting!  For the \"successful\" trajectories, the C-C bond length of the cation to the neighboring carbon is slightly longer (on average) as seen in the histogram.  This actually makes sense because a hybridization change from sp2 to sp3 should result in a slightly longer bond length (actually, one of 1.54 Angstroms!).  Both of these most probable distances match literature values (https://cdnsciencepub.com/doi/pdf/10.1139/v86-174)."
   ]
  },
  {
   "cell_type": "code",
   "execution_count": null,
   "metadata": {},
   "outputs": [],
   "source": []
  }
 ],
 "metadata": {
  "kernelspec": {
   "display_name": "Python 3",
   "language": "python",
   "name": "python3"
  },
  "language_info": {
   "codemirror_mode": {
    "name": "ipython",
    "version": 3
   },
   "file_extension": ".py",
   "mimetype": "text/x-python",
   "name": "python",
   "nbconvert_exporter": "python",
   "pygments_lexer": "ipython3",
   "version": "3.8.10"
  }
 },
 "nbformat": 4,
 "nbformat_minor": 4
}
