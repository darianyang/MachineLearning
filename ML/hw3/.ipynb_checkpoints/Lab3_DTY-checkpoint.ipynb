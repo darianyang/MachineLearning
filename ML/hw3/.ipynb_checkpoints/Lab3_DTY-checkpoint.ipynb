{
 "cells": [
  {
   "cell_type": "markdown",
   "metadata": {},
   "source": [
    "## Lab3: Wide data and linear models\n",
    "\n",
    "### Darian Yang\n",
    "\n",
    "You are provided with a dataset for 554 patients, 80% (444 patients) of the dataset was selected to be the training set, and 20% (110 patients) as the test set. Features and labels of the training set can be found in train_X.csv, train_y.csv respectively. Features of the test set can be found in test_X.csv while labels are hidden.\n",
    "\n",
    "Your task is to predict the disease type (phenotype) from transcriptomics data. Disease: UCEC (uterine corpus endometrial carcinoma). Labels (1/0) are encoding tumor grade “II-” vs. “III+”\n",
    "\n",
    "### Specific tasks:\n",
    "* Please use binary classification (0/1) using linear models. \n",
    "* Measure the classification performance using accuracy and [F1-score](https://scikit-learn.org/stable/modules/generated/sklearn.metrics.f1_score.html) on the given validation set. Please report averaged values.\n",
    "* Develop a pipeline to try different [linear models](https://scikit-learn.org/stable/modules/linear_model.html) (linear regression, logistic regression, Ridge regression, LASSO, etc.)\n",
    "* Study the effect of regularization parameters on model performance. What model is the best?\n",
    "* Compare your best model accuracy with random guessing (Hint: scramble labels aka Y-randomization)\n",
    "* What are the top important genes for the model decision?\n",
    "* Try to visualize the dataset and see if you could visually separate two groups of patients\n",
    "\n",
    "### Bonus Qs:\n",
    "You could use https://www.uniprot.org/Links to an external site, and search for Gene IDs. See if there is a meaningful connection between the top 10 most important genes and disease. Did your model recapitulate of the known association between Genes and Disease?"
   ]
  },
  {
   "cell_type": "markdown",
   "metadata": {},
   "source": [
    "### Evaluation\n",
    "The evaluation metric for this competition is Mean F1-Score. The F1 score, commonly used in information retrieval, measures accuracy using the statistics precision and recall.\n",
    "\n",
    "The F1 metric weights recall and precision equally, and a good retrieval algorithm will maximize both precision and recall simultaneously. Thus, moderately good performance on both will be favored over extremely good performance on one and poor performance on the other.\n",
    "\n",
    "#### Submission Format\n",
    "Your submission should be your predictions on given features in test_X.csv\n",
    "Your submission should contain only two columns, the ID and the predicted label.\n",
    "Please include the header \"ID\" and \"xml_neoplasm_histologic_grade\" so that Kaggle can read your submission\n",
    "https://www.kaggle.com/competitions/38615hw3/overview/description\n",
    "\n",
    "```\n",
    "ID,xml_neoplasm_histologic_grade\n",
    "1,1\n",
    "```\n",
    "\n",
    "#### Important note:\n",
    "Kaggle randomly separated the test set to two parts: public test and private test, in this homework the test set was separately evenly with no intersection. The split is fixed but not visible. Once you have submitted your prediction, Kaggle will show the accuracy of your prediction on the public part of the test set immediately, while the accuracy on the private part of the test set will be hidden until the end of this homework. This means your final accuracy and rank is not necessarily the same as you can see during the competition"
   ]
  },
  {
   "cell_type": "markdown",
   "metadata": {},
   "source": [
    "### Dataset Description\n",
    "train_X.csv\n",
    "* Features of 444 patients in the training set, the first column are ID\n",
    "\n",
    "train_y.csv\n",
    "* Labels of 444 patients in the training set(all boolean values), the first column are ID\n",
    "\n",
    "test_X.csv\n",
    "* Features of 110 patients in the test set, the first column are ID"
   ]
  },
  {
   "cell_type": "markdown",
   "metadata": {},
   "source": [
    "### Let's start with some exploration of the data"
   ]
  },
  {
   "cell_type": "code",
   "execution_count": 2,
   "metadata": {},
   "outputs": [],
   "source": [
    "import numpy as np\n",
    "import matplotlib.pyplot as plt\n",
    "import pandas as pd"
   ]
  },
  {
   "cell_type": "code",
   "execution_count": 3,
   "metadata": {},
   "outputs": [],
   "source": [
    "train_x = pd.read_csv(\"train_X.csv\")\n",
    "#train_x = pd.read_csv(\"train_X.csv\", index_col=0)\n",
    "train_y = pd.read_csv(\"train_y.csv\")\n",
    "test_x = pd.read_csv(\"test_X.csv\")\n",
    "#test_x = pd.read_csv(\"test_X.csv\", index_col=0)"
   ]
  },
  {
   "cell_type": "code",
   "execution_count": 4,
   "metadata": {},
   "outputs": [
    {
     "data": {
      "text/html": [
       "<div>\n",
       "<style scoped>\n",
       "    .dataframe tbody tr th:only-of-type {\n",
       "        vertical-align: middle;\n",
       "    }\n",
       "\n",
       "    .dataframe tbody tr th {\n",
       "        vertical-align: top;\n",
       "    }\n",
       "\n",
       "    .dataframe thead th {\n",
       "        text-align: right;\n",
       "    }\n",
       "</style>\n",
       "<table border=\"1\" class=\"dataframe\">\n",
       "  <thead>\n",
       "    <tr style=\"text-align: right;\">\n",
       "      <th></th>\n",
       "      <th>Unnamed: 0</th>\n",
       "      <th>ENSG00000000003</th>\n",
       "      <th>ENSG00000000005</th>\n",
       "      <th>ENSG00000000419</th>\n",
       "      <th>ENSG00000000457</th>\n",
       "      <th>ENSG00000000938</th>\n",
       "      <th>ENSG00000000971</th>\n",
       "      <th>ENSG00000001036</th>\n",
       "      <th>ENSG00000001084</th>\n",
       "      <th>ENSG00000001167</th>\n",
       "      <th>...</th>\n",
       "      <th>ENSG00000282651</th>\n",
       "      <th>ENSG00000282815</th>\n",
       "      <th>ENSG00000282939</th>\n",
       "      <th>ENSG00000283063</th>\n",
       "      <th>ENSG00000283439</th>\n",
       "      <th>ENSG00000283463</th>\n",
       "      <th>ENSG00000283526</th>\n",
       "      <th>ENSG00000283586</th>\n",
       "      <th>ENSG00000283632</th>\n",
       "      <th>ENSG00000283697</th>\n",
       "    </tr>\n",
       "  </thead>\n",
       "  <tbody>\n",
       "    <tr>\n",
       "      <th>0</th>\n",
       "      <td>EB0D68BC-5FF9-44A5-A355-CA5441BFBA0A</td>\n",
       "      <td>7.062725</td>\n",
       "      <td>0.026623</td>\n",
       "      <td>6.720413</td>\n",
       "      <td>5.449267</td>\n",
       "      <td>3.868619</td>\n",
       "      <td>4.587771</td>\n",
       "      <td>7.165112</td>\n",
       "      <td>4.643161</td>\n",
       "      <td>6.771731</td>\n",
       "      <td>...</td>\n",
       "      <td>0.325987</td>\n",
       "      <td>-5.545564</td>\n",
       "      <td>-5.545564</td>\n",
       "      <td>-5.545564</td>\n",
       "      <td>-5.545564</td>\n",
       "      <td>4.014351</td>\n",
       "      <td>4.841392</td>\n",
       "      <td>-5.545564</td>\n",
       "      <td>5.855893</td>\n",
       "      <td>3.618253</td>\n",
       "    </tr>\n",
       "    <tr>\n",
       "      <th>1</th>\n",
       "      <td>0876B4BB-58BA-4C4C-84F4-E9D19EF96147</td>\n",
       "      <td>5.965392</td>\n",
       "      <td>-5.431256</td>\n",
       "      <td>6.358498</td>\n",
       "      <td>4.161479</td>\n",
       "      <td>4.585293</td>\n",
       "      <td>4.326924</td>\n",
       "      <td>6.849703</td>\n",
       "      <td>4.391534</td>\n",
       "      <td>5.819945</td>\n",
       "      <td>...</td>\n",
       "      <td>5.910874</td>\n",
       "      <td>-0.945029</td>\n",
       "      <td>3.750430</td>\n",
       "      <td>1.611211</td>\n",
       "      <td>-0.498573</td>\n",
       "      <td>3.430928</td>\n",
       "      <td>3.160435</td>\n",
       "      <td>-5.431256</td>\n",
       "      <td>4.413930</td>\n",
       "      <td>3.353496</td>\n",
       "    </tr>\n",
       "    <tr>\n",
       "      <th>2</th>\n",
       "      <td>EACD1021-7B52-4531-8806-B7555B73AC84</td>\n",
       "      <td>7.892221</td>\n",
       "      <td>-5.851870</td>\n",
       "      <td>8.132992</td>\n",
       "      <td>5.986320</td>\n",
       "      <td>5.422599</td>\n",
       "      <td>4.728815</td>\n",
       "      <td>8.168477</td>\n",
       "      <td>6.289562</td>\n",
       "      <td>7.331591</td>\n",
       "      <td>...</td>\n",
       "      <td>10.103565</td>\n",
       "      <td>-5.851870</td>\n",
       "      <td>6.498217</td>\n",
       "      <td>5.481945</td>\n",
       "      <td>-5.851870</td>\n",
       "      <td>5.137298</td>\n",
       "      <td>4.296777</td>\n",
       "      <td>-5.851870</td>\n",
       "      <td>5.345372</td>\n",
       "      <td>5.028567</td>\n",
       "    </tr>\n",
       "    <tr>\n",
       "      <th>3</th>\n",
       "      <td>368ACD26-C7FB-4974-BB7F-0AE22670CB0E</td>\n",
       "      <td>6.826546</td>\n",
       "      <td>0.964851</td>\n",
       "      <td>5.998280</td>\n",
       "      <td>4.991435</td>\n",
       "      <td>4.963000</td>\n",
       "      <td>4.977695</td>\n",
       "      <td>7.149421</td>\n",
       "      <td>4.570863</td>\n",
       "      <td>6.008286</td>\n",
       "      <td>...</td>\n",
       "      <td>2.442099</td>\n",
       "      <td>-5.994056</td>\n",
       "      <td>2.862038</td>\n",
       "      <td>1.909955</td>\n",
       "      <td>0.568120</td>\n",
       "      <td>4.768694</td>\n",
       "      <td>3.983207</td>\n",
       "      <td>-5.994056</td>\n",
       "      <td>4.609411</td>\n",
       "      <td>4.329472</td>\n",
       "    </tr>\n",
       "    <tr>\n",
       "      <th>4</th>\n",
       "      <td>F23B0A1A-25AE-41D9-8C49-B692C4FDE1E4</td>\n",
       "      <td>7.059095</td>\n",
       "      <td>2.429954</td>\n",
       "      <td>6.746639</td>\n",
       "      <td>5.591316</td>\n",
       "      <td>5.111120</td>\n",
       "      <td>5.972938</td>\n",
       "      <td>7.576201</td>\n",
       "      <td>6.032083</td>\n",
       "      <td>6.470761</td>\n",
       "      <td>...</td>\n",
       "      <td>5.553223</td>\n",
       "      <td>-5.870484</td>\n",
       "      <td>3.044916</td>\n",
       "      <td>-5.870484</td>\n",
       "      <td>0.018320</td>\n",
       "      <td>4.640575</td>\n",
       "      <td>4.954957</td>\n",
       "      <td>-5.870484</td>\n",
       "      <td>4.620774</td>\n",
       "      <td>4.464277</td>\n",
       "    </tr>\n",
       "    <tr>\n",
       "      <th>...</th>\n",
       "      <td>...</td>\n",
       "      <td>...</td>\n",
       "      <td>...</td>\n",
       "      <td>...</td>\n",
       "      <td>...</td>\n",
       "      <td>...</td>\n",
       "      <td>...</td>\n",
       "      <td>...</td>\n",
       "      <td>...</td>\n",
       "      <td>...</td>\n",
       "      <td>...</td>\n",
       "      <td>...</td>\n",
       "      <td>...</td>\n",
       "      <td>...</td>\n",
       "      <td>...</td>\n",
       "      <td>...</td>\n",
       "      <td>...</td>\n",
       "      <td>...</td>\n",
       "      <td>...</td>\n",
       "      <td>...</td>\n",
       "      <td>...</td>\n",
       "    </tr>\n",
       "    <tr>\n",
       "      <th>439</th>\n",
       "      <td>D4276C6F-9F0F-4F74-A85E-1E54272ADDED</td>\n",
       "      <td>7.009917</td>\n",
       "      <td>0.088022</td>\n",
       "      <td>6.814481</td>\n",
       "      <td>4.685804</td>\n",
       "      <td>3.039239</td>\n",
       "      <td>4.373218</td>\n",
       "      <td>6.826167</td>\n",
       "      <td>5.101784</td>\n",
       "      <td>6.327076</td>\n",
       "      <td>...</td>\n",
       "      <td>5.244168</td>\n",
       "      <td>-5.619018</td>\n",
       "      <td>3.953899</td>\n",
       "      <td>-5.619018</td>\n",
       "      <td>-0.021027</td>\n",
       "      <td>4.055201</td>\n",
       "      <td>3.052880</td>\n",
       "      <td>-5.619018</td>\n",
       "      <td>4.560183</td>\n",
       "      <td>3.889471</td>\n",
       "    </tr>\n",
       "    <tr>\n",
       "      <th>440</th>\n",
       "      <td>375C6EA2-4747-4959-9630-771FB8461BF1</td>\n",
       "      <td>4.772186</td>\n",
       "      <td>-5.062627</td>\n",
       "      <td>7.064273</td>\n",
       "      <td>5.505659</td>\n",
       "      <td>5.769194</td>\n",
       "      <td>4.307329</td>\n",
       "      <td>6.576986</td>\n",
       "      <td>4.018168</td>\n",
       "      <td>5.453594</td>\n",
       "      <td>...</td>\n",
       "      <td>6.641965</td>\n",
       "      <td>-0.284152</td>\n",
       "      <td>4.238647</td>\n",
       "      <td>5.431223</td>\n",
       "      <td>0.785492</td>\n",
       "      <td>3.489883</td>\n",
       "      <td>-5.062627</td>\n",
       "      <td>-5.062627</td>\n",
       "      <td>4.467892</td>\n",
       "      <td>3.335732</td>\n",
       "    </tr>\n",
       "    <tr>\n",
       "      <th>441</th>\n",
       "      <td>AE8BD116-5550-4A0F-BEBE-F092675A1F45</td>\n",
       "      <td>7.741897</td>\n",
       "      <td>1.467622</td>\n",
       "      <td>6.547112</td>\n",
       "      <td>4.994184</td>\n",
       "      <td>5.273657</td>\n",
       "      <td>6.069989</td>\n",
       "      <td>7.170169</td>\n",
       "      <td>5.740295</td>\n",
       "      <td>6.115446</td>\n",
       "      <td>...</td>\n",
       "      <td>5.963416</td>\n",
       "      <td>-5.380528</td>\n",
       "      <td>4.411300</td>\n",
       "      <td>2.265077</td>\n",
       "      <td>-5.380528</td>\n",
       "      <td>4.727461</td>\n",
       "      <td>4.502798</td>\n",
       "      <td>-5.380528</td>\n",
       "      <td>4.102909</td>\n",
       "      <td>4.326804</td>\n",
       "    </tr>\n",
       "    <tr>\n",
       "      <th>442</th>\n",
       "      <td>3762BBD4-190F-4DE4-91E6-0C483D066B82</td>\n",
       "      <td>5.774051</td>\n",
       "      <td>-6.793718</td>\n",
       "      <td>7.218590</td>\n",
       "      <td>5.477760</td>\n",
       "      <td>5.042350</td>\n",
       "      <td>3.700158</td>\n",
       "      <td>7.349451</td>\n",
       "      <td>4.573089</td>\n",
       "      <td>6.003810</td>\n",
       "      <td>...</td>\n",
       "      <td>6.036861</td>\n",
       "      <td>-6.793718</td>\n",
       "      <td>3.605128</td>\n",
       "      <td>2.503595</td>\n",
       "      <td>-6.793718</td>\n",
       "      <td>3.401223</td>\n",
       "      <td>4.962133</td>\n",
       "      <td>-6.793718</td>\n",
       "      <td>3.864213</td>\n",
       "      <td>3.200419</td>\n",
       "    </tr>\n",
       "    <tr>\n",
       "      <th>443</th>\n",
       "      <td>009C6A5C-3F63-4925-A92B-2AF54F1A4852</td>\n",
       "      <td>6.862574</td>\n",
       "      <td>-0.192592</td>\n",
       "      <td>7.746075</td>\n",
       "      <td>4.776227</td>\n",
       "      <td>4.211657</td>\n",
       "      <td>3.694909</td>\n",
       "      <td>6.736901</td>\n",
       "      <td>4.858272</td>\n",
       "      <td>6.382736</td>\n",
       "      <td>...</td>\n",
       "      <td>3.209471</td>\n",
       "      <td>-6.789980</td>\n",
       "      <td>4.076056</td>\n",
       "      <td>1.141664</td>\n",
       "      <td>-0.301641</td>\n",
       "      <td>4.473454</td>\n",
       "      <td>2.679028</td>\n",
       "      <td>-6.789980</td>\n",
       "      <td>4.076030</td>\n",
       "      <td>4.058346</td>\n",
       "    </tr>\n",
       "  </tbody>\n",
       "</table>\n",
       "<p>444 rows × 17971 columns</p>\n",
       "</div>"
      ],
      "text/plain": [
       "                               Unnamed: 0  ENSG00000000003  ENSG00000000005  \\\n",
       "0    EB0D68BC-5FF9-44A5-A355-CA5441BFBA0A         7.062725         0.026623   \n",
       "1    0876B4BB-58BA-4C4C-84F4-E9D19EF96147         5.965392        -5.431256   \n",
       "2    EACD1021-7B52-4531-8806-B7555B73AC84         7.892221        -5.851870   \n",
       "3    368ACD26-C7FB-4974-BB7F-0AE22670CB0E         6.826546         0.964851   \n",
       "4    F23B0A1A-25AE-41D9-8C49-B692C4FDE1E4         7.059095         2.429954   \n",
       "..                                    ...              ...              ...   \n",
       "439  D4276C6F-9F0F-4F74-A85E-1E54272ADDED         7.009917         0.088022   \n",
       "440  375C6EA2-4747-4959-9630-771FB8461BF1         4.772186        -5.062627   \n",
       "441  AE8BD116-5550-4A0F-BEBE-F092675A1F45         7.741897         1.467622   \n",
       "442  3762BBD4-190F-4DE4-91E6-0C483D066B82         5.774051        -6.793718   \n",
       "443  009C6A5C-3F63-4925-A92B-2AF54F1A4852         6.862574        -0.192592   \n",
       "\n",
       "     ENSG00000000419  ENSG00000000457  ENSG00000000938  ENSG00000000971  \\\n",
       "0           6.720413         5.449267         3.868619         4.587771   \n",
       "1           6.358498         4.161479         4.585293         4.326924   \n",
       "2           8.132992         5.986320         5.422599         4.728815   \n",
       "3           5.998280         4.991435         4.963000         4.977695   \n",
       "4           6.746639         5.591316         5.111120         5.972938   \n",
       "..               ...              ...              ...              ...   \n",
       "439         6.814481         4.685804         3.039239         4.373218   \n",
       "440         7.064273         5.505659         5.769194         4.307329   \n",
       "441         6.547112         4.994184         5.273657         6.069989   \n",
       "442         7.218590         5.477760         5.042350         3.700158   \n",
       "443         7.746075         4.776227         4.211657         3.694909   \n",
       "\n",
       "     ENSG00000001036  ENSG00000001084  ENSG00000001167  ...  ENSG00000282651  \\\n",
       "0           7.165112         4.643161         6.771731  ...         0.325987   \n",
       "1           6.849703         4.391534         5.819945  ...         5.910874   \n",
       "2           8.168477         6.289562         7.331591  ...        10.103565   \n",
       "3           7.149421         4.570863         6.008286  ...         2.442099   \n",
       "4           7.576201         6.032083         6.470761  ...         5.553223   \n",
       "..               ...              ...              ...  ...              ...   \n",
       "439         6.826167         5.101784         6.327076  ...         5.244168   \n",
       "440         6.576986         4.018168         5.453594  ...         6.641965   \n",
       "441         7.170169         5.740295         6.115446  ...         5.963416   \n",
       "442         7.349451         4.573089         6.003810  ...         6.036861   \n",
       "443         6.736901         4.858272         6.382736  ...         3.209471   \n",
       "\n",
       "     ENSG00000282815  ENSG00000282939  ENSG00000283063  ENSG00000283439  \\\n",
       "0          -5.545564        -5.545564        -5.545564        -5.545564   \n",
       "1          -0.945029         3.750430         1.611211        -0.498573   \n",
       "2          -5.851870         6.498217         5.481945        -5.851870   \n",
       "3          -5.994056         2.862038         1.909955         0.568120   \n",
       "4          -5.870484         3.044916        -5.870484         0.018320   \n",
       "..               ...              ...              ...              ...   \n",
       "439        -5.619018         3.953899        -5.619018        -0.021027   \n",
       "440        -0.284152         4.238647         5.431223         0.785492   \n",
       "441        -5.380528         4.411300         2.265077        -5.380528   \n",
       "442        -6.793718         3.605128         2.503595        -6.793718   \n",
       "443        -6.789980         4.076056         1.141664        -0.301641   \n",
       "\n",
       "     ENSG00000283463  ENSG00000283526  ENSG00000283586  ENSG00000283632  \\\n",
       "0           4.014351         4.841392        -5.545564         5.855893   \n",
       "1           3.430928         3.160435        -5.431256         4.413930   \n",
       "2           5.137298         4.296777        -5.851870         5.345372   \n",
       "3           4.768694         3.983207        -5.994056         4.609411   \n",
       "4           4.640575         4.954957        -5.870484         4.620774   \n",
       "..               ...              ...              ...              ...   \n",
       "439         4.055201         3.052880        -5.619018         4.560183   \n",
       "440         3.489883        -5.062627        -5.062627         4.467892   \n",
       "441         4.727461         4.502798        -5.380528         4.102909   \n",
       "442         3.401223         4.962133        -6.793718         3.864213   \n",
       "443         4.473454         2.679028        -6.789980         4.076030   \n",
       "\n",
       "     ENSG00000283697  \n",
       "0           3.618253  \n",
       "1           3.353496  \n",
       "2           5.028567  \n",
       "3           4.329472  \n",
       "4           4.464277  \n",
       "..               ...  \n",
       "439         3.889471  \n",
       "440         3.335732  \n",
       "441         4.326804  \n",
       "442         3.200419  \n",
       "443         4.058346  \n",
       "\n",
       "[444 rows x 17971 columns]"
      ]
     },
     "execution_count": 4,
     "metadata": {},
     "output_type": "execute_result"
    }
   ],
   "source": [
    "train_x"
   ]
  },
  {
   "cell_type": "code",
   "execution_count": 5,
   "metadata": {},
   "outputs": [
    {
     "data": {
      "text/html": [
       "<div>\n",
       "<style scoped>\n",
       "    .dataframe tbody tr th:only-of-type {\n",
       "        vertical-align: middle;\n",
       "    }\n",
       "\n",
       "    .dataframe tbody tr th {\n",
       "        vertical-align: top;\n",
       "    }\n",
       "\n",
       "    .dataframe thead th {\n",
       "        text-align: right;\n",
       "    }\n",
       "</style>\n",
       "<table border=\"1\" class=\"dataframe\">\n",
       "  <thead>\n",
       "    <tr style=\"text-align: right;\">\n",
       "      <th></th>\n",
       "      <th>Unnamed: 0</th>\n",
       "      <th>xml_neoplasm_histologic_grade</th>\n",
       "    </tr>\n",
       "  </thead>\n",
       "  <tbody>\n",
       "    <tr>\n",
       "      <th>0</th>\n",
       "      <td>EB0D68BC-5FF9-44A5-A355-CA5441BFBA0A</td>\n",
       "      <td>0</td>\n",
       "    </tr>\n",
       "    <tr>\n",
       "      <th>1</th>\n",
       "      <td>0876B4BB-58BA-4C4C-84F4-E9D19EF96147</td>\n",
       "      <td>1</td>\n",
       "    </tr>\n",
       "    <tr>\n",
       "      <th>2</th>\n",
       "      <td>EACD1021-7B52-4531-8806-B7555B73AC84</td>\n",
       "      <td>0</td>\n",
       "    </tr>\n",
       "    <tr>\n",
       "      <th>3</th>\n",
       "      <td>368ACD26-C7FB-4974-BB7F-0AE22670CB0E</td>\n",
       "      <td>0</td>\n",
       "    </tr>\n",
       "    <tr>\n",
       "      <th>4</th>\n",
       "      <td>F23B0A1A-25AE-41D9-8C49-B692C4FDE1E4</td>\n",
       "      <td>1</td>\n",
       "    </tr>\n",
       "    <tr>\n",
       "      <th>...</th>\n",
       "      <td>...</td>\n",
       "      <td>...</td>\n",
       "    </tr>\n",
       "    <tr>\n",
       "      <th>439</th>\n",
       "      <td>D4276C6F-9F0F-4F74-A85E-1E54272ADDED</td>\n",
       "      <td>1</td>\n",
       "    </tr>\n",
       "    <tr>\n",
       "      <th>440</th>\n",
       "      <td>375C6EA2-4747-4959-9630-771FB8461BF1</td>\n",
       "      <td>1</td>\n",
       "    </tr>\n",
       "    <tr>\n",
       "      <th>441</th>\n",
       "      <td>AE8BD116-5550-4A0F-BEBE-F092675A1F45</td>\n",
       "      <td>1</td>\n",
       "    </tr>\n",
       "    <tr>\n",
       "      <th>442</th>\n",
       "      <td>3762BBD4-190F-4DE4-91E6-0C483D066B82</td>\n",
       "      <td>0</td>\n",
       "    </tr>\n",
       "    <tr>\n",
       "      <th>443</th>\n",
       "      <td>009C6A5C-3F63-4925-A92B-2AF54F1A4852</td>\n",
       "      <td>1</td>\n",
       "    </tr>\n",
       "  </tbody>\n",
       "</table>\n",
       "<p>444 rows × 2 columns</p>\n",
       "</div>"
      ],
      "text/plain": [
       "                               Unnamed: 0  xml_neoplasm_histologic_grade\n",
       "0    EB0D68BC-5FF9-44A5-A355-CA5441BFBA0A                              0\n",
       "1    0876B4BB-58BA-4C4C-84F4-E9D19EF96147                              1\n",
       "2    EACD1021-7B52-4531-8806-B7555B73AC84                              0\n",
       "3    368ACD26-C7FB-4974-BB7F-0AE22670CB0E                              0\n",
       "4    F23B0A1A-25AE-41D9-8C49-B692C4FDE1E4                              1\n",
       "..                                    ...                            ...\n",
       "439  D4276C6F-9F0F-4F74-A85E-1E54272ADDED                              1\n",
       "440  375C6EA2-4747-4959-9630-771FB8461BF1                              1\n",
       "441  AE8BD116-5550-4A0F-BEBE-F092675A1F45                              1\n",
       "442  3762BBD4-190F-4DE4-91E6-0C483D066B82                              0\n",
       "443  009C6A5C-3F63-4925-A92B-2AF54F1A4852                              1\n",
       "\n",
       "[444 rows x 2 columns]"
      ]
     },
     "execution_count": 5,
     "metadata": {},
     "output_type": "execute_result"
    }
   ],
   "source": [
    "train_y"
   ]
  },
  {
   "cell_type": "code",
   "execution_count": 6,
   "metadata": {},
   "outputs": [
    {
     "data": {
      "text/html": [
       "<div>\n",
       "<style scoped>\n",
       "    .dataframe tbody tr th:only-of-type {\n",
       "        vertical-align: middle;\n",
       "    }\n",
       "\n",
       "    .dataframe tbody tr th {\n",
       "        vertical-align: top;\n",
       "    }\n",
       "\n",
       "    .dataframe thead th {\n",
       "        text-align: right;\n",
       "    }\n",
       "</style>\n",
       "<table border=\"1\" class=\"dataframe\">\n",
       "  <thead>\n",
       "    <tr style=\"text-align: right;\">\n",
       "      <th></th>\n",
       "      <th>Unnamed: 0</th>\n",
       "      <th>ENSG00000000003</th>\n",
       "      <th>ENSG00000000005</th>\n",
       "      <th>ENSG00000000419</th>\n",
       "      <th>ENSG00000000457</th>\n",
       "      <th>ENSG00000000938</th>\n",
       "      <th>ENSG00000000971</th>\n",
       "      <th>ENSG00000001036</th>\n",
       "      <th>ENSG00000001084</th>\n",
       "      <th>ENSG00000001167</th>\n",
       "      <th>...</th>\n",
       "      <th>ENSG00000282651</th>\n",
       "      <th>ENSG00000282815</th>\n",
       "      <th>ENSG00000282939</th>\n",
       "      <th>ENSG00000283063</th>\n",
       "      <th>ENSG00000283439</th>\n",
       "      <th>ENSG00000283463</th>\n",
       "      <th>ENSG00000283526</th>\n",
       "      <th>ENSG00000283586</th>\n",
       "      <th>ENSG00000283632</th>\n",
       "      <th>ENSG00000283697</th>\n",
       "    </tr>\n",
       "  </thead>\n",
       "  <tbody>\n",
       "    <tr>\n",
       "      <th>0</th>\n",
       "      <td>1576BB97-F8EA-48FF-9494-EBC7A0C97312</td>\n",
       "      <td>7.503849</td>\n",
       "      <td>1.685440</td>\n",
       "      <td>8.090089</td>\n",
       "      <td>5.546588</td>\n",
       "      <td>3.412025</td>\n",
       "      <td>5.871539</td>\n",
       "      <td>8.395029</td>\n",
       "      <td>5.894996</td>\n",
       "      <td>6.313896</td>\n",
       "      <td>...</td>\n",
       "      <td>3.626396</td>\n",
       "      <td>-2.640463</td>\n",
       "      <td>-7.278265</td>\n",
       "      <td>0.721287</td>\n",
       "      <td>-7.278265</td>\n",
       "      <td>4.672536</td>\n",
       "      <td>5.153675</td>\n",
       "      <td>-7.278265</td>\n",
       "      <td>4.843800</td>\n",
       "      <td>4.302864</td>\n",
       "    </tr>\n",
       "    <tr>\n",
       "      <th>1</th>\n",
       "      <td>63F4281A-4D90-4589-879E-549097FB3459</td>\n",
       "      <td>6.112919</td>\n",
       "      <td>-5.425877</td>\n",
       "      <td>5.604743</td>\n",
       "      <td>4.248246</td>\n",
       "      <td>3.374033</td>\n",
       "      <td>3.370075</td>\n",
       "      <td>6.804015</td>\n",
       "      <td>4.646287</td>\n",
       "      <td>6.236134</td>\n",
       "      <td>...</td>\n",
       "      <td>-5.425877</td>\n",
       "      <td>-2.143410</td>\n",
       "      <td>1.956699</td>\n",
       "      <td>1.377768</td>\n",
       "      <td>-5.425877</td>\n",
       "      <td>4.560829</td>\n",
       "      <td>3.735085</td>\n",
       "      <td>-5.425877</td>\n",
       "      <td>4.105789</td>\n",
       "      <td>4.803357</td>\n",
       "    </tr>\n",
       "    <tr>\n",
       "      <th>2</th>\n",
       "      <td>74CF740D-201D-4070-99B9-F007E7C4D472</td>\n",
       "      <td>6.183846</td>\n",
       "      <td>1.217355</td>\n",
       "      <td>6.093903</td>\n",
       "      <td>4.403216</td>\n",
       "      <td>5.722867</td>\n",
       "      <td>6.123209</td>\n",
       "      <td>7.680258</td>\n",
       "      <td>4.983386</td>\n",
       "      <td>5.626569</td>\n",
       "      <td>...</td>\n",
       "      <td>11.317818</td>\n",
       "      <td>-5.259782</td>\n",
       "      <td>5.093316</td>\n",
       "      <td>3.800607</td>\n",
       "      <td>-5.259782</td>\n",
       "      <td>4.966710</td>\n",
       "      <td>2.829487</td>\n",
       "      <td>-5.259782</td>\n",
       "      <td>5.118704</td>\n",
       "      <td>5.024979</td>\n",
       "    </tr>\n",
       "    <tr>\n",
       "      <th>3</th>\n",
       "      <td>1329E1C1-743E-4541-9081-165572D4BF47</td>\n",
       "      <td>6.325535</td>\n",
       "      <td>-0.197432</td>\n",
       "      <td>6.722632</td>\n",
       "      <td>4.509093</td>\n",
       "      <td>4.941256</td>\n",
       "      <td>3.700171</td>\n",
       "      <td>7.492606</td>\n",
       "      <td>5.031053</td>\n",
       "      <td>5.859242</td>\n",
       "      <td>...</td>\n",
       "      <td>3.536141</td>\n",
       "      <td>-1.362703</td>\n",
       "      <td>3.480703</td>\n",
       "      <td>0.776383</td>\n",
       "      <td>-0.999629</td>\n",
       "      <td>4.794226</td>\n",
       "      <td>-5.399485</td>\n",
       "      <td>-5.399485</td>\n",
       "      <td>4.660878</td>\n",
       "      <td>4.684343</td>\n",
       "    </tr>\n",
       "    <tr>\n",
       "      <th>4</th>\n",
       "      <td>88BBA1BF-44E0-416E-A028-04F410A3FE5D</td>\n",
       "      <td>7.162383</td>\n",
       "      <td>-5.539710</td>\n",
       "      <td>6.186110</td>\n",
       "      <td>5.270282</td>\n",
       "      <td>5.412103</td>\n",
       "      <td>3.781568</td>\n",
       "      <td>7.285779</td>\n",
       "      <td>4.847552</td>\n",
       "      <td>6.337205</td>\n",
       "      <td>...</td>\n",
       "      <td>5.112772</td>\n",
       "      <td>-5.539710</td>\n",
       "      <td>4.369268</td>\n",
       "      <td>2.927849</td>\n",
       "      <td>0.791397</td>\n",
       "      <td>4.542333</td>\n",
       "      <td>4.628775</td>\n",
       "      <td>-5.539710</td>\n",
       "      <td>4.812787</td>\n",
       "      <td>4.524834</td>\n",
       "    </tr>\n",
       "    <tr>\n",
       "      <th>...</th>\n",
       "      <td>...</td>\n",
       "      <td>...</td>\n",
       "      <td>...</td>\n",
       "      <td>...</td>\n",
       "      <td>...</td>\n",
       "      <td>...</td>\n",
       "      <td>...</td>\n",
       "      <td>...</td>\n",
       "      <td>...</td>\n",
       "      <td>...</td>\n",
       "      <td>...</td>\n",
       "      <td>...</td>\n",
       "      <td>...</td>\n",
       "      <td>...</td>\n",
       "      <td>...</td>\n",
       "      <td>...</td>\n",
       "      <td>...</td>\n",
       "      <td>...</td>\n",
       "      <td>...</td>\n",
       "      <td>...</td>\n",
       "      <td>...</td>\n",
       "    </tr>\n",
       "    <tr>\n",
       "      <th>105</th>\n",
       "      <td>638A0BBA-E2BE-449C-8BF5-EC07F765200C</td>\n",
       "      <td>6.949029</td>\n",
       "      <td>2.192625</td>\n",
       "      <td>7.613706</td>\n",
       "      <td>5.131517</td>\n",
       "      <td>4.292879</td>\n",
       "      <td>5.337764</td>\n",
       "      <td>7.668408</td>\n",
       "      <td>5.159289</td>\n",
       "      <td>5.645662</td>\n",
       "      <td>...</td>\n",
       "      <td>5.515318</td>\n",
       "      <td>-5.785898</td>\n",
       "      <td>4.229114</td>\n",
       "      <td>2.875184</td>\n",
       "      <td>-0.303496</td>\n",
       "      <td>3.322246</td>\n",
       "      <td>3.683199</td>\n",
       "      <td>-5.785898</td>\n",
       "      <td>4.730559</td>\n",
       "      <td>3.251810</td>\n",
       "    </tr>\n",
       "    <tr>\n",
       "      <th>106</th>\n",
       "      <td>FD3BD018-3B83-4689-BC70-CE6E98F83790</td>\n",
       "      <td>7.419322</td>\n",
       "      <td>0.472349</td>\n",
       "      <td>6.723539</td>\n",
       "      <td>5.176782</td>\n",
       "      <td>4.297442</td>\n",
       "      <td>4.591905</td>\n",
       "      <td>7.171547</td>\n",
       "      <td>6.693665</td>\n",
       "      <td>5.782247</td>\n",
       "      <td>...</td>\n",
       "      <td>2.737453</td>\n",
       "      <td>-1.781791</td>\n",
       "      <td>3.509502</td>\n",
       "      <td>0.021815</td>\n",
       "      <td>-6.758708</td>\n",
       "      <td>4.684549</td>\n",
       "      <td>4.795272</td>\n",
       "      <td>-6.758708</td>\n",
       "      <td>4.234056</td>\n",
       "      <td>4.614238</td>\n",
       "    </tr>\n",
       "    <tr>\n",
       "      <th>107</th>\n",
       "      <td>739BEBEA-F6CC-4827-81D4-28102A8B774B</td>\n",
       "      <td>7.135800</td>\n",
       "      <td>0.479097</td>\n",
       "      <td>7.051451</td>\n",
       "      <td>6.042828</td>\n",
       "      <td>4.523706</td>\n",
       "      <td>7.250545</td>\n",
       "      <td>7.577726</td>\n",
       "      <td>5.622388</td>\n",
       "      <td>6.447874</td>\n",
       "      <td>...</td>\n",
       "      <td>5.951147</td>\n",
       "      <td>-5.960456</td>\n",
       "      <td>4.025253</td>\n",
       "      <td>2.785925</td>\n",
       "      <td>-5.960456</td>\n",
       "      <td>4.236003</td>\n",
       "      <td>5.597498</td>\n",
       "      <td>-5.960456</td>\n",
       "      <td>5.279498</td>\n",
       "      <td>3.813894</td>\n",
       "    </tr>\n",
       "    <tr>\n",
       "      <th>108</th>\n",
       "      <td>5F86DB7A-1906-4E2F-BD50-0AEE3C80B17D</td>\n",
       "      <td>6.859635</td>\n",
       "      <td>2.159767</td>\n",
       "      <td>7.254992</td>\n",
       "      <td>4.900402</td>\n",
       "      <td>4.256251</td>\n",
       "      <td>6.503227</td>\n",
       "      <td>6.810730</td>\n",
       "      <td>6.036136</td>\n",
       "      <td>6.282137</td>\n",
       "      <td>...</td>\n",
       "      <td>4.462337</td>\n",
       "      <td>-5.553034</td>\n",
       "      <td>4.325258</td>\n",
       "      <td>2.593648</td>\n",
       "      <td>-5.553034</td>\n",
       "      <td>4.727639</td>\n",
       "      <td>2.380364</td>\n",
       "      <td>-5.553034</td>\n",
       "      <td>5.523681</td>\n",
       "      <td>4.088765</td>\n",
       "    </tr>\n",
       "    <tr>\n",
       "      <th>109</th>\n",
       "      <td>536FEED2-6251-41BC-AA61-EA46744EAB05</td>\n",
       "      <td>6.532266</td>\n",
       "      <td>0.991316</td>\n",
       "      <td>6.206966</td>\n",
       "      <td>4.272550</td>\n",
       "      <td>4.643635</td>\n",
       "      <td>3.523035</td>\n",
       "      <td>6.075602</td>\n",
       "      <td>3.796164</td>\n",
       "      <td>5.396661</td>\n",
       "      <td>...</td>\n",
       "      <td>4.710150</td>\n",
       "      <td>-5.527237</td>\n",
       "      <td>4.706596</td>\n",
       "      <td>-5.527237</td>\n",
       "      <td>1.083984</td>\n",
       "      <td>3.687288</td>\n",
       "      <td>2.846958</td>\n",
       "      <td>-5.527237</td>\n",
       "      <td>3.600439</td>\n",
       "      <td>3.306464</td>\n",
       "    </tr>\n",
       "  </tbody>\n",
       "</table>\n",
       "<p>110 rows × 17971 columns</p>\n",
       "</div>"
      ],
      "text/plain": [
       "                               Unnamed: 0  ENSG00000000003  ENSG00000000005  \\\n",
       "0    1576BB97-F8EA-48FF-9494-EBC7A0C97312         7.503849         1.685440   \n",
       "1    63F4281A-4D90-4589-879E-549097FB3459         6.112919        -5.425877   \n",
       "2    74CF740D-201D-4070-99B9-F007E7C4D472         6.183846         1.217355   \n",
       "3    1329E1C1-743E-4541-9081-165572D4BF47         6.325535        -0.197432   \n",
       "4    88BBA1BF-44E0-416E-A028-04F410A3FE5D         7.162383        -5.539710   \n",
       "..                                    ...              ...              ...   \n",
       "105  638A0BBA-E2BE-449C-8BF5-EC07F765200C         6.949029         2.192625   \n",
       "106  FD3BD018-3B83-4689-BC70-CE6E98F83790         7.419322         0.472349   \n",
       "107  739BEBEA-F6CC-4827-81D4-28102A8B774B         7.135800         0.479097   \n",
       "108  5F86DB7A-1906-4E2F-BD50-0AEE3C80B17D         6.859635         2.159767   \n",
       "109  536FEED2-6251-41BC-AA61-EA46744EAB05         6.532266         0.991316   \n",
       "\n",
       "     ENSG00000000419  ENSG00000000457  ENSG00000000938  ENSG00000000971  \\\n",
       "0           8.090089         5.546588         3.412025         5.871539   \n",
       "1           5.604743         4.248246         3.374033         3.370075   \n",
       "2           6.093903         4.403216         5.722867         6.123209   \n",
       "3           6.722632         4.509093         4.941256         3.700171   \n",
       "4           6.186110         5.270282         5.412103         3.781568   \n",
       "..               ...              ...              ...              ...   \n",
       "105         7.613706         5.131517         4.292879         5.337764   \n",
       "106         6.723539         5.176782         4.297442         4.591905   \n",
       "107         7.051451         6.042828         4.523706         7.250545   \n",
       "108         7.254992         4.900402         4.256251         6.503227   \n",
       "109         6.206966         4.272550         4.643635         3.523035   \n",
       "\n",
       "     ENSG00000001036  ENSG00000001084  ENSG00000001167  ...  ENSG00000282651  \\\n",
       "0           8.395029         5.894996         6.313896  ...         3.626396   \n",
       "1           6.804015         4.646287         6.236134  ...        -5.425877   \n",
       "2           7.680258         4.983386         5.626569  ...        11.317818   \n",
       "3           7.492606         5.031053         5.859242  ...         3.536141   \n",
       "4           7.285779         4.847552         6.337205  ...         5.112772   \n",
       "..               ...              ...              ...  ...              ...   \n",
       "105         7.668408         5.159289         5.645662  ...         5.515318   \n",
       "106         7.171547         6.693665         5.782247  ...         2.737453   \n",
       "107         7.577726         5.622388         6.447874  ...         5.951147   \n",
       "108         6.810730         6.036136         6.282137  ...         4.462337   \n",
       "109         6.075602         3.796164         5.396661  ...         4.710150   \n",
       "\n",
       "     ENSG00000282815  ENSG00000282939  ENSG00000283063  ENSG00000283439  \\\n",
       "0          -2.640463        -7.278265         0.721287        -7.278265   \n",
       "1          -2.143410         1.956699         1.377768        -5.425877   \n",
       "2          -5.259782         5.093316         3.800607        -5.259782   \n",
       "3          -1.362703         3.480703         0.776383        -0.999629   \n",
       "4          -5.539710         4.369268         2.927849         0.791397   \n",
       "..               ...              ...              ...              ...   \n",
       "105        -5.785898         4.229114         2.875184        -0.303496   \n",
       "106        -1.781791         3.509502         0.021815        -6.758708   \n",
       "107        -5.960456         4.025253         2.785925        -5.960456   \n",
       "108        -5.553034         4.325258         2.593648        -5.553034   \n",
       "109        -5.527237         4.706596        -5.527237         1.083984   \n",
       "\n",
       "     ENSG00000283463  ENSG00000283526  ENSG00000283586  ENSG00000283632  \\\n",
       "0           4.672536         5.153675        -7.278265         4.843800   \n",
       "1           4.560829         3.735085        -5.425877         4.105789   \n",
       "2           4.966710         2.829487        -5.259782         5.118704   \n",
       "3           4.794226        -5.399485        -5.399485         4.660878   \n",
       "4           4.542333         4.628775        -5.539710         4.812787   \n",
       "..               ...              ...              ...              ...   \n",
       "105         3.322246         3.683199        -5.785898         4.730559   \n",
       "106         4.684549         4.795272        -6.758708         4.234056   \n",
       "107         4.236003         5.597498        -5.960456         5.279498   \n",
       "108         4.727639         2.380364        -5.553034         5.523681   \n",
       "109         3.687288         2.846958        -5.527237         3.600439   \n",
       "\n",
       "     ENSG00000283697  \n",
       "0           4.302864  \n",
       "1           4.803357  \n",
       "2           5.024979  \n",
       "3           4.684343  \n",
       "4           4.524834  \n",
       "..               ...  \n",
       "105         3.251810  \n",
       "106         4.614238  \n",
       "107         3.813894  \n",
       "108         4.088765  \n",
       "109         3.306464  \n",
       "\n",
       "[110 rows x 17971 columns]"
      ]
     },
     "execution_count": 6,
     "metadata": {},
     "output_type": "execute_result"
    }
   ],
   "source": [
    "test_x"
   ]
  },
  {
   "cell_type": "markdown",
   "metadata": {},
   "source": [
    "So the goal is basically to make test_y.csv and submit that to Kaggle."
   ]
  },
  {
   "cell_type": "markdown",
   "metadata": {},
   "source": [
    "Let's see what some of the training features look like."
   ]
  },
  {
   "cell_type": "code",
   "execution_count": 7,
   "metadata": {},
   "outputs": [
    {
     "data": {
      "text/plain": [
       "[<matplotlib.lines.Line2D at 0x7f864d130760>]"
      ]
     },
     "execution_count": 7,
     "metadata": {},
     "output_type": "execute_result"
    },
    {
     "data": {
      "image/png": "[encoded data removed]",
      "text/plain": [
       "<Figure size 640x480 with 1 Axes>"
      ]
     },
     "metadata": {},
     "output_type": "display_data"
    }
   ],
   "source": [
    "plt.plot(train_x.iloc[:,1])"
   ]
  },
  {
   "cell_type": "code",
   "execution_count": 8,
   "metadata": {},
   "outputs": [
    {
     "data": {
      "text/plain": [
       "[<matplotlib.lines.Line2D at 0x7f864f179c70>]"
      ]
     },
     "execution_count": 8,
     "metadata": {},
     "output_type": "execute_result"
    },
    {
     "data": {
      "image/png": "[encoded data removed]",
      "text/plain": [
       "<Figure size 640x480 with 1 Axes>"
      ]
     },
     "metadata": {},
     "output_type": "display_data"
    }
   ],
   "source": [
    "plt.plot(train_x.iloc[:,2])"
   ]
  },
  {
   "cell_type": "markdown",
   "metadata": {},
   "source": [
    "All of the transcriptomics data is from the same NGS source, so standardization probably isn't needed."
   ]
  },
  {
   "cell_type": "code",
   "execution_count": 9,
   "metadata": {},
   "outputs": [
    {
     "name": "stdout",
     "output_type": "stream",
     "text": [
      "<class 'pandas.core.frame.DataFrame'>\n",
      "RangeIndex: 444 entries, 0 to 443\n",
      "Columns: 17971 entries, Unnamed: 0 to ENSG00000283697\n",
      "dtypes: float64(17970), object(1)\n",
      "memory usage: 60.9+ MB\n"
     ]
    }
   ],
   "source": [
    "train_x.info()"
   ]
  },
  {
   "cell_type": "markdown",
   "metadata": {},
   "source": [
    "### Okay, time to try some linear models for classification"
   ]
  },
  {
   "cell_type": "markdown",
   "metadata": {},
   "source": [
    "#### Starting with linear regression"
   ]
  },
  {
   "cell_type": "code",
   "execution_count": 10,
   "metadata": {},
   "outputs": [
    {
     "name": "stderr",
     "output_type": "stream",
     "text": [
      "/ihome/lchong/dty7/Apps/anaconda3/envs/ml/lib/python3.8/site-packages/scipy/__init__.py:146: UserWarning: A NumPy version >=1.16.5 and <1.23.0 is required for this version of SciPy (detected version 1.23.1\n",
      "  warnings.warn(f\"A NumPy version >={np_minversion} and <{np_maxversion}\"\n"
     ]
    }
   ],
   "source": [
    "from sklearn import linear_model"
   ]
  },
  {
   "cell_type": "code",
   "execution_count": 192,
   "metadata": {},
   "outputs": [
    {
     "data": {
      "text/html": [
       "<style>#sk-container-id-15 {color: black;background-color: white;}#sk-container-id-15 pre{padding: 0;}#sk-container-id-15 div.sk-toggleable {background-color: white;}#sk-container-id-15 label.sk-toggleable__label {cursor: pointer;display: block;width: 100%;margin-bottom: 0;padding: 0.3em;box-sizing: border-box;text-align: center;}#sk-container-id-15 label.sk-toggleable__label-arrow:before {content: \"▸\";float: left;margin-right: 0.25em;color: #696969;}#sk-container-id-15 label.sk-toggleable__label-arrow:hover:before {color: black;}#sk-container-id-15 div.sk-estimator:hover label.sk-toggleable__label-arrow:before {color: black;}#sk-container-id-15 div.sk-toggleable__content {max-height: 0;max-width: 0;overflow: hidden;text-align: left;background-color: #f0f8ff;}#sk-container-id-15 div.sk-toggleable__content pre {margin: 0.2em;color: black;border-radius: 0.25em;background-color: #f0f8ff;}#sk-container-id-15 input.sk-toggleable__control:checked~div.sk-toggleable__content {max-height: 200px;max-width: 100%;overflow: auto;}#sk-container-id-15 input.sk-toggleable__control:checked~label.sk-toggleable__label-arrow:before {content: \"▾\";}#sk-container-id-15 div.sk-estimator input.sk-toggleable__control:checked~label.sk-toggleable__label {background-color: #d4ebff;}#sk-container-id-15 div.sk-label input.sk-toggleable__control:checked~label.sk-toggleable__label {background-color: #d4ebff;}#sk-container-id-15 input.sk-hidden--visually {border: 0;clip: rect(1px 1px 1px 1px);clip: rect(1px, 1px, 1px, 1px);height: 1px;margin: -1px;overflow: hidden;padding: 0;position: absolute;width: 1px;}#sk-container-id-15 div.sk-estimator {font-family: monospace;background-color: #f0f8ff;border: 1px dotted black;border-radius: 0.25em;box-sizing: border-box;margin-bottom: 0.5em;}#sk-container-id-15 div.sk-estimator:hover {background-color: #d4ebff;}#sk-container-id-15 div.sk-parallel-item::after {content: \"\";width: 100%;border-bottom: 1px solid gray;flex-grow: 1;}#sk-container-id-15 div.sk-label:hover label.sk-toggleable__label {background-color: #d4ebff;}#sk-container-id-15 div.sk-serial::before {content: \"\";position: absolute;border-left: 1px solid gray;box-sizing: border-box;top: 0;bottom: 0;left: 50%;z-index: 0;}#sk-container-id-15 div.sk-serial {display: flex;flex-direction: column;align-items: center;background-color: white;padding-right: 0.2em;padding-left: 0.2em;position: relative;}#sk-container-id-15 div.sk-item {position: relative;z-index: 1;}#sk-container-id-15 div.sk-parallel {display: flex;align-items: stretch;justify-content: center;background-color: white;position: relative;}#sk-container-id-15 div.sk-item::before, #sk-container-id-15 div.sk-parallel-item::before {content: \"\";position: absolute;border-left: 1px solid gray;box-sizing: border-box;top: 0;bottom: 0;left: 50%;z-index: -1;}#sk-container-id-15 div.sk-parallel-item {display: flex;flex-direction: column;z-index: 1;position: relative;background-color: white;}#sk-container-id-15 div.sk-parallel-item:first-child::after {align-self: flex-end;width: 50%;}#sk-container-id-15 div.sk-parallel-item:last-child::after {align-self: flex-start;width: 50%;}#sk-container-id-15 div.sk-parallel-item:only-child::after {width: 0;}#sk-container-id-15 div.sk-dashed-wrapped {border: 1px dashed gray;margin: 0 0.4em 0.5em 0.4em;box-sizing: border-box;padding-bottom: 0.4em;background-color: white;}#sk-container-id-15 div.sk-label label {font-family: monospace;font-weight: bold;display: inline-block;line-height: 1.2em;}#sk-container-id-15 div.sk-label-container {text-align: center;}#sk-container-id-15 div.sk-container {/* jupyter's `normalize.less` sets `[hidden] { display: none; }` but bootstrap.min.css set `[hidden] { display: none !important; }` so we also need the `!important` here to be able to override the default hidden behavior on the sphinx rendered scikit-learn.org. See: https://github.com/scikit-learn/scikit-learn/issues/21755 */display: inline-block !important;position: relative;}#sk-container-id-15 div.sk-text-repr-fallback {display: none;}</style><div id=\"sk-container-id-15\" class=\"sk-top-container\"><div class=\"sk-text-repr-fallback\"><pre>LinearRegression()</pre><b>In a Jupyter environment, please rerun this cell to show the HTML representation or trust the notebook. <br />On GitHub, the HTML representation is unable to render, please try loading this page with nbviewer.org.</b></div><div class=\"sk-container\" hidden><div class=\"sk-item\"><div class=\"sk-estimator sk-toggleable\"><input class=\"sk-toggleable__control sk-hidden--visually\" id=\"sk-estimator-id-21\" type=\"checkbox\" checked><label for=\"sk-estimator-id-21\" class=\"sk-toggleable__label sk-toggleable__label-arrow\">LinearRegression</label><div class=\"sk-toggleable__content\"><pre>LinearRegression()</pre></div></div></div></div></div>"
      ],
      "text/plain": [
       "LinearRegression()"
      ]
     },
     "execution_count": 192,
     "metadata": {},
     "output_type": "execute_result"
    }
   ],
   "source": [
    "reg = linear_model.LinearRegression()\n",
    "reg.fit(train_x.iloc[:,1:], train_y.iloc[:,1])"
   ]
  },
  {
   "cell_type": "code",
   "execution_count": 196,
   "metadata": {},
   "outputs": [
    {
     "data": {
      "text/plain": [
       "array([-3.93405621e-05,  1.49629405e-03,  1.16555574e-04, ...,\n",
       "        5.41185914e-04, -2.18453615e-04, -5.37322608e-05])"
      ]
     },
     "execution_count": 196,
     "metadata": {},
     "output_type": "execute_result"
    }
   ],
   "source": [
    "reg.coef_"
   ]
  },
  {
   "cell_type": "code",
   "execution_count": 13,
   "metadata": {},
   "outputs": [
    {
     "data": {
      "text/plain": [
       "9.255458440830084e-06"
      ]
     },
     "execution_count": 13,
     "metadata": {},
     "output_type": "execute_result"
    }
   ],
   "source": [
    "np.max(reg.coef_**2)"
   ]
  },
  {
   "cell_type": "code",
   "execution_count": 14,
   "metadata": {},
   "outputs": [],
   "source": [
    "reg_predict = reg.predict(test_x.iloc[:,1:])"
   ]
  },
  {
   "cell_type": "code",
   "execution_count": 15,
   "metadata": {},
   "outputs": [
    {
     "data": {
      "text/plain": [
       "array([ 1.05578295,  0.11539403,  0.32192742,  0.89983238,  0.17960874,\n",
       "        0.74842117,  0.63349951,  0.34066975,  0.75114878,  0.46135573,\n",
       "        0.74324628,  0.62798531,  0.67925027,  0.25950583, -0.04462914,\n",
       "        0.77915949,  0.97438076,  0.22297767,  1.01979209,  0.97065092,\n",
       "        0.7715435 ,  0.82644917,  0.17109694,  0.9799458 ,  1.00041889,\n",
       "        0.98549137,  1.17933538,  1.32954207,  0.79906788,  0.82260134,\n",
       "        0.70597798,  0.1340969 , -0.07803376,  0.6601102 ,  0.02353493,\n",
       "        0.30685183,  0.70238629,  0.79815023,  0.75082677,  1.05771615,\n",
       "        0.76832494,  0.94805617,  0.24345249, -0.01742159,  0.06688572,\n",
       "        0.81648435,  0.8771865 ,  0.55446727,  0.07775324,  0.99974426,\n",
       "        0.88792646,  0.89179216,  0.1977811 ,  1.04394588,  0.13159959,\n",
       "        0.53274592,  0.52639972,  0.03499448,  0.80934789,  0.86094356,\n",
       "        1.06751014,  0.93507565,  0.35997553,  0.44505627,  0.72709668,\n",
       "        0.20911243,  1.09506611,  1.03951118,  0.4828468 ,  0.81983116,\n",
       "        0.16843095,  0.19750495,  0.21160055,  0.54049893,  0.52017691,\n",
       "        0.1036545 ,  0.58237962,  1.26880029,  0.31301949,  0.28732907,\n",
       "       -0.0301135 ,  1.07907221,  0.56043545,  0.69625682,  0.80661195,\n",
       "        0.35089884,  0.94926663,  1.017728  ,  0.64836259, -0.11529167,\n",
       "        0.8436857 ,  0.40344041,  0.14299344,  1.235769  ,  0.32260014,\n",
       "        0.60907224,  0.6650417 ,  0.35649252,  0.11398364,  0.93137249,\n",
       "        0.36144066,  0.88452722,  0.51729178,  0.19480624,  0.59350393,\n",
       "        0.69681626,  0.10031562,  0.07537183,  0.72359028,  0.63967966])"
      ]
     },
     "execution_count": 15,
     "metadata": {},
     "output_type": "execute_result"
    }
   ],
   "source": [
    "reg_predict"
   ]
  },
  {
   "cell_type": "code",
   "execution_count": 16,
   "metadata": {},
   "outputs": [
    {
     "data": {
      "text/plain": [
       "array([1, 0, 0, 1, 0, 1, 1, 0, 1, 0, 1, 1, 1, 0, 0, 1, 1, 0, 1, 1, 1, 1,\n",
       "       0, 1, 1, 1, 1, 1, 1, 1, 1, 0, 0, 1, 0, 0, 1, 1, 1, 1, 1, 1, 0, 0,\n",
       "       0, 1, 1, 1, 0, 1, 1, 1, 0, 1, 0, 1, 1, 0, 1, 1, 1, 1, 0, 0, 1, 0,\n",
       "       1, 1, 0, 1, 0, 0, 0, 1, 1, 0, 1, 1, 0, 0, 0, 1, 1, 1, 1, 0, 1, 1,\n",
       "       1, 0, 1, 0, 0, 1, 0, 1, 1, 0, 0, 1, 0, 1, 1, 0, 1, 1, 0, 0, 1, 1])"
      ]
     },
     "execution_count": 16,
     "metadata": {},
     "output_type": "execute_result"
    }
   ],
   "source": [
    "# transform to binary classifiers\n",
    "reg_predict_binary = np.where(reg_predict > 0.5, 1, 0)\n",
    "reg_predict_binary"
   ]
  },
  {
   "cell_type": "code",
   "execution_count": 17,
   "metadata": {},
   "outputs": [
    {
     "data": {
      "text/plain": [
       "(110,)"
      ]
     },
     "execution_count": 17,
     "metadata": {},
     "output_type": "execute_result"
    }
   ],
   "source": [
    "reg_predict_binary.shape"
   ]
  },
  {
   "cell_type": "code",
   "execution_count": 18,
   "metadata": {},
   "outputs": [],
   "source": [
    "#from sklearn import metrics\n",
    "# y_true, y_pred\n",
    "#metrics.f1_score(test_y[])"
   ]
  },
  {
   "cell_type": "markdown",
   "metadata": {},
   "source": [
    "I forgot, I don't have the test_y dataset so I can't calculate the f1-score myself (or can I?)."
   ]
  },
  {
   "cell_type": "markdown",
   "metadata": {},
   "source": [
    "I don't think that a linear regression based model will work very well since some of the data is centered around a single value. Let's submit and see."
   ]
  },
  {
   "cell_type": "code",
   "execution_count": 19,
   "metadata": {},
   "outputs": [
    {
     "data": {
      "text/plain": [
       "(110,)"
      ]
     },
     "execution_count": 19,
     "metadata": {},
     "output_type": "execute_result"
    }
   ],
   "source": [
    "test_x.iloc[:,0].values.shape"
   ]
  },
  {
   "cell_type": "code",
   "execution_count": 20,
   "metadata": {},
   "outputs": [],
   "source": [
    "def kaggle_csv(data, filename=\"model_y.csv\"):\n",
    "    \"\"\"Create the correctly formatted submission csv for kaggle.\"\"\"\n",
    "    data = np.column_stack((test_x.iloc[:,0].values, data))\n",
    "    np.savetxt(filename, data, fmt=(\"%s\",\"%d\"), \n",
    "               header=\"ID,xml_neoplasm_histologic_grade\", \n",
    "               delimiter=\",\", comments=\"\")"
   ]
  },
  {
   "cell_type": "code",
   "execution_count": 21,
   "metadata": {},
   "outputs": [
    {
     "ename": "NameError",
     "evalue": "name 'model_y' is not defined",
     "output_type": "error",
     "traceback": [
      "\u001b[0;31m---------------------------------------------------------------------------\u001b[0m",
      "\u001b[0;31mNameError\u001b[0m                                 Traceback (most recent call last)",
      "Cell \u001b[0;32mIn [21], line 1\u001b[0m\n\u001b[0;32m----> 1\u001b[0m kaggle_csv(\u001b[43mmodel_y\u001b[49m)\n",
      "\u001b[0;31mNameError\u001b[0m: name 'model_y' is not defined"
     ]
    }
   ],
   "source": [
    "kaggle_csv(model_y)"
   ]
  },
  {
   "cell_type": "markdown",
   "metadata": {},
   "source": [
    "On kaggle, I got an f1-score of 0.86153 for this submission."
   ]
  },
  {
   "cell_type": "markdown",
   "metadata": {},
   "source": [
    "That was with a manual submission, let's see how the api command works."
   ]
  },
  {
   "cell_type": "code",
   "execution_count": null,
   "metadata": {},
   "outputs": [],
   "source": [
    "#! kaggle competitions submit -c 38615hw3 -f \"model_y.csv\" -m \"Testing of the kaggle api\""
   ]
  },
  {
   "cell_type": "markdown",
   "metadata": {},
   "source": [
    "#### Next, logistic regression"
   ]
  },
  {
   "cell_type": "markdown",
   "metadata": {},
   "source": [
    "This should work better since the output is binary."
   ]
  },
  {
   "cell_type": "code",
   "execution_count": null,
   "metadata": {},
   "outputs": [],
   "source": [
    "logr = linear_model.LogisticRegression().fit(train_x.iloc[:,1:], train_y.iloc[:,1])"
   ]
  },
  {
   "cell_type": "code",
   "execution_count": null,
   "metadata": {},
   "outputs": [],
   "source": [
    "logr_predict = logr.predict(test_x.iloc[:,1:])"
   ]
  },
  {
   "cell_type": "code",
   "execution_count": null,
   "metadata": {},
   "outputs": [],
   "source": [
    "kaggle_csv(logr_predict)"
   ]
  },
  {
   "cell_type": "markdown",
   "metadata": {},
   "source": [
    "This submission scored 0.87499, a small improvement."
   ]
  },
  {
   "cell_type": "markdown",
   "metadata": {},
   "source": [
    "Seems like logr defaults to l2 regularization, let's try elastic net (l1 and l2)."
   ]
  },
  {
   "cell_type": "code",
   "execution_count": 23,
   "metadata": {},
   "outputs": [
    {
     "name": "stderr",
     "output_type": "stream",
     "text": [
      "/ihome/lchong/dty7/Apps/anaconda3/envs/ml/lib/python3.8/site-packages/sklearn/linear_model/_sag.py:350: ConvergenceWarning: The max_iter was reached which means the coef_ did not converge\n",
      "  warnings.warn(\n"
     ]
    }
   ],
   "source": [
    "logr_em = linear_model.LogisticRegression(penalty=\"elasticnet\", solver=\"saga\", l1_ratio=0.5).fit(train_x.iloc[:,1:], train_y.iloc[:,1])"
   ]
  },
  {
   "cell_type": "code",
   "execution_count": 24,
   "metadata": {},
   "outputs": [],
   "source": [
    "logr_em_predict = logr_em.predict(test_x.iloc[:,1:])"
   ]
  },
  {
   "cell_type": "code",
   "execution_count": 25,
   "metadata": {},
   "outputs": [],
   "source": [
    "kaggle_csv(logr_em_predict)"
   ]
  },
  {
   "cell_type": "markdown",
   "metadata": {},
   "source": [
    "This submission also scored 0.87499, so no change from before."
   ]
  },
  {
   "cell_type": "markdown",
   "metadata": {},
   "source": [
    "What about l1?"
   ]
  },
  {
   "cell_type": "code",
   "execution_count": 249,
   "metadata": {},
   "outputs": [],
   "source": [
    "logr = linear_model.LogisticRegression(penalty=\"l1\", solver=\"liblinear\").fit(train_x.iloc[:,1:], train_y.iloc[:,1])\n",
    "logr_predict = logr.predict(test_x.iloc[:,1:])"
   ]
  },
  {
   "cell_type": "code",
   "execution_count": 250,
   "metadata": {},
   "outputs": [],
   "source": [
    "kaggle_csv(logr_predict)"
   ]
  },
  {
   "cell_type": "markdown",
   "metadata": {},
   "source": [
    "This was worse, with a score of 0.81967."
   ]
  },
  {
   "cell_type": "markdown",
   "metadata": {},
   "source": [
    "### My own f1 scoring"
   ]
  },
  {
   "cell_type": "markdown",
   "metadata": {},
   "source": [
    "I don't want to keep submitting to see the f1 score, so I will implement my own scoring and split the training data 60/40. I will also scale the data using a standard scaler."
   ]
  },
  {
   "cell_type": "code",
   "execution_count": 26,
   "metadata": {},
   "outputs": [],
   "source": [
    "import sklearn"
   ]
  },
  {
   "cell_type": "code",
   "execution_count": 69,
   "metadata": {},
   "outputs": [],
   "source": [
    "from sklearn.preprocessing import StandardScaler\n",
    "scaler = StandardScaler()\n",
    "scaler.fit(train_x.iloc[:,1:])\n",
    "train_x_scaled = scaler.transform(train_x.iloc[:,1:])\n",
    "scaler.fit(test_x.iloc[:,1:])\n",
    "test_x_scaled = scaler.transform(test_x.iloc[:,1:])"
   ]
  },
  {
   "cell_type": "code",
   "execution_count": 211,
   "metadata": {},
   "outputs": [],
   "source": [
    "X_train, X_test, y_train, y_test = \\\n",
    "sklearn.model_selection.train_test_split(train_x_scaled, train_y.iloc[:,1:].values, test_size=0.4)"
   ]
  },
  {
   "cell_type": "code",
   "execution_count": 212,
   "metadata": {},
   "outputs": [
    {
     "data": {
      "text/plain": [
       "array([[ 1.25656133, -1.21557735, -0.45343274, ...,  0.0383133 ,\n",
       "         0.33904467,  0.75773297],\n",
       "       [-0.82745184,  0.68475184, -0.40835341, ...,  3.34809917,\n",
       "         1.17292313,  0.31021817],\n",
       "       [ 0.3098044 ,  0.57388345, -0.8677629 , ..., -0.02995046,\n",
       "         1.02251718,  0.99807842],\n",
       "       ...,\n",
       "       [ 0.75933692, -1.17090312,  0.76482241, ...,  0.12058356,\n",
       "         1.73041091, -1.09128987],\n",
       "       [ 0.50206098, -1.22617591,  1.12209441, ...,  0.01879543,\n",
       "         1.60597233,  0.6152128 ],\n",
       "       [-1.07495992, -1.04451198, -0.50171585, ...,  0.3533404 ,\n",
       "         0.9695291 ,  0.60881712]])"
      ]
     },
     "execution_count": 212,
     "metadata": {},
     "output_type": "execute_result"
    }
   ],
   "source": [
    "X_train"
   ]
  },
  {
   "cell_type": "code",
   "execution_count": 210,
   "metadata": {},
   "outputs": [
    {
     "data": {
      "text/plain": [
       "array([[ 1.66904928,  0.38289109,  1.58341654, ..., -0.14736257,\n",
       "        -0.29010119,  0.60695782],\n",
       "       [ 1.43488901,  0.78068918, -0.49383668, ...,  0.09422225,\n",
       "        -0.26409632,  0.50645347],\n",
       "       [ 0.46964761, -1.43149965,  0.88196663, ..., -0.3593205 ,\n",
       "        -0.0196051 ,  0.09868941],\n",
       "       ...,\n",
       "       [-0.57336785, -1.19471798,  0.68171314, ...,  0.07672708,\n",
       "        -0.36431913,  0.66859813],\n",
       "       [-1.06710376,  0.75953964,  0.24183993, ..., -0.48712493,\n",
       "        -0.24477297,  0.47644598],\n",
       "       [-0.27441462, -1.20511665,  0.9264115 , ...,  0.05757731,\n",
       "         0.6226463 , -0.12018006]])"
      ]
     },
     "execution_count": 210,
     "metadata": {},
     "output_type": "execute_result"
    }
   ],
   "source": [
    "X_test"
   ]
  },
  {
   "cell_type": "markdown",
   "metadata": {},
   "source": [
    "Test using logr"
   ]
  },
  {
   "cell_type": "code",
   "execution_count": 222,
   "metadata": {},
   "outputs": [],
   "source": [
    "y_test = y_test.reshape(-1)\n",
    "y_train = y_train.reshape(-1)"
   ]
  },
  {
   "cell_type": "code",
   "execution_count": 223,
   "metadata": {},
   "outputs": [
    {
     "data": {
      "text/plain": [
       "array([0, 0, 1, 1, 1, 1, 1, 0, 1, 0, 1, 1, 1, 1, 1, 1, 1, 1, 0, 1, 1, 0,\n",
       "       0, 0, 0, 1, 1, 1, 1, 1, 1, 1, 1, 1, 1, 1, 0, 0, 0, 0, 1, 0, 0, 1,\n",
       "       0, 1, 1, 0, 1, 0, 0, 1, 0, 0, 0, 1, 1, 1, 0, 0, 1, 1, 1, 0, 0, 0,\n",
       "       0, 1, 0, 0, 1, 0, 0, 0, 1, 1, 1, 1, 1, 0, 0, 1, 1, 1, 0, 0, 1, 1,\n",
       "       0, 1, 0, 0, 0, 1, 0, 0, 0, 1, 0, 1, 1, 1, 1, 1, 1, 1, 0, 0, 1, 1,\n",
       "       0, 1, 0, 0, 1, 0, 1, 0, 1, 1, 0, 1, 1, 0, 0, 1, 1, 1, 1, 0, 1, 1,\n",
       "       1, 0, 1, 0, 1, 1, 0, 1, 0, 0, 1, 1, 1, 0, 0, 1, 0, 0, 1, 1, 1, 0,\n",
       "       1, 1, 0, 1, 1, 0, 1, 1, 1, 0, 1, 1, 0, 1, 0, 1, 1, 1, 1, 1, 1, 1,\n",
       "       1, 0, 1, 1, 0, 1, 0, 0, 0, 0, 0, 0, 1, 1, 1, 1, 1, 0, 0, 1, 1, 1,\n",
       "       1, 0, 1, 1, 1, 0, 1, 0, 0, 1, 1, 0, 1, 0, 1, 1, 1, 0, 1, 1, 1, 1,\n",
       "       0, 1, 1, 1, 0, 1, 1, 1, 0, 0, 1, 1, 1, 0, 0, 0, 1, 1, 1, 0, 0, 1,\n",
       "       0, 1, 0, 0, 1, 0, 0, 1, 1, 1, 1, 0, 1, 1, 0, 1, 0, 1, 1, 1, 1, 0,\n",
       "       0, 0])"
      ]
     },
     "execution_count": 223,
     "metadata": {},
     "output_type": "execute_result"
    }
   ],
   "source": [
    "y_train"
   ]
  },
  {
   "cell_type": "code",
   "execution_count": 58,
   "metadata": {},
   "outputs": [],
   "source": [
    "#from sklearn.pipeline import make_pipeline\n",
    "#pipe = make_pipeline(StandardScaler(), linear_model.LogisticRegression(max_iter=300))\n",
    "#pipe.fit(X_train, y_train.values.reshape(-1)) "
   ]
  },
  {
   "cell_type": "code",
   "execution_count": 224,
   "metadata": {},
   "outputs": [],
   "source": [
    "logr = linear_model.LogisticRegression(max_iter=300).fit(X_train, y_train)"
   ]
  },
  {
   "cell_type": "code",
   "execution_count": 225,
   "metadata": {},
   "outputs": [],
   "source": [
    "y_predict = logr.predict(X_test)"
   ]
  },
  {
   "cell_type": "code",
   "execution_count": 226,
   "metadata": {},
   "outputs": [
    {
     "data": {
      "text/plain": [
       "0.8316831683168316"
      ]
     },
     "execution_count": 226,
     "metadata": {},
     "output_type": "execute_result"
    }
   ],
   "source": [
    "sklearn.metrics.f1_score(y_test, y_predict)"
   ]
  },
  {
   "cell_type": "code",
   "execution_count": 227,
   "metadata": {},
   "outputs": [
    {
     "data": {
      "text/plain": [
       "0.8089887640449438"
      ]
     },
     "execution_count": 227,
     "metadata": {},
     "output_type": "execute_result"
    }
   ],
   "source": [
    "logr.score(X_test, y_test)"
   ]
  },
  {
   "cell_type": "markdown",
   "metadata": {},
   "source": [
    "Lets see how this model fares with kaggle and the full dataset."
   ]
  },
  {
   "cell_type": "code",
   "execution_count": 66,
   "metadata": {},
   "outputs": [],
   "source": [
    "from sklearn.pipeline import make_pipeline\n",
    "pipe = make_pipeline(StandardScaler(), linear_model.LogisticRegression(max_iter=300))\n",
    "pipe.fit(train_x.iloc[:,1:], train_y.iloc[:,1]) \n",
    "logr_predict = pipe.predict(test_x.iloc[:,1:])\n",
    "kaggle_csv(logr_predict)"
   ]
  },
  {
   "cell_type": "markdown",
   "metadata": {},
   "source": [
    "Interesting, the score is 0.86153."
   ]
  },
  {
   "cell_type": "markdown",
   "metadata": {},
   "source": [
    "#### How about ridge regression (L2)?"
   ]
  },
  {
   "cell_type": "markdown",
   "metadata": {},
   "source": [
    "First need to find a good alpha value."
   ]
  },
  {
   "cell_type": "code",
   "execution_count": 228,
   "metadata": {},
   "outputs": [],
   "source": [
    "regr_cv = linear_model.RidgeCV(alphas=np.arange(1, 100000, 100))\n",
    "#regr_cv = linear_model.RidgeCV(alphas=np.arange(2000, 3000, 1))\n",
    "#regr_cv = linear_model.RidgeCV(alphas=np.arange(2400, 2500, 0.1))\n",
    "#regr_cv = linear_model.RidgeCV(alphas=np.logspace(-3, -1, 30))\n",
    "#regr_cv = linear_model.RidgeCV()"
   ]
  },
  {
   "cell_type": "code",
   "execution_count": 167,
   "metadata": {},
   "outputs": [],
   "source": [
    "model_cv = regr_cv.fit(train_x_scaled, train_y.iloc[:,1])"
   ]
  },
  {
   "cell_type": "code",
   "execution_count": 168,
   "metadata": {},
   "outputs": [
    {
     "data": {
      "text/plain": [
       "0.1"
      ]
     },
     "execution_count": 168,
     "metadata": {},
     "output_type": "execute_result"
    }
   ],
   "source": [
    "model_cv.alpha_"
   ]
  },
  {
   "cell_type": "code",
   "execution_count": 169,
   "metadata": {},
   "outputs": [
    {
     "data": {
      "text/plain": [
       "-0.12974830754703273"
      ]
     },
     "execution_count": 169,
     "metadata": {},
     "output_type": "execute_result"
    }
   ],
   "source": [
    "model_cv.best_score_"
   ]
  },
  {
   "cell_type": "markdown",
   "metadata": {},
   "source": [
    "This value may be good?"
   ]
  },
  {
   "cell_type": "code",
   "execution_count": 197,
   "metadata": {},
   "outputs": [],
   "source": [
    "reg = linear_model.Ridge(alpha=model_cv.alpha_)"
   ]
  },
  {
   "cell_type": "code",
   "execution_count": 198,
   "metadata": {},
   "outputs": [
    {
     "data": {
      "text/html": [
       "<style>#sk-container-id-16 {color: black;background-color: white;}#sk-container-id-16 pre{padding: 0;}#sk-container-id-16 div.sk-toggleable {background-color: white;}#sk-container-id-16 label.sk-toggleable__label {cursor: pointer;display: block;width: 100%;margin-bottom: 0;padding: 0.3em;box-sizing: border-box;text-align: center;}#sk-container-id-16 label.sk-toggleable__label-arrow:before {content: \"▸\";float: left;margin-right: 0.25em;color: #696969;}#sk-container-id-16 label.sk-toggleable__label-arrow:hover:before {color: black;}#sk-container-id-16 div.sk-estimator:hover label.sk-toggleable__label-arrow:before {color: black;}#sk-container-id-16 div.sk-toggleable__content {max-height: 0;max-width: 0;overflow: hidden;text-align: left;background-color: #f0f8ff;}#sk-container-id-16 div.sk-toggleable__content pre {margin: 0.2em;color: black;border-radius: 0.25em;background-color: #f0f8ff;}#sk-container-id-16 input.sk-toggleable__control:checked~div.sk-toggleable__content {max-height: 200px;max-width: 100%;overflow: auto;}#sk-container-id-16 input.sk-toggleable__control:checked~label.sk-toggleable__label-arrow:before {content: \"▾\";}#sk-container-id-16 div.sk-estimator input.sk-toggleable__control:checked~label.sk-toggleable__label {background-color: #d4ebff;}#sk-container-id-16 div.sk-label input.sk-toggleable__control:checked~label.sk-toggleable__label {background-color: #d4ebff;}#sk-container-id-16 input.sk-hidden--visually {border: 0;clip: rect(1px 1px 1px 1px);clip: rect(1px, 1px, 1px, 1px);height: 1px;margin: -1px;overflow: hidden;padding: 0;position: absolute;width: 1px;}#sk-container-id-16 div.sk-estimator {font-family: monospace;background-color: #f0f8ff;border: 1px dotted black;border-radius: 0.25em;box-sizing: border-box;margin-bottom: 0.5em;}#sk-container-id-16 div.sk-estimator:hover {background-color: #d4ebff;}#sk-container-id-16 div.sk-parallel-item::after {content: \"\";width: 100%;border-bottom: 1px solid gray;flex-grow: 1;}#sk-container-id-16 div.sk-label:hover label.sk-toggleable__label {background-color: #d4ebff;}#sk-container-id-16 div.sk-serial::before {content: \"\";position: absolute;border-left: 1px solid gray;box-sizing: border-box;top: 0;bottom: 0;left: 50%;z-index: 0;}#sk-container-id-16 div.sk-serial {display: flex;flex-direction: column;align-items: center;background-color: white;padding-right: 0.2em;padding-left: 0.2em;position: relative;}#sk-container-id-16 div.sk-item {position: relative;z-index: 1;}#sk-container-id-16 div.sk-parallel {display: flex;align-items: stretch;justify-content: center;background-color: white;position: relative;}#sk-container-id-16 div.sk-item::before, #sk-container-id-16 div.sk-parallel-item::before {content: \"\";position: absolute;border-left: 1px solid gray;box-sizing: border-box;top: 0;bottom: 0;left: 50%;z-index: -1;}#sk-container-id-16 div.sk-parallel-item {display: flex;flex-direction: column;z-index: 1;position: relative;background-color: white;}#sk-container-id-16 div.sk-parallel-item:first-child::after {align-self: flex-end;width: 50%;}#sk-container-id-16 div.sk-parallel-item:last-child::after {align-self: flex-start;width: 50%;}#sk-container-id-16 div.sk-parallel-item:only-child::after {width: 0;}#sk-container-id-16 div.sk-dashed-wrapped {border: 1px dashed gray;margin: 0 0.4em 0.5em 0.4em;box-sizing: border-box;padding-bottom: 0.4em;background-color: white;}#sk-container-id-16 div.sk-label label {font-family: monospace;font-weight: bold;display: inline-block;line-height: 1.2em;}#sk-container-id-16 div.sk-label-container {text-align: center;}#sk-container-id-16 div.sk-container {/* jupyter's `normalize.less` sets `[hidden] { display: none; }` but bootstrap.min.css set `[hidden] { display: none !important; }` so we also need the `!important` here to be able to override the default hidden behavior on the sphinx rendered scikit-learn.org. See: https://github.com/scikit-learn/scikit-learn/issues/21755 */display: inline-block !important;position: relative;}#sk-container-id-16 div.sk-text-repr-fallback {display: none;}</style><div id=\"sk-container-id-16\" class=\"sk-top-container\"><div class=\"sk-text-repr-fallback\"><pre>Ridge(alpha=0.1)</pre><b>In a Jupyter environment, please rerun this cell to show the HTML representation or trust the notebook. <br />On GitHub, the HTML representation is unable to render, please try loading this page with nbviewer.org.</b></div><div class=\"sk-container\" hidden><div class=\"sk-item\"><div class=\"sk-estimator sk-toggleable\"><input class=\"sk-toggleable__control sk-hidden--visually\" id=\"sk-estimator-id-22\" type=\"checkbox\" checked><label for=\"sk-estimator-id-22\" class=\"sk-toggleable__label sk-toggleable__label-arrow\">Ridge</label><div class=\"sk-toggleable__content\"><pre>Ridge(alpha=0.1)</pre></div></div></div></div></div>"
      ],
      "text/plain": [
       "Ridge(alpha=0.1)"
      ]
     },
     "execution_count": 198,
     "metadata": {},
     "output_type": "execute_result"
    }
   ],
   "source": [
    "reg.fit(train_x_scaled, train_y.iloc[:,1])"
   ]
  },
  {
   "cell_type": "code",
   "execution_count": 199,
   "metadata": {},
   "outputs": [],
   "source": [
    "y_predict = reg.predict(test_x_scaled)"
   ]
  },
  {
   "cell_type": "code",
   "execution_count": 173,
   "metadata": {},
   "outputs": [
    {
     "data": {
      "text/plain": [
       "array([1, 0, 0, 1, 0, 1, 1, 0, 1, 0, 1, 1, 1, 0, 0, 1, 1, 0, 1, 1, 1, 1,\n",
       "       0, 1, 1, 1, 1, 1, 1, 1, 1, 0, 0, 1, 0, 1, 1, 1, 1, 1, 1, 1, 0, 0,\n",
       "       0, 1, 1, 1, 0, 1, 1, 1, 0, 1, 0, 1, 1, 0, 1, 1, 1, 1, 0, 0, 1, 0,\n",
       "       1, 1, 0, 1, 0, 0, 0, 0, 1, 0, 1, 1, 0, 0, 0, 1, 1, 1, 1, 0, 1, 1,\n",
       "       1, 0, 1, 1, 0, 1, 0, 0, 1, 0, 0, 1, 0, 1, 1, 0, 1, 1, 0, 0, 1, 1])"
      ]
     },
     "execution_count": 173,
     "metadata": {},
     "output_type": "execute_result"
    }
   ],
   "source": [
    "y_predict = np.where(y_predict > 0.5, 1, 0)\n",
    "y_predict"
   ]
  },
  {
   "cell_type": "code",
   "execution_count": 174,
   "metadata": {},
   "outputs": [],
   "source": [
    "kaggle_csv(y_predict)"
   ]
  },
  {
   "cell_type": "markdown",
   "metadata": {},
   "source": [
    "I got 0.87878 with alpha=2400. I further optimized alpha to 2441.5, this scored the same, not too surprisingly.\n",
    "\n",
    "These values feel too large though, what about alpha=0.1? This scored 0.86567."
   ]
  },
  {
   "cell_type": "markdown",
   "metadata": {},
   "source": [
    "#### What about LASSO (L1)?"
   ]
  },
  {
   "cell_type": "markdown",
   "metadata": {},
   "source": [
    "LASSO is good for wide data (features (p) > observation (n)), so should be good for this dataset."
   ]
  },
  {
   "cell_type": "markdown",
   "metadata": {},
   "source": [
    "LASSO also needs to tune a hyperparameter ($\\alpha$)."
   ]
  },
  {
   "cell_type": "code",
   "execution_count": 175,
   "metadata": {},
   "outputs": [],
   "source": [
    "reg = linear_model.LassoCV().fit(train_x_scaled, train_y.iloc[:,1])"
   ]
  },
  {
   "cell_type": "code",
   "execution_count": 176,
   "metadata": {},
   "outputs": [
    {
     "data": {
      "text/plain": [
       "0.028764489798114024"
      ]
     },
     "execution_count": 176,
     "metadata": {},
     "output_type": "execute_result"
    }
   ],
   "source": [
    "reg.alpha_"
   ]
  },
  {
   "cell_type": "code",
   "execution_count": 177,
   "metadata": {},
   "outputs": [
    {
     "data": {
      "text/html": [
       "<style>#sk-container-id-13 {color: black;background-color: white;}#sk-container-id-13 pre{padding: 0;}#sk-container-id-13 div.sk-toggleable {background-color: white;}#sk-container-id-13 label.sk-toggleable__label {cursor: pointer;display: block;width: 100%;margin-bottom: 0;padding: 0.3em;box-sizing: border-box;text-align: center;}#sk-container-id-13 label.sk-toggleable__label-arrow:before {content: \"▸\";float: left;margin-right: 0.25em;color: #696969;}#sk-container-id-13 label.sk-toggleable__label-arrow:hover:before {color: black;}#sk-container-id-13 div.sk-estimator:hover label.sk-toggleable__label-arrow:before {color: black;}#sk-container-id-13 div.sk-toggleable__content {max-height: 0;max-width: 0;overflow: hidden;text-align: left;background-color: #f0f8ff;}#sk-container-id-13 div.sk-toggleable__content pre {margin: 0.2em;color: black;border-radius: 0.25em;background-color: #f0f8ff;}#sk-container-id-13 input.sk-toggleable__control:checked~div.sk-toggleable__content {max-height: 200px;max-width: 100%;overflow: auto;}#sk-container-id-13 input.sk-toggleable__control:checked~label.sk-toggleable__label-arrow:before {content: \"▾\";}#sk-container-id-13 div.sk-estimator input.sk-toggleable__control:checked~label.sk-toggleable__label {background-color: #d4ebff;}#sk-container-id-13 div.sk-label input.sk-toggleable__control:checked~label.sk-toggleable__label {background-color: #d4ebff;}#sk-container-id-13 input.sk-hidden--visually {border: 0;clip: rect(1px 1px 1px 1px);clip: rect(1px, 1px, 1px, 1px);height: 1px;margin: -1px;overflow: hidden;padding: 0;position: absolute;width: 1px;}#sk-container-id-13 div.sk-estimator {font-family: monospace;background-color: #f0f8ff;border: 1px dotted black;border-radius: 0.25em;box-sizing: border-box;margin-bottom: 0.5em;}#sk-container-id-13 div.sk-estimator:hover {background-color: #d4ebff;}#sk-container-id-13 div.sk-parallel-item::after {content: \"\";width: 100%;border-bottom: 1px solid gray;flex-grow: 1;}#sk-container-id-13 div.sk-label:hover label.sk-toggleable__label {background-color: #d4ebff;}#sk-container-id-13 div.sk-serial::before {content: \"\";position: absolute;border-left: 1px solid gray;box-sizing: border-box;top: 0;bottom: 0;left: 50%;z-index: 0;}#sk-container-id-13 div.sk-serial {display: flex;flex-direction: column;align-items: center;background-color: white;padding-right: 0.2em;padding-left: 0.2em;position: relative;}#sk-container-id-13 div.sk-item {position: relative;z-index: 1;}#sk-container-id-13 div.sk-parallel {display: flex;align-items: stretch;justify-content: center;background-color: white;position: relative;}#sk-container-id-13 div.sk-item::before, #sk-container-id-13 div.sk-parallel-item::before {content: \"\";position: absolute;border-left: 1px solid gray;box-sizing: border-box;top: 0;bottom: 0;left: 50%;z-index: -1;}#sk-container-id-13 div.sk-parallel-item {display: flex;flex-direction: column;z-index: 1;position: relative;background-color: white;}#sk-container-id-13 div.sk-parallel-item:first-child::after {align-self: flex-end;width: 50%;}#sk-container-id-13 div.sk-parallel-item:last-child::after {align-self: flex-start;width: 50%;}#sk-container-id-13 div.sk-parallel-item:only-child::after {width: 0;}#sk-container-id-13 div.sk-dashed-wrapped {border: 1px dashed gray;margin: 0 0.4em 0.5em 0.4em;box-sizing: border-box;padding-bottom: 0.4em;background-color: white;}#sk-container-id-13 div.sk-label label {font-family: monospace;font-weight: bold;display: inline-block;line-height: 1.2em;}#sk-container-id-13 div.sk-label-container {text-align: center;}#sk-container-id-13 div.sk-container {/* jupyter's `normalize.less` sets `[hidden] { display: none; }` but bootstrap.min.css set `[hidden] { display: none !important; }` so we also need the `!important` here to be able to override the default hidden behavior on the sphinx rendered scikit-learn.org. See: https://github.com/scikit-learn/scikit-learn/issues/21755 */display: inline-block !important;position: relative;}#sk-container-id-13 div.sk-text-repr-fallback {display: none;}</style><div id=\"sk-container-id-13\" class=\"sk-top-container\"><div class=\"sk-text-repr-fallback\"><pre>Lasso(alpha=0.028764489798114024)</pre><b>In a Jupyter environment, please rerun this cell to show the HTML representation or trust the notebook. <br />On GitHub, the HTML representation is unable to render, please try loading this page with nbviewer.org.</b></div><div class=\"sk-container\" hidden><div class=\"sk-item\"><div class=\"sk-estimator sk-toggleable\"><input class=\"sk-toggleable__control sk-hidden--visually\" id=\"sk-estimator-id-19\" type=\"checkbox\" checked><label for=\"sk-estimator-id-19\" class=\"sk-toggleable__label sk-toggleable__label-arrow\">Lasso</label><div class=\"sk-toggleable__content\"><pre>Lasso(alpha=0.028764489798114024)</pre></div></div></div></div></div>"
      ],
      "text/plain": [
       "Lasso(alpha=0.028764489798114024)"
      ]
     },
     "execution_count": 177,
     "metadata": {},
     "output_type": "execute_result"
    }
   ],
   "source": [
    "lasso = linear_model.Lasso(alpha=reg.alpha_)\n",
    "lasso.fit(train_x_scaled, train_y.iloc[:,1])"
   ]
  },
  {
   "cell_type": "code",
   "execution_count": 178,
   "metadata": {},
   "outputs": [],
   "source": [
    "y_predict = lasso.predict(test_x_scaled)"
   ]
  },
  {
   "cell_type": "code",
   "execution_count": 179,
   "metadata": {},
   "outputs": [
    {
     "data": {
      "text/plain": [
       "array([ 1.01447275,  0.22845317,  0.3185323 ,  0.83427353,  0.30022536,\n",
       "        0.74056379,  0.76269977,  0.15319795,  0.37310524,  0.27671007,\n",
       "        0.7149602 ,  0.54045781,  0.61950634,  0.39877643, -0.14815646,\n",
       "        0.76822118,  0.89846706,  0.4881715 ,  0.86356885,  0.8647341 ,\n",
       "        0.85059419,  1.03860144,  0.47764525,  0.9863982 ,  0.76724517,\n",
       "        1.23322579,  0.95975008,  0.66465841,  0.90486078,  0.74786789,\n",
       "        0.70325734,  0.17893921,  0.19196864,  0.59741182,  0.02331944,\n",
       "        0.48539538,  0.66531029,  0.94336091,  0.53861498,  1.10968666,\n",
       "        0.86083386,  0.93210951,  0.18283221,  0.16505982,  0.15451153,\n",
       "        1.10401074,  0.70838148,  0.70651666,  0.31379937,  0.81560241,\n",
       "        0.79924867,  0.68549651,  0.31010554,  0.77648765,  0.00940202,\n",
       "        0.35326551,  0.62817107,  0.2255686 ,  0.78143834,  1.00401011,\n",
       "        0.75617906,  0.95195078,  0.24323411,  0.34305229,  0.80006307,\n",
       "        0.37702856,  1.01182575,  0.77927393,  0.40542236,  0.95965447,\n",
       "        0.10753326,  0.12727198, -0.00853941,  0.41722409,  0.67865347,\n",
       "        0.21663487,  0.62477088,  0.86654013,  0.38244015,  0.10527432,\n",
       "        0.01289226,  0.86304341,  0.65314572,  0.75781584,  0.99811534,\n",
       "        0.15216282,  0.98518786,  0.85676652,  0.67725649, -0.00908814,\n",
       "        0.61016821,  0.50647779,  0.18896164,  0.99445974,  0.24377586,\n",
       "        0.77892723,  0.58657657,  0.11979014,  0.27658602,  0.90403163,\n",
       "        0.3869268 ,  0.79857833,  0.80943318,  0.27568781,  0.75669077,\n",
       "        0.65618488,  0.19148499,  0.05072782,  0.50559347,  0.5981744 ])"
      ]
     },
     "execution_count": 179,
     "metadata": {},
     "output_type": "execute_result"
    }
   ],
   "source": [
    "y_predict"
   ]
  },
  {
   "cell_type": "code",
   "execution_count": 181,
   "metadata": {},
   "outputs": [
    {
     "data": {
      "text/plain": [
       "array([1, 0, 0, 1, 0, 1, 1, 0, 0, 0, 1, 1, 1, 0, 0, 1, 1, 0, 1, 1, 1, 1,\n",
       "       0, 1, 1, 1, 1, 1, 1, 1, 1, 0, 0, 1, 0, 0, 1, 1, 1, 1, 1, 1, 0, 0,\n",
       "       0, 1, 1, 1, 0, 1, 1, 1, 0, 1, 0, 0, 1, 0, 1, 1, 1, 1, 0, 0, 1, 0,\n",
       "       1, 1, 0, 1, 0, 0, 0, 0, 1, 0, 1, 1, 0, 0, 0, 1, 1, 1, 1, 0, 1, 1,\n",
       "       1, 0, 1, 1, 0, 1, 0, 1, 1, 0, 0, 1, 0, 1, 1, 0, 1, 1, 0, 0, 1, 1])"
      ]
     },
     "execution_count": 181,
     "metadata": {},
     "output_type": "execute_result"
    }
   ],
   "source": [
    "y_predict = np.where(y_predict > 0.5, 1, 0)\n",
    "y_predict"
   ]
  },
  {
   "cell_type": "code",
   "execution_count": 182,
   "metadata": {},
   "outputs": [],
   "source": [
    "kaggle_csv(y_predict)"
   ]
  },
  {
   "cell_type": "markdown",
   "metadata": {},
   "source": [
    "Surprisingly only scored 0.84375."
   ]
  },
  {
   "cell_type": "markdown",
   "metadata": {},
   "source": [
    "#### Finally let's try elastic nets (L1 and L2)"
   ]
  },
  {
   "cell_type": "markdown",
   "metadata": {},
   "source": [
    "Now we need to optimize 2 parameters, alpha and the ratio of l1 to l2."
   ]
  },
  {
   "cell_type": "code",
   "execution_count": 183,
   "metadata": {},
   "outputs": [],
   "source": [
    "encv = linear_model.ElasticNetCV().fit(train_x_scaled, train_y.iloc[:,1])"
   ]
  },
  {
   "cell_type": "code",
   "execution_count": 184,
   "metadata": {},
   "outputs": [
    {
     "data": {
      "text/plain": [
       "0.057528979596228054"
      ]
     },
     "execution_count": 184,
     "metadata": {},
     "output_type": "execute_result"
    }
   ],
   "source": [
    "encv.alpha_"
   ]
  },
  {
   "cell_type": "code",
   "execution_count": 185,
   "metadata": {},
   "outputs": [
    {
     "data": {
      "text/plain": [
       "0.5"
      ]
     },
     "execution_count": 185,
     "metadata": {},
     "output_type": "execute_result"
    }
   ],
   "source": [
    "encv.l1_ratio_"
   ]
  },
  {
   "cell_type": "code",
   "execution_count": 186,
   "metadata": {},
   "outputs": [
    {
     "data": {
      "text/html": [
       "<style>#sk-container-id-14 {color: black;background-color: white;}#sk-container-id-14 pre{padding: 0;}#sk-container-id-14 div.sk-toggleable {background-color: white;}#sk-container-id-14 label.sk-toggleable__label {cursor: pointer;display: block;width: 100%;margin-bottom: 0;padding: 0.3em;box-sizing: border-box;text-align: center;}#sk-container-id-14 label.sk-toggleable__label-arrow:before {content: \"▸\";float: left;margin-right: 0.25em;color: #696969;}#sk-container-id-14 label.sk-toggleable__label-arrow:hover:before {color: black;}#sk-container-id-14 div.sk-estimator:hover label.sk-toggleable__label-arrow:before {color: black;}#sk-container-id-14 div.sk-toggleable__content {max-height: 0;max-width: 0;overflow: hidden;text-align: left;background-color: #f0f8ff;}#sk-container-id-14 div.sk-toggleable__content pre {margin: 0.2em;color: black;border-radius: 0.25em;background-color: #f0f8ff;}#sk-container-id-14 input.sk-toggleable__control:checked~div.sk-toggleable__content {max-height: 200px;max-width: 100%;overflow: auto;}#sk-container-id-14 input.sk-toggleable__control:checked~label.sk-toggleable__label-arrow:before {content: \"▾\";}#sk-container-id-14 div.sk-estimator input.sk-toggleable__control:checked~label.sk-toggleable__label {background-color: #d4ebff;}#sk-container-id-14 div.sk-label input.sk-toggleable__control:checked~label.sk-toggleable__label {background-color: #d4ebff;}#sk-container-id-14 input.sk-hidden--visually {border: 0;clip: rect(1px 1px 1px 1px);clip: rect(1px, 1px, 1px, 1px);height: 1px;margin: -1px;overflow: hidden;padding: 0;position: absolute;width: 1px;}#sk-container-id-14 div.sk-estimator {font-family: monospace;background-color: #f0f8ff;border: 1px dotted black;border-radius: 0.25em;box-sizing: border-box;margin-bottom: 0.5em;}#sk-container-id-14 div.sk-estimator:hover {background-color: #d4ebff;}#sk-container-id-14 div.sk-parallel-item::after {content: \"\";width: 100%;border-bottom: 1px solid gray;flex-grow: 1;}#sk-container-id-14 div.sk-label:hover label.sk-toggleable__label {background-color: #d4ebff;}#sk-container-id-14 div.sk-serial::before {content: \"\";position: absolute;border-left: 1px solid gray;box-sizing: border-box;top: 0;bottom: 0;left: 50%;z-index: 0;}#sk-container-id-14 div.sk-serial {display: flex;flex-direction: column;align-items: center;background-color: white;padding-right: 0.2em;padding-left: 0.2em;position: relative;}#sk-container-id-14 div.sk-item {position: relative;z-index: 1;}#sk-container-id-14 div.sk-parallel {display: flex;align-items: stretch;justify-content: center;background-color: white;position: relative;}#sk-container-id-14 div.sk-item::before, #sk-container-id-14 div.sk-parallel-item::before {content: \"\";position: absolute;border-left: 1px solid gray;box-sizing: border-box;top: 0;bottom: 0;left: 50%;z-index: -1;}#sk-container-id-14 div.sk-parallel-item {display: flex;flex-direction: column;z-index: 1;position: relative;background-color: white;}#sk-container-id-14 div.sk-parallel-item:first-child::after {align-self: flex-end;width: 50%;}#sk-container-id-14 div.sk-parallel-item:last-child::after {align-self: flex-start;width: 50%;}#sk-container-id-14 div.sk-parallel-item:only-child::after {width: 0;}#sk-container-id-14 div.sk-dashed-wrapped {border: 1px dashed gray;margin: 0 0.4em 0.5em 0.4em;box-sizing: border-box;padding-bottom: 0.4em;background-color: white;}#sk-container-id-14 div.sk-label label {font-family: monospace;font-weight: bold;display: inline-block;line-height: 1.2em;}#sk-container-id-14 div.sk-label-container {text-align: center;}#sk-container-id-14 div.sk-container {/* jupyter's `normalize.less` sets `[hidden] { display: none; }` but bootstrap.min.css set `[hidden] { display: none !important; }` so we also need the `!important` here to be able to override the default hidden behavior on the sphinx rendered scikit-learn.org. See: https://github.com/scikit-learn/scikit-learn/issues/21755 */display: inline-block !important;position: relative;}#sk-container-id-14 div.sk-text-repr-fallback {display: none;}</style><div id=\"sk-container-id-14\" class=\"sk-top-container\"><div class=\"sk-text-repr-fallback\"><pre>ElasticNet(alpha=0.057528979596228054)</pre><b>In a Jupyter environment, please rerun this cell to show the HTML representation or trust the notebook. <br />On GitHub, the HTML representation is unable to render, please try loading this page with nbviewer.org.</b></div><div class=\"sk-container\" hidden><div class=\"sk-item\"><div class=\"sk-estimator sk-toggleable\"><input class=\"sk-toggleable__control sk-hidden--visually\" id=\"sk-estimator-id-20\" type=\"checkbox\" checked><label for=\"sk-estimator-id-20\" class=\"sk-toggleable__label sk-toggleable__label-arrow\">ElasticNet</label><div class=\"sk-toggleable__content\"><pre>ElasticNet(alpha=0.057528979596228054)</pre></div></div></div></div></div>"
      ],
      "text/plain": [
       "ElasticNet(alpha=0.057528979596228054)"
      ]
     },
     "execution_count": 186,
     "metadata": {},
     "output_type": "execute_result"
    }
   ],
   "source": [
    "en = linear_model.ElasticNet(alpha=encv.alpha_, l1_ratio=encv.l1_ratio_)\n",
    "en.fit(train_x_scaled, train_y.iloc[:,1])"
   ]
  },
  {
   "cell_type": "code",
   "execution_count": 187,
   "metadata": {},
   "outputs": [],
   "source": [
    "y_predict = en.predict(test_x_scaled)"
   ]
  },
  {
   "cell_type": "code",
   "execution_count": 189,
   "metadata": {},
   "outputs": [
    {
     "data": {
      "text/plain": [
       "array([1, 0, 0, 1, 0, 1, 1, 0, 0, 0, 1, 1, 1, 0, 0, 1, 1, 0, 1, 1, 1, 1,\n",
       "       0, 1, 1, 1, 1, 1, 1, 1, 1, 0, 0, 1, 0, 0, 1, 1, 1, 1, 1, 1, 0, 0,\n",
       "       0, 1, 1, 1, 0, 1, 1, 1, 0, 1, 0, 0, 1, 0, 1, 1, 1, 1, 0, 0, 1, 0,\n",
       "       1, 1, 0, 1, 0, 0, 0, 0, 1, 0, 1, 1, 0, 0, 0, 1, 1, 1, 1, 0, 1, 1,\n",
       "       1, 0, 1, 1, 0, 1, 0, 1, 1, 0, 0, 1, 0, 1, 1, 0, 1, 1, 0, 0, 1, 1])"
      ]
     },
     "execution_count": 189,
     "metadata": {},
     "output_type": "execute_result"
    }
   ],
   "source": [
    "y_predict = np.where(y_predict > 0.5, 1, 0)\n",
    "y_predict"
   ]
  },
  {
   "cell_type": "code",
   "execution_count": 190,
   "metadata": {},
   "outputs": [],
   "source": [
    "kaggle_csv(y_predict)"
   ]
  },
  {
   "cell_type": "markdown",
   "metadata": {},
   "source": [
    "I scored 0.84375 with this, interesting, no change from lasso."
   ]
  },
  {
   "cell_type": "markdown",
   "metadata": {},
   "source": [
    "Overall, the best regularization method was using ridge regression, which isn't what I expected, as I thought lasso would be best for wide data. Maybe I need to use lasso to get rid of some features?"
   ]
  },
  {
   "cell_type": "markdown",
   "metadata": {},
   "source": [
    "### Same thing but with my own 60/40 split"
   ]
  },
  {
   "cell_type": "code",
   "execution_count": 236,
   "metadata": {},
   "outputs": [],
   "source": [
    "def score_y(model, make_binary=True):\n",
    "    \"\"\"\n",
    "    Print the scores for the y_predict.\n",
    "    \"\"\"\n",
    "    y_predict = model.fit(X_train, y_train).predict(X_test)\n",
    "    if make_binary:\n",
    "        y_predict = np.where(y_predict > 0.5, 1, 0)\n",
    "    f1 = sklearn.metrics.f1_score(y_test, y_predict)\n",
    "    r2 = model.score(X_test, y_test)\n",
    "    print(f\"f1-score: {f1} \\nR^2: {r2}\")"
   ]
  },
  {
   "cell_type": "code",
   "execution_count": 237,
   "metadata": {},
   "outputs": [],
   "source": [
    "regr_cv = linear_model.RidgeCV(alphas=np.arange(1, 100000, 100))"
   ]
  },
  {
   "cell_type": "code",
   "execution_count": 238,
   "metadata": {},
   "outputs": [],
   "source": [
    "model_cv = regr_cv.fit(X_train, y_train)"
   ]
  },
  {
   "cell_type": "code",
   "execution_count": 239,
   "metadata": {},
   "outputs": [
    {
     "data": {
      "text/plain": [
       "5301"
      ]
     },
     "execution_count": 239,
     "metadata": {},
     "output_type": "execute_result"
    }
   ],
   "source": [
    "model_cv.alpha_"
   ]
  },
  {
   "cell_type": "code",
   "execution_count": 240,
   "metadata": {},
   "outputs": [],
   "source": [
    "model = linear_model.Ridge(alpha=model_cv.alpha_)"
   ]
  },
  {
   "cell_type": "code",
   "execution_count": 241,
   "metadata": {},
   "outputs": [
    {
     "name": "stdout",
     "output_type": "stream",
     "text": [
      "f1-score: 0.8457711442786069 \n",
      "R^2: 0.40768362603070785\n"
     ]
    }
   ],
   "source": [
    "score_y(model)"
   ]
  },
  {
   "cell_type": "code",
   "execution_count": 242,
   "metadata": {},
   "outputs": [],
   "source": [
    "model_cv = linear_model.LassoCV().fit(X_train, y_train)"
   ]
  },
  {
   "cell_type": "code",
   "execution_count": 243,
   "metadata": {},
   "outputs": [],
   "source": [
    "lasso = linear_model.Lasso(alpha=model_cv.alpha_)"
   ]
  },
  {
   "cell_type": "code",
   "execution_count": 245,
   "metadata": {},
   "outputs": [
    {
     "name": "stdout",
     "output_type": "stream",
     "text": [
      "f1-score: 0.8039215686274509 \n",
      "R^2: 0.3178630899763384\n"
     ]
    }
   ],
   "source": [
    "score_y(lasso)"
   ]
  },
  {
   "cell_type": "code",
   "execution_count": 246,
   "metadata": {},
   "outputs": [],
   "source": [
    "encv = linear_model.ElasticNetCV().fit(X_train, y_train)"
   ]
  },
  {
   "cell_type": "code",
   "execution_count": 251,
   "metadata": {},
   "outputs": [],
   "source": [
    "net = linear_model.ElasticNet(alpha=encv.alpha_, l1_ratio=encv.l1_ratio_)"
   ]
  },
  {
   "cell_type": "code",
   "execution_count": 252,
   "metadata": {},
   "outputs": [
    {
     "name": "stdout",
     "output_type": "stream",
     "text": [
      "f1-score: 0.7920792079207922 \n",
      "R^2: 0.33049337037115467\n"
     ]
    }
   ],
   "source": [
    "score_y(net)"
   ]
  },
  {
   "cell_type": "code",
   "execution_count": 254,
   "metadata": {},
   "outputs": [],
   "source": [
    "lr = linear_model.LinearRegression().fit(X_train, y_train)"
   ]
  },
  {
   "cell_type": "code",
   "execution_count": 255,
   "metadata": {},
   "outputs": [
    {
     "name": "stdout",
     "output_type": "stream",
     "text": [
      "f1-score: 0.8282828282828283 \n",
      "R^2: 0.4131895403160385\n"
     ]
    }
   ],
   "source": [
    "score_y(lr)"
   ]
  },
  {
   "cell_type": "markdown",
   "metadata": {},
   "source": [
    "Not surprisingly, these scores are similar to my kaggle submission scores."
   ]
  },
  {
   "cell_type": "markdown",
   "metadata": {},
   "source": [
    "And the regularization methods don't really improve upon a basic linear regression model."
   ]
  },
  {
   "cell_type": "markdown",
   "metadata": {},
   "source": [
    "Let's try dropping some features using lasso, then running with ridge."
   ]
  },
  {
   "cell_type": "code",
   "execution_count": 253,
   "metadata": {},
   "outputs": [
    {
     "data": {
      "text/plain": [
       "17970"
      ]
     },
     "execution_count": 253,
     "metadata": {},
     "output_type": "execute_result"
    }
   ],
   "source": [
    "lasso.n_features_in_"
   ]
  },
  {
   "cell_type": "code",
   "execution_count": null,
   "metadata": {},
   "outputs": [],
   "source": []
  },
  {
   "cell_type": "markdown",
   "metadata": {},
   "source": [
    "### Now time to compare my best model accuracy with random guessing\n",
    "*(Hint: scramble labels aka Y-randomization)*"
   ]
  },
  {
   "cell_type": "code",
   "execution_count": null,
   "metadata": {},
   "outputs": [],
   "source": []
  },
  {
   "cell_type": "code",
   "execution_count": null,
   "metadata": {},
   "outputs": [],
   "source": []
  },
  {
   "cell_type": "code",
   "execution_count": null,
   "metadata": {},
   "outputs": [],
   "source": []
  },
  {
   "cell_type": "markdown",
   "metadata": {},
   "source": [
    "### What are the top important genes for my model decisions?"
   ]
  },
  {
   "cell_type": "code",
   "execution_count": null,
   "metadata": {},
   "outputs": [],
   "source": []
  },
  {
   "cell_type": "code",
   "execution_count": null,
   "metadata": {},
   "outputs": [],
   "source": []
  },
  {
   "cell_type": "code",
   "execution_count": null,
   "metadata": {},
   "outputs": [],
   "source": []
  },
  {
   "cell_type": "markdown",
   "metadata": {},
   "source": [
    "### Time to try to visualize the dataset and try to visually separate two groups of patients"
   ]
  },
  {
   "cell_type": "code",
   "execution_count": null,
   "metadata": {},
   "outputs": [],
   "source": []
  },
  {
   "cell_type": "code",
   "execution_count": null,
   "metadata": {},
   "outputs": [],
   "source": []
  },
  {
   "cell_type": "code",
   "execution_count": null,
   "metadata": {},
   "outputs": [],
   "source": []
  },
  {
   "cell_type": "markdown",
   "metadata": {},
   "source": [
    "### Bonus Q:\n",
    "You could use https://www.uniprot.org/Links to an external site, and search for Gene IDs. See if there is a meaningful connection between the top 10 most important genes and disease. Did your model recapitulate of the known association between Genes and Disease?"
   ]
  },
  {
   "cell_type": "code",
   "execution_count": null,
   "metadata": {},
   "outputs": [],
   "source": []
  },
  {
   "cell_type": "code",
   "execution_count": null,
   "metadata": {},
   "outputs": [],
   "source": []
  },
  {
   "cell_type": "code",
   "execution_count": null,
   "metadata": {},
   "outputs": [],
   "source": []
  }
 ],
 "metadata": {
  "kernelspec": {
   "display_name": "ml",
   "language": "python",
   "name": "ml"
  },
  "language_info": {
   "codemirror_mode": {
    "name": "ipython",
    "version": 3
   },
   "file_extension": ".py",
   "mimetype": "text/x-python",
   "name": "python",
   "nbconvert_exporter": "python",
   "pygments_lexer": "ipython3",
   "version": "3.8.13"
  }
 },
 "nbformat": 4,
 "nbformat_minor": 4
}
