{
 "cells": [
  {
   "cell_type": "markdown",
   "metadata": {},
   "source": [
    "## Lab3: Wide data and linear models\n",
    "\n",
    "### Darian Yang\n",
    "\n",
    "You are provided with a dataset for 554 patients, 80% (444 patients) of the dataset was selected to be the training set, and 20% (110 patients) as the test set. Features and labels of the training set can be found in train_X.csv, train_y.csv respectively. Features of the test set can be found in test_X.csv while labels are hidden.\n",
    "\n",
    "Your task is to predict the disease type (phenotype) from transcriptomics data. Disease: UCEC (uterine corpus endometrial carcinoma). Labels (1/0) are encoding tumor grade “II-” vs. “III+”\n",
    "\n",
    "### Specific tasks:\n",
    "* Please use binary classification (0/1) using linear models. \n",
    "* Measure the classification performance using accuracy and [F1-score](https://scikit-learn.org/stable/modules/generated/sklearn.metrics.f1_score.html) on the given validation set. Please report averaged values.\n",
    "* Develop a pipeline to try different [linear models](https://scikit-learn.org/stable/modules/linear_model.html) (linear regression, logistic regression, Ridge regression, LASSO, etc.)\n",
    "* Study the effect of regularization parameters on model performance. What model is the best?\n",
    "* Compare your best model accuracy with random guessing (Hint: scramble labels aka Y-randomization)\n",
    "* What are the top important genes for the model decision?\n",
    "* Try to visualize the dataset and see if you could visually separate two groups of patients\n",
    "\n",
    "### Bonus Qs:\n",
    "You could use https://www.uniprot.org/Links to an external site, and search for Gene IDs. See if there is a meaningful connection between the top 10 most important genes and disease. Did your model recapitulate of the known association between Genes and Disease?"
   ]
  },
  {
   "cell_type": "markdown",
   "metadata": {},
   "source": [
    "### Evaluation\n",
    "The evaluation metric for this competition is Mean F1-Score. The F1 score, commonly used in information retrieval, measures accuracy using the statistics precision and recall.\n",
    "\n",
    "The F1 metric weights recall and precision equally, and a good retrieval algorithm will maximize both precision and recall simultaneously. Thus, moderately good performance on both will be favored over extremely good performance on one and poor performance on the other.\n",
    "\n",
    "#### Submission Format\n",
    "Your submission should be your predictions on given features in test_X.csv\n",
    "Your submission should contain only two columns, the ID and the predicted label.\n",
    "Please include the header \"ID\" and \"xml_neoplasm_histologic_grade\" so that Kaggle can read your submission\n",
    "https://www.kaggle.com/competitions/38615hw3/overview/description\n",
    "\n",
    "```\n",
    "ID,xml_neoplasm_histologic_grade\n",
    "1,1\n",
    "```\n",
    "\n",
    "#### Important note:\n",
    "Kaggle randomly separated the test set to two parts: public test and private test, in this homework the test set was separately evenly with no intersection. The split is fixed but not visible. Once you have submitted your prediction, Kaggle will show the accuracy of your prediction on the public part of the test set immediately, while the accuracy on the private part of the test set will be hidden until the end of this homework. This means your final accuracy and rank is not necessarily the same as you can see during the competition"
   ]
  },
  {
   "cell_type": "markdown",
   "metadata": {},
   "source": [
    "### Dataset Description\n",
    "train_X.csv\n",
    "* Features of 444 patients in the training set, the first column are ID\n",
    "\n",
    "train_y.csv\n",
    "* Labels of 444 patients in the training set(all boolean values), the first column are ID\n",
    "\n",
    "test_X.csv\n",
    "* Features of 110 patients in the test set, the first column are ID"
   ]
  },
  {
   "cell_type": "markdown",
   "metadata": {},
   "source": [
    "### Let's start with some exploration of the data"
   ]
  },
  {
   "cell_type": "code",
   "execution_count": 2,
   "metadata": {},
   "outputs": [],
   "source": [
    "import numpy as np\n",
    "import matplotlib.pyplot as plt\n",
    "import pandas as pd"
   ]
  },
  {
   "cell_type": "code",
   "execution_count": 3,
   "metadata": {},
   "outputs": [],
   "source": [
    "train_x = pd.read_csv(\"train_X.csv\")\n",
    "#train_x = pd.read_csv(\"train_X.csv\", index_col=0)\n",
    "train_y = pd.read_csv(\"train_y.csv\")\n",
    "test_x = pd.read_csv(\"test_X.csv\")\n",
    "#test_x = pd.read_csv(\"test_X.csv\", index_col=0)"
   ]
  },
  {
   "cell_type": "code",
   "execution_count": 4,
   "metadata": {},
   "outputs": [
    {
     "data": {
      "text/html": [
       "<div>\n",
       "<style scoped>\n",
       "    .dataframe tbody tr th:only-of-type {\n",
       "        vertical-align: middle;\n",
       "    }\n",
       "\n",
       "    .dataframe tbody tr th {\n",
       "        vertical-align: top;\n",
       "    }\n",
       "\n",
       "    .dataframe thead th {\n",
       "        text-align: right;\n",
       "    }\n",
       "</style>\n",
       "<table border=\"1\" class=\"dataframe\">\n",
       "  <thead>\n",
       "    <tr style=\"text-align: right;\">\n",
       "      <th></th>\n",
       "      <th>Unnamed: 0</th>\n",
       "      <th>ENSG00000000003</th>\n",
       "      <th>ENSG00000000005</th>\n",
       "      <th>ENSG00000000419</th>\n",
       "      <th>ENSG00000000457</th>\n",
       "      <th>ENSG00000000938</th>\n",
       "      <th>ENSG00000000971</th>\n",
       "      <th>ENSG00000001036</th>\n",
       "      <th>ENSG00000001084</th>\n",
       "      <th>ENSG00000001167</th>\n",
       "      <th>...</th>\n",
       "      <th>ENSG00000282651</th>\n",
       "      <th>ENSG00000282815</th>\n",
       "      <th>ENSG00000282939</th>\n",
       "      <th>ENSG00000283063</th>\n",
       "      <th>ENSG00000283439</th>\n",
       "      <th>ENSG00000283463</th>\n",
       "      <th>ENSG00000283526</th>\n",
       "      <th>ENSG00000283586</th>\n",
       "      <th>ENSG00000283632</th>\n",
       "      <th>ENSG00000283697</th>\n",
       "    </tr>\n",
       "  </thead>\n",
       "  <tbody>\n",
       "    <tr>\n",
       "      <th>0</th>\n",
       "      <td>EB0D68BC-5FF9-44A5-A355-CA5441BFBA0A</td>\n",
       "      <td>7.062725</td>\n",
       "      <td>0.026623</td>\n",
       "      <td>6.720413</td>\n",
       "      <td>5.449267</td>\n",
       "      <td>3.868619</td>\n",
       "      <td>4.587771</td>\n",
       "      <td>7.165112</td>\n",
       "      <td>4.643161</td>\n",
       "      <td>6.771731</td>\n",
       "      <td>...</td>\n",
       "      <td>0.325987</td>\n",
       "      <td>-5.545564</td>\n",
       "      <td>-5.545564</td>\n",
       "      <td>-5.545564</td>\n",
       "      <td>-5.545564</td>\n",
       "      <td>4.014351</td>\n",
       "      <td>4.841392</td>\n",
       "      <td>-5.545564</td>\n",
       "      <td>5.855893</td>\n",
       "      <td>3.618253</td>\n",
       "    </tr>\n",
       "    <tr>\n",
       "      <th>1</th>\n",
       "      <td>0876B4BB-58BA-4C4C-84F4-E9D19EF96147</td>\n",
       "      <td>5.965392</td>\n",
       "      <td>-5.431256</td>\n",
       "      <td>6.358498</td>\n",
       "      <td>4.161479</td>\n",
       "      <td>4.585293</td>\n",
       "      <td>4.326924</td>\n",
       "      <td>6.849703</td>\n",
       "      <td>4.391534</td>\n",
       "      <td>5.819945</td>\n",
       "      <td>...</td>\n",
       "      <td>5.910874</td>\n",
       "      <td>-0.945029</td>\n",
       "      <td>3.750430</td>\n",
       "      <td>1.611211</td>\n",
       "      <td>-0.498573</td>\n",
       "      <td>3.430928</td>\n",
       "      <td>3.160435</td>\n",
       "      <td>-5.431256</td>\n",
       "      <td>4.413930</td>\n",
       "      <td>3.353496</td>\n",
       "    </tr>\n",
       "    <tr>\n",
       "      <th>2</th>\n",
       "      <td>EACD1021-7B52-4531-8806-B7555B73AC84</td>\n",
       "      <td>7.892221</td>\n",
       "      <td>-5.851870</td>\n",
       "      <td>8.132992</td>\n",
       "      <td>5.986320</td>\n",
       "      <td>5.422599</td>\n",
       "      <td>4.728815</td>\n",
       "      <td>8.168477</td>\n",
       "      <td>6.289562</td>\n",
       "      <td>7.331591</td>\n",
       "      <td>...</td>\n",
       "      <td>10.103565</td>\n",
       "      <td>-5.851870</td>\n",
       "      <td>6.498217</td>\n",
       "      <td>5.481945</td>\n",
       "      <td>-5.851870</td>\n",
       "      <td>5.137298</td>\n",
       "      <td>4.296777</td>\n",
       "      <td>-5.851870</td>\n",
       "      <td>5.345372</td>\n",
       "      <td>5.028567</td>\n",
       "    </tr>\n",
       "    <tr>\n",
       "      <th>3</th>\n",
       "      <td>368ACD26-C7FB-4974-BB7F-0AE22670CB0E</td>\n",
       "      <td>6.826546</td>\n",
       "      <td>0.964851</td>\n",
       "      <td>5.998280</td>\n",
       "      <td>4.991435</td>\n",
       "      <td>4.963000</td>\n",
       "      <td>4.977695</td>\n",
       "      <td>7.149421</td>\n",
       "      <td>4.570863</td>\n",
       "      <td>6.008286</td>\n",
       "      <td>...</td>\n",
       "      <td>2.442099</td>\n",
       "      <td>-5.994056</td>\n",
       "      <td>2.862038</td>\n",
       "      <td>1.909955</td>\n",
       "      <td>0.568120</td>\n",
       "      <td>4.768694</td>\n",
       "      <td>3.983207</td>\n",
       "      <td>-5.994056</td>\n",
       "      <td>4.609411</td>\n",
       "      <td>4.329472</td>\n",
       "    </tr>\n",
       "    <tr>\n",
       "      <th>4</th>\n",
       "      <td>F23B0A1A-25AE-41D9-8C49-B692C4FDE1E4</td>\n",
       "      <td>7.059095</td>\n",
       "      <td>2.429954</td>\n",
       "      <td>6.746639</td>\n",
       "      <td>5.591316</td>\n",
       "      <td>5.111120</td>\n",
       "      <td>5.972938</td>\n",
       "      <td>7.576201</td>\n",
       "      <td>6.032083</td>\n",
       "      <td>6.470761</td>\n",
       "      <td>...</td>\n",
       "      <td>5.553223</td>\n",
       "      <td>-5.870484</td>\n",
       "      <td>3.044916</td>\n",
       "      <td>-5.870484</td>\n",
       "      <td>0.018320</td>\n",
       "      <td>4.640575</td>\n",
       "      <td>4.954957</td>\n",
       "      <td>-5.870484</td>\n",
       "      <td>4.620774</td>\n",
       "      <td>4.464277</td>\n",
       "    </tr>\n",
       "    <tr>\n",
       "      <th>...</th>\n",
       "      <td>...</td>\n",
       "      <td>...</td>\n",
       "      <td>...</td>\n",
       "      <td>...</td>\n",
       "      <td>...</td>\n",
       "      <td>...</td>\n",
       "      <td>...</td>\n",
       "      <td>...</td>\n",
       "      <td>...</td>\n",
       "      <td>...</td>\n",
       "      <td>...</td>\n",
       "      <td>...</td>\n",
       "      <td>...</td>\n",
       "      <td>...</td>\n",
       "      <td>...</td>\n",
       "      <td>...</td>\n",
       "      <td>...</td>\n",
       "      <td>...</td>\n",
       "      <td>...</td>\n",
       "      <td>...</td>\n",
       "      <td>...</td>\n",
       "    </tr>\n",
       "    <tr>\n",
       "      <th>439</th>\n",
       "      <td>D4276C6F-9F0F-4F74-A85E-1E54272ADDED</td>\n",
       "      <td>7.009917</td>\n",
       "      <td>0.088022</td>\n",
       "      <td>6.814481</td>\n",
       "      <td>4.685804</td>\n",
       "      <td>3.039239</td>\n",
       "      <td>4.373218</td>\n",
       "      <td>6.826167</td>\n",
       "      <td>5.101784</td>\n",
       "      <td>6.327076</td>\n",
       "      <td>...</td>\n",
       "      <td>5.244168</td>\n",
       "      <td>-5.619018</td>\n",
       "      <td>3.953899</td>\n",
       "      <td>-5.619018</td>\n",
       "      <td>-0.021027</td>\n",
       "      <td>4.055201</td>\n",
       "      <td>3.052880</td>\n",
       "      <td>-5.619018</td>\n",
       "      <td>4.560183</td>\n",
       "      <td>3.889471</td>\n",
       "    </tr>\n",
       "    <tr>\n",
       "      <th>440</th>\n",
       "      <td>375C6EA2-4747-4959-9630-771FB8461BF1</td>\n",
       "      <td>4.772186</td>\n",
       "      <td>-5.062627</td>\n",
       "      <td>7.064273</td>\n",
       "      <td>5.505659</td>\n",
       "      <td>5.769194</td>\n",
       "      <td>4.307329</td>\n",
       "      <td>6.576986</td>\n",
       "      <td>4.018168</td>\n",
       "      <td>5.453594</td>\n",
       "      <td>...</td>\n",
       "      <td>6.641965</td>\n",
       "      <td>-0.284152</td>\n",
       "      <td>4.238647</td>\n",
       "      <td>5.431223</td>\n",
       "      <td>0.785492</td>\n",
       "      <td>3.489883</td>\n",
       "      <td>-5.062627</td>\n",
       "      <td>-5.062627</td>\n",
       "      <td>4.467892</td>\n",
       "      <td>3.335732</td>\n",
       "    </tr>\n",
       "    <tr>\n",
       "      <th>441</th>\n",
       "      <td>AE8BD116-5550-4A0F-BEBE-F092675A1F45</td>\n",
       "      <td>7.741897</td>\n",
       "      <td>1.467622</td>\n",
       "      <td>6.547112</td>\n",
       "      <td>4.994184</td>\n",
       "      <td>5.273657</td>\n",
       "      <td>6.069989</td>\n",
       "      <td>7.170169</td>\n",
       "      <td>5.740295</td>\n",
       "      <td>6.115446</td>\n",
       "      <td>...</td>\n",
       "      <td>5.963416</td>\n",
       "      <td>-5.380528</td>\n",
       "      <td>4.411300</td>\n",
       "      <td>2.265077</td>\n",
       "      <td>-5.380528</td>\n",
       "      <td>4.727461</td>\n",
       "      <td>4.502798</td>\n",
       "      <td>-5.380528</td>\n",
       "      <td>4.102909</td>\n",
       "      <td>4.326804</td>\n",
       "    </tr>\n",
       "    <tr>\n",
       "      <th>442</th>\n",
       "      <td>3762BBD4-190F-4DE4-91E6-0C483D066B82</td>\n",
       "      <td>5.774051</td>\n",
       "      <td>-6.793718</td>\n",
       "      <td>7.218590</td>\n",
       "      <td>5.477760</td>\n",
       "      <td>5.042350</td>\n",
       "      <td>3.700158</td>\n",
       "      <td>7.349451</td>\n",
       "      <td>4.573089</td>\n",
       "      <td>6.003810</td>\n",
       "      <td>...</td>\n",
       "      <td>6.036861</td>\n",
       "      <td>-6.793718</td>\n",
       "      <td>3.605128</td>\n",
       "      <td>2.503595</td>\n",
       "      <td>-6.793718</td>\n",
       "      <td>3.401223</td>\n",
       "      <td>4.962133</td>\n",
       "      <td>-6.793718</td>\n",
       "      <td>3.864213</td>\n",
       "      <td>3.200419</td>\n",
       "    </tr>\n",
       "    <tr>\n",
       "      <th>443</th>\n",
       "      <td>009C6A5C-3F63-4925-A92B-2AF54F1A4852</td>\n",
       "      <td>6.862574</td>\n",
       "      <td>-0.192592</td>\n",
       "      <td>7.746075</td>\n",
       "      <td>4.776227</td>\n",
       "      <td>4.211657</td>\n",
       "      <td>3.694909</td>\n",
       "      <td>6.736901</td>\n",
       "      <td>4.858272</td>\n",
       "      <td>6.382736</td>\n",
       "      <td>...</td>\n",
       "      <td>3.209471</td>\n",
       "      <td>-6.789980</td>\n",
       "      <td>4.076056</td>\n",
       "      <td>1.141664</td>\n",
       "      <td>-0.301641</td>\n",
       "      <td>4.473454</td>\n",
       "      <td>2.679028</td>\n",
       "      <td>-6.789980</td>\n",
       "      <td>4.076030</td>\n",
       "      <td>4.058346</td>\n",
       "    </tr>\n",
       "  </tbody>\n",
       "</table>\n",
       "<p>444 rows × 17971 columns</p>\n",
       "</div>"
      ],
      "text/plain": [
       "                               Unnamed: 0  ENSG00000000003  ENSG00000000005  \\\n",
       "0    EB0D68BC-5FF9-44A5-A355-CA5441BFBA0A         7.062725         0.026623   \n",
       "1    0876B4BB-58BA-4C4C-84F4-E9D19EF96147         5.965392        -5.431256   \n",
       "2    EACD1021-7B52-4531-8806-B7555B73AC84         7.892221        -5.851870   \n",
       "3    368ACD26-C7FB-4974-BB7F-0AE22670CB0E         6.826546         0.964851   \n",
       "4    F23B0A1A-25AE-41D9-8C49-B692C4FDE1E4         7.059095         2.429954   \n",
       "..                                    ...              ...              ...   \n",
       "439  D4276C6F-9F0F-4F74-A85E-1E54272ADDED         7.009917         0.088022   \n",
       "440  375C6EA2-4747-4959-9630-771FB8461BF1         4.772186        -5.062627   \n",
       "441  AE8BD116-5550-4A0F-BEBE-F092675A1F45         7.741897         1.467622   \n",
       "442  3762BBD4-190F-4DE4-91E6-0C483D066B82         5.774051        -6.793718   \n",
       "443  009C6A5C-3F63-4925-A92B-2AF54F1A4852         6.862574        -0.192592   \n",
       "\n",
       "     ENSG00000000419  ENSG00000000457  ENSG00000000938  ENSG00000000971  \\\n",
       "0           6.720413         5.449267         3.868619         4.587771   \n",
       "1           6.358498         4.161479         4.585293         4.326924   \n",
       "2           8.132992         5.986320         5.422599         4.728815   \n",
       "3           5.998280         4.991435         4.963000         4.977695   \n",
       "4           6.746639         5.591316         5.111120         5.972938   \n",
       "..               ...              ...              ...              ...   \n",
       "439         6.814481         4.685804         3.039239         4.373218   \n",
       "440         7.064273         5.505659         5.769194         4.307329   \n",
       "441         6.547112         4.994184         5.273657         6.069989   \n",
       "442         7.218590         5.477760         5.042350         3.700158   \n",
       "443         7.746075         4.776227         4.211657         3.694909   \n",
       "\n",
       "     ENSG00000001036  ENSG00000001084  ENSG00000001167  ...  ENSG00000282651  \\\n",
       "0           7.165112         4.643161         6.771731  ...         0.325987   \n",
       "1           6.849703         4.391534         5.819945  ...         5.910874   \n",
       "2           8.168477         6.289562         7.331591  ...        10.103565   \n",
       "3           7.149421         4.570863         6.008286  ...         2.442099   \n",
       "4           7.576201         6.032083         6.470761  ...         5.553223   \n",
       "..               ...              ...              ...  ...              ...   \n",
       "439         6.826167         5.101784         6.327076  ...         5.244168   \n",
       "440         6.576986         4.018168         5.453594  ...         6.641965   \n",
       "441         7.170169         5.740295         6.115446  ...         5.963416   \n",
       "442         7.349451         4.573089         6.003810  ...         6.036861   \n",
       "443         6.736901         4.858272         6.382736  ...         3.209471   \n",
       "\n",
       "     ENSG00000282815  ENSG00000282939  ENSG00000283063  ENSG00000283439  \\\n",
       "0          -5.545564        -5.545564        -5.545564        -5.545564   \n",
       "1          -0.945029         3.750430         1.611211        -0.498573   \n",
       "2          -5.851870         6.498217         5.481945        -5.851870   \n",
       "3          -5.994056         2.862038         1.909955         0.568120   \n",
       "4          -5.870484         3.044916        -5.870484         0.018320   \n",
       "..               ...              ...              ...              ...   \n",
       "439        -5.619018         3.953899        -5.619018        -0.021027   \n",
       "440        -0.284152         4.238647         5.431223         0.785492   \n",
       "441        -5.380528         4.411300         2.265077        -5.380528   \n",
       "442        -6.793718         3.605128         2.503595        -6.793718   \n",
       "443        -6.789980         4.076056         1.141664        -0.301641   \n",
       "\n",
       "     ENSG00000283463  ENSG00000283526  ENSG00000283586  ENSG00000283632  \\\n",
       "0           4.014351         4.841392        -5.545564         5.855893   \n",
       "1           3.430928         3.160435        -5.431256         4.413930   \n",
       "2           5.137298         4.296777        -5.851870         5.345372   \n",
       "3           4.768694         3.983207        -5.994056         4.609411   \n",
       "4           4.640575         4.954957        -5.870484         4.620774   \n",
       "..               ...              ...              ...              ...   \n",
       "439         4.055201         3.052880        -5.619018         4.560183   \n",
       "440         3.489883        -5.062627        -5.062627         4.467892   \n",
       "441         4.727461         4.502798        -5.380528         4.102909   \n",
       "442         3.401223         4.962133        -6.793718         3.864213   \n",
       "443         4.473454         2.679028        -6.789980         4.076030   \n",
       "\n",
       "     ENSG00000283697  \n",
       "0           3.618253  \n",
       "1           3.353496  \n",
       "2           5.028567  \n",
       "3           4.329472  \n",
       "4           4.464277  \n",
       "..               ...  \n",
       "439         3.889471  \n",
       "440         3.335732  \n",
       "441         4.326804  \n",
       "442         3.200419  \n",
       "443         4.058346  \n",
       "\n",
       "[444 rows x 17971 columns]"
      ]
     },
     "execution_count": 4,
     "metadata": {},
     "output_type": "execute_result"
    }
   ],
   "source": [
    "train_x"
   ]
  },
  {
   "cell_type": "code",
   "execution_count": 5,
   "metadata": {},
   "outputs": [
    {
     "data": {
      "text/html": [
       "<div>\n",
       "<style scoped>\n",
       "    .dataframe tbody tr th:only-of-type {\n",
       "        vertical-align: middle;\n",
       "    }\n",
       "\n",
       "    .dataframe tbody tr th {\n",
       "        vertical-align: top;\n",
       "    }\n",
       "\n",
       "    .dataframe thead th {\n",
       "        text-align: right;\n",
       "    }\n",
       "</style>\n",
       "<table border=\"1\" class=\"dataframe\">\n",
       "  <thead>\n",
       "    <tr style=\"text-align: right;\">\n",
       "      <th></th>\n",
       "      <th>Unnamed: 0</th>\n",
       "      <th>xml_neoplasm_histologic_grade</th>\n",
       "    </tr>\n",
       "  </thead>\n",
       "  <tbody>\n",
       "    <tr>\n",
       "      <th>0</th>\n",
       "      <td>EB0D68BC-5FF9-44A5-A355-CA5441BFBA0A</td>\n",
       "      <td>0</td>\n",
       "    </tr>\n",
       "    <tr>\n",
       "      <th>1</th>\n",
       "      <td>0876B4BB-58BA-4C4C-84F4-E9D19EF96147</td>\n",
       "      <td>1</td>\n",
       "    </tr>\n",
       "    <tr>\n",
       "      <th>2</th>\n",
       "      <td>EACD1021-7B52-4531-8806-B7555B73AC84</td>\n",
       "      <td>0</td>\n",
       "    </tr>\n",
       "    <tr>\n",
       "      <th>3</th>\n",
       "      <td>368ACD26-C7FB-4974-BB7F-0AE22670CB0E</td>\n",
       "      <td>0</td>\n",
       "    </tr>\n",
       "    <tr>\n",
       "      <th>4</th>\n",
       "      <td>F23B0A1A-25AE-41D9-8C49-B692C4FDE1E4</td>\n",
       "      <td>1</td>\n",
       "    </tr>\n",
       "    <tr>\n",
       "      <th>...</th>\n",
       "      <td>...</td>\n",
       "      <td>...</td>\n",
       "    </tr>\n",
       "    <tr>\n",
       "      <th>439</th>\n",
       "      <td>D4276C6F-9F0F-4F74-A85E-1E54272ADDED</td>\n",
       "      <td>1</td>\n",
       "    </tr>\n",
       "    <tr>\n",
       "      <th>440</th>\n",
       "      <td>375C6EA2-4747-4959-9630-771FB8461BF1</td>\n",
       "      <td>1</td>\n",
       "    </tr>\n",
       "    <tr>\n",
       "      <th>441</th>\n",
       "      <td>AE8BD116-5550-4A0F-BEBE-F092675A1F45</td>\n",
       "      <td>1</td>\n",
       "    </tr>\n",
       "    <tr>\n",
       "      <th>442</th>\n",
       "      <td>3762BBD4-190F-4DE4-91E6-0C483D066B82</td>\n",
       "      <td>0</td>\n",
       "    </tr>\n",
       "    <tr>\n",
       "      <th>443</th>\n",
       "      <td>009C6A5C-3F63-4925-A92B-2AF54F1A4852</td>\n",
       "      <td>1</td>\n",
       "    </tr>\n",
       "  </tbody>\n",
       "</table>\n",
       "<p>444 rows × 2 columns</p>\n",
       "</div>"
      ],
      "text/plain": [
       "                               Unnamed: 0  xml_neoplasm_histologic_grade\n",
       "0    EB0D68BC-5FF9-44A5-A355-CA5441BFBA0A                              0\n",
       "1    0876B4BB-58BA-4C4C-84F4-E9D19EF96147                              1\n",
       "2    EACD1021-7B52-4531-8806-B7555B73AC84                              0\n",
       "3    368ACD26-C7FB-4974-BB7F-0AE22670CB0E                              0\n",
       "4    F23B0A1A-25AE-41D9-8C49-B692C4FDE1E4                              1\n",
       "..                                    ...                            ...\n",
       "439  D4276C6F-9F0F-4F74-A85E-1E54272ADDED                              1\n",
       "440  375C6EA2-4747-4959-9630-771FB8461BF1                              1\n",
       "441  AE8BD116-5550-4A0F-BEBE-F092675A1F45                              1\n",
       "442  3762BBD4-190F-4DE4-91E6-0C483D066B82                              0\n",
       "443  009C6A5C-3F63-4925-A92B-2AF54F1A4852                              1\n",
       "\n",
       "[444 rows x 2 columns]"
      ]
     },
     "execution_count": 5,
     "metadata": {},
     "output_type": "execute_result"
    }
   ],
   "source": [
    "train_y"
   ]
  },
  {
   "cell_type": "code",
   "execution_count": 6,
   "metadata": {},
   "outputs": [
    {
     "data": {
      "text/html": [
       "<div>\n",
       "<style scoped>\n",
       "    .dataframe tbody tr th:only-of-type {\n",
       "        vertical-align: middle;\n",
       "    }\n",
       "\n",
       "    .dataframe tbody tr th {\n",
       "        vertical-align: top;\n",
       "    }\n",
       "\n",
       "    .dataframe thead th {\n",
       "        text-align: right;\n",
       "    }\n",
       "</style>\n",
       "<table border=\"1\" class=\"dataframe\">\n",
       "  <thead>\n",
       "    <tr style=\"text-align: right;\">\n",
       "      <th></th>\n",
       "      <th>Unnamed: 0</th>\n",
       "      <th>ENSG00000000003</th>\n",
       "      <th>ENSG00000000005</th>\n",
       "      <th>ENSG00000000419</th>\n",
       "      <th>ENSG00000000457</th>\n",
       "      <th>ENSG00000000938</th>\n",
       "      <th>ENSG00000000971</th>\n",
       "      <th>ENSG00000001036</th>\n",
       "      <th>ENSG00000001084</th>\n",
       "      <th>ENSG00000001167</th>\n",
       "      <th>...</th>\n",
       "      <th>ENSG00000282651</th>\n",
       "      <th>ENSG00000282815</th>\n",
       "      <th>ENSG00000282939</th>\n",
       "      <th>ENSG00000283063</th>\n",
       "      <th>ENSG00000283439</th>\n",
       "      <th>ENSG00000283463</th>\n",
       "      <th>ENSG00000283526</th>\n",
       "      <th>ENSG00000283586</th>\n",
       "      <th>ENSG00000283632</th>\n",
       "      <th>ENSG00000283697</th>\n",
       "    </tr>\n",
       "  </thead>\n",
       "  <tbody>\n",
       "    <tr>\n",
       "      <th>0</th>\n",
       "      <td>1576BB97-F8EA-48FF-9494-EBC7A0C97312</td>\n",
       "      <td>7.503849</td>\n",
       "      <td>1.685440</td>\n",
       "      <td>8.090089</td>\n",
       "      <td>5.546588</td>\n",
       "      <td>3.412025</td>\n",
       "      <td>5.871539</td>\n",
       "      <td>8.395029</td>\n",
       "      <td>5.894996</td>\n",
       "      <td>6.313896</td>\n",
       "      <td>...</td>\n",
       "      <td>3.626396</td>\n",
       "      <td>-2.640463</td>\n",
       "      <td>-7.278265</td>\n",
       "      <td>0.721287</td>\n",
       "      <td>-7.278265</td>\n",
       "      <td>4.672536</td>\n",
       "      <td>5.153675</td>\n",
       "      <td>-7.278265</td>\n",
       "      <td>4.843800</td>\n",
       "      <td>4.302864</td>\n",
       "    </tr>\n",
       "    <tr>\n",
       "      <th>1</th>\n",
       "      <td>63F4281A-4D90-4589-879E-549097FB3459</td>\n",
       "      <td>6.112919</td>\n",
       "      <td>-5.425877</td>\n",
       "      <td>5.604743</td>\n",
       "      <td>4.248246</td>\n",
       "      <td>3.374033</td>\n",
       "      <td>3.370075</td>\n",
       "      <td>6.804015</td>\n",
       "      <td>4.646287</td>\n",
       "      <td>6.236134</td>\n",
       "      <td>...</td>\n",
       "      <td>-5.425877</td>\n",
       "      <td>-2.143410</td>\n",
       "      <td>1.956699</td>\n",
       "      <td>1.377768</td>\n",
       "      <td>-5.425877</td>\n",
       "      <td>4.560829</td>\n",
       "      <td>3.735085</td>\n",
       "      <td>-5.425877</td>\n",
       "      <td>4.105789</td>\n",
       "      <td>4.803357</td>\n",
       "    </tr>\n",
       "    <tr>\n",
       "      <th>2</th>\n",
       "      <td>74CF740D-201D-4070-99B9-F007E7C4D472</td>\n",
       "      <td>6.183846</td>\n",
       "      <td>1.217355</td>\n",
       "      <td>6.093903</td>\n",
       "      <td>4.403216</td>\n",
       "      <td>5.722867</td>\n",
       "      <td>6.123209</td>\n",
       "      <td>7.680258</td>\n",
       "      <td>4.983386</td>\n",
       "      <td>5.626569</td>\n",
       "      <td>...</td>\n",
       "      <td>11.317818</td>\n",
       "      <td>-5.259782</td>\n",
       "      <td>5.093316</td>\n",
       "      <td>3.800607</td>\n",
       "      <td>-5.259782</td>\n",
       "      <td>4.966710</td>\n",
       "      <td>2.829487</td>\n",
       "      <td>-5.259782</td>\n",
       "      <td>5.118704</td>\n",
       "      <td>5.024979</td>\n",
       "    </tr>\n",
       "    <tr>\n",
       "      <th>3</th>\n",
       "      <td>1329E1C1-743E-4541-9081-165572D4BF47</td>\n",
       "      <td>6.325535</td>\n",
       "      <td>-0.197432</td>\n",
       "      <td>6.722632</td>\n",
       "      <td>4.509093</td>\n",
       "      <td>4.941256</td>\n",
       "      <td>3.700171</td>\n",
       "      <td>7.492606</td>\n",
       "      <td>5.031053</td>\n",
       "      <td>5.859242</td>\n",
       "      <td>...</td>\n",
       "      <td>3.536141</td>\n",
       "      <td>-1.362703</td>\n",
       "      <td>3.480703</td>\n",
       "      <td>0.776383</td>\n",
       "      <td>-0.999629</td>\n",
       "      <td>4.794226</td>\n",
       "      <td>-5.399485</td>\n",
       "      <td>-5.399485</td>\n",
       "      <td>4.660878</td>\n",
       "      <td>4.684343</td>\n",
       "    </tr>\n",
       "    <tr>\n",
       "      <th>4</th>\n",
       "      <td>88BBA1BF-44E0-416E-A028-04F410A3FE5D</td>\n",
       "      <td>7.162383</td>\n",
       "      <td>-5.539710</td>\n",
       "      <td>6.186110</td>\n",
       "      <td>5.270282</td>\n",
       "      <td>5.412103</td>\n",
       "      <td>3.781568</td>\n",
       "      <td>7.285779</td>\n",
       "      <td>4.847552</td>\n",
       "      <td>6.337205</td>\n",
       "      <td>...</td>\n",
       "      <td>5.112772</td>\n",
       "      <td>-5.539710</td>\n",
       "      <td>4.369268</td>\n",
       "      <td>2.927849</td>\n",
       "      <td>0.791397</td>\n",
       "      <td>4.542333</td>\n",
       "      <td>4.628775</td>\n",
       "      <td>-5.539710</td>\n",
       "      <td>4.812787</td>\n",
       "      <td>4.524834</td>\n",
       "    </tr>\n",
       "    <tr>\n",
       "      <th>...</th>\n",
       "      <td>...</td>\n",
       "      <td>...</td>\n",
       "      <td>...</td>\n",
       "      <td>...</td>\n",
       "      <td>...</td>\n",
       "      <td>...</td>\n",
       "      <td>...</td>\n",
       "      <td>...</td>\n",
       "      <td>...</td>\n",
       "      <td>...</td>\n",
       "      <td>...</td>\n",
       "      <td>...</td>\n",
       "      <td>...</td>\n",
       "      <td>...</td>\n",
       "      <td>...</td>\n",
       "      <td>...</td>\n",
       "      <td>...</td>\n",
       "      <td>...</td>\n",
       "      <td>...</td>\n",
       "      <td>...</td>\n",
       "      <td>...</td>\n",
       "    </tr>\n",
       "    <tr>\n",
       "      <th>105</th>\n",
       "      <td>638A0BBA-E2BE-449C-8BF5-EC07F765200C</td>\n",
       "      <td>6.949029</td>\n",
       "      <td>2.192625</td>\n",
       "      <td>7.613706</td>\n",
       "      <td>5.131517</td>\n",
       "      <td>4.292879</td>\n",
       "      <td>5.337764</td>\n",
       "      <td>7.668408</td>\n",
       "      <td>5.159289</td>\n",
       "      <td>5.645662</td>\n",
       "      <td>...</td>\n",
       "      <td>5.515318</td>\n",
       "      <td>-5.785898</td>\n",
       "      <td>4.229114</td>\n",
       "      <td>2.875184</td>\n",
       "      <td>-0.303496</td>\n",
       "      <td>3.322246</td>\n",
       "      <td>3.683199</td>\n",
       "      <td>-5.785898</td>\n",
       "      <td>4.730559</td>\n",
       "      <td>3.251810</td>\n",
       "    </tr>\n",
       "    <tr>\n",
       "      <th>106</th>\n",
       "      <td>FD3BD018-3B83-4689-BC70-CE6E98F83790</td>\n",
       "      <td>7.419322</td>\n",
       "      <td>0.472349</td>\n",
       "      <td>6.723539</td>\n",
       "      <td>5.176782</td>\n",
       "      <td>4.297442</td>\n",
       "      <td>4.591905</td>\n",
       "      <td>7.171547</td>\n",
       "      <td>6.693665</td>\n",
       "      <td>5.782247</td>\n",
       "      <td>...</td>\n",
       "      <td>2.737453</td>\n",
       "      <td>-1.781791</td>\n",
       "      <td>3.509502</td>\n",
       "      <td>0.021815</td>\n",
       "      <td>-6.758708</td>\n",
       "      <td>4.684549</td>\n",
       "      <td>4.795272</td>\n",
       "      <td>-6.758708</td>\n",
       "      <td>4.234056</td>\n",
       "      <td>4.614238</td>\n",
       "    </tr>\n",
       "    <tr>\n",
       "      <th>107</th>\n",
       "      <td>739BEBEA-F6CC-4827-81D4-28102A8B774B</td>\n",
       "      <td>7.135800</td>\n",
       "      <td>0.479097</td>\n",
       "      <td>7.051451</td>\n",
       "      <td>6.042828</td>\n",
       "      <td>4.523706</td>\n",
       "      <td>7.250545</td>\n",
       "      <td>7.577726</td>\n",
       "      <td>5.622388</td>\n",
       "      <td>6.447874</td>\n",
       "      <td>...</td>\n",
       "      <td>5.951147</td>\n",
       "      <td>-5.960456</td>\n",
       "      <td>4.025253</td>\n",
       "      <td>2.785925</td>\n",
       "      <td>-5.960456</td>\n",
       "      <td>4.236003</td>\n",
       "      <td>5.597498</td>\n",
       "      <td>-5.960456</td>\n",
       "      <td>5.279498</td>\n",
       "      <td>3.813894</td>\n",
       "    </tr>\n",
       "    <tr>\n",
       "      <th>108</th>\n",
       "      <td>5F86DB7A-1906-4E2F-BD50-0AEE3C80B17D</td>\n",
       "      <td>6.859635</td>\n",
       "      <td>2.159767</td>\n",
       "      <td>7.254992</td>\n",
       "      <td>4.900402</td>\n",
       "      <td>4.256251</td>\n",
       "      <td>6.503227</td>\n",
       "      <td>6.810730</td>\n",
       "      <td>6.036136</td>\n",
       "      <td>6.282137</td>\n",
       "      <td>...</td>\n",
       "      <td>4.462337</td>\n",
       "      <td>-5.553034</td>\n",
       "      <td>4.325258</td>\n",
       "      <td>2.593648</td>\n",
       "      <td>-5.553034</td>\n",
       "      <td>4.727639</td>\n",
       "      <td>2.380364</td>\n",
       "      <td>-5.553034</td>\n",
       "      <td>5.523681</td>\n",
       "      <td>4.088765</td>\n",
       "    </tr>\n",
       "    <tr>\n",
       "      <th>109</th>\n",
       "      <td>536FEED2-6251-41BC-AA61-EA46744EAB05</td>\n",
       "      <td>6.532266</td>\n",
       "      <td>0.991316</td>\n",
       "      <td>6.206966</td>\n",
       "      <td>4.272550</td>\n",
       "      <td>4.643635</td>\n",
       "      <td>3.523035</td>\n",
       "      <td>6.075602</td>\n",
       "      <td>3.796164</td>\n",
       "      <td>5.396661</td>\n",
       "      <td>...</td>\n",
       "      <td>4.710150</td>\n",
       "      <td>-5.527237</td>\n",
       "      <td>4.706596</td>\n",
       "      <td>-5.527237</td>\n",
       "      <td>1.083984</td>\n",
       "      <td>3.687288</td>\n",
       "      <td>2.846958</td>\n",
       "      <td>-5.527237</td>\n",
       "      <td>3.600439</td>\n",
       "      <td>3.306464</td>\n",
       "    </tr>\n",
       "  </tbody>\n",
       "</table>\n",
       "<p>110 rows × 17971 columns</p>\n",
       "</div>"
      ],
      "text/plain": [
       "                               Unnamed: 0  ENSG00000000003  ENSG00000000005  \\\n",
       "0    1576BB97-F8EA-48FF-9494-EBC7A0C97312         7.503849         1.685440   \n",
       "1    63F4281A-4D90-4589-879E-549097FB3459         6.112919        -5.425877   \n",
       "2    74CF740D-201D-4070-99B9-F007E7C4D472         6.183846         1.217355   \n",
       "3    1329E1C1-743E-4541-9081-165572D4BF47         6.325535        -0.197432   \n",
       "4    88BBA1BF-44E0-416E-A028-04F410A3FE5D         7.162383        -5.539710   \n",
       "..                                    ...              ...              ...   \n",
       "105  638A0BBA-E2BE-449C-8BF5-EC07F765200C         6.949029         2.192625   \n",
       "106  FD3BD018-3B83-4689-BC70-CE6E98F83790         7.419322         0.472349   \n",
       "107  739BEBEA-F6CC-4827-81D4-28102A8B774B         7.135800         0.479097   \n",
       "108  5F86DB7A-1906-4E2F-BD50-0AEE3C80B17D         6.859635         2.159767   \n",
       "109  536FEED2-6251-41BC-AA61-EA46744EAB05         6.532266         0.991316   \n",
       "\n",
       "     ENSG00000000419  ENSG00000000457  ENSG00000000938  ENSG00000000971  \\\n",
       "0           8.090089         5.546588         3.412025         5.871539   \n",
       "1           5.604743         4.248246         3.374033         3.370075   \n",
       "2           6.093903         4.403216         5.722867         6.123209   \n",
       "3           6.722632         4.509093         4.941256         3.700171   \n",
       "4           6.186110         5.270282         5.412103         3.781568   \n",
       "..               ...              ...              ...              ...   \n",
       "105         7.613706         5.131517         4.292879         5.337764   \n",
       "106         6.723539         5.176782         4.297442         4.591905   \n",
       "107         7.051451         6.042828         4.523706         7.250545   \n",
       "108         7.254992         4.900402         4.256251         6.503227   \n",
       "109         6.206966         4.272550         4.643635         3.523035   \n",
       "\n",
       "     ENSG00000001036  ENSG00000001084  ENSG00000001167  ...  ENSG00000282651  \\\n",
       "0           8.395029         5.894996         6.313896  ...         3.626396   \n",
       "1           6.804015         4.646287         6.236134  ...        -5.425877   \n",
       "2           7.680258         4.983386         5.626569  ...        11.317818   \n",
       "3           7.492606         5.031053         5.859242  ...         3.536141   \n",
       "4           7.285779         4.847552         6.337205  ...         5.112772   \n",
       "..               ...              ...              ...  ...              ...   \n",
       "105         7.668408         5.159289         5.645662  ...         5.515318   \n",
       "106         7.171547         6.693665         5.782247  ...         2.737453   \n",
       "107         7.577726         5.622388         6.447874  ...         5.951147   \n",
       "108         6.810730         6.036136         6.282137  ...         4.462337   \n",
       "109         6.075602         3.796164         5.396661  ...         4.710150   \n",
       "\n",
       "     ENSG00000282815  ENSG00000282939  ENSG00000283063  ENSG00000283439  \\\n",
       "0          -2.640463        -7.278265         0.721287        -7.278265   \n",
       "1          -2.143410         1.956699         1.377768        -5.425877   \n",
       "2          -5.259782         5.093316         3.800607        -5.259782   \n",
       "3          -1.362703         3.480703         0.776383        -0.999629   \n",
       "4          -5.539710         4.369268         2.927849         0.791397   \n",
       "..               ...              ...              ...              ...   \n",
       "105        -5.785898         4.229114         2.875184        -0.303496   \n",
       "106        -1.781791         3.509502         0.021815        -6.758708   \n",
       "107        -5.960456         4.025253         2.785925        -5.960456   \n",
       "108        -5.553034         4.325258         2.593648        -5.553034   \n",
       "109        -5.527237         4.706596        -5.527237         1.083984   \n",
       "\n",
       "     ENSG00000283463  ENSG00000283526  ENSG00000283586  ENSG00000283632  \\\n",
       "0           4.672536         5.153675        -7.278265         4.843800   \n",
       "1           4.560829         3.735085        -5.425877         4.105789   \n",
       "2           4.966710         2.829487        -5.259782         5.118704   \n",
       "3           4.794226        -5.399485        -5.399485         4.660878   \n",
       "4           4.542333         4.628775        -5.539710         4.812787   \n",
       "..               ...              ...              ...              ...   \n",
       "105         3.322246         3.683199        -5.785898         4.730559   \n",
       "106         4.684549         4.795272        -6.758708         4.234056   \n",
       "107         4.236003         5.597498        -5.960456         5.279498   \n",
       "108         4.727639         2.380364        -5.553034         5.523681   \n",
       "109         3.687288         2.846958        -5.527237         3.600439   \n",
       "\n",
       "     ENSG00000283697  \n",
       "0           4.302864  \n",
       "1           4.803357  \n",
       "2           5.024979  \n",
       "3           4.684343  \n",
       "4           4.524834  \n",
       "..               ...  \n",
       "105         3.251810  \n",
       "106         4.614238  \n",
       "107         3.813894  \n",
       "108         4.088765  \n",
       "109         3.306464  \n",
       "\n",
       "[110 rows x 17971 columns]"
      ]
     },
     "execution_count": 6,
     "metadata": {},
     "output_type": "execute_result"
    }
   ],
   "source": [
    "test_x"
   ]
  },
  {
   "cell_type": "markdown",
   "metadata": {},
   "source": [
    "So the goal is basically to make test_y.csv and submit that to Kaggle."
   ]
  },
  {
   "cell_type": "markdown",
   "metadata": {},
   "source": [
    "Let's see what some of the training features look like."
   ]
  },
  {
   "cell_type": "code",
   "execution_count": 7,
   "metadata": {},
   "outputs": [
    {
     "data": {
      "text/plain": [
       "[<matplotlib.lines.Line2D at 0x7f8be9dad520>]"
      ]
     },
     "execution_count": 7,
     "metadata": {},
     "output_type": "execute_result"
    },
    {
     "data": {
      "image/png": "[encoded data removed]",
      "text/plain": [
       "<Figure size 640x480 with 1 Axes>"
      ]
     },
     "metadata": {},
     "output_type": "display_data"
    }
   ],
   "source": [
    "plt.plot(train_x.iloc[:,1])"
   ]
  },
  {
   "cell_type": "code",
   "execution_count": 8,
   "metadata": {},
   "outputs": [
    {
     "data": {
      "text/plain": [
       "[<matplotlib.lines.Line2D at 0x7f8c29d16e50>]"
      ]
     },
     "execution_count": 8,
     "metadata": {},
     "output_type": "execute_result"
    },
    {
     "data": {
      "image/png": "[encoded data removed]",
      "text/plain": [
       "<Figure size 640x480 with 1 Axes>"
      ]
     },
     "metadata": {},
     "output_type": "display_data"
    }
   ],
   "source": [
    "plt.plot(train_x.iloc[:,2])"
   ]
  },
  {
   "cell_type": "markdown",
   "metadata": {},
   "source": [
    "All of the transcriptomics data is from the same NGS source, so standardization probably isn't needed."
   ]
  },
  {
   "cell_type": "code",
   "execution_count": 9,
   "metadata": {},
   "outputs": [
    {
     "name": "stdout",
     "output_type": "stream",
     "text": [
      "<class 'pandas.core.frame.DataFrame'>\n",
      "RangeIndex: 444 entries, 0 to 443\n",
      "Columns: 17971 entries, Unnamed: 0 to ENSG00000283697\n",
      "dtypes: float64(17970), object(1)\n",
      "memory usage: 60.9+ MB\n"
     ]
    }
   ],
   "source": [
    "train_x.info()"
   ]
  },
  {
   "cell_type": "markdown",
   "metadata": {},
   "source": [
    "### Okay, time to try some linear models for classification"
   ]
  },
  {
   "cell_type": "markdown",
   "metadata": {},
   "source": [
    "#### Starting with linear regression"
   ]
  },
  {
   "cell_type": "code",
   "execution_count": 10,
   "metadata": {},
   "outputs": [],
   "source": [
    "from sklearn import linear_model"
   ]
  },
  {
   "cell_type": "code",
   "execution_count": 11,
   "metadata": {},
   "outputs": [
    {
     "data": {
      "text/html": [
       "<style>#sk-container-id-1 {color: black;background-color: white;}#sk-container-id-1 pre{padding: 0;}#sk-container-id-1 div.sk-toggleable {background-color: white;}#sk-container-id-1 label.sk-toggleable__label {cursor: pointer;display: block;width: 100%;margin-bottom: 0;padding: 0.3em;box-sizing: border-box;text-align: center;}#sk-container-id-1 label.sk-toggleable__label-arrow:before {content: \"▸\";float: left;margin-right: 0.25em;color: #696969;}#sk-container-id-1 label.sk-toggleable__label-arrow:hover:before {color: black;}#sk-container-id-1 div.sk-estimator:hover label.sk-toggleable__label-arrow:before {color: black;}#sk-container-id-1 div.sk-toggleable__content {max-height: 0;max-width: 0;overflow: hidden;text-align: left;background-color: #f0f8ff;}#sk-container-id-1 div.sk-toggleable__content pre {margin: 0.2em;color: black;border-radius: 0.25em;background-color: #f0f8ff;}#sk-container-id-1 input.sk-toggleable__control:checked~div.sk-toggleable__content {max-height: 200px;max-width: 100%;overflow: auto;}#sk-container-id-1 input.sk-toggleable__control:checked~label.sk-toggleable__label-arrow:before {content: \"▾\";}#sk-container-id-1 div.sk-estimator input.sk-toggleable__control:checked~label.sk-toggleable__label {background-color: #d4ebff;}#sk-container-id-1 div.sk-label input.sk-toggleable__control:checked~label.sk-toggleable__label {background-color: #d4ebff;}#sk-container-id-1 input.sk-hidden--visually {border: 0;clip: rect(1px 1px 1px 1px);clip: rect(1px, 1px, 1px, 1px);height: 1px;margin: -1px;overflow: hidden;padding: 0;position: absolute;width: 1px;}#sk-container-id-1 div.sk-estimator {font-family: monospace;background-color: #f0f8ff;border: 1px dotted black;border-radius: 0.25em;box-sizing: border-box;margin-bottom: 0.5em;}#sk-container-id-1 div.sk-estimator:hover {background-color: #d4ebff;}#sk-container-id-1 div.sk-parallel-item::after {content: \"\";width: 100%;border-bottom: 1px solid gray;flex-grow: 1;}#sk-container-id-1 div.sk-label:hover label.sk-toggleable__label {background-color: #d4ebff;}#sk-container-id-1 div.sk-serial::before {content: \"\";position: absolute;border-left: 1px solid gray;box-sizing: border-box;top: 0;bottom: 0;left: 50%;z-index: 0;}#sk-container-id-1 div.sk-serial {display: flex;flex-direction: column;align-items: center;background-color: white;padding-right: 0.2em;padding-left: 0.2em;position: relative;}#sk-container-id-1 div.sk-item {position: relative;z-index: 1;}#sk-container-id-1 div.sk-parallel {display: flex;align-items: stretch;justify-content: center;background-color: white;position: relative;}#sk-container-id-1 div.sk-item::before, #sk-container-id-1 div.sk-parallel-item::before {content: \"\";position: absolute;border-left: 1px solid gray;box-sizing: border-box;top: 0;bottom: 0;left: 50%;z-index: -1;}#sk-container-id-1 div.sk-parallel-item {display: flex;flex-direction: column;z-index: 1;position: relative;background-color: white;}#sk-container-id-1 div.sk-parallel-item:first-child::after {align-self: flex-end;width: 50%;}#sk-container-id-1 div.sk-parallel-item:last-child::after {align-self: flex-start;width: 50%;}#sk-container-id-1 div.sk-parallel-item:only-child::after {width: 0;}#sk-container-id-1 div.sk-dashed-wrapped {border: 1px dashed gray;margin: 0 0.4em 0.5em 0.4em;box-sizing: border-box;padding-bottom: 0.4em;background-color: white;}#sk-container-id-1 div.sk-label label {font-family: monospace;font-weight: bold;display: inline-block;line-height: 1.2em;}#sk-container-id-1 div.sk-label-container {text-align: center;}#sk-container-id-1 div.sk-container {/* jupyter's `normalize.less` sets `[hidden] { display: none; }` but bootstrap.min.css set `[hidden] { display: none !important; }` so we also need the `!important` here to be able to override the default hidden behavior on the sphinx rendered scikit-learn.org. See: https://github.com/scikit-learn/scikit-learn/issues/21755 */display: inline-block !important;position: relative;}#sk-container-id-1 div.sk-text-repr-fallback {display: none;}</style><div id=\"sk-container-id-1\" class=\"sk-top-container\"><div class=\"sk-text-repr-fallback\"><pre>LinearRegression()</pre><b>In a Jupyter environment, please rerun this cell to show the HTML representation or trust the notebook. <br />On GitHub, the HTML representation is unable to render, please try loading this page with nbviewer.org.</b></div><div class=\"sk-container\" hidden><div class=\"sk-item\"><div class=\"sk-estimator sk-toggleable\"><input class=\"sk-toggleable__control sk-hidden--visually\" id=\"sk-estimator-id-1\" type=\"checkbox\" checked><label for=\"sk-estimator-id-1\" class=\"sk-toggleable__label sk-toggleable__label-arrow\">LinearRegression</label><div class=\"sk-toggleable__content\"><pre>LinearRegression()</pre></div></div></div></div></div>"
      ],
      "text/plain": [
       "LinearRegression()"
      ]
     },
     "execution_count": 11,
     "metadata": {},
     "output_type": "execute_result"
    }
   ],
   "source": [
    "reg = linear_model.LinearRegression()\n",
    "reg.fit(train_x.iloc[:,1:], train_y.iloc[:,1])"
   ]
  },
  {
   "cell_type": "code",
   "execution_count": 12,
   "metadata": {},
   "outputs": [
    {
     "data": {
      "text/plain": [
       "array([-2.91339742e-05,  1.49555656e-03,  1.12298469e-04, ...,\n",
       "        5.42325905e-04, -2.19036538e-04, -5.03860355e-05])"
      ]
     },
     "execution_count": 12,
     "metadata": {},
     "output_type": "execute_result"
    }
   ],
   "source": [
    "reg.coef_"
   ]
  },
  {
   "cell_type": "code",
   "execution_count": 13,
   "metadata": {},
   "outputs": [
    {
     "data": {
      "text/plain": [
       "9.248892877900227e-06"
      ]
     },
     "execution_count": 13,
     "metadata": {},
     "output_type": "execute_result"
    }
   ],
   "source": [
    "np.max(reg.coef_**2)"
   ]
  },
  {
   "cell_type": "code",
   "execution_count": 14,
   "metadata": {},
   "outputs": [],
   "source": [
    "reg_predict = reg.predict(test_x.iloc[:,1:])"
   ]
  },
  {
   "cell_type": "code",
   "execution_count": 15,
   "metadata": {},
   "outputs": [
    {
     "data": {
      "text/plain": [
       "array([ 1.05551343,  0.11573448,  0.32181914,  0.90011085,  0.17996382,\n",
       "        0.74807767,  0.633118  ,  0.34058606,  0.75074986,  0.46082262,\n",
       "        0.74359996,  0.62868387,  0.67903229,  0.25939082, -0.04400622,\n",
       "        0.77924939,  0.97468322,  0.22343299,  1.01998603,  0.9708078 ,\n",
       "        0.77228095,  0.82709099,  0.1712592 ,  0.97999256,  1.00013225,\n",
       "        0.98549898,  1.17962945,  1.32893655,  0.79931756,  0.82331003,\n",
       "        0.70526756,  0.13362645, -0.07811545,  0.66025684,  0.02456012,\n",
       "        0.30649851,  0.70235806,  0.79850345,  0.75048138,  1.05784016,\n",
       "        0.76812558,  0.94753179,  0.24364552, -0.01757606,  0.0667769 ,\n",
       "        0.81585716,  0.87712519,  0.55397966,  0.07756226,  0.99970094,\n",
       "        0.88789411,  0.89180944,  0.19724305,  1.04401036,  0.13107001,\n",
       "        0.53251391,  0.526479  ,  0.03507577,  0.80915292,  0.86097492,\n",
       "        1.06754374,  0.93523946,  0.35994238,  0.44416459,  0.72727523,\n",
       "        0.20909629,  1.09509527,  1.03959515,  0.48270669,  0.82011308,\n",
       "        0.1679832 ,  0.19716714,  0.21186926,  0.54064257,  0.5201969 ,\n",
       "        0.10380133,  0.58323567,  1.26833896,  0.3132215 ,  0.28672788,\n",
       "       -0.03029786,  1.07869549,  0.56062031,  0.69611786,  0.80639328,\n",
       "        0.35047927,  0.9490022 ,  1.0180087 ,  0.64831911, -0.11571772,\n",
       "        0.84310604,  0.40418101,  0.14334312,  1.23574732,  0.32257701,\n",
       "        0.60810872,  0.66527611,  0.35660896,  0.1144703 ,  0.93218733,\n",
       "        0.36161787,  0.88392603,  0.51751174,  0.19472516,  0.5930588 ,\n",
       "        0.69685701,  0.10023835,  0.07603805,  0.72290497,  0.63999312])"
      ]
     },
     "execution_count": 15,
     "metadata": {},
     "output_type": "execute_result"
    }
   ],
   "source": [
    "reg_predict"
   ]
  },
  {
   "cell_type": "code",
   "execution_count": 16,
   "metadata": {},
   "outputs": [
    {
     "data": {
      "text/plain": [
       "array([1, 0, 0, 1, 0, 1, 1, 0, 1, 0, 1, 1, 1, 0, 0, 1, 1, 0, 1, 1, 1, 1,\n",
       "       0, 1, 1, 1, 1, 1, 1, 1, 1, 0, 0, 1, 0, 0, 1, 1, 1, 1, 1, 1, 0, 0,\n",
       "       0, 1, 1, 1, 0, 1, 1, 1, 0, 1, 0, 1, 1, 0, 1, 1, 1, 1, 0, 0, 1, 0,\n",
       "       1, 1, 0, 1, 0, 0, 0, 1, 1, 0, 1, 1, 0, 0, 0, 1, 1, 1, 1, 0, 1, 1,\n",
       "       1, 0, 1, 0, 0, 1, 0, 1, 1, 0, 0, 1, 0, 1, 1, 0, 1, 1, 0, 0, 1, 1])"
      ]
     },
     "execution_count": 16,
     "metadata": {},
     "output_type": "execute_result"
    }
   ],
   "source": [
    "# transform to binary classifiers\n",
    "reg_predict_binary = np.where(reg_predict > 0.5, 1, 0)\n",
    "reg_predict_binary"
   ]
  },
  {
   "cell_type": "code",
   "execution_count": 17,
   "metadata": {},
   "outputs": [
    {
     "data": {
      "text/plain": [
       "(110,)"
      ]
     },
     "execution_count": 17,
     "metadata": {},
     "output_type": "execute_result"
    }
   ],
   "source": [
    "reg_predict_binary.shape"
   ]
  },
  {
   "cell_type": "code",
   "execution_count": 18,
   "metadata": {},
   "outputs": [],
   "source": [
    "#from sklearn import metrics\n",
    "# y_true, y_pred\n",
    "#metrics.f1_score(test_y[])"
   ]
  },
  {
   "cell_type": "markdown",
   "metadata": {},
   "source": [
    "I forgot, I don't have the test_y dataset so I can't calculate the f1-score myself (or can I?)."
   ]
  },
  {
   "cell_type": "markdown",
   "metadata": {},
   "source": [
    "I don't think that a linear regression based model will work very well since some of the data is centered around a single value. Let's submit and see."
   ]
  },
  {
   "cell_type": "code",
   "execution_count": 19,
   "metadata": {},
   "outputs": [
    {
     "data": {
      "text/plain": [
       "(110,)"
      ]
     },
     "execution_count": 19,
     "metadata": {},
     "output_type": "execute_result"
    }
   ],
   "source": [
    "test_x.iloc[:,0].values.shape"
   ]
  },
  {
   "cell_type": "code",
   "execution_count": 20,
   "metadata": {},
   "outputs": [],
   "source": [
    "def kaggle_csv(data, filename=\"model_y.csv\"):\n",
    "    \"\"\"Create the correctly formatted submission csv for kaggle.\"\"\"\n",
    "    data = np.column_stack((test_x.iloc[:,0].values, data))\n",
    "    np.savetxt(filename, data, fmt=(\"%s\",\"%d\"), \n",
    "               header=\"ID,xml_neoplasm_histologic_grade\", \n",
    "               delimiter=\",\", comments=\"\")"
   ]
  },
  {
   "cell_type": "code",
   "execution_count": 22,
   "metadata": {},
   "outputs": [],
   "source": [
    "#kaggle_csv(model_y)"
   ]
  },
  {
   "cell_type": "markdown",
   "metadata": {},
   "source": [
    "On kaggle, I got an f1-score of 0.86153 for this submission."
   ]
  },
  {
   "cell_type": "markdown",
   "metadata": {},
   "source": [
    "That was with a manual submission, let's see how the api command works."
   ]
  },
  {
   "cell_type": "code",
   "execution_count": 23,
   "metadata": {},
   "outputs": [],
   "source": [
    "#! kaggle competitions submit -c 38615hw3 -f \"model_y.csv\" -m \"Testing of the kaggle api\""
   ]
  },
  {
   "cell_type": "markdown",
   "metadata": {},
   "source": [
    "#### Next, logistic regression"
   ]
  },
  {
   "cell_type": "markdown",
   "metadata": {},
   "source": [
    "This should work better since the output is binary."
   ]
  },
  {
   "cell_type": "code",
   "execution_count": 24,
   "metadata": {},
   "outputs": [
    {
     "name": "stderr",
     "output_type": "stream",
     "text": [
      "/Users/darian/anaconda3/envs/ml/lib/python3.8/site-packages/sklearn/linear_model/_logistic.py:444: ConvergenceWarning: lbfgs failed to converge (status=1):\n",
      "STOP: TOTAL NO. of ITERATIONS REACHED LIMIT.\n",
      "\n",
      "Increase the number of iterations (max_iter) or scale the data as shown in:\n",
      "    https://scikit-learn.org/stable/modules/preprocessing.html\n",
      "Please also refer to the documentation for alternative solver options:\n",
      "    https://scikit-learn.org/stable/modules/linear_model.html#logistic-regression\n",
      "  n_iter_i = _check_optimize_result(\n"
     ]
    }
   ],
   "source": [
    "logr = linear_model.LogisticRegression().fit(train_x.iloc[:,1:], train_y.iloc[:,1])"
   ]
  },
  {
   "cell_type": "code",
   "execution_count": 25,
   "metadata": {},
   "outputs": [],
   "source": [
    "logr_predict = logr.predict(test_x.iloc[:,1:])"
   ]
  },
  {
   "cell_type": "code",
   "execution_count": 26,
   "metadata": {},
   "outputs": [],
   "source": [
    "kaggle_csv(logr_predict)"
   ]
  },
  {
   "cell_type": "markdown",
   "metadata": {},
   "source": [
    "This submission scored 0.87499, a small improvement."
   ]
  },
  {
   "cell_type": "markdown",
   "metadata": {},
   "source": [
    "Seems like logr defaults to l2 regularization, let's try elastic net (l1 and l2)."
   ]
  },
  {
   "cell_type": "code",
   "execution_count": 27,
   "metadata": {},
   "outputs": [
    {
     "name": "stderr",
     "output_type": "stream",
     "text": [
      "/Users/darian/anaconda3/envs/ml/lib/python3.8/site-packages/sklearn/linear_model/_sag.py:350: ConvergenceWarning: The max_iter was reached which means the coef_ did not converge\n",
      "  warnings.warn(\n"
     ]
    }
   ],
   "source": [
    "logr_em = linear_model.LogisticRegression(penalty=\"elasticnet\", solver=\"saga\", l1_ratio=0.5).fit(train_x.iloc[:,1:], train_y.iloc[:,1])"
   ]
  },
  {
   "cell_type": "code",
   "execution_count": 28,
   "metadata": {},
   "outputs": [],
   "source": [
    "logr_em_predict = logr_em.predict(test_x.iloc[:,1:])"
   ]
  },
  {
   "cell_type": "code",
   "execution_count": 29,
   "metadata": {},
   "outputs": [],
   "source": [
    "kaggle_csv(logr_em_predict)"
   ]
  },
  {
   "cell_type": "markdown",
   "metadata": {},
   "source": [
    "This submission also scored 0.87499, so no change from before."
   ]
  },
  {
   "cell_type": "markdown",
   "metadata": {},
   "source": [
    "What about l1?"
   ]
  },
  {
   "cell_type": "code",
   "execution_count": 30,
   "metadata": {},
   "outputs": [],
   "source": [
    "logr = linear_model.LogisticRegression(penalty=\"l1\", solver=\"liblinear\").fit(train_x.iloc[:,1:], train_y.iloc[:,1])\n",
    "logr_predict = logr.predict(test_x.iloc[:,1:])"
   ]
  },
  {
   "cell_type": "code",
   "execution_count": 31,
   "metadata": {},
   "outputs": [],
   "source": [
    "kaggle_csv(logr_predict)"
   ]
  },
  {
   "cell_type": "markdown",
   "metadata": {},
   "source": [
    "This was worse, with a score of 0.81967."
   ]
  },
  {
   "cell_type": "markdown",
   "metadata": {},
   "source": [
    "### My own f1 scoring"
   ]
  },
  {
   "cell_type": "markdown",
   "metadata": {},
   "source": [
    "I don't want to keep submitting to see the f1 score, so I will implement my own scoring and split the training data 60/40. I will also scale the data using a standard scaler."
   ]
  },
  {
   "cell_type": "code",
   "execution_count": 32,
   "metadata": {},
   "outputs": [],
   "source": [
    "import sklearn"
   ]
  },
  {
   "cell_type": "code",
   "execution_count": 33,
   "metadata": {},
   "outputs": [],
   "source": [
    "from sklearn.preprocessing import StandardScaler\n",
    "scaler = StandardScaler()\n",
    "scaler.fit(train_x.iloc[:,1:])\n",
    "train_x_scaled = scaler.transform(train_x.iloc[:,1:])\n",
    "scaler.fit(test_x.iloc[:,1:])\n",
    "test_x_scaled = scaler.transform(test_x.iloc[:,1:])"
   ]
  },
  {
   "cell_type": "code",
   "execution_count": 34,
   "metadata": {},
   "outputs": [],
   "source": [
    "X_train, X_test, y_train, y_test = \\\n",
    "sklearn.model_selection.train_test_split(train_x_scaled, train_y.iloc[:,1:].values, test_size=0.4)"
   ]
  },
  {
   "cell_type": "code",
   "execution_count": 35,
   "metadata": {},
   "outputs": [
    {
     "data": {
      "text/plain": [
       "array([[ 0.61124539,  0.56082956,  0.02125785, ..., -0.30178328,\n",
       "         1.6204449 ,  0.65776522],\n",
       "       [ 0.36233291,  0.44365598, -0.39315817, ..., -0.14029567,\n",
       "        -0.61194942, -0.02982182],\n",
       "       [ 1.95073483,  2.6413869 ,  1.64275036, ..., -0.65350121,\n",
       "         0.15186452,  0.9409428 ],\n",
       "       ...,\n",
       "       [-0.41947914,  0.81959649,  1.09422746, ...,  3.00598275,\n",
       "         0.55297323, -0.1667764 ],\n",
       "       [ 0.43701697, -1.29406286, -0.22284351, ..., -0.10622245,\n",
       "        -0.03524327,  0.91728897],\n",
       "       [ 0.66606994,  0.63244878, -0.86554968, ...,  0.14470732,\n",
       "         0.30895751,  0.5393272 ]])"
      ]
     },
     "execution_count": 35,
     "metadata": {},
     "output_type": "execute_result"
    }
   ],
   "source": [
    "X_train"
   ]
  },
  {
   "cell_type": "code",
   "execution_count": 36,
   "metadata": {},
   "outputs": [
    {
     "data": {
      "text/plain": [
       "array([[-1.50864408, -1.25817924,  1.18737641, ..., -0.04014062,\n",
       "         0.29945211,  0.08792848],\n",
       "       [-1.10389726, -1.55475383, -0.42223208, ..., -0.58630043,\n",
       "        -0.29745325, -0.04578935],\n",
       "       [ 0.83798132, -1.21535711, -0.43686669, ...,  0.03871889,\n",
       "        -0.25437908,  0.82798777],\n",
       "       ...,\n",
       "       [ 0.78024388,  0.68934521, -0.03104754, ..., -0.27983215,\n",
       "        -1.16718264,  1.6292466 ],\n",
       "       [ 0.08434233, -1.45628322, -0.77090135, ..., -0.40496094,\n",
       "         1.00252153,  1.88046512],\n",
       "       [-0.49303877,  0.63653286, -0.71792543, ...,  0.09876052,\n",
       "         0.80330799, -0.48095024]])"
      ]
     },
     "execution_count": 36,
     "metadata": {},
     "output_type": "execute_result"
    }
   ],
   "source": [
    "X_test"
   ]
  },
  {
   "cell_type": "markdown",
   "metadata": {},
   "source": [
    "Test using logr"
   ]
  },
  {
   "cell_type": "code",
   "execution_count": 37,
   "metadata": {},
   "outputs": [],
   "source": [
    "y_test = y_test.reshape(-1)\n",
    "y_train = y_train.reshape(-1)"
   ]
  },
  {
   "cell_type": "code",
   "execution_count": 38,
   "metadata": {},
   "outputs": [
    {
     "data": {
      "text/plain": [
       "array([0, 0, 1, 0, 0, 1, 0, 0, 0, 1, 0, 1, 0, 0, 1, 0, 1, 1, 0, 0, 0, 0,\n",
       "       1, 1, 0, 0, 0, 1, 1, 0, 1, 1, 0, 1, 0, 1, 1, 0, 0, 1, 1, 1, 0, 1,\n",
       "       1, 1, 1, 0, 1, 1, 1, 0, 0, 1, 1, 0, 1, 1, 1, 1, 1, 1, 0, 1, 0, 0,\n",
       "       0, 1, 0, 1, 1, 1, 1, 1, 1, 1, 0, 1, 1, 1, 1, 0, 1, 1, 0, 0, 1, 1,\n",
       "       1, 0, 1, 1, 1, 1, 1, 1, 0, 1, 1, 1, 1, 0, 0, 0, 0, 1, 0, 0, 0, 1,\n",
       "       0, 0, 1, 0, 0, 0, 0, 1, 1, 0, 1, 0, 1, 1, 1, 1, 0, 0, 1, 0, 1, 1,\n",
       "       1, 1, 1, 0, 1, 1, 0, 0, 1, 1, 1, 0, 1, 1, 0, 0, 0, 1, 0, 0, 1, 0,\n",
       "       1, 1, 1, 0, 0, 0, 0, 1, 1, 1, 1, 1, 1, 0, 1, 0, 0, 0, 0, 0, 0, 1,\n",
       "       1, 0, 1, 1, 1, 1, 0, 1, 1, 1, 0, 1, 1, 0, 0, 1, 0, 1, 1, 0, 0, 1,\n",
       "       0, 0, 1, 0, 1, 1, 1, 1, 1, 0, 1, 0, 0, 0, 1, 1, 0, 0, 1, 1, 1, 0,\n",
       "       1, 1, 0, 1, 1, 1, 0, 1, 1, 0, 0, 1, 1, 0, 0, 1, 1, 0, 0, 0, 0, 1,\n",
       "       0, 0, 1, 1, 1, 1, 0, 1, 1, 0, 0, 1, 1, 1, 1, 0, 1, 1, 1, 0, 1, 1,\n",
       "       0, 0])"
      ]
     },
     "execution_count": 38,
     "metadata": {},
     "output_type": "execute_result"
    }
   ],
   "source": [
    "y_train"
   ]
  },
  {
   "cell_type": "code",
   "execution_count": 39,
   "metadata": {},
   "outputs": [],
   "source": [
    "#from sklearn.pipeline import make_pipeline\n",
    "#pipe = make_pipeline(StandardScaler(), linear_model.LogisticRegression(max_iter=300))\n",
    "#pipe.fit(X_train, y_train.values.reshape(-1)) "
   ]
  },
  {
   "cell_type": "code",
   "execution_count": 40,
   "metadata": {},
   "outputs": [],
   "source": [
    "logr = linear_model.LogisticRegression(max_iter=300).fit(X_train, y_train)"
   ]
  },
  {
   "cell_type": "code",
   "execution_count": 41,
   "metadata": {},
   "outputs": [],
   "source": [
    "y_predict = logr.predict(X_test)"
   ]
  },
  {
   "cell_type": "code",
   "execution_count": 42,
   "metadata": {},
   "outputs": [
    {
     "data": {
      "text/plain": [
       "0.8613861386138614"
      ]
     },
     "execution_count": 42,
     "metadata": {},
     "output_type": "execute_result"
    }
   ],
   "source": [
    "sklearn.metrics.f1_score(y_test, y_predict)"
   ]
  },
  {
   "cell_type": "code",
   "execution_count": 43,
   "metadata": {},
   "outputs": [
    {
     "data": {
      "text/plain": [
       "0.8426966292134831"
      ]
     },
     "execution_count": 43,
     "metadata": {},
     "output_type": "execute_result"
    }
   ],
   "source": [
    "logr.score(X_test, y_test)"
   ]
  },
  {
   "cell_type": "markdown",
   "metadata": {},
   "source": [
    "Lets see how this model fares with kaggle and the full dataset."
   ]
  },
  {
   "cell_type": "code",
   "execution_count": 44,
   "metadata": {},
   "outputs": [],
   "source": [
    "from sklearn.pipeline import make_pipeline\n",
    "pipe = make_pipeline(StandardScaler(), linear_model.LogisticRegression(max_iter=300))\n",
    "pipe.fit(train_x.iloc[:,1:], train_y.iloc[:,1]) \n",
    "logr_predict = pipe.predict(test_x.iloc[:,1:])\n",
    "kaggle_csv(logr_predict)"
   ]
  },
  {
   "cell_type": "markdown",
   "metadata": {},
   "source": [
    "Interesting, the score is 0.86153."
   ]
  },
  {
   "cell_type": "markdown",
   "metadata": {},
   "source": [
    "#### How about ridge regression (L2)?"
   ]
  },
  {
   "cell_type": "markdown",
   "metadata": {},
   "source": [
    "First need to find a good alpha value."
   ]
  },
  {
   "cell_type": "code",
   "execution_count": 45,
   "metadata": {},
   "outputs": [],
   "source": [
    "regr_cv = linear_model.RidgeCV(alphas=np.arange(1, 100000, 100))\n",
    "#regr_cv = linear_model.RidgeCV(alphas=np.arange(2000, 3000, 1))\n",
    "#regr_cv = linear_model.RidgeCV(alphas=np.arange(2400, 2500, 0.1))\n",
    "#regr_cv = linear_model.RidgeCV(alphas=np.logspace(-3, -1, 30))\n",
    "#regr_cv = linear_model.RidgeCV()"
   ]
  },
  {
   "cell_type": "code",
   "execution_count": 46,
   "metadata": {},
   "outputs": [],
   "source": [
    "model_cv = regr_cv.fit(train_x_scaled, train_y.iloc[:,1])"
   ]
  },
  {
   "cell_type": "code",
   "execution_count": 47,
   "metadata": {},
   "outputs": [
    {
     "data": {
      "text/plain": [
       "2401"
      ]
     },
     "execution_count": 47,
     "metadata": {},
     "output_type": "execute_result"
    }
   ],
   "source": [
    "model_cv.alpha_"
   ]
  },
  {
   "cell_type": "code",
   "execution_count": 48,
   "metadata": {},
   "outputs": [
    {
     "data": {
      "text/plain": [
       "-0.12727136144542783"
      ]
     },
     "execution_count": 48,
     "metadata": {},
     "output_type": "execute_result"
    }
   ],
   "source": [
    "model_cv.best_score_"
   ]
  },
  {
   "cell_type": "markdown",
   "metadata": {},
   "source": [
    "This value may be good?"
   ]
  },
  {
   "cell_type": "code",
   "execution_count": 49,
   "metadata": {},
   "outputs": [],
   "source": [
    "reg = linear_model.Ridge(alpha=model_cv.alpha_)"
   ]
  },
  {
   "cell_type": "code",
   "execution_count": 50,
   "metadata": {},
   "outputs": [
    {
     "data": {
      "text/html": [
       "<style>#sk-container-id-2 {color: black;background-color: white;}#sk-container-id-2 pre{padding: 0;}#sk-container-id-2 div.sk-toggleable {background-color: white;}#sk-container-id-2 label.sk-toggleable__label {cursor: pointer;display: block;width: 100%;margin-bottom: 0;padding: 0.3em;box-sizing: border-box;text-align: center;}#sk-container-id-2 label.sk-toggleable__label-arrow:before {content: \"▸\";float: left;margin-right: 0.25em;color: #696969;}#sk-container-id-2 label.sk-toggleable__label-arrow:hover:before {color: black;}#sk-container-id-2 div.sk-estimator:hover label.sk-toggleable__label-arrow:before {color: black;}#sk-container-id-2 div.sk-toggleable__content {max-height: 0;max-width: 0;overflow: hidden;text-align: left;background-color: #f0f8ff;}#sk-container-id-2 div.sk-toggleable__content pre {margin: 0.2em;color: black;border-radius: 0.25em;background-color: #f0f8ff;}#sk-container-id-2 input.sk-toggleable__control:checked~div.sk-toggleable__content {max-height: 200px;max-width: 100%;overflow: auto;}#sk-container-id-2 input.sk-toggleable__control:checked~label.sk-toggleable__label-arrow:before {content: \"▾\";}#sk-container-id-2 div.sk-estimator input.sk-toggleable__control:checked~label.sk-toggleable__label {background-color: #d4ebff;}#sk-container-id-2 div.sk-label input.sk-toggleable__control:checked~label.sk-toggleable__label {background-color: #d4ebff;}#sk-container-id-2 input.sk-hidden--visually {border: 0;clip: rect(1px 1px 1px 1px);clip: rect(1px, 1px, 1px, 1px);height: 1px;margin: -1px;overflow: hidden;padding: 0;position: absolute;width: 1px;}#sk-container-id-2 div.sk-estimator {font-family: monospace;background-color: #f0f8ff;border: 1px dotted black;border-radius: 0.25em;box-sizing: border-box;margin-bottom: 0.5em;}#sk-container-id-2 div.sk-estimator:hover {background-color: #d4ebff;}#sk-container-id-2 div.sk-parallel-item::after {content: \"\";width: 100%;border-bottom: 1px solid gray;flex-grow: 1;}#sk-container-id-2 div.sk-label:hover label.sk-toggleable__label {background-color: #d4ebff;}#sk-container-id-2 div.sk-serial::before {content: \"\";position: absolute;border-left: 1px solid gray;box-sizing: border-box;top: 0;bottom: 0;left: 50%;z-index: 0;}#sk-container-id-2 div.sk-serial {display: flex;flex-direction: column;align-items: center;background-color: white;padding-right: 0.2em;padding-left: 0.2em;position: relative;}#sk-container-id-2 div.sk-item {position: relative;z-index: 1;}#sk-container-id-2 div.sk-parallel {display: flex;align-items: stretch;justify-content: center;background-color: white;position: relative;}#sk-container-id-2 div.sk-item::before, #sk-container-id-2 div.sk-parallel-item::before {content: \"\";position: absolute;border-left: 1px solid gray;box-sizing: border-box;top: 0;bottom: 0;left: 50%;z-index: -1;}#sk-container-id-2 div.sk-parallel-item {display: flex;flex-direction: column;z-index: 1;position: relative;background-color: white;}#sk-container-id-2 div.sk-parallel-item:first-child::after {align-self: flex-end;width: 50%;}#sk-container-id-2 div.sk-parallel-item:last-child::after {align-self: flex-start;width: 50%;}#sk-container-id-2 div.sk-parallel-item:only-child::after {width: 0;}#sk-container-id-2 div.sk-dashed-wrapped {border: 1px dashed gray;margin: 0 0.4em 0.5em 0.4em;box-sizing: border-box;padding-bottom: 0.4em;background-color: white;}#sk-container-id-2 div.sk-label label {font-family: monospace;font-weight: bold;display: inline-block;line-height: 1.2em;}#sk-container-id-2 div.sk-label-container {text-align: center;}#sk-container-id-2 div.sk-container {/* jupyter's `normalize.less` sets `[hidden] { display: none; }` but bootstrap.min.css set `[hidden] { display: none !important; }` so we also need the `!important` here to be able to override the default hidden behavior on the sphinx rendered scikit-learn.org. See: https://github.com/scikit-learn/scikit-learn/issues/21755 */display: inline-block !important;position: relative;}#sk-container-id-2 div.sk-text-repr-fallback {display: none;}</style><div id=\"sk-container-id-2\" class=\"sk-top-container\"><div class=\"sk-text-repr-fallback\"><pre>Ridge(alpha=2401)</pre><b>In a Jupyter environment, please rerun this cell to show the HTML representation or trust the notebook. <br />On GitHub, the HTML representation is unable to render, please try loading this page with nbviewer.org.</b></div><div class=\"sk-container\" hidden><div class=\"sk-item\"><div class=\"sk-estimator sk-toggleable\"><input class=\"sk-toggleable__control sk-hidden--visually\" id=\"sk-estimator-id-2\" type=\"checkbox\" checked><label for=\"sk-estimator-id-2\" class=\"sk-toggleable__label sk-toggleable__label-arrow\">Ridge</label><div class=\"sk-toggleable__content\"><pre>Ridge(alpha=2401)</pre></div></div></div></div></div>"
      ],
      "text/plain": [
       "Ridge(alpha=2401)"
      ]
     },
     "execution_count": 50,
     "metadata": {},
     "output_type": "execute_result"
    }
   ],
   "source": [
    "reg.fit(train_x_scaled, train_y.iloc[:,1])"
   ]
  },
  {
   "cell_type": "code",
   "execution_count": 51,
   "metadata": {},
   "outputs": [],
   "source": [
    "y_predict = reg.predict(test_x_scaled)"
   ]
  },
  {
   "cell_type": "code",
   "execution_count": 52,
   "metadata": {},
   "outputs": [
    {
     "data": {
      "text/plain": [
       "array([1, 0, 0, 1, 0, 1, 1, 0, 1, 0, 1, 1, 1, 0, 0, 1, 1, 0, 1, 1, 1, 1,\n",
       "       0, 1, 1, 1, 1, 1, 1, 1, 1, 0, 0, 1, 0, 1, 1, 1, 1, 1, 1, 1, 0, 0,\n",
       "       0, 1, 1, 1, 0, 1, 1, 1, 0, 1, 0, 0, 1, 0, 1, 1, 1, 1, 0, 0, 1, 0,\n",
       "       1, 1, 0, 1, 0, 0, 0, 0, 1, 0, 1, 1, 0, 0, 0, 1, 1, 1, 1, 0, 1, 1,\n",
       "       1, 0, 1, 1, 0, 1, 0, 1, 1, 0, 0, 1, 0, 1, 1, 0, 1, 1, 0, 0, 1, 1])"
      ]
     },
     "execution_count": 52,
     "metadata": {},
     "output_type": "execute_result"
    }
   ],
   "source": [
    "y_predict = np.where(y_predict > 0.5, 1, 0)\n",
    "y_predict"
   ]
  },
  {
   "cell_type": "code",
   "execution_count": 53,
   "metadata": {},
   "outputs": [],
   "source": [
    "kaggle_csv(y_predict)"
   ]
  },
  {
   "cell_type": "markdown",
   "metadata": {},
   "source": [
    "I got 0.87878 with alpha=2400. I further optimized alpha to 2441.5, this scored the same, not too surprisingly.\n",
    "\n",
    "These values feel too large though, what about alpha=0.1? This scored 0.86567."
   ]
  },
  {
   "cell_type": "markdown",
   "metadata": {},
   "source": [
    "#### What about LASSO (L1)?"
   ]
  },
  {
   "cell_type": "markdown",
   "metadata": {},
   "source": [
    "LASSO is good for wide data (features (p) > observation (n)), so should be good for this dataset."
   ]
  },
  {
   "cell_type": "markdown",
   "metadata": {},
   "source": [
    "LASSO also needs to tune a hyperparameter ($\\alpha$)."
   ]
  },
  {
   "cell_type": "code",
   "execution_count": 54,
   "metadata": {},
   "outputs": [],
   "source": [
    "reg = linear_model.LassoCV().fit(train_x_scaled, train_y.iloc[:,1])"
   ]
  },
  {
   "cell_type": "code",
   "execution_count": 55,
   "metadata": {},
   "outputs": [
    {
     "data": {
      "text/plain": [
       "0.028764489798114024"
      ]
     },
     "execution_count": 55,
     "metadata": {},
     "output_type": "execute_result"
    }
   ],
   "source": [
    "reg.alpha_"
   ]
  },
  {
   "cell_type": "code",
   "execution_count": 56,
   "metadata": {},
   "outputs": [
    {
     "data": {
      "text/html": [
       "<style>#sk-container-id-3 {color: black;background-color: white;}#sk-container-id-3 pre{padding: 0;}#sk-container-id-3 div.sk-toggleable {background-color: white;}#sk-container-id-3 label.sk-toggleable__label {cursor: pointer;display: block;width: 100%;margin-bottom: 0;padding: 0.3em;box-sizing: border-box;text-align: center;}#sk-container-id-3 label.sk-toggleable__label-arrow:before {content: \"▸\";float: left;margin-right: 0.25em;color: #696969;}#sk-container-id-3 label.sk-toggleable__label-arrow:hover:before {color: black;}#sk-container-id-3 div.sk-estimator:hover label.sk-toggleable__label-arrow:before {color: black;}#sk-container-id-3 div.sk-toggleable__content {max-height: 0;max-width: 0;overflow: hidden;text-align: left;background-color: #f0f8ff;}#sk-container-id-3 div.sk-toggleable__content pre {margin: 0.2em;color: black;border-radius: 0.25em;background-color: #f0f8ff;}#sk-container-id-3 input.sk-toggleable__control:checked~div.sk-toggleable__content {max-height: 200px;max-width: 100%;overflow: auto;}#sk-container-id-3 input.sk-toggleable__control:checked~label.sk-toggleable__label-arrow:before {content: \"▾\";}#sk-container-id-3 div.sk-estimator input.sk-toggleable__control:checked~label.sk-toggleable__label {background-color: #d4ebff;}#sk-container-id-3 div.sk-label input.sk-toggleable__control:checked~label.sk-toggleable__label {background-color: #d4ebff;}#sk-container-id-3 input.sk-hidden--visually {border: 0;clip: rect(1px 1px 1px 1px);clip: rect(1px, 1px, 1px, 1px);height: 1px;margin: -1px;overflow: hidden;padding: 0;position: absolute;width: 1px;}#sk-container-id-3 div.sk-estimator {font-family: monospace;background-color: #f0f8ff;border: 1px dotted black;border-radius: 0.25em;box-sizing: border-box;margin-bottom: 0.5em;}#sk-container-id-3 div.sk-estimator:hover {background-color: #d4ebff;}#sk-container-id-3 div.sk-parallel-item::after {content: \"\";width: 100%;border-bottom: 1px solid gray;flex-grow: 1;}#sk-container-id-3 div.sk-label:hover label.sk-toggleable__label {background-color: #d4ebff;}#sk-container-id-3 div.sk-serial::before {content: \"\";position: absolute;border-left: 1px solid gray;box-sizing: border-box;top: 0;bottom: 0;left: 50%;z-index: 0;}#sk-container-id-3 div.sk-serial {display: flex;flex-direction: column;align-items: center;background-color: white;padding-right: 0.2em;padding-left: 0.2em;position: relative;}#sk-container-id-3 div.sk-item {position: relative;z-index: 1;}#sk-container-id-3 div.sk-parallel {display: flex;align-items: stretch;justify-content: center;background-color: white;position: relative;}#sk-container-id-3 div.sk-item::before, #sk-container-id-3 div.sk-parallel-item::before {content: \"\";position: absolute;border-left: 1px solid gray;box-sizing: border-box;top: 0;bottom: 0;left: 50%;z-index: -1;}#sk-container-id-3 div.sk-parallel-item {display: flex;flex-direction: column;z-index: 1;position: relative;background-color: white;}#sk-container-id-3 div.sk-parallel-item:first-child::after {align-self: flex-end;width: 50%;}#sk-container-id-3 div.sk-parallel-item:last-child::after {align-self: flex-start;width: 50%;}#sk-container-id-3 div.sk-parallel-item:only-child::after {width: 0;}#sk-container-id-3 div.sk-dashed-wrapped {border: 1px dashed gray;margin: 0 0.4em 0.5em 0.4em;box-sizing: border-box;padding-bottom: 0.4em;background-color: white;}#sk-container-id-3 div.sk-label label {font-family: monospace;font-weight: bold;display: inline-block;line-height: 1.2em;}#sk-container-id-3 div.sk-label-container {text-align: center;}#sk-container-id-3 div.sk-container {/* jupyter's `normalize.less` sets `[hidden] { display: none; }` but bootstrap.min.css set `[hidden] { display: none !important; }` so we also need the `!important` here to be able to override the default hidden behavior on the sphinx rendered scikit-learn.org. See: https://github.com/scikit-learn/scikit-learn/issues/21755 */display: inline-block !important;position: relative;}#sk-container-id-3 div.sk-text-repr-fallback {display: none;}</style><div id=\"sk-container-id-3\" class=\"sk-top-container\"><div class=\"sk-text-repr-fallback\"><pre>Lasso(alpha=0.028764489798114024)</pre><b>In a Jupyter environment, please rerun this cell to show the HTML representation or trust the notebook. <br />On GitHub, the HTML representation is unable to render, please try loading this page with nbviewer.org.</b></div><div class=\"sk-container\" hidden><div class=\"sk-item\"><div class=\"sk-estimator sk-toggleable\"><input class=\"sk-toggleable__control sk-hidden--visually\" id=\"sk-estimator-id-3\" type=\"checkbox\" checked><label for=\"sk-estimator-id-3\" class=\"sk-toggleable__label sk-toggleable__label-arrow\">Lasso</label><div class=\"sk-toggleable__content\"><pre>Lasso(alpha=0.028764489798114024)</pre></div></div></div></div></div>"
      ],
      "text/plain": [
       "Lasso(alpha=0.028764489798114024)"
      ]
     },
     "execution_count": 56,
     "metadata": {},
     "output_type": "execute_result"
    }
   ],
   "source": [
    "lasso = linear_model.Lasso(alpha=reg.alpha_)\n",
    "lasso.fit(train_x_scaled, train_y.iloc[:,1])"
   ]
  },
  {
   "cell_type": "code",
   "execution_count": 57,
   "metadata": {},
   "outputs": [],
   "source": [
    "y_predict = lasso.predict(test_x_scaled)"
   ]
  },
  {
   "cell_type": "code",
   "execution_count": 58,
   "metadata": {},
   "outputs": [
    {
     "data": {
      "text/plain": [
       "array([ 1.01447275,  0.22845317,  0.3185323 ,  0.83427353,  0.30022536,\n",
       "        0.74056379,  0.76269977,  0.15319795,  0.37310524,  0.27671007,\n",
       "        0.7149602 ,  0.54045781,  0.61950634,  0.39877643, -0.14815646,\n",
       "        0.76822118,  0.89846706,  0.4881715 ,  0.86356885,  0.8647341 ,\n",
       "        0.85059419,  1.03860144,  0.47764525,  0.9863982 ,  0.76724517,\n",
       "        1.23322579,  0.95975008,  0.66465841,  0.90486078,  0.74786789,\n",
       "        0.70325734,  0.17893921,  0.19196864,  0.59741182,  0.02331944,\n",
       "        0.48539538,  0.66531029,  0.94336091,  0.53861498,  1.10968666,\n",
       "        0.86083386,  0.93210951,  0.18283221,  0.16505982,  0.15451153,\n",
       "        1.10401074,  0.70838148,  0.70651666,  0.31379937,  0.81560241,\n",
       "        0.79924867,  0.68549651,  0.31010554,  0.77648765,  0.00940202,\n",
       "        0.35326551,  0.62817107,  0.2255686 ,  0.78143834,  1.00401011,\n",
       "        0.75617906,  0.95195078,  0.24323411,  0.34305229,  0.80006307,\n",
       "        0.37702856,  1.01182575,  0.77927393,  0.40542236,  0.95965447,\n",
       "        0.10753326,  0.12727198, -0.00853941,  0.41722409,  0.67865347,\n",
       "        0.21663487,  0.62477088,  0.86654013,  0.38244015,  0.10527432,\n",
       "        0.01289226,  0.86304341,  0.65314572,  0.75781584,  0.99811534,\n",
       "        0.15216282,  0.98518786,  0.85676652,  0.67725649, -0.00908814,\n",
       "        0.61016821,  0.50647779,  0.18896164,  0.99445974,  0.24377586,\n",
       "        0.77892723,  0.58657657,  0.11979014,  0.27658602,  0.90403163,\n",
       "        0.3869268 ,  0.79857833,  0.80943318,  0.27568781,  0.75669077,\n",
       "        0.65618488,  0.19148499,  0.05072782,  0.50559347,  0.5981744 ])"
      ]
     },
     "execution_count": 58,
     "metadata": {},
     "output_type": "execute_result"
    }
   ],
   "source": [
    "y_predict"
   ]
  },
  {
   "cell_type": "code",
   "execution_count": 59,
   "metadata": {},
   "outputs": [
    {
     "data": {
      "text/plain": [
       "array([1, 0, 0, 1, 0, 1, 1, 0, 0, 0, 1, 1, 1, 0, 0, 1, 1, 0, 1, 1, 1, 1,\n",
       "       0, 1, 1, 1, 1, 1, 1, 1, 1, 0, 0, 1, 0, 0, 1, 1, 1, 1, 1, 1, 0, 0,\n",
       "       0, 1, 1, 1, 0, 1, 1, 1, 0, 1, 0, 0, 1, 0, 1, 1, 1, 1, 0, 0, 1, 0,\n",
       "       1, 1, 0, 1, 0, 0, 0, 0, 1, 0, 1, 1, 0, 0, 0, 1, 1, 1, 1, 0, 1, 1,\n",
       "       1, 0, 1, 1, 0, 1, 0, 1, 1, 0, 0, 1, 0, 1, 1, 0, 1, 1, 0, 0, 1, 1])"
      ]
     },
     "execution_count": 59,
     "metadata": {},
     "output_type": "execute_result"
    }
   ],
   "source": [
    "y_predict = np.where(y_predict > 0.5, 1, 0)\n",
    "y_predict"
   ]
  },
  {
   "cell_type": "code",
   "execution_count": 60,
   "metadata": {},
   "outputs": [],
   "source": [
    "kaggle_csv(y_predict)"
   ]
  },
  {
   "cell_type": "markdown",
   "metadata": {},
   "source": [
    "Surprisingly only scored 0.84375."
   ]
  },
  {
   "cell_type": "markdown",
   "metadata": {},
   "source": [
    "#### Finally let's try elastic nets (L1 and L2)"
   ]
  },
  {
   "cell_type": "markdown",
   "metadata": {},
   "source": [
    "Now we need to optimize 2 parameters, alpha and the ratio of l1 to l2."
   ]
  },
  {
   "cell_type": "code",
   "execution_count": 61,
   "metadata": {},
   "outputs": [],
   "source": [
    "encv = linear_model.ElasticNetCV().fit(train_x_scaled, train_y.iloc[:,1])"
   ]
  },
  {
   "cell_type": "code",
   "execution_count": 62,
   "metadata": {},
   "outputs": [
    {
     "data": {
      "text/plain": [
       "0.057528979596228054"
      ]
     },
     "execution_count": 62,
     "metadata": {},
     "output_type": "execute_result"
    }
   ],
   "source": [
    "encv.alpha_"
   ]
  },
  {
   "cell_type": "code",
   "execution_count": 63,
   "metadata": {},
   "outputs": [
    {
     "data": {
      "text/plain": [
       "0.5"
      ]
     },
     "execution_count": 63,
     "metadata": {},
     "output_type": "execute_result"
    }
   ],
   "source": [
    "encv.l1_ratio_"
   ]
  },
  {
   "cell_type": "code",
   "execution_count": 64,
   "metadata": {},
   "outputs": [
    {
     "data": {
      "text/html": [
       "<style>#sk-container-id-4 {color: black;background-color: white;}#sk-container-id-4 pre{padding: 0;}#sk-container-id-4 div.sk-toggleable {background-color: white;}#sk-container-id-4 label.sk-toggleable__label {cursor: pointer;display: block;width: 100%;margin-bottom: 0;padding: 0.3em;box-sizing: border-box;text-align: center;}#sk-container-id-4 label.sk-toggleable__label-arrow:before {content: \"▸\";float: left;margin-right: 0.25em;color: #696969;}#sk-container-id-4 label.sk-toggleable__label-arrow:hover:before {color: black;}#sk-container-id-4 div.sk-estimator:hover label.sk-toggleable__label-arrow:before {color: black;}#sk-container-id-4 div.sk-toggleable__content {max-height: 0;max-width: 0;overflow: hidden;text-align: left;background-color: #f0f8ff;}#sk-container-id-4 div.sk-toggleable__content pre {margin: 0.2em;color: black;border-radius: 0.25em;background-color: #f0f8ff;}#sk-container-id-4 input.sk-toggleable__control:checked~div.sk-toggleable__content {max-height: 200px;max-width: 100%;overflow: auto;}#sk-container-id-4 input.sk-toggleable__control:checked~label.sk-toggleable__label-arrow:before {content: \"▾\";}#sk-container-id-4 div.sk-estimator input.sk-toggleable__control:checked~label.sk-toggleable__label {background-color: #d4ebff;}#sk-container-id-4 div.sk-label input.sk-toggleable__control:checked~label.sk-toggleable__label {background-color: #d4ebff;}#sk-container-id-4 input.sk-hidden--visually {border: 0;clip: rect(1px 1px 1px 1px);clip: rect(1px, 1px, 1px, 1px);height: 1px;margin: -1px;overflow: hidden;padding: 0;position: absolute;width: 1px;}#sk-container-id-4 div.sk-estimator {font-family: monospace;background-color: #f0f8ff;border: 1px dotted black;border-radius: 0.25em;box-sizing: border-box;margin-bottom: 0.5em;}#sk-container-id-4 div.sk-estimator:hover {background-color: #d4ebff;}#sk-container-id-4 div.sk-parallel-item::after {content: \"\";width: 100%;border-bottom: 1px solid gray;flex-grow: 1;}#sk-container-id-4 div.sk-label:hover label.sk-toggleable__label {background-color: #d4ebff;}#sk-container-id-4 div.sk-serial::before {content: \"\";position: absolute;border-left: 1px solid gray;box-sizing: border-box;top: 0;bottom: 0;left: 50%;z-index: 0;}#sk-container-id-4 div.sk-serial {display: flex;flex-direction: column;align-items: center;background-color: white;padding-right: 0.2em;padding-left: 0.2em;position: relative;}#sk-container-id-4 div.sk-item {position: relative;z-index: 1;}#sk-container-id-4 div.sk-parallel {display: flex;align-items: stretch;justify-content: center;background-color: white;position: relative;}#sk-container-id-4 div.sk-item::before, #sk-container-id-4 div.sk-parallel-item::before {content: \"\";position: absolute;border-left: 1px solid gray;box-sizing: border-box;top: 0;bottom: 0;left: 50%;z-index: -1;}#sk-container-id-4 div.sk-parallel-item {display: flex;flex-direction: column;z-index: 1;position: relative;background-color: white;}#sk-container-id-4 div.sk-parallel-item:first-child::after {align-self: flex-end;width: 50%;}#sk-container-id-4 div.sk-parallel-item:last-child::after {align-self: flex-start;width: 50%;}#sk-container-id-4 div.sk-parallel-item:only-child::after {width: 0;}#sk-container-id-4 div.sk-dashed-wrapped {border: 1px dashed gray;margin: 0 0.4em 0.5em 0.4em;box-sizing: border-box;padding-bottom: 0.4em;background-color: white;}#sk-container-id-4 div.sk-label label {font-family: monospace;font-weight: bold;display: inline-block;line-height: 1.2em;}#sk-container-id-4 div.sk-label-container {text-align: center;}#sk-container-id-4 div.sk-container {/* jupyter's `normalize.less` sets `[hidden] { display: none; }` but bootstrap.min.css set `[hidden] { display: none !important; }` so we also need the `!important` here to be able to override the default hidden behavior on the sphinx rendered scikit-learn.org. See: https://github.com/scikit-learn/scikit-learn/issues/21755 */display: inline-block !important;position: relative;}#sk-container-id-4 div.sk-text-repr-fallback {display: none;}</style><div id=\"sk-container-id-4\" class=\"sk-top-container\"><div class=\"sk-text-repr-fallback\"><pre>ElasticNet(alpha=0.057528979596228054)</pre><b>In a Jupyter environment, please rerun this cell to show the HTML representation or trust the notebook. <br />On GitHub, the HTML representation is unable to render, please try loading this page with nbviewer.org.</b></div><div class=\"sk-container\" hidden><div class=\"sk-item\"><div class=\"sk-estimator sk-toggleable\"><input class=\"sk-toggleable__control sk-hidden--visually\" id=\"sk-estimator-id-4\" type=\"checkbox\" checked><label for=\"sk-estimator-id-4\" class=\"sk-toggleable__label sk-toggleable__label-arrow\">ElasticNet</label><div class=\"sk-toggleable__content\"><pre>ElasticNet(alpha=0.057528979596228054)</pre></div></div></div></div></div>"
      ],
      "text/plain": [
       "ElasticNet(alpha=0.057528979596228054)"
      ]
     },
     "execution_count": 64,
     "metadata": {},
     "output_type": "execute_result"
    }
   ],
   "source": [
    "en = linear_model.ElasticNet(alpha=encv.alpha_, l1_ratio=encv.l1_ratio_)\n",
    "en.fit(train_x_scaled, train_y.iloc[:,1])"
   ]
  },
  {
   "cell_type": "code",
   "execution_count": 65,
   "metadata": {},
   "outputs": [],
   "source": [
    "y_predict = en.predict(test_x_scaled)"
   ]
  },
  {
   "cell_type": "code",
   "execution_count": 66,
   "metadata": {},
   "outputs": [
    {
     "data": {
      "text/plain": [
       "array([1, 0, 0, 1, 0, 1, 1, 0, 0, 0, 1, 1, 1, 0, 0, 1, 1, 0, 1, 1, 1, 1,\n",
       "       0, 1, 1, 1, 1, 1, 1, 1, 1, 0, 0, 1, 0, 0, 1, 1, 1, 1, 1, 1, 0, 0,\n",
       "       0, 1, 1, 1, 0, 1, 1, 1, 0, 1, 0, 0, 1, 0, 1, 1, 1, 1, 0, 0, 1, 0,\n",
       "       1, 1, 0, 1, 0, 0, 0, 0, 1, 0, 1, 1, 0, 0, 0, 1, 1, 1, 1, 0, 1, 1,\n",
       "       1, 0, 1, 1, 0, 1, 0, 1, 1, 0, 0, 1, 0, 1, 1, 0, 1, 1, 0, 0, 1, 1])"
      ]
     },
     "execution_count": 66,
     "metadata": {},
     "output_type": "execute_result"
    }
   ],
   "source": [
    "y_predict = np.where(y_predict > 0.5, 1, 0)\n",
    "y_predict"
   ]
  },
  {
   "cell_type": "code",
   "execution_count": 67,
   "metadata": {},
   "outputs": [],
   "source": [
    "kaggle_csv(y_predict)"
   ]
  },
  {
   "cell_type": "markdown",
   "metadata": {},
   "source": [
    "I scored 0.84375 with this, interesting, no change from lasso."
   ]
  },
  {
   "cell_type": "markdown",
   "metadata": {},
   "source": [
    "Overall, the best regularization method was using ridge regression, which isn't what I expected, as I thought lasso would be best for wide data. Maybe I need to use lasso to get rid of some features?"
   ]
  },
  {
   "cell_type": "markdown",
   "metadata": {},
   "source": [
    "### Same thing but with my own 60/40 split"
   ]
  },
  {
   "cell_type": "code",
   "execution_count": 119,
   "metadata": {},
   "outputs": [],
   "source": [
    "def score_y(model, make_binary=\"log\", y_test=y_test):\n",
    "    \"\"\"\n",
    "    Print the scores for the y_predict.\n",
    "\n",
    "    Parameters\n",
    "    ----------\n",
    "    model : sklearn model object\n",
    "    make_binary : \"log\" or \"where\"\n",
    "        Classification through logistic regression or np.where rounding.\n",
    "    y_test : array\n",
    "    \"\"\"\n",
    "    y_predict = model.fit(X_train, y_train).predict(X_test)\n",
    "    if make_binary == \"log\":\n",
    "        # perhaps piping linear regression results through logistic classifier is best\n",
    "        logistic = linear_model.LogisticRegression(max_iter=300).fit(X_train, y_train)\n",
    "        y_predict = logistic.predict(X_test)\n",
    "    elif make_binary == \"where\":\n",
    "        y_predict = np.where(y_predict > 0.5, 1, 0)\n",
    "    f1 = sklearn.metrics.f1_score(y_test, y_predict)\n",
    "    r2 = model.score(X_test, y_test)\n",
    "    print(f\"f1-score: {f1} \\nR^2: {r2}\")"
   ]
  },
  {
   "cell_type": "code",
   "execution_count": 126,
   "metadata": {},
   "outputs": [],
   "source": [
    "regr_cv = linear_model.RidgeCV(alphas=np.arange(1, 100000, 100))"
   ]
  },
  {
   "cell_type": "code",
   "execution_count": 127,
   "metadata": {},
   "outputs": [],
   "source": [
    "model_cv = regr_cv.fit(X_train, y_train)"
   ]
  },
  {
   "cell_type": "code",
   "execution_count": 128,
   "metadata": {},
   "outputs": [
    {
     "data": {
      "text/plain": [
       "1401"
      ]
     },
     "execution_count": 128,
     "metadata": {},
     "output_type": "execute_result"
    }
   ],
   "source": [
    "model_cv.alpha_"
   ]
  },
  {
   "cell_type": "code",
   "execution_count": 129,
   "metadata": {},
   "outputs": [],
   "source": [
    "ridge_model = linear_model.Ridge(alpha=model_cv.alpha_)"
   ]
  },
  {
   "cell_type": "code",
   "execution_count": 100,
   "metadata": {},
   "outputs": [
    {
     "name": "stdout",
     "output_type": "stream",
     "text": [
      "f1-score: 0.8613861386138614 \n",
      "R^2: 0.44853211816243166\n"
     ]
    }
   ],
   "source": [
    "score_y(ridge_model)"
   ]
  },
  {
   "cell_type": "code",
   "execution_count": 130,
   "metadata": {},
   "outputs": [
    {
     "name": "stdout",
     "output_type": "stream",
     "text": [
      "f1-score: 0.8669950738916256 \n",
      "R^2: 0.44853211816243166\n"
     ]
    }
   ],
   "source": [
    "score_y(ridge_model, \"where\")"
   ]
  },
  {
   "cell_type": "code",
   "execution_count": 144,
   "metadata": {},
   "outputs": [],
   "source": [
    "lasso_cv = linear_model.LassoCV().fit(X_train, y_train)"
   ]
  },
  {
   "cell_type": "code",
   "execution_count": 145,
   "metadata": {},
   "outputs": [],
   "source": [
    "lasso = linear_model.Lasso(alpha=lasso_cv.alpha_)"
   ]
  },
  {
   "cell_type": "code",
   "execution_count": 146,
   "metadata": {},
   "outputs": [
    {
     "data": {
      "text/html": [
       "<style>#sk-container-id-14 {color: black;background-color: white;}#sk-container-id-14 pre{padding: 0;}#sk-container-id-14 div.sk-toggleable {background-color: white;}#sk-container-id-14 label.sk-toggleable__label {cursor: pointer;display: block;width: 100%;margin-bottom: 0;padding: 0.3em;box-sizing: border-box;text-align: center;}#sk-container-id-14 label.sk-toggleable__label-arrow:before {content: \"▸\";float: left;margin-right: 0.25em;color: #696969;}#sk-container-id-14 label.sk-toggleable__label-arrow:hover:before {color: black;}#sk-container-id-14 div.sk-estimator:hover label.sk-toggleable__label-arrow:before {color: black;}#sk-container-id-14 div.sk-toggleable__content {max-height: 0;max-width: 0;overflow: hidden;text-align: left;background-color: #f0f8ff;}#sk-container-id-14 div.sk-toggleable__content pre {margin: 0.2em;color: black;border-radius: 0.25em;background-color: #f0f8ff;}#sk-container-id-14 input.sk-toggleable__control:checked~div.sk-toggleable__content {max-height: 200px;max-width: 100%;overflow: auto;}#sk-container-id-14 input.sk-toggleable__control:checked~label.sk-toggleable__label-arrow:before {content: \"▾\";}#sk-container-id-14 div.sk-estimator input.sk-toggleable__control:checked~label.sk-toggleable__label {background-color: #d4ebff;}#sk-container-id-14 div.sk-label input.sk-toggleable__control:checked~label.sk-toggleable__label {background-color: #d4ebff;}#sk-container-id-14 input.sk-hidden--visually {border: 0;clip: rect(1px 1px 1px 1px);clip: rect(1px, 1px, 1px, 1px);height: 1px;margin: -1px;overflow: hidden;padding: 0;position: absolute;width: 1px;}#sk-container-id-14 div.sk-estimator {font-family: monospace;background-color: #f0f8ff;border: 1px dotted black;border-radius: 0.25em;box-sizing: border-box;margin-bottom: 0.5em;}#sk-container-id-14 div.sk-estimator:hover {background-color: #d4ebff;}#sk-container-id-14 div.sk-parallel-item::after {content: \"\";width: 100%;border-bottom: 1px solid gray;flex-grow: 1;}#sk-container-id-14 div.sk-label:hover label.sk-toggleable__label {background-color: #d4ebff;}#sk-container-id-14 div.sk-serial::before {content: \"\";position: absolute;border-left: 1px solid gray;box-sizing: border-box;top: 0;bottom: 0;left: 50%;z-index: 0;}#sk-container-id-14 div.sk-serial {display: flex;flex-direction: column;align-items: center;background-color: white;padding-right: 0.2em;padding-left: 0.2em;position: relative;}#sk-container-id-14 div.sk-item {position: relative;z-index: 1;}#sk-container-id-14 div.sk-parallel {display: flex;align-items: stretch;justify-content: center;background-color: white;position: relative;}#sk-container-id-14 div.sk-item::before, #sk-container-id-14 div.sk-parallel-item::before {content: \"\";position: absolute;border-left: 1px solid gray;box-sizing: border-box;top: 0;bottom: 0;left: 50%;z-index: -1;}#sk-container-id-14 div.sk-parallel-item {display: flex;flex-direction: column;z-index: 1;position: relative;background-color: white;}#sk-container-id-14 div.sk-parallel-item:first-child::after {align-self: flex-end;width: 50%;}#sk-container-id-14 div.sk-parallel-item:last-child::after {align-self: flex-start;width: 50%;}#sk-container-id-14 div.sk-parallel-item:only-child::after {width: 0;}#sk-container-id-14 div.sk-dashed-wrapped {border: 1px dashed gray;margin: 0 0.4em 0.5em 0.4em;box-sizing: border-box;padding-bottom: 0.4em;background-color: white;}#sk-container-id-14 div.sk-label label {font-family: monospace;font-weight: bold;display: inline-block;line-height: 1.2em;}#sk-container-id-14 div.sk-label-container {text-align: center;}#sk-container-id-14 div.sk-container {/* jupyter's `normalize.less` sets `[hidden] { display: none; }` but bootstrap.min.css set `[hidden] { display: none !important; }` so we also need the `!important` here to be able to override the default hidden behavior on the sphinx rendered scikit-learn.org. See: https://github.com/scikit-learn/scikit-learn/issues/21755 */display: inline-block !important;position: relative;}#sk-container-id-14 div.sk-text-repr-fallback {display: none;}</style><div id=\"sk-container-id-14\" class=\"sk-top-container\"><div class=\"sk-text-repr-fallback\"><pre>Lasso(alpha=0.025294797657298668)</pre><b>In a Jupyter environment, please rerun this cell to show the HTML representation or trust the notebook. <br />On GitHub, the HTML representation is unable to render, please try loading this page with nbviewer.org.</b></div><div class=\"sk-container\" hidden><div class=\"sk-item\"><div class=\"sk-estimator sk-toggleable\"><input class=\"sk-toggleable__control sk-hidden--visually\" id=\"sk-estimator-id-14\" type=\"checkbox\" checked><label for=\"sk-estimator-id-14\" class=\"sk-toggleable__label sk-toggleable__label-arrow\">Lasso</label><div class=\"sk-toggleable__content\"><pre>Lasso(alpha=0.025294797657298668)</pre></div></div></div></div></div>"
      ],
      "text/plain": [
       "Lasso(alpha=0.025294797657298668)"
      ]
     },
     "execution_count": 146,
     "metadata": {},
     "output_type": "execute_result"
    }
   ],
   "source": [
    "lasso"
   ]
  },
  {
   "cell_type": "code",
   "execution_count": 149,
   "metadata": {},
   "outputs": [
    {
     "name": "stdout",
     "output_type": "stream",
     "text": [
      "f1-score: 0.8613861386138614 \n",
      "R^2: 0.42549197120300264\n"
     ]
    }
   ],
   "source": [
    "score_y(lasso)"
   ]
  },
  {
   "cell_type": "code",
   "execution_count": 77,
   "metadata": {},
   "outputs": [],
   "source": [
    "encv = linear_model.ElasticNetCV().fit(X_train, y_train)"
   ]
  },
  {
   "cell_type": "code",
   "execution_count": 78,
   "metadata": {},
   "outputs": [],
   "source": [
    "net = linear_model.ElasticNet(alpha=encv.alpha_, l1_ratio=encv.l1_ratio_)"
   ]
  },
  {
   "cell_type": "code",
   "execution_count": 105,
   "metadata": {},
   "outputs": [
    {
     "name": "stdout",
     "output_type": "stream",
     "text": [
      "f1-score: 0.8613861386138614 \n",
      "R^2: 0.4245750226107291\n"
     ]
    }
   ],
   "source": [
    "score_y(net)"
   ]
  },
  {
   "cell_type": "code",
   "execution_count": 80,
   "metadata": {},
   "outputs": [],
   "source": [
    "lr = linear_model.LinearRegression().fit(X_train, y_train)"
   ]
  },
  {
   "cell_type": "code",
   "execution_count": 106,
   "metadata": {},
   "outputs": [
    {
     "name": "stdout",
     "output_type": "stream",
     "text": [
      "f1-score: 0.8613861386138614 \n",
      "R^2: 0.43164407985607756\n"
     ]
    }
   ],
   "source": [
    "score_y(lr)"
   ]
  },
  {
   "cell_type": "code",
   "execution_count": 121,
   "metadata": {},
   "outputs": [
    {
     "name": "stdout",
     "output_type": "stream",
     "text": [
      "f1-score: 0.8656716417910448 \n",
      "R^2: 0.43164407985607756\n"
     ]
    }
   ],
   "source": [
    "score_y(lr, make_binary=\"where\")"
   ]
  },
  {
   "cell_type": "markdown",
   "metadata": {},
   "source": [
    "Not surprisingly, these scores are similar to my kaggle submission scores."
   ]
  },
  {
   "cell_type": "markdown",
   "metadata": {},
   "source": [
    "And the regularization methods don't really improve upon a basic linear regression model."
   ]
  },
  {
   "cell_type": "markdown",
   "metadata": {},
   "source": [
    "Let's try dropping some features using lasso, then running with ridge or elestic net."
   ]
  },
  {
   "cell_type": "code",
   "execution_count": 150,
   "metadata": {},
   "outputs": [
    {
     "data": {
      "text/plain": [
       "17970"
      ]
     },
     "execution_count": 150,
     "metadata": {},
     "output_type": "execute_result"
    }
   ],
   "source": [
    "lasso.n_features_in_"
   ]
  },
  {
   "cell_type": "code",
   "execution_count": 151,
   "metadata": {},
   "outputs": [
    {
     "name": "stdout",
     "output_type": "stream",
     "text": [
      "(266, 17970)\n"
     ]
    },
    {
     "data": {
      "text/plain": [
       "(266, 129)"
      ]
     },
     "execution_count": 151,
     "metadata": {},
     "output_type": "execute_result"
    }
   ],
   "source": [
    "# let's try L1 based feature selection first\n",
    "from sklearn.feature_selection import SelectFromModel\n",
    "\n",
    "print(X_train.shape)\n",
    "model_sel = SelectFromModel(estimator=lasso, prefit=False)\n",
    "red_X_train = model_sel.transform(X_train)\n",
    "red_X_train.shape"
   ]
  },
  {
   "cell_type": "markdown",
   "metadata": {},
   "source": [
    "Feature space now reduced to 17970 genes"
   ]
  },
  {
   "cell_type": "code",
   "execution_count": 123,
   "metadata": {},
   "outputs": [
    {
     "data": {
      "text/html": [
       "<style>#sk-container-id-12 {color: black;background-color: white;}#sk-container-id-12 pre{padding: 0;}#sk-container-id-12 div.sk-toggleable {background-color: white;}#sk-container-id-12 label.sk-toggleable__label {cursor: pointer;display: block;width: 100%;margin-bottom: 0;padding: 0.3em;box-sizing: border-box;text-align: center;}#sk-container-id-12 label.sk-toggleable__label-arrow:before {content: \"▸\";float: left;margin-right: 0.25em;color: #696969;}#sk-container-id-12 label.sk-toggleable__label-arrow:hover:before {color: black;}#sk-container-id-12 div.sk-estimator:hover label.sk-toggleable__label-arrow:before {color: black;}#sk-container-id-12 div.sk-toggleable__content {max-height: 0;max-width: 0;overflow: hidden;text-align: left;background-color: #f0f8ff;}#sk-container-id-12 div.sk-toggleable__content pre {margin: 0.2em;color: black;border-radius: 0.25em;background-color: #f0f8ff;}#sk-container-id-12 input.sk-toggleable__control:checked~div.sk-toggleable__content {max-height: 200px;max-width: 100%;overflow: auto;}#sk-container-id-12 input.sk-toggleable__control:checked~label.sk-toggleable__label-arrow:before {content: \"▾\";}#sk-container-id-12 div.sk-estimator input.sk-toggleable__control:checked~label.sk-toggleable__label {background-color: #d4ebff;}#sk-container-id-12 div.sk-label input.sk-toggleable__control:checked~label.sk-toggleable__label {background-color: #d4ebff;}#sk-container-id-12 input.sk-hidden--visually {border: 0;clip: rect(1px 1px 1px 1px);clip: rect(1px, 1px, 1px, 1px);height: 1px;margin: -1px;overflow: hidden;padding: 0;position: absolute;width: 1px;}#sk-container-id-12 div.sk-estimator {font-family: monospace;background-color: #f0f8ff;border: 1px dotted black;border-radius: 0.25em;box-sizing: border-box;margin-bottom: 0.5em;}#sk-container-id-12 div.sk-estimator:hover {background-color: #d4ebff;}#sk-container-id-12 div.sk-parallel-item::after {content: \"\";width: 100%;border-bottom: 1px solid gray;flex-grow: 1;}#sk-container-id-12 div.sk-label:hover label.sk-toggleable__label {background-color: #d4ebff;}#sk-container-id-12 div.sk-serial::before {content: \"\";position: absolute;border-left: 1px solid gray;box-sizing: border-box;top: 0;bottom: 0;left: 50%;z-index: 0;}#sk-container-id-12 div.sk-serial {display: flex;flex-direction: column;align-items: center;background-color: white;padding-right: 0.2em;padding-left: 0.2em;position: relative;}#sk-container-id-12 div.sk-item {position: relative;z-index: 1;}#sk-container-id-12 div.sk-parallel {display: flex;align-items: stretch;justify-content: center;background-color: white;position: relative;}#sk-container-id-12 div.sk-item::before, #sk-container-id-12 div.sk-parallel-item::before {content: \"\";position: absolute;border-left: 1px solid gray;box-sizing: border-box;top: 0;bottom: 0;left: 50%;z-index: -1;}#sk-container-id-12 div.sk-parallel-item {display: flex;flex-direction: column;z-index: 1;position: relative;background-color: white;}#sk-container-id-12 div.sk-parallel-item:first-child::after {align-self: flex-end;width: 50%;}#sk-container-id-12 div.sk-parallel-item:last-child::after {align-self: flex-start;width: 50%;}#sk-container-id-12 div.sk-parallel-item:only-child::after {width: 0;}#sk-container-id-12 div.sk-dashed-wrapped {border: 1px dashed gray;margin: 0 0.4em 0.5em 0.4em;box-sizing: border-box;padding-bottom: 0.4em;background-color: white;}#sk-container-id-12 div.sk-label label {font-family: monospace;font-weight: bold;display: inline-block;line-height: 1.2em;}#sk-container-id-12 div.sk-label-container {text-align: center;}#sk-container-id-12 div.sk-container {/* jupyter's `normalize.less` sets `[hidden] { display: none; }` but bootstrap.min.css set `[hidden] { display: none !important; }` so we also need the `!important` here to be able to override the default hidden behavior on the sphinx rendered scikit-learn.org. See: https://github.com/scikit-learn/scikit-learn/issues/21755 */display: inline-block !important;position: relative;}#sk-container-id-12 div.sk-text-repr-fallback {display: none;}</style><div id=\"sk-container-id-12\" class=\"sk-top-container\"><div class=\"sk-text-repr-fallback\"><pre>Ridge(alpha=59)</pre><b>In a Jupyter environment, please rerun this cell to show the HTML representation or trust the notebook. <br />On GitHub, the HTML representation is unable to render, please try loading this page with nbviewer.org.</b></div><div class=\"sk-container\" hidden><div class=\"sk-item\"><div class=\"sk-estimator sk-toggleable\"><input class=\"sk-toggleable__control sk-hidden--visually\" id=\"sk-estimator-id-12\" type=\"checkbox\" checked><label for=\"sk-estimator-id-12\" class=\"sk-toggleable__label sk-toggleable__label-arrow\">Ridge</label><div class=\"sk-toggleable__content\"><pre>Ridge(alpha=59)</pre></div></div></div></div></div>"
      ],
      "text/plain": [
       "Ridge(alpha=59)"
      ]
     },
     "execution_count": 123,
     "metadata": {},
     "output_type": "execute_result"
    }
   ],
   "source": [
    "regr_cv = linear_model.RidgeCV(alphas=np.arange(1, 100, 1))\n",
    "regr_cv_red = regr_cv.fit(red_X_train, y_train)\n",
    "ridge_model_red = linear_model.Ridge(alpha=regr_cv_red.alpha_)\n",
    "ridge_model_red"
   ]
  },
  {
   "cell_type": "code",
   "execution_count": 124,
   "metadata": {},
   "outputs": [
    {
     "name": "stdout",
     "output_type": "stream",
     "text": [
      "f1-score: 0.8613861386138614 \n",
      "R^2: 0.4327435372147147\n"
     ]
    }
   ],
   "source": [
    "score_y(ridge_model_red)"
   ]
  },
  {
   "cell_type": "code",
   "execution_count": 125,
   "metadata": {},
   "outputs": [
    {
     "name": "stdout",
     "output_type": "stream",
     "text": [
      "f1-score: 0.8656716417910448 \n",
      "R^2: 0.4327435372147147\n"
     ]
    }
   ],
   "source": [
    "score_y(ridge_model_red, make_binary=\"where\")"
   ]
  },
  {
   "cell_type": "markdown",
   "metadata": {},
   "source": [
    "Overall, the best is ridge with an alpha of 1401 in full feature space."
   ]
  },
  {
   "cell_type": "markdown",
   "metadata": {},
   "source": [
    "### Now time to compare my best model accuracy with random guessing\n",
    "*(Hint: scramble labels aka Y-randomization)*"
   ]
  },
  {
   "cell_type": "code",
   "execution_count": 88,
   "metadata": {},
   "outputs": [
    {
     "data": {
      "text/plain": [
       "array([0, 1, 0, 1, 1, 1, 1, 1, 0, 1, 1, 1, 1, 0, 1, 0, 0, 1, 1, 0, 1, 1,\n",
       "       0, 0, 0, 1, 0, 0, 0, 1, 1, 0, 0, 1, 0, 1, 0, 1, 1, 1, 1, 0, 1, 0,\n",
       "       1, 0, 0, 1, 1, 1, 1, 1, 0, 1, 0, 0, 1, 1, 0, 1, 0, 1, 1, 1, 0, 1,\n",
       "       0, 1, 1, 0, 1, 1, 1, 1, 0, 1, 1, 1, 0, 1, 0, 0, 1, 0, 1, 0, 0, 1,\n",
       "       0, 1, 0, 1, 1, 1, 1, 1, 0, 1, 0, 0, 0, 1, 0, 1, 1, 1, 1, 0, 0, 0,\n",
       "       1, 1, 0, 0, 0, 0, 0, 1, 0, 1, 1, 1, 1, 1, 0, 1, 0, 1, 0, 0, 1, 1,\n",
       "       0, 1, 1, 1, 0, 1, 0, 1, 0, 1, 0, 0, 1, 1, 1, 1, 0, 1, 0, 1, 1, 1,\n",
       "       0, 1, 1, 1, 1, 0, 1, 1, 0, 1, 0, 0, 1, 0, 0, 0, 1, 1, 0, 0, 1, 1,\n",
       "       1, 0])"
      ]
     },
     "execution_count": 88,
     "metadata": {},
     "output_type": "execute_result"
    }
   ],
   "source": [
    "y_test_rand = sklearn.utils.shuffle(y_test)\n",
    "y_test_rand"
   ]
  },
  {
   "cell_type": "code",
   "execution_count": 131,
   "metadata": {},
   "outputs": [
    {
     "name": "stdout",
     "output_type": "stream",
     "text": [
      "f1-score: 0.8669950738916256 \n",
      "R^2: 0.44853211816243166\n"
     ]
    }
   ],
   "source": [
    "score_y(ridge_model, \"where\", y_test=y_test)"
   ]
  },
  {
   "cell_type": "code",
   "execution_count": 134,
   "metadata": {},
   "outputs": [
    {
     "name": "stdout",
     "output_type": "stream",
     "text": [
      "f1-score: 0.5841584158415842 \n",
      "R^2: -0.5574124197084271\n"
     ]
    }
   ],
   "source": [
    "score_y(ridge_model, y_test=y_test_rand)"
   ]
  },
  {
   "cell_type": "markdown",
   "metadata": {},
   "source": [
    "So the f1-score is closer to 0.5 (random) when using scrambled y_test input. This makes sense, but my model is a little better than 0.5 interestingly, maybe data is being overfit? Or maybe this is fine."
   ]
  },
  {
   "cell_type": "markdown",
   "metadata": {},
   "source": [
    "### What are the top important genes for my model decisions?"
   ]
  },
  {
   "cell_type": "markdown",
   "metadata": {},
   "source": [
    "Here I can take my feature selection data, reduce it further, and look at the rankings."
   ]
  },
  {
   "cell_type": "code",
   "execution_count": 139,
   "metadata": {},
   "outputs": [
    {
     "name": "stdout",
     "output_type": "stream",
     "text": [
      "[False False False False False False  True False False False False False\n",
      " False False False False False False False False False False False False\n",
      " False False False False False False False False False False  True False\n",
      "  True False False False False  True  True False  True False False False\n",
      " False False False False False False False False False False False False\n",
      " False  True False False False False False False False False False False\n",
      " False False False False False False False False False False False False\n",
      " False False False False False False False False False False False False\n",
      " False False False False False False False  True False  True  True False\n",
      " False False False False False False False False False False False False\n",
      " False False False False False False False False False]\n",
      "[ 53  60  18  82  45  44   1  71 117 105  77  26   2  84  65  74  70  64\n",
      " 120  50  11  94  39  54  14 109 112  40   7  32  78  36  75  99   1  25\n",
      "   1  23  34  61  46   1   1  24   1  47  16 110  17  87  57   8  81 106\n",
      "   6 118  88 115  41 114  42   1   3  13 113 119  37  30  83  51   4  43\n",
      "  63  72  55  67  97  92  96  29  66  35  20  86  68  91  59  52  76   9\n",
      "  90  89 101   5  56  21  38  15  19 100  69  73  10   1  79   1   1  98\n",
      " 107 116  22  28  80  12  48 104  58 102 103  33  49  85  95  93 111  62\n",
      "  31  27 108]\n"
     ]
    }
   ],
   "source": [
    "from sklearn.feature_selection import RFE\n",
    "rfe = RFE(lasso, n_features_to_select=10)\n",
    "#rfe = RFECV(lasso)\n",
    "rfe.fit(red_X_train, y_train)\n",
    "\n",
    "# summarize the selection of the attributes\n",
    "print(rfe.support_)\n",
    "print(rfe.ranking_)"
   ]
  },
  {
   "cell_type": "markdown",
   "metadata": {},
   "source": [
    "Let's do this same feature selection for the entire dataset."
   ]
  },
  {
   "cell_type": "code",
   "execution_count": 175,
   "metadata": {},
   "outputs": [
    {
     "data": {
      "text/html": [
       "<div>\n",
       "<style scoped>\n",
       "    .dataframe tbody tr th:only-of-type {\n",
       "        vertical-align: middle;\n",
       "    }\n",
       "\n",
       "    .dataframe tbody tr th {\n",
       "        vertical-align: top;\n",
       "    }\n",
       "\n",
       "    .dataframe thead th {\n",
       "        text-align: right;\n",
       "    }\n",
       "</style>\n",
       "<table border=\"1\" class=\"dataframe\">\n",
       "  <thead>\n",
       "    <tr style=\"text-align: right;\">\n",
       "      <th></th>\n",
       "      <th>ENSG00000000003</th>\n",
       "      <th>ENSG00000000005</th>\n",
       "      <th>ENSG00000000419</th>\n",
       "      <th>ENSG00000000457</th>\n",
       "      <th>ENSG00000000938</th>\n",
       "      <th>ENSG00000000971</th>\n",
       "      <th>ENSG00000001036</th>\n",
       "      <th>ENSG00000001084</th>\n",
       "      <th>ENSG00000001167</th>\n",
       "      <th>ENSG00000001460</th>\n",
       "      <th>...</th>\n",
       "      <th>ENSG00000282651</th>\n",
       "      <th>ENSG00000282815</th>\n",
       "      <th>ENSG00000282939</th>\n",
       "      <th>ENSG00000283063</th>\n",
       "      <th>ENSG00000283439</th>\n",
       "      <th>ENSG00000283463</th>\n",
       "      <th>ENSG00000283526</th>\n",
       "      <th>ENSG00000283586</th>\n",
       "      <th>ENSG00000283632</th>\n",
       "      <th>ENSG00000283697</th>\n",
       "    </tr>\n",
       "  </thead>\n",
       "  <tbody>\n",
       "    <tr>\n",
       "      <th>0</th>\n",
       "      <td>0.401484</td>\n",
       "      <td>0.367020</td>\n",
       "      <td>-0.226701</td>\n",
       "      <td>0.640926</td>\n",
       "      <td>-0.390668</td>\n",
       "      <td>-0.292344</td>\n",
       "      <td>-0.021997</td>\n",
       "      <td>-0.746077</td>\n",
       "      <td>1.112748</td>\n",
       "      <td>0.326998</td>\n",
       "      <td>...</td>\n",
       "      <td>-0.940790</td>\n",
       "      <td>-0.549587</td>\n",
       "      <td>-3.286559</td>\n",
       "      <td>-1.619159</td>\n",
       "      <td>-0.655205</td>\n",
       "      <td>-0.158240</td>\n",
       "      <td>0.769046</td>\n",
       "      <td>0.006975</td>\n",
       "      <td>1.934626</td>\n",
       "      <td>-0.432810</td>\n",
       "    </tr>\n",
       "    <tr>\n",
       "      <th>1</th>\n",
       "      <td>-1.268185</td>\n",
       "      <td>-1.199780</td>\n",
       "      <td>-0.784579</td>\n",
       "      <td>-1.673240</td>\n",
       "      <td>0.345245</td>\n",
       "      <td>-0.501955</td>\n",
       "      <td>-0.518535</td>\n",
       "      <td>-1.059698</td>\n",
       "      <td>-0.598792</td>\n",
       "      <td>-1.381571</td>\n",
       "      <td>...</td>\n",
       "      <td>0.639566</td>\n",
       "      <td>1.107177</td>\n",
       "      <td>0.351198</td>\n",
       "      <td>0.287318</td>\n",
       "      <td>1.122410</td>\n",
       "      <td>-0.943772</td>\n",
       "      <td>0.066786</td>\n",
       "      <td>0.067405</td>\n",
       "      <td>0.126009</td>\n",
       "      <td>-0.783776</td>\n",
       "    </tr>\n",
       "    <tr>\n",
       "      <th>2</th>\n",
       "      <td>1.663618</td>\n",
       "      <td>-1.320526</td>\n",
       "      <td>1.950731</td>\n",
       "      <td>1.606015</td>\n",
       "      <td>1.205029</td>\n",
       "      <td>-0.179004</td>\n",
       "      <td>1.557572</td>\n",
       "      <td>1.305946</td>\n",
       "      <td>2.119510</td>\n",
       "      <td>1.089046</td>\n",
       "      <td>...</td>\n",
       "      <td>1.825973</td>\n",
       "      <td>-0.659895</td>\n",
       "      <td>1.426476</td>\n",
       "      <td>1.318435</td>\n",
       "      <td>-0.763090</td>\n",
       "      <td>1.353715</td>\n",
       "      <td>0.541520</td>\n",
       "      <td>-0.154957</td>\n",
       "      <td>1.294293</td>\n",
       "      <td>1.436720</td>\n",
       "    </tr>\n",
       "    <tr>\n",
       "      <th>3</th>\n",
       "      <td>0.042120</td>\n",
       "      <td>0.636358</td>\n",
       "      <td>-1.339840</td>\n",
       "      <td>-0.181802</td>\n",
       "      <td>0.733092</td>\n",
       "      <td>0.020991</td>\n",
       "      <td>-0.046698</td>\n",
       "      <td>-0.836187</td>\n",
       "      <td>-0.260109</td>\n",
       "      <td>1.268039</td>\n",
       "      <td>...</td>\n",
       "      <td>-0.341994</td>\n",
       "      <td>-0.711100</td>\n",
       "      <td>0.003547</td>\n",
       "      <td>0.366900</td>\n",
       "      <td>1.498113</td>\n",
       "      <td>0.857421</td>\n",
       "      <td>0.410518</td>\n",
       "      <td>-0.230124</td>\n",
       "      <td>0.371196</td>\n",
       "      <td>0.509991</td>\n",
       "    </tr>\n",
       "    <tr>\n",
       "      <th>4</th>\n",
       "      <td>0.395960</td>\n",
       "      <td>1.056947</td>\n",
       "      <td>-0.186274</td>\n",
       "      <td>0.896189</td>\n",
       "      <td>0.885188</td>\n",
       "      <td>0.820748</td>\n",
       "      <td>0.625170</td>\n",
       "      <td>0.985033</td>\n",
       "      <td>0.571531</td>\n",
       "      <td>1.146337</td>\n",
       "      <td>...</td>\n",
       "      <td>0.538362</td>\n",
       "      <td>-0.666599</td>\n",
       "      <td>0.075112</td>\n",
       "      <td>-1.705714</td>\n",
       "      <td>1.304466</td>\n",
       "      <td>0.684919</td>\n",
       "      <td>0.816491</td>\n",
       "      <td>-0.164797</td>\n",
       "      <td>0.385449</td>\n",
       "      <td>0.688690</td>\n",
       "    </tr>\n",
       "    <tr>\n",
       "      <th>...</th>\n",
       "      <td>...</td>\n",
       "      <td>...</td>\n",
       "      <td>...</td>\n",
       "      <td>...</td>\n",
       "      <td>...</td>\n",
       "      <td>...</td>\n",
       "      <td>...</td>\n",
       "      <td>...</td>\n",
       "      <td>...</td>\n",
       "      <td>...</td>\n",
       "      <td>...</td>\n",
       "      <td>...</td>\n",
       "      <td>...</td>\n",
       "      <td>...</td>\n",
       "      <td>...</td>\n",
       "      <td>...</td>\n",
       "      <td>...</td>\n",
       "      <td>...</td>\n",
       "      <td>...</td>\n",
       "      <td>...</td>\n",
       "      <td>...</td>\n",
       "    </tr>\n",
       "    <tr>\n",
       "      <th>439</th>\n",
       "      <td>0.321132</td>\n",
       "      <td>0.384646</td>\n",
       "      <td>-0.081699</td>\n",
       "      <td>-0.731023</td>\n",
       "      <td>-1.242313</td>\n",
       "      <td>-0.464754</td>\n",
       "      <td>-0.555587</td>\n",
       "      <td>-0.174464</td>\n",
       "      <td>0.313151</td>\n",
       "      <td>-1.275064</td>\n",
       "      <td>...</td>\n",
       "      <td>0.450908</td>\n",
       "      <td>-0.576039</td>\n",
       "      <td>0.430820</td>\n",
       "      <td>-1.638727</td>\n",
       "      <td>1.290608</td>\n",
       "      <td>-0.103239</td>\n",
       "      <td>0.021852</td>\n",
       "      <td>-0.031857</td>\n",
       "      <td>0.309451</td>\n",
       "      <td>-0.073281</td>\n",
       "    </tr>\n",
       "    <tr>\n",
       "      <th>440</th>\n",
       "      <td>-3.083729</td>\n",
       "      <td>-1.093957</td>\n",
       "      <td>0.303345</td>\n",
       "      <td>0.742262</td>\n",
       "      <td>1.560928</td>\n",
       "      <td>-0.517701</td>\n",
       "      <td>-0.947865</td>\n",
       "      <td>-1.525050</td>\n",
       "      <td>-1.257581</td>\n",
       "      <td>-1.297729</td>\n",
       "      <td>...</td>\n",
       "      <td>0.846443</td>\n",
       "      <td>1.345174</td>\n",
       "      <td>0.542249</td>\n",
       "      <td>1.304923</td>\n",
       "      <td>1.574674</td>\n",
       "      <td>-0.864394</td>\n",
       "      <td>-3.368599</td>\n",
       "      <td>0.262284</td>\n",
       "      <td>0.193692</td>\n",
       "      <td>-0.807323</td>\n",
       "    </tr>\n",
       "    <tr>\n",
       "      <th>441</th>\n",
       "      <td>1.434889</td>\n",
       "      <td>0.780689</td>\n",
       "      <td>-0.493837</td>\n",
       "      <td>-0.176862</td>\n",
       "      <td>1.052088</td>\n",
       "      <td>0.898735</td>\n",
       "      <td>-0.014035</td>\n",
       "      <td>0.621357</td>\n",
       "      <td>-0.067411</td>\n",
       "      <td>2.614326</td>\n",
       "      <td>...</td>\n",
       "      <td>0.654434</td>\n",
       "      <td>-0.490154</td>\n",
       "      <td>0.609813</td>\n",
       "      <td>0.461500</td>\n",
       "      <td>-0.597078</td>\n",
       "      <td>0.801904</td>\n",
       "      <td>0.627590</td>\n",
       "      <td>0.094222</td>\n",
       "      <td>-0.264096</td>\n",
       "      <td>0.506453</td>\n",
       "    </tr>\n",
       "    <tr>\n",
       "      <th>442</th>\n",
       "      <td>-1.559323</td>\n",
       "      <td>-1.590904</td>\n",
       "      <td>0.541218</td>\n",
       "      <td>0.692128</td>\n",
       "      <td>0.814572</td>\n",
       "      <td>-1.005611</td>\n",
       "      <td>0.268203</td>\n",
       "      <td>-0.833414</td>\n",
       "      <td>-0.268160</td>\n",
       "      <td>-0.560089</td>\n",
       "      <td>...</td>\n",
       "      <td>0.675217</td>\n",
       "      <td>-0.999077</td>\n",
       "      <td>0.294337</td>\n",
       "      <td>0.525039</td>\n",
       "      <td>-1.094821</td>\n",
       "      <td>-0.983766</td>\n",
       "      <td>0.819489</td>\n",
       "      <td>-0.652873</td>\n",
       "      <td>-0.563487</td>\n",
       "      <td>-0.986695</td>\n",
       "    </tr>\n",
       "    <tr>\n",
       "      <th>443</th>\n",
       "      <td>0.096939</td>\n",
       "      <td>0.304090</td>\n",
       "      <td>1.354314</td>\n",
       "      <td>-0.568532</td>\n",
       "      <td>-0.038422</td>\n",
       "      <td>-1.009828</td>\n",
       "      <td>-0.696115</td>\n",
       "      <td>-0.477970</td>\n",
       "      <td>0.413241</td>\n",
       "      <td>-0.768222</td>\n",
       "      <td>...</td>\n",
       "      <td>-0.124850</td>\n",
       "      <td>-0.997731</td>\n",
       "      <td>0.478623</td>\n",
       "      <td>0.162237</td>\n",
       "      <td>1.191772</td>\n",
       "      <td>0.459904</td>\n",
       "      <td>-0.134334</td>\n",
       "      <td>-0.650897</td>\n",
       "      <td>-0.297810</td>\n",
       "      <td>0.150583</td>\n",
       "    </tr>\n",
       "  </tbody>\n",
       "</table>\n",
       "<p>444 rows × 17970 columns</p>\n",
       "</div>"
      ],
      "text/plain": [
       "     ENSG00000000003  ENSG00000000005  ENSG00000000419  ENSG00000000457  \\\n",
       "0           0.401484         0.367020        -0.226701         0.640926   \n",
       "1          -1.268185        -1.199780        -0.784579        -1.673240   \n",
       "2           1.663618        -1.320526         1.950731         1.606015   \n",
       "3           0.042120         0.636358        -1.339840        -0.181802   \n",
       "4           0.395960         1.056947        -0.186274         0.896189   \n",
       "..               ...              ...              ...              ...   \n",
       "439         0.321132         0.384646        -0.081699        -0.731023   \n",
       "440        -3.083729        -1.093957         0.303345         0.742262   \n",
       "441         1.434889         0.780689        -0.493837        -0.176862   \n",
       "442        -1.559323        -1.590904         0.541218         0.692128   \n",
       "443         0.096939         0.304090         1.354314        -0.568532   \n",
       "\n",
       "     ENSG00000000938  ENSG00000000971  ENSG00000001036  ENSG00000001084  \\\n",
       "0          -0.390668        -0.292344        -0.021997        -0.746077   \n",
       "1           0.345245        -0.501955        -0.518535        -1.059698   \n",
       "2           1.205029        -0.179004         1.557572         1.305946   \n",
       "3           0.733092         0.020991        -0.046698        -0.836187   \n",
       "4           0.885188         0.820748         0.625170         0.985033   \n",
       "..               ...              ...              ...              ...   \n",
       "439        -1.242313        -0.464754        -0.555587        -0.174464   \n",
       "440         1.560928        -0.517701        -0.947865        -1.525050   \n",
       "441         1.052088         0.898735        -0.014035         0.621357   \n",
       "442         0.814572        -1.005611         0.268203        -0.833414   \n",
       "443        -0.038422        -1.009828        -0.696115        -0.477970   \n",
       "\n",
       "     ENSG00000001167  ENSG00000001460  ...  ENSG00000282651  ENSG00000282815  \\\n",
       "0           1.112748         0.326998  ...        -0.940790        -0.549587   \n",
       "1          -0.598792        -1.381571  ...         0.639566         1.107177   \n",
       "2           2.119510         1.089046  ...         1.825973        -0.659895   \n",
       "3          -0.260109         1.268039  ...        -0.341994        -0.711100   \n",
       "4           0.571531         1.146337  ...         0.538362        -0.666599   \n",
       "..               ...              ...  ...              ...              ...   \n",
       "439         0.313151        -1.275064  ...         0.450908        -0.576039   \n",
       "440        -1.257581        -1.297729  ...         0.846443         1.345174   \n",
       "441        -0.067411         2.614326  ...         0.654434        -0.490154   \n",
       "442        -0.268160        -0.560089  ...         0.675217        -0.999077   \n",
       "443         0.413241        -0.768222  ...        -0.124850        -0.997731   \n",
       "\n",
       "     ENSG00000282939  ENSG00000283063  ENSG00000283439  ENSG00000283463  \\\n",
       "0          -3.286559        -1.619159        -0.655205        -0.158240   \n",
       "1           0.351198         0.287318         1.122410        -0.943772   \n",
       "2           1.426476         1.318435        -0.763090         1.353715   \n",
       "3           0.003547         0.366900         1.498113         0.857421   \n",
       "4           0.075112        -1.705714         1.304466         0.684919   \n",
       "..               ...              ...              ...              ...   \n",
       "439         0.430820        -1.638727         1.290608        -0.103239   \n",
       "440         0.542249         1.304923         1.574674        -0.864394   \n",
       "441         0.609813         0.461500        -0.597078         0.801904   \n",
       "442         0.294337         0.525039        -1.094821        -0.983766   \n",
       "443         0.478623         0.162237         1.191772         0.459904   \n",
       "\n",
       "     ENSG00000283526  ENSG00000283586  ENSG00000283632  ENSG00000283697  \n",
       "0           0.769046         0.006975         1.934626        -0.432810  \n",
       "1           0.066786         0.067405         0.126009        -0.783776  \n",
       "2           0.541520        -0.154957         1.294293         1.436720  \n",
       "3           0.410518        -0.230124         0.371196         0.509991  \n",
       "4           0.816491        -0.164797         0.385449         0.688690  \n",
       "..               ...              ...              ...              ...  \n",
       "439         0.021852        -0.031857         0.309451        -0.073281  \n",
       "440        -3.368599         0.262284         0.193692        -0.807323  \n",
       "441         0.627590         0.094222        -0.264096         0.506453  \n",
       "442         0.819489        -0.652873        -0.563487        -0.986695  \n",
       "443        -0.134334        -0.650897        -0.297810         0.150583  \n",
       "\n",
       "[444 rows x 17970 columns]"
      ]
     },
     "execution_count": 175,
     "metadata": {},
     "output_type": "execute_result"
    }
   ],
   "source": [
    "# first stack column names to scaled array\n",
    "#train_x_scaled_cols = np.vstack((train_x.columns[1:], train_x_scaled))\n",
    "#train_x_scaled_cols\n",
    "\n",
    "# actually can use df with col names\n",
    "train_x_scaled_cols = pd.DataFrame(train_x_scaled, columns=train_x.columns[1:])\n",
    "train_x_scaled_cols"
   ]
  },
  {
   "cell_type": "code",
   "execution_count": 183,
   "metadata": {},
   "outputs": [
    {
     "data": {
      "text/html": [
       "<div>\n",
       "<style scoped>\n",
       "    .dataframe tbody tr th:only-of-type {\n",
       "        vertical-align: middle;\n",
       "    }\n",
       "\n",
       "    .dataframe tbody tr th {\n",
       "        vertical-align: top;\n",
       "    }\n",
       "\n",
       "    .dataframe thead th {\n",
       "        text-align: right;\n",
       "    }\n",
       "</style>\n",
       "<table border=\"1\" class=\"dataframe\">\n",
       "  <thead>\n",
       "    <tr style=\"text-align: right;\">\n",
       "      <th></th>\n",
       "      <th>ENSG00000000003</th>\n",
       "      <th>ENSG00000000005</th>\n",
       "      <th>ENSG00000000419</th>\n",
       "      <th>ENSG00000000457</th>\n",
       "      <th>ENSG00000000938</th>\n",
       "      <th>ENSG00000000971</th>\n",
       "      <th>ENSG00000001036</th>\n",
       "      <th>ENSG00000001084</th>\n",
       "      <th>ENSG00000001167</th>\n",
       "      <th>ENSG00000001460</th>\n",
       "      <th>...</th>\n",
       "      <th>ENSG00000282651</th>\n",
       "      <th>ENSG00000282815</th>\n",
       "      <th>ENSG00000282939</th>\n",
       "      <th>ENSG00000283063</th>\n",
       "      <th>ENSG00000283439</th>\n",
       "      <th>ENSG00000283463</th>\n",
       "      <th>ENSG00000283526</th>\n",
       "      <th>ENSG00000283586</th>\n",
       "      <th>ENSG00000283632</th>\n",
       "      <th>ENSG00000283697</th>\n",
       "    </tr>\n",
       "  </thead>\n",
       "  <tbody>\n",
       "    <tr>\n",
       "      <th>0</th>\n",
       "      <td>1.144065</td>\n",
       "      <td>0.884521</td>\n",
       "      <td>1.920421</td>\n",
       "      <td>0.957338</td>\n",
       "      <td>-0.938683</td>\n",
       "      <td>0.799398</td>\n",
       "      <td>2.315521</td>\n",
       "      <td>0.893601</td>\n",
       "      <td>0.279131</td>\n",
       "      <td>-0.319907</td>\n",
       "      <td>...</td>\n",
       "      <td>-0.053896</td>\n",
       "      <td>0.597290</td>\n",
       "      <td>-3.319958</td>\n",
       "      <td>0.182163</td>\n",
       "      <td>-1.259409</td>\n",
       "      <td>0.659223</td>\n",
       "      <td>0.864431</td>\n",
       "      <td>-1.036934</td>\n",
       "      <td>0.922879</td>\n",
       "      <td>0.362614</td>\n",
       "    </tr>\n",
       "    <tr>\n",
       "      <th>1</th>\n",
       "      <td>-1.477129</td>\n",
       "      <td>-1.272071</td>\n",
       "      <td>-2.137245</td>\n",
       "      <td>-1.476344</td>\n",
       "      <td>-0.986814</td>\n",
       "      <td>-1.249620</td>\n",
       "      <td>-0.844808</td>\n",
       "      <td>-0.829588</td>\n",
       "      <td>0.125680</td>\n",
       "      <td>-0.521260</td>\n",
       "      <td>...</td>\n",
       "      <td>-2.704402</td>\n",
       "      <td>0.794247</td>\n",
       "      <td>-0.209766</td>\n",
       "      <td>0.349151</td>\n",
       "      <td>-0.618812</td>\n",
       "      <td>0.500987</td>\n",
       "      <td>0.442650</td>\n",
       "      <td>0.301614</td>\n",
       "      <td>-0.347555</td>\n",
       "      <td>1.072232</td>\n",
       "    </tr>\n",
       "    <tr>\n",
       "      <th>2</th>\n",
       "      <td>-1.343467</td>\n",
       "      <td>0.742568</td>\n",
       "      <td>-1.338624</td>\n",
       "      <td>-1.185860</td>\n",
       "      <td>1.988871</td>\n",
       "      <td>1.005548</td>\n",
       "      <td>0.895728</td>\n",
       "      <td>-0.364399</td>\n",
       "      <td>-1.077199</td>\n",
       "      <td>-1.621570</td>\n",
       "      <td>...</td>\n",
       "      <td>2.198153</td>\n",
       "      <td>-0.440615</td>\n",
       "      <td>0.846598</td>\n",
       "      <td>0.965443</td>\n",
       "      <td>-0.561372</td>\n",
       "      <td>1.075928</td>\n",
       "      <td>0.173393</td>\n",
       "      <td>0.421635</td>\n",
       "      <td>1.396108</td>\n",
       "      <td>1.386457</td>\n",
       "    </tr>\n",
       "    <tr>\n",
       "      <th>3</th>\n",
       "      <td>-1.076456</td>\n",
       "      <td>0.313517</td>\n",
       "      <td>-0.312140</td>\n",
       "      <td>-0.987398</td>\n",
       "      <td>0.998666</td>\n",
       "      <td>-0.979229</td>\n",
       "      <td>0.522982</td>\n",
       "      <td>-0.298619</td>\n",
       "      <td>-0.618057</td>\n",
       "      <td>-0.377821</td>\n",
       "      <td>...</td>\n",
       "      <td>-0.080322</td>\n",
       "      <td>1.103603</td>\n",
       "      <td>0.303495</td>\n",
       "      <td>0.196178</td>\n",
       "      <td>0.911884</td>\n",
       "      <td>0.831599</td>\n",
       "      <td>-2.273281</td>\n",
       "      <td>0.320685</td>\n",
       "      <td>0.607991</td>\n",
       "      <td>0.903490</td>\n",
       "    </tr>\n",
       "    <tr>\n",
       "      <th>4</th>\n",
       "      <td>0.500577</td>\n",
       "      <td>-1.306593</td>\n",
       "      <td>-1.188084</td>\n",
       "      <td>0.439415</td>\n",
       "      <td>1.595171</td>\n",
       "      <td>-0.912554</td>\n",
       "      <td>0.112149</td>\n",
       "      <td>-0.551846</td>\n",
       "      <td>0.325129</td>\n",
       "      <td>1.945942</td>\n",
       "      <td>...</td>\n",
       "      <td>0.381315</td>\n",
       "      <td>-0.551536</td>\n",
       "      <td>0.602750</td>\n",
       "      <td>0.743441</td>\n",
       "      <td>1.531260</td>\n",
       "      <td>0.474787</td>\n",
       "      <td>0.708366</td>\n",
       "      <td>0.219357</td>\n",
       "      <td>0.869492</td>\n",
       "      <td>0.677332</td>\n",
       "    </tr>\n",
       "    <tr>\n",
       "      <th>...</th>\n",
       "      <td>...</td>\n",
       "      <td>...</td>\n",
       "      <td>...</td>\n",
       "      <td>...</td>\n",
       "      <td>...</td>\n",
       "      <td>...</td>\n",
       "      <td>...</td>\n",
       "      <td>...</td>\n",
       "      <td>...</td>\n",
       "      <td>...</td>\n",
       "      <td>...</td>\n",
       "      <td>...</td>\n",
       "      <td>...</td>\n",
       "      <td>...</td>\n",
       "      <td>...</td>\n",
       "      <td>...</td>\n",
       "      <td>...</td>\n",
       "      <td>...</td>\n",
       "      <td>...</td>\n",
       "      <td>...</td>\n",
       "      <td>...</td>\n",
       "    </tr>\n",
       "    <tr>\n",
       "      <th>105</th>\n",
       "      <td>0.098513</td>\n",
       "      <td>1.038330</td>\n",
       "      <td>1.142660</td>\n",
       "      <td>0.179308</td>\n",
       "      <td>0.177251</td>\n",
       "      <td>0.362169</td>\n",
       "      <td>0.872190</td>\n",
       "      <td>-0.121657</td>\n",
       "      <td>-1.039522</td>\n",
       "      <td>-2.360833</td>\n",
       "      <td>...</td>\n",
       "      <td>0.499181</td>\n",
       "      <td>-0.649088</td>\n",
       "      <td>0.555548</td>\n",
       "      <td>0.730045</td>\n",
       "      <td>1.152622</td>\n",
       "      <td>-1.253497</td>\n",
       "      <td>0.427223</td>\n",
       "      <td>0.041460</td>\n",
       "      <td>0.727944</td>\n",
       "      <td>-1.127612</td>\n",
       "    </tr>\n",
       "    <tr>\n",
       "      <th>106</th>\n",
       "      <td>0.984776</td>\n",
       "      <td>0.516636</td>\n",
       "      <td>-0.310657</td>\n",
       "      <td>0.264153</td>\n",
       "      <td>0.183032</td>\n",
       "      <td>-0.248785</td>\n",
       "      <td>-0.114757</td>\n",
       "      <td>1.995745</td>\n",
       "      <td>-0.769994</td>\n",
       "      <td>2.528496</td>\n",
       "      <td>...</td>\n",
       "      <td>-0.314178</td>\n",
       "      <td>0.937539</td>\n",
       "      <td>0.313194</td>\n",
       "      <td>0.004240</td>\n",
       "      <td>-1.079734</td>\n",
       "      <td>0.676240</td>\n",
       "      <td>0.757869</td>\n",
       "      <td>-0.661498</td>\n",
       "      <td>-0.126754</td>\n",
       "      <td>0.804092</td>\n",
       "    </tr>\n",
       "    <tr>\n",
       "      <th>107</th>\n",
       "      <td>0.450482</td>\n",
       "      <td>0.518683</td>\n",
       "      <td>0.224702</td>\n",
       "      <td>1.887516</td>\n",
       "      <td>0.469681</td>\n",
       "      <td>1.928979</td>\n",
       "      <td>0.692063</td>\n",
       "      <td>0.517409</td>\n",
       "      <td>0.543516</td>\n",
       "      <td>0.610826</td>\n",
       "      <td>...</td>\n",
       "      <td>0.626791</td>\n",
       "      <td>-0.718257</td>\n",
       "      <td>0.486891</td>\n",
       "      <td>0.707340</td>\n",
       "      <td>-0.803681</td>\n",
       "      <td>0.040863</td>\n",
       "      <td>0.996390</td>\n",
       "      <td>-0.084677</td>\n",
       "      <td>1.672903</td>\n",
       "      <td>-0.330668</td>\n",
       "    </tr>\n",
       "    <tr>\n",
       "      <th>108</th>\n",
       "      <td>-0.069949</td>\n",
       "      <td>1.028366</td>\n",
       "      <td>0.557010</td>\n",
       "      <td>-0.253907</td>\n",
       "      <td>0.130848</td>\n",
       "      <td>1.316831</td>\n",
       "      <td>-0.831470</td>\n",
       "      <td>1.088371</td>\n",
       "      <td>0.216460</td>\n",
       "      <td>0.459117</td>\n",
       "      <td>...</td>\n",
       "      <td>0.190868</td>\n",
       "      <td>-0.556816</td>\n",
       "      <td>0.587928</td>\n",
       "      <td>0.658431</td>\n",
       "      <td>-0.662785</td>\n",
       "      <td>0.737278</td>\n",
       "      <td>0.039858</td>\n",
       "      <td>0.209729</td>\n",
       "      <td>2.093247</td>\n",
       "      <td>0.059056</td>\n",
       "    </tr>\n",
       "    <tr>\n",
       "      <th>109</th>\n",
       "      <td>-0.686874</td>\n",
       "      <td>0.674019</td>\n",
       "      <td>-1.154033</td>\n",
       "      <td>-1.430788</td>\n",
       "      <td>0.621616</td>\n",
       "      <td>-1.124326</td>\n",
       "      <td>-2.291700</td>\n",
       "      <td>-2.002737</td>\n",
       "      <td>-1.530886</td>\n",
       "      <td>-0.831507</td>\n",
       "      <td>...</td>\n",
       "      <td>0.263427</td>\n",
       "      <td>-0.546594</td>\n",
       "      <td>0.716356</td>\n",
       "      <td>-1.407259</td>\n",
       "      <td>1.632443</td>\n",
       "      <td>-0.736406</td>\n",
       "      <td>0.178588</td>\n",
       "      <td>0.228370</td>\n",
       "      <td>-1.217480</td>\n",
       "      <td>-1.050122</td>\n",
       "    </tr>\n",
       "  </tbody>\n",
       "</table>\n",
       "<p>110 rows × 17970 columns</p>\n",
       "</div>"
      ],
      "text/plain": [
       "     ENSG00000000003  ENSG00000000005  ENSG00000000419  ENSG00000000457  \\\n",
       "0           1.144065         0.884521         1.920421         0.957338   \n",
       "1          -1.477129        -1.272071        -2.137245        -1.476344   \n",
       "2          -1.343467         0.742568        -1.338624        -1.185860   \n",
       "3          -1.076456         0.313517        -0.312140        -0.987398   \n",
       "4           0.500577        -1.306593        -1.188084         0.439415   \n",
       "..               ...              ...              ...              ...   \n",
       "105         0.098513         1.038330         1.142660         0.179308   \n",
       "106         0.984776         0.516636        -0.310657         0.264153   \n",
       "107         0.450482         0.518683         0.224702         1.887516   \n",
       "108        -0.069949         1.028366         0.557010        -0.253907   \n",
       "109        -0.686874         0.674019        -1.154033        -1.430788   \n",
       "\n",
       "     ENSG00000000938  ENSG00000000971  ENSG00000001036  ENSG00000001084  \\\n",
       "0          -0.938683         0.799398         2.315521         0.893601   \n",
       "1          -0.986814        -1.249620        -0.844808        -0.829588   \n",
       "2           1.988871         1.005548         0.895728        -0.364399   \n",
       "3           0.998666        -0.979229         0.522982        -0.298619   \n",
       "4           1.595171        -0.912554         0.112149        -0.551846   \n",
       "..               ...              ...              ...              ...   \n",
       "105         0.177251         0.362169         0.872190        -0.121657   \n",
       "106         0.183032        -0.248785        -0.114757         1.995745   \n",
       "107         0.469681         1.928979         0.692063         0.517409   \n",
       "108         0.130848         1.316831        -0.831470         1.088371   \n",
       "109         0.621616        -1.124326        -2.291700        -2.002737   \n",
       "\n",
       "     ENSG00000001167  ENSG00000001460  ...  ENSG00000282651  ENSG00000282815  \\\n",
       "0           0.279131        -0.319907  ...        -0.053896         0.597290   \n",
       "1           0.125680        -0.521260  ...        -2.704402         0.794247   \n",
       "2          -1.077199        -1.621570  ...         2.198153        -0.440615   \n",
       "3          -0.618057        -0.377821  ...        -0.080322         1.103603   \n",
       "4           0.325129         1.945942  ...         0.381315        -0.551536   \n",
       "..               ...              ...  ...              ...              ...   \n",
       "105        -1.039522        -2.360833  ...         0.499181        -0.649088   \n",
       "106        -0.769994         2.528496  ...        -0.314178         0.937539   \n",
       "107         0.543516         0.610826  ...         0.626791        -0.718257   \n",
       "108         0.216460         0.459117  ...         0.190868        -0.556816   \n",
       "109        -1.530886        -0.831507  ...         0.263427        -0.546594   \n",
       "\n",
       "     ENSG00000282939  ENSG00000283063  ENSG00000283439  ENSG00000283463  \\\n",
       "0          -3.319958         0.182163        -1.259409         0.659223   \n",
       "1          -0.209766         0.349151        -0.618812         0.500987   \n",
       "2           0.846598         0.965443        -0.561372         1.075928   \n",
       "3           0.303495         0.196178         0.911884         0.831599   \n",
       "4           0.602750         0.743441         1.531260         0.474787   \n",
       "..               ...              ...              ...              ...   \n",
       "105         0.555548         0.730045         1.152622        -1.253497   \n",
       "106         0.313194         0.004240        -1.079734         0.676240   \n",
       "107         0.486891         0.707340        -0.803681         0.040863   \n",
       "108         0.587928         0.658431        -0.662785         0.737278   \n",
       "109         0.716356        -1.407259         1.632443        -0.736406   \n",
       "\n",
       "     ENSG00000283526  ENSG00000283586  ENSG00000283632  ENSG00000283697  \n",
       "0           0.864431        -1.036934         0.922879         0.362614  \n",
       "1           0.442650         0.301614        -0.347555         1.072232  \n",
       "2           0.173393         0.421635         1.396108         1.386457  \n",
       "3          -2.273281         0.320685         0.607991         0.903490  \n",
       "4           0.708366         0.219357         0.869492         0.677332  \n",
       "..               ...              ...              ...              ...  \n",
       "105         0.427223         0.041460         0.727944        -1.127612  \n",
       "106         0.757869        -0.661498        -0.126754         0.804092  \n",
       "107         0.996390        -0.084677         1.672903        -0.330668  \n",
       "108         0.039858         0.209729         2.093247         0.059056  \n",
       "109         0.178588         0.228370        -1.217480        -1.050122  \n",
       "\n",
       "[110 rows x 17970 columns]"
      ]
     },
     "execution_count": 183,
     "metadata": {},
     "output_type": "execute_result"
    }
   ],
   "source": [
    "test_x_scaled_cols = pd.DataFrame(test_x_scaled, columns=test_x.columns[1:])\n",
    "test_x_scaled_cols"
   ]
  },
  {
   "cell_type": "code",
   "execution_count": 178,
   "metadata": {},
   "outputs": [
    {
     "data": {
      "text/html": [
       "<style>#sk-container-id-20 {color: black;background-color: white;}#sk-container-id-20 pre{padding: 0;}#sk-container-id-20 div.sk-toggleable {background-color: white;}#sk-container-id-20 label.sk-toggleable__label {cursor: pointer;display: block;width: 100%;margin-bottom: 0;padding: 0.3em;box-sizing: border-box;text-align: center;}#sk-container-id-20 label.sk-toggleable__label-arrow:before {content: \"▸\";float: left;margin-right: 0.25em;color: #696969;}#sk-container-id-20 label.sk-toggleable__label-arrow:hover:before {color: black;}#sk-container-id-20 div.sk-estimator:hover label.sk-toggleable__label-arrow:before {color: black;}#sk-container-id-20 div.sk-toggleable__content {max-height: 0;max-width: 0;overflow: hidden;text-align: left;background-color: #f0f8ff;}#sk-container-id-20 div.sk-toggleable__content pre {margin: 0.2em;color: black;border-radius: 0.25em;background-color: #f0f8ff;}#sk-container-id-20 input.sk-toggleable__control:checked~div.sk-toggleable__content {max-height: 200px;max-width: 100%;overflow: auto;}#sk-container-id-20 input.sk-toggleable__control:checked~label.sk-toggleable__label-arrow:before {content: \"▾\";}#sk-container-id-20 div.sk-estimator input.sk-toggleable__control:checked~label.sk-toggleable__label {background-color: #d4ebff;}#sk-container-id-20 div.sk-label input.sk-toggleable__control:checked~label.sk-toggleable__label {background-color: #d4ebff;}#sk-container-id-20 input.sk-hidden--visually {border: 0;clip: rect(1px 1px 1px 1px);clip: rect(1px, 1px, 1px, 1px);height: 1px;margin: -1px;overflow: hidden;padding: 0;position: absolute;width: 1px;}#sk-container-id-20 div.sk-estimator {font-family: monospace;background-color: #f0f8ff;border: 1px dotted black;border-radius: 0.25em;box-sizing: border-box;margin-bottom: 0.5em;}#sk-container-id-20 div.sk-estimator:hover {background-color: #d4ebff;}#sk-container-id-20 div.sk-parallel-item::after {content: \"\";width: 100%;border-bottom: 1px solid gray;flex-grow: 1;}#sk-container-id-20 div.sk-label:hover label.sk-toggleable__label {background-color: #d4ebff;}#sk-container-id-20 div.sk-serial::before {content: \"\";position: absolute;border-left: 1px solid gray;box-sizing: border-box;top: 0;bottom: 0;left: 50%;z-index: 0;}#sk-container-id-20 div.sk-serial {display: flex;flex-direction: column;align-items: center;background-color: white;padding-right: 0.2em;padding-left: 0.2em;position: relative;}#sk-container-id-20 div.sk-item {position: relative;z-index: 1;}#sk-container-id-20 div.sk-parallel {display: flex;align-items: stretch;justify-content: center;background-color: white;position: relative;}#sk-container-id-20 div.sk-item::before, #sk-container-id-20 div.sk-parallel-item::before {content: \"\";position: absolute;border-left: 1px solid gray;box-sizing: border-box;top: 0;bottom: 0;left: 50%;z-index: -1;}#sk-container-id-20 div.sk-parallel-item {display: flex;flex-direction: column;z-index: 1;position: relative;background-color: white;}#sk-container-id-20 div.sk-parallel-item:first-child::after {align-self: flex-end;width: 50%;}#sk-container-id-20 div.sk-parallel-item:last-child::after {align-self: flex-start;width: 50%;}#sk-container-id-20 div.sk-parallel-item:only-child::after {width: 0;}#sk-container-id-20 div.sk-dashed-wrapped {border: 1px dashed gray;margin: 0 0.4em 0.5em 0.4em;box-sizing: border-box;padding-bottom: 0.4em;background-color: white;}#sk-container-id-20 div.sk-label label {font-family: monospace;font-weight: bold;display: inline-block;line-height: 1.2em;}#sk-container-id-20 div.sk-label-container {text-align: center;}#sk-container-id-20 div.sk-container {/* jupyter's `normalize.less` sets `[hidden] { display: none; }` but bootstrap.min.css set `[hidden] { display: none !important; }` so we also need the `!important` here to be able to override the default hidden behavior on the sphinx rendered scikit-learn.org. See: https://github.com/scikit-learn/scikit-learn/issues/21755 */display: inline-block !important;position: relative;}#sk-container-id-20 div.sk-text-repr-fallback {display: none;}</style><div id=\"sk-container-id-20\" class=\"sk-top-container\"><div class=\"sk-text-repr-fallback\"><pre>Lasso(alpha=0.028764489798114024)</pre><b>In a Jupyter environment, please rerun this cell to show the HTML representation or trust the notebook. <br />On GitHub, the HTML representation is unable to render, please try loading this page with nbviewer.org.</b></div><div class=\"sk-container\" hidden><div class=\"sk-item\"><div class=\"sk-estimator sk-toggleable\"><input class=\"sk-toggleable__control sk-hidden--visually\" id=\"sk-estimator-id-20\" type=\"checkbox\" checked><label for=\"sk-estimator-id-20\" class=\"sk-toggleable__label sk-toggleable__label-arrow\">Lasso</label><div class=\"sk-toggleable__content\"><pre>Lasso(alpha=0.028764489798114024)</pre></div></div></div></div></div>"
      ],
      "text/plain": [
       "Lasso(alpha=0.028764489798114024)"
      ]
     },
     "execution_count": 178,
     "metadata": {},
     "output_type": "execute_result"
    }
   ],
   "source": [
    "lasso_cv = linear_model.LassoCV().fit(train_x_scaled_cols, train_y.iloc[:,1])\n",
    "lasso = linear_model.Lasso(alpha=lasso_cv.alpha_).fit(train_x_scaled_cols, train_y.iloc[:,1])\n",
    "lasso"
   ]
  },
  {
   "cell_type": "code",
   "execution_count": 184,
   "metadata": {},
   "outputs": [],
   "source": [
    "lasso.feature_names_in_\n",
    "#y_predict = lasso.predict(test_x_scaled_cols)"
   ]
  },
  {
   "cell_type": "code",
   "execution_count": 205,
   "metadata": {},
   "outputs": [
    {
     "name": "stdout",
     "output_type": "stream",
     "text": [
      "[-0.  0.  0. ...  0. -0. -0.]\n",
      "(444, 145)\n"
     ]
    }
   ],
   "source": [
    "model_sel = SelectFromModel(estimator=lasso, prefit=True)\n",
    "model_sel.fit(train_x_scaled_cols, train_y.iloc[:,1])\n",
    "print(model_sel.estimator_.coef_)\n",
    "#print(model_sel.feature_names_in_.shape)\n",
    "red_train_x = model_sel.transform(train_x_scaled_cols)\n",
    "print(red_train_x.shape)\n",
    "\n",
    "# can't get feature names out for now, will just skip to rfe"
   ]
  },
  {
   "cell_type": "code",
   "execution_count": 212,
   "metadata": {},
   "outputs": [
    {
     "name": "stdout",
     "output_type": "stream",
     "text": [
      "Fitting estimator with 17970 features.\n",
      "Fitting estimator with 17791 features.\n",
      "Fitting estimator with 17612 features.\n",
      "Fitting estimator with 17433 features.\n",
      "Fitting estimator with 17254 features.\n",
      "Fitting estimator with 17075 features.\n",
      "Fitting estimator with 16896 features.\n",
      "Fitting estimator with 16717 features.\n",
      "Fitting estimator with 16538 features.\n",
      "Fitting estimator with 16359 features.\n",
      "Fitting estimator with 16180 features.\n",
      "Fitting estimator with 16001 features.\n",
      "Fitting estimator with 15822 features.\n",
      "Fitting estimator with 15643 features.\n",
      "Fitting estimator with 15464 features.\n",
      "Fitting estimator with 15285 features.\n",
      "Fitting estimator with 15106 features.\n",
      "Fitting estimator with 14927 features.\n",
      "Fitting estimator with 14748 features.\n",
      "Fitting estimator with 14569 features.\n",
      "Fitting estimator with 14390 features.\n",
      "Fitting estimator with 14211 features.\n",
      "Fitting estimator with 14032 features.\n",
      "Fitting estimator with 13853 features.\n",
      "Fitting estimator with 13674 features.\n",
      "Fitting estimator with 13495 features.\n",
      "Fitting estimator with 13316 features.\n",
      "Fitting estimator with 13137 features.\n",
      "Fitting estimator with 12958 features.\n",
      "Fitting estimator with 12779 features.\n",
      "Fitting estimator with 12600 features.\n",
      "Fitting estimator with 12421 features.\n",
      "Fitting estimator with 12242 features.\n",
      "Fitting estimator with 12063 features.\n",
      "Fitting estimator with 11884 features.\n",
      "Fitting estimator with 11705 features.\n",
      "Fitting estimator with 11526 features.\n",
      "Fitting estimator with 11347 features.\n",
      "Fitting estimator with 11168 features.\n",
      "Fitting estimator with 10989 features.\n",
      "Fitting estimator with 10810 features.\n",
      "Fitting estimator with 10631 features.\n",
      "Fitting estimator with 10452 features.\n",
      "Fitting estimator with 10273 features.\n",
      "Fitting estimator with 10094 features.\n",
      "Fitting estimator with 9915 features.\n",
      "Fitting estimator with 9736 features.\n",
      "Fitting estimator with 9557 features.\n",
      "Fitting estimator with 9378 features.\n",
      "Fitting estimator with 9199 features.\n",
      "Fitting estimator with 9020 features.\n",
      "Fitting estimator with 8841 features.\n",
      "Fitting estimator with 8662 features.\n",
      "Fitting estimator with 8483 features.\n",
      "Fitting estimator with 8304 features.\n",
      "Fitting estimator with 8125 features.\n",
      "Fitting estimator with 7946 features.\n",
      "Fitting estimator with 7767 features.\n",
      "Fitting estimator with 7588 features.\n",
      "Fitting estimator with 7409 features.\n",
      "Fitting estimator with 7230 features.\n",
      "Fitting estimator with 7051 features.\n",
      "Fitting estimator with 6872 features.\n",
      "Fitting estimator with 6693 features.\n",
      "Fitting estimator with 6514 features.\n",
      "Fitting estimator with 6335 features.\n",
      "Fitting estimator with 6156 features.\n",
      "Fitting estimator with 5977 features.\n",
      "Fitting estimator with 5798 features.\n",
      "Fitting estimator with 5619 features.\n",
      "Fitting estimator with 5440 features.\n",
      "Fitting estimator with 5261 features.\n",
      "Fitting estimator with 5082 features.\n",
      "Fitting estimator with 4903 features.\n",
      "Fitting estimator with 4724 features.\n",
      "Fitting estimator with 4545 features.\n",
      "Fitting estimator with 4366 features.\n",
      "Fitting estimator with 4187 features.\n",
      "Fitting estimator with 4008 features.\n",
      "Fitting estimator with 3829 features.\n",
      "Fitting estimator with 3650 features.\n",
      "Fitting estimator with 3471 features.\n",
      "Fitting estimator with 3292 features.\n",
      "Fitting estimator with 3113 features.\n",
      "Fitting estimator with 2934 features.\n",
      "Fitting estimator with 2755 features.\n",
      "Fitting estimator with 2576 features.\n",
      "Fitting estimator with 2397 features.\n",
      "Fitting estimator with 2218 features.\n",
      "Fitting estimator with 2039 features.\n",
      "Fitting estimator with 1860 features.\n",
      "Fitting estimator with 1681 features.\n",
      "Fitting estimator with 1502 features.\n",
      "Fitting estimator with 1323 features.\n",
      "Fitting estimator with 1144 features.\n",
      "Fitting estimator with 965 features.\n",
      "Fitting estimator with 786 features.\n",
      "Fitting estimator with 607 features.\n",
      "Fitting estimator with 428 features.\n",
      "Fitting estimator with 249 features.\n",
      "Fitting estimator with 70 features.\n",
      "(17970,)\n",
      "(17970,)\n"
     ]
    }
   ],
   "source": [
    "rfe = RFE(lasso, n_features_to_select=10, step=0.01, verbose=1)\n",
    "#rfe = RFECV(lasso)\n",
    "#rfe.fit(red_train_x, y_train)\n",
    "rfe.fit(train_x_scaled_cols, train_y.iloc[:,1])\n",
    "\n",
    "# summarize the selection of the attributes\n",
    "print(rfe.support_.shape)\n",
    "print(rfe.ranking_.shape)"
   ]
  },
  {
   "cell_type": "markdown",
   "metadata": {},
   "source": [
    "Now I will filter the columns based on features selected and run ridge model again."
   ]
  },
  {
   "cell_type": "code",
   "execution_count": 213,
   "metadata": {},
   "outputs": [
    {
     "data": {
      "text/plain": [
       "array([False, False, False, ..., False, False, False])"
      ]
     },
     "execution_count": 213,
     "metadata": {},
     "output_type": "execute_result"
    }
   ],
   "source": [
    "rfe.support_"
   ]
  },
  {
   "cell_type": "code",
   "execution_count": 217,
   "metadata": {},
   "outputs": [],
   "source": [
    "dfBool = pd.Series(rfe.support_)\n",
    "train_x_scaled_top10 = train_x_scaled_cols[train_x_scaled_cols.columns[dfBool]]\n",
    "test_x_scaled_top10 = test_x_scaled_cols[test_x_scaled_cols.columns[dfBool]]"
   ]
  },
  {
   "cell_type": "code",
   "execution_count": 236,
   "metadata": {},
   "outputs": [],
   "source": [
    "regr_cv = linear_model.RidgeCV(alphas=np.arange(1, 1000, 0.1))"
   ]
  },
  {
   "cell_type": "code",
   "execution_count": 237,
   "metadata": {},
   "outputs": [],
   "source": [
    "model_cv = regr_cv.fit(train_x_scaled_top10, train_y.iloc[:,1])"
   ]
  },
  {
   "cell_type": "code",
   "execution_count": 238,
   "metadata": {},
   "outputs": [
    {
     "data": {
      "text/plain": [
       "30.100000000000026"
      ]
     },
     "execution_count": 238,
     "metadata": {},
     "output_type": "execute_result"
    }
   ],
   "source": [
    "model_cv.alpha_"
   ]
  },
  {
   "cell_type": "code",
   "execution_count": 241,
   "metadata": {},
   "outputs": [],
   "source": [
    "ridge_model = linear_model.Ridge(alpha=model_cv.alpha_).fit(train_x_scaled_top10, train_y.iloc[:,1])"
   ]
  },
  {
   "cell_type": "code",
   "execution_count": 242,
   "metadata": {},
   "outputs": [],
   "source": [
    "y_predict = ridge_model.predict(test_x_scaled_top10)"
   ]
  },
  {
   "cell_type": "code",
   "execution_count": 243,
   "metadata": {},
   "outputs": [
    {
     "data": {
      "text/plain": [
       "array([1, 1, 0, 1, 0, 0, 1, 1, 0, 0, 1, 1, 1, 1, 0, 1, 1, 0, 1, 1, 1, 1,\n",
       "       0, 1, 1, 1, 1, 0, 1, 1, 1, 0, 0, 0, 0, 0, 1, 1, 0, 1, 1, 0, 0, 0,\n",
       "       0, 1, 1, 1, 1, 1, 0, 1, 0, 1, 0, 0, 1, 0, 1, 1, 1, 1, 0, 0, 1, 0,\n",
       "       1, 1, 1, 1, 0, 0, 0, 0, 1, 1, 1, 1, 1, 0, 0, 1, 1, 1, 1, 0, 1, 1,\n",
       "       0, 0, 1, 0, 0, 1, 0, 1, 1, 0, 1, 1, 0, 1, 1, 1, 1, 1, 0, 0, 0, 1])"
      ]
     },
     "execution_count": 243,
     "metadata": {},
     "output_type": "execute_result"
    }
   ],
   "source": [
    "y_predict = np.where(y_predict > 0.5, 1, 0)\n",
    "y_predict"
   ]
  },
  {
   "cell_type": "code",
   "execution_count": 244,
   "metadata": {},
   "outputs": [],
   "source": [
    "kaggle_csv(y_predict)"
   ]
  },
  {
   "cell_type": "markdown",
   "metadata": {},
   "source": [
    "This was not good, only scored 0.75."
   ]
  },
  {
   "cell_type": "markdown",
   "metadata": {},
   "source": [
    "Now, which genes/columns/features are the top 10 features?"
   ]
  },
  {
   "cell_type": "code",
   "execution_count": 245,
   "metadata": {},
   "outputs": [
    {
     "data": {
      "text/plain": [
       "Index(['ENSG00000082512', 'ENSG00000136235', 'ENSG00000136535',\n",
       "       'ENSG00000140274', 'ENSG00000152093', 'ENSG00000153714',\n",
       "       'ENSG00000159899', 'ENSG00000177947', 'ENSG00000183269',\n",
       "       'ENSG00000221813'],\n",
       "      dtype='object')"
      ]
     },
     "execution_count": 245,
     "metadata": {},
     "output_type": "execute_result"
    }
   ],
   "source": [
    "test_x_scaled_top10.columns"
   ]
  },
  {
   "cell_type": "markdown",
   "metadata": {},
   "source": [
    "These are the top genes for my model."
   ]
  },
  {
   "cell_type": "markdown",
   "metadata": {},
   "source": [
    "### Time to try to visualize the dataset and visually separate two groups of patients"
   ]
  },
  {
   "cell_type": "markdown",
   "metadata": {},
   "source": [
    "Note that patients are the rows and genes are the columns/features. \n",
    "\n",
    "Maybe I can visualize just the top features/genes for each patient."
   ]
  },
  {
   "cell_type": "code",
   "execution_count": 249,
   "metadata": {},
   "outputs": [
    {
     "ename": "ValueError",
     "evalue": "x and y must be the same size",
     "output_type": "error",
     "traceback": [
      "\u001b[0;31m---------------------------------------------------------------------------\u001b[0m",
      "\u001b[0;31mValueError\u001b[0m                                Traceback (most recent call last)",
      "Cell \u001b[0;32mIn [249], line 1\u001b[0m\n\u001b[0;32m----> 1\u001b[0m \u001b[43mplt\u001b[49m\u001b[38;5;241;43m.\u001b[39;49m\u001b[43mscatter\u001b[49m\u001b[43m(\u001b[49m\u001b[43mtest_x_scaled_top10\u001b[49m\u001b[38;5;241;43m.\u001b[39;49m\u001b[43mcolumns\u001b[49m\u001b[43m,\u001b[49m\u001b[43m \u001b[49m\u001b[43mtest_x_scaled_top10\u001b[49m\u001b[43m)\u001b[49m\n",
      "File \u001b[0;32m~/anaconda3/envs/ml/lib/python3.8/site-packages/matplotlib/pyplot.py:2817\u001b[0m, in \u001b[0;36mscatter\u001b[0;34m(x, y, s, c, marker, cmap, norm, vmin, vmax, alpha, linewidths, edgecolors, plotnonfinite, data, **kwargs)\u001b[0m\n\u001b[1;32m   <a href='file:///Users/darian/anaconda3/envs/ml/lib/python3.8/site-packages/matplotlib/pyplot.py?line=2811'>2812</a>\u001b[0m \u001b[39m@_copy_docstring_and_deprecators\u001b[39m(Axes\u001b[39m.\u001b[39mscatter)\n\u001b[1;32m   <a href='file:///Users/darian/anaconda3/envs/ml/lib/python3.8/site-packages/matplotlib/pyplot.py?line=2812'>2813</a>\u001b[0m \u001b[39mdef\u001b[39;00m \u001b[39mscatter\u001b[39m(\n\u001b[1;32m   <a href='file:///Users/darian/anaconda3/envs/ml/lib/python3.8/site-packages/matplotlib/pyplot.py?line=2813'>2814</a>\u001b[0m         x, y, s\u001b[39m=\u001b[39m\u001b[39mNone\u001b[39;00m, c\u001b[39m=\u001b[39m\u001b[39mNone\u001b[39;00m, marker\u001b[39m=\u001b[39m\u001b[39mNone\u001b[39;00m, cmap\u001b[39m=\u001b[39m\u001b[39mNone\u001b[39;00m, norm\u001b[39m=\u001b[39m\u001b[39mNone\u001b[39;00m,\n\u001b[1;32m   <a href='file:///Users/darian/anaconda3/envs/ml/lib/python3.8/site-packages/matplotlib/pyplot.py?line=2814'>2815</a>\u001b[0m         vmin\u001b[39m=\u001b[39m\u001b[39mNone\u001b[39;00m, vmax\u001b[39m=\u001b[39m\u001b[39mNone\u001b[39;00m, alpha\u001b[39m=\u001b[39m\u001b[39mNone\u001b[39;00m, linewidths\u001b[39m=\u001b[39m\u001b[39mNone\u001b[39;00m, \u001b[39m*\u001b[39m,\n\u001b[1;32m   <a href='file:///Users/darian/anaconda3/envs/ml/lib/python3.8/site-packages/matplotlib/pyplot.py?line=2815'>2816</a>\u001b[0m         edgecolors\u001b[39m=\u001b[39m\u001b[39mNone\u001b[39;00m, plotnonfinite\u001b[39m=\u001b[39m\u001b[39mFalse\u001b[39;00m, data\u001b[39m=\u001b[39m\u001b[39mNone\u001b[39;00m, \u001b[39m*\u001b[39m\u001b[39m*\u001b[39mkwargs):\n\u001b[0;32m-> <a href='file:///Users/darian/anaconda3/envs/ml/lib/python3.8/site-packages/matplotlib/pyplot.py?line=2816'>2817</a>\u001b[0m     __ret \u001b[39m=\u001b[39m gca()\u001b[39m.\u001b[39;49mscatter(\n\u001b[1;32m   <a href='file:///Users/darian/anaconda3/envs/ml/lib/python3.8/site-packages/matplotlib/pyplot.py?line=2817'>2818</a>\u001b[0m         x, y, s\u001b[39m=\u001b[39;49ms, c\u001b[39m=\u001b[39;49mc, marker\u001b[39m=\u001b[39;49mmarker, cmap\u001b[39m=\u001b[39;49mcmap, norm\u001b[39m=\u001b[39;49mnorm,\n\u001b[1;32m   <a href='file:///Users/darian/anaconda3/envs/ml/lib/python3.8/site-packages/matplotlib/pyplot.py?line=2818'>2819</a>\u001b[0m         vmin\u001b[39m=\u001b[39;49mvmin, vmax\u001b[39m=\u001b[39;49mvmax, alpha\u001b[39m=\u001b[39;49malpha, linewidths\u001b[39m=\u001b[39;49mlinewidths,\n\u001b[1;32m   <a href='file:///Users/darian/anaconda3/envs/ml/lib/python3.8/site-packages/matplotlib/pyplot.py?line=2819'>2820</a>\u001b[0m         edgecolors\u001b[39m=\u001b[39;49medgecolors, plotnonfinite\u001b[39m=\u001b[39;49mplotnonfinite,\n\u001b[1;32m   <a href='file:///Users/darian/anaconda3/envs/ml/lib/python3.8/site-packages/matplotlib/pyplot.py?line=2820'>2821</a>\u001b[0m         \u001b[39m*\u001b[39;49m\u001b[39m*\u001b[39;49m({\u001b[39m\"\u001b[39;49m\u001b[39mdata\u001b[39;49m\u001b[39m\"\u001b[39;49m: data} \u001b[39mif\u001b[39;49;00m data \u001b[39mis\u001b[39;49;00m \u001b[39mnot\u001b[39;49;00m \u001b[39mNone\u001b[39;49;00m \u001b[39melse\u001b[39;49;00m {}), \u001b[39m*\u001b[39;49m\u001b[39m*\u001b[39;49mkwargs)\n\u001b[1;32m   <a href='file:///Users/darian/anaconda3/envs/ml/lib/python3.8/site-packages/matplotlib/pyplot.py?line=2821'>2822</a>\u001b[0m     sci(__ret)\n\u001b[1;32m   <a href='file:///Users/darian/anaconda3/envs/ml/lib/python3.8/site-packages/matplotlib/pyplot.py?line=2822'>2823</a>\u001b[0m     \u001b[39mreturn\u001b[39;00m __ret\n",
      "File \u001b[0;32m~/anaconda3/envs/ml/lib/python3.8/site-packages/matplotlib/__init__.py:1414\u001b[0m, in \u001b[0;36m_preprocess_data.<locals>.inner\u001b[0;34m(ax, data, *args, **kwargs)\u001b[0m\n\u001b[1;32m   <a href='file:///Users/darian/anaconda3/envs/ml/lib/python3.8/site-packages/matplotlib/__init__.py?line=1410'>1411</a>\u001b[0m \u001b[39m@functools\u001b[39m\u001b[39m.\u001b[39mwraps(func)\n\u001b[1;32m   <a href='file:///Users/darian/anaconda3/envs/ml/lib/python3.8/site-packages/matplotlib/__init__.py?line=1411'>1412</a>\u001b[0m \u001b[39mdef\u001b[39;00m \u001b[39minner\u001b[39m(ax, \u001b[39m*\u001b[39margs, data\u001b[39m=\u001b[39m\u001b[39mNone\u001b[39;00m, \u001b[39m*\u001b[39m\u001b[39m*\u001b[39mkwargs):\n\u001b[1;32m   <a href='file:///Users/darian/anaconda3/envs/ml/lib/python3.8/site-packages/matplotlib/__init__.py?line=1412'>1413</a>\u001b[0m     \u001b[39mif\u001b[39;00m data \u001b[39mis\u001b[39;00m \u001b[39mNone\u001b[39;00m:\n\u001b[0;32m-> <a href='file:///Users/darian/anaconda3/envs/ml/lib/python3.8/site-packages/matplotlib/__init__.py?line=1413'>1414</a>\u001b[0m         \u001b[39mreturn\u001b[39;00m func(ax, \u001b[39m*\u001b[39;49m\u001b[39mmap\u001b[39;49m(sanitize_sequence, args), \u001b[39m*\u001b[39;49m\u001b[39m*\u001b[39;49mkwargs)\n\u001b[1;32m   <a href='file:///Users/darian/anaconda3/envs/ml/lib/python3.8/site-packages/matplotlib/__init__.py?line=1415'>1416</a>\u001b[0m     bound \u001b[39m=\u001b[39m new_sig\u001b[39m.\u001b[39mbind(ax, \u001b[39m*\u001b[39margs, \u001b[39m*\u001b[39m\u001b[39m*\u001b[39mkwargs)\n\u001b[1;32m   <a href='file:///Users/darian/anaconda3/envs/ml/lib/python3.8/site-packages/matplotlib/__init__.py?line=1416'>1417</a>\u001b[0m     auto_label \u001b[39m=\u001b[39m (bound\u001b[39m.\u001b[39marguments\u001b[39m.\u001b[39mget(label_namer)\n\u001b[1;32m   <a href='file:///Users/darian/anaconda3/envs/ml/lib/python3.8/site-packages/matplotlib/__init__.py?line=1417'>1418</a>\u001b[0m                   \u001b[39mor\u001b[39;00m bound\u001b[39m.\u001b[39mkwargs\u001b[39m.\u001b[39mget(label_namer))\n",
      "File \u001b[0;32m~/anaconda3/envs/ml/lib/python3.8/site-packages/matplotlib/axes/_axes.py:4368\u001b[0m, in \u001b[0;36mAxes.scatter\u001b[0;34m(self, x, y, s, c, marker, cmap, norm, vmin, vmax, alpha, linewidths, edgecolors, plotnonfinite, **kwargs)\u001b[0m\n\u001b[1;32m   <a href='file:///Users/darian/anaconda3/envs/ml/lib/python3.8/site-packages/matplotlib/axes/_axes.py?line=4365'>4366</a>\u001b[0m y \u001b[39m=\u001b[39m np\u001b[39m.\u001b[39mma\u001b[39m.\u001b[39mravel(y)\n\u001b[1;32m   <a href='file:///Users/darian/anaconda3/envs/ml/lib/python3.8/site-packages/matplotlib/axes/_axes.py?line=4366'>4367</a>\u001b[0m \u001b[39mif\u001b[39;00m x\u001b[39m.\u001b[39msize \u001b[39m!=\u001b[39m y\u001b[39m.\u001b[39msize:\n\u001b[0;32m-> <a href='file:///Users/darian/anaconda3/envs/ml/lib/python3.8/site-packages/matplotlib/axes/_axes.py?line=4367'>4368</a>\u001b[0m     \u001b[39mraise\u001b[39;00m \u001b[39mValueError\u001b[39;00m(\u001b[39m\"\u001b[39m\u001b[39mx and y must be the same size\u001b[39m\u001b[39m\"\u001b[39m)\n\u001b[1;32m   <a href='file:///Users/darian/anaconda3/envs/ml/lib/python3.8/site-packages/matplotlib/axes/_axes.py?line=4369'>4370</a>\u001b[0m \u001b[39mif\u001b[39;00m s \u001b[39mis\u001b[39;00m \u001b[39mNone\u001b[39;00m:\n\u001b[1;32m   <a href='file:///Users/darian/anaconda3/envs/ml/lib/python3.8/site-packages/matplotlib/axes/_axes.py?line=4370'>4371</a>\u001b[0m     s \u001b[39m=\u001b[39m (\u001b[39m20\u001b[39m \u001b[39mif\u001b[39;00m rcParams[\u001b[39m'\u001b[39m\u001b[39m_internal.classic_mode\u001b[39m\u001b[39m'\u001b[39m] \u001b[39melse\u001b[39;00m\n\u001b[1;32m   <a href='file:///Users/darian/anaconda3/envs/ml/lib/python3.8/site-packages/matplotlib/axes/_axes.py?line=4371'>4372</a>\u001b[0m          rcParams[\u001b[39m'\u001b[39m\u001b[39mlines.markersize\u001b[39m\u001b[39m'\u001b[39m] \u001b[39m*\u001b[39m\u001b[39m*\u001b[39m \u001b[39m2.0\u001b[39m)\n",
      "\u001b[0;31mValueError\u001b[0m: x and y must be the same size"
     ]
    },
    {
     "data": {
      "image/png": "[encoded data removed]",
      "text/plain": [
       "<Figure size 640x480 with 1 Axes>"
      ]
     },
     "metadata": {},
     "output_type": "display_data"
    }
   ],
   "source": [
    "plt.scatter(test_x_scaled_top10.columns, test_x_scaled_top10)"
   ]
  },
  {
   "cell_type": "code",
   "execution_count": null,
   "metadata": {},
   "outputs": [],
   "source": []
  },
  {
   "cell_type": "code",
   "execution_count": null,
   "metadata": {},
   "outputs": [],
   "source": []
  },
  {
   "cell_type": "markdown",
   "metadata": {},
   "source": [
    "### Bonus Q:\n",
    "You could use https://www.uniprot.org/Links to an external site, and search for Gene IDs. See if there is a meaningful connection between the top 10 most important genes and disease. Did your model recapitulate of the known association between Genes and Disease?"
   ]
  },
  {
   "cell_type": "markdown",
   "metadata": {},
   "source": [
    "* ENSG00000082512 = TNF receptor-associated factor 5, seems to be involved in apoptosis.\n",
    "* ENSG00000136235 = Could be a melanogenic enzyme.\n",
    "* ENSG00000136535 = Transcriptional repressor involved in multiple aspects of cortical development.\n",
    "* ENSG00000140274 = May play a role in thyroid hormone synthesis\n",
    "* ENSG00000152093 = This gene differs from CFC1 by only one residue at position 78:R -> W. R78W is also thought to be a CFC1 polymorphism.\n",
    "* ENSG00000153714 = Leucine rich adaptor protein 1-like\n",
    "* ENSG00000159899 = May play a role in the regulation of skeletal growth.\n",
    "* ENSG00000177947 = May help to maintain the passive elastic structures and elastic recoil of the sperm tail.\n",
    "* ENSG00000183269 = Olfactory receptor 52E8\n",
    "* ENSG00000221813 = Olfactory receptor 6B1"
   ]
  },
  {
   "cell_type": "markdown",
   "metadata": {},
   "source": [
    "Seems like some of these genes could be disease and cancer associated, but certainly not all of them."
   ]
  },
  {
   "cell_type": "markdown",
   "metadata": {},
   "source": []
  }
 ],
 "metadata": {
  "interpreter": {
   "hash": "8caeab4bca0c391f7ca25c4f034099e3f0018598aa614c1692ff22215a6436d9"
  },
  "kernelspec": {
   "display_name": "ml",
   "language": "python",
   "name": "python3"
  },
  "language_info": {
   "codemirror_mode": {
    "name": "ipython",
    "version": 3
   },
   "file_extension": ".py",
   "mimetype": "text/x-python",
   "name": "python",
   "nbconvert_exporter": "python",
   "pygments_lexer": "ipython3",
   "version": "3.8.13"
  }
 },
 "nbformat": 4,
 "nbformat_minor": 4
}
