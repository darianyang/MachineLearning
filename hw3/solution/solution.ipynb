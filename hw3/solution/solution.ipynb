{
 "cells": [
  {
   "cell_type": "code",
   "execution_count": 1,
   "metadata": {},
   "outputs": [],
   "source": [
    "import os\n",
    "os.environ['CUDA_VISIBLE_DEVICES'] = '1'\n",
    "import pandas as pd\n",
    "import numpy as np\n",
    "import pickle\n",
    "import matplotlib.pyplot as plt\n",
    "import torch\n",
    "from solution import RNN_network, SmilesDataset, create_loader"
   ]
  },
  {
   "cell_type": "code",
   "execution_count": 2,
   "metadata": {},
   "outputs": [],
   "source": [
    "device = torch.device('cuda' if torch.cuda.is_available() else 'cpu')\n",
    "# device = torch.device('cpu')\n",
    "tasks = [\"P23458\",\"O60674\",\"P52333\",\"P29597\"]\n",
    "n_tasks = len(tasks)\n",
    "tokens = pickle.load(open('tokens.pkl', 'rb'))"
   ]
  },
  {
   "cell_type": "code",
   "execution_count": 3,
   "metadata": {},
   "outputs": [
    {
     "data": {
      "image/png": "[encoded data removed]",
      "text/plain": [
       "<Figure size 432x288 with 1 Axes>"
      ]
     },
     "metadata": {
      "needs_background": "light"
     },
     "output_type": "display_data"
    }
   ],
   "source": [
    "train_losses, test_losses = pickle.load(open('lstm_training_metrics.pkl', 'rb'))\n",
    "plt.plot(train_losses, label='training loss')\n",
    "plt.plot(test_losses, label='test loss')\n",
    "plt.legend()\n",
    "plt.show()"
   ]
  },
  {
   "cell_type": "code",
   "execution_count": 4,
   "metadata": {},
   "outputs": [
    {
     "data": {
      "text/plain": [
       "<All keys matched successfully>"
      ]
     },
     "execution_count": 4,
     "metadata": {},
     "output_type": "execute_result"
    }
   ],
   "source": [
    "model = RNN_network(n_layers=2,\n",
    "                    layer=\"GRU\", \n",
    "                    bidirectional=False,\n",
    "                    embedding_dim=256,\n",
    "                    encoder_dim=256,\n",
    "                    num_embeddings=41,\n",
    "                    padding_idx=40,\n",
    "                    dropout=0.8,\n",
    "                    mlp_dropout=0.8,\n",
    "                    mlp_hidden_size=256\n",
    "                )\n",
    "model = model.to(device)\n",
    "model.load_state_dict(torch.load('lstm/checkpoint/epoch_35', map_location=device))"
   ]
  },
  {
   "cell_type": "code",
   "execution_count": 5,
   "metadata": {},
   "outputs": [],
   "source": [
    "df = pd.read_csv('data/test_answer.csv')\n",
    "# df.head()\n",
    "\n",
    "test_dataset = SmilesDataset('data/test_answer.csv', smiles_col='StdSMILES', target_cols=tasks, tokens=tokens)\n",
    "# test_loader = create_loader(test_dataset, batch_size=\n",
    "\n",
    "predictions, targets = [], []\n",
    "for data in test_dataset:\n",
    "    tokens, length, label = data['tokenized_smiles'], data['length'], data['labels']\n",
    "    out = model.forward((torch.unsqueeze(torch.tensor(tokens, dtype=torch.long, device=device), dim=0), torch.unsqueeze(torch.tensor(length, dtype=torch.long, device=device), dim=0)), pack=False)\n",
    "    # print(out.shape)\n",
    "    prediction = np.argmax(torch.squeeze(out, dim=0).detach().cpu().numpy(), axis=0)\n",
    "    # prediction = np.argmin(torch.squeeze(out, dim=0).detach().cpu().numpy(), axis=0)\n",
    "\n",
    "    predictions.append(prediction)\n",
    "    targets.append(label)\n",
    "\n",
    "# predictions = np.concatenate(predictions, axis=0)\n",
    "# targets = np.concatenate(targets, axis=0)"
   ]
  },
  {
   "cell_type": "code",
   "execution_count": 6,
   "metadata": {},
   "outputs": [
    {
     "name": "stdout",
     "output_type": "stream",
     "text": [
      "0.7810560007361231\n"
     ]
    }
   ],
   "source": [
    "def multitask_auc(ground_truth, predicted, return_mean=True):\n",
    "    from sklearn.metrics import roc_auc_score\n",
    "    import numpy as np\n",
    "    import torch\n",
    "    ground_truth = np.array(ground_truth)\n",
    "    predicted = np.array(predicted)\n",
    "    n_tasks = ground_truth.shape[1]\n",
    "    auc = []\n",
    "    for i in range(n_tasks):\n",
    "        ind = np.where(ground_truth[:, i] != 999)[0]\n",
    "        auc.append(roc_auc_score(ground_truth[ind, i], predicted[ind, i]))\n",
    "    #if torch.distributed.get_rank() == 0:\n",
    "    #    print(auc)\n",
    "    if return_mean:\n",
    "        return np.mean(auc)\n",
    "    else:\n",
    "        return auc\n",
    "    \n",
    "auc = multitask_auc(targets, predictions)\n",
    "print(auc)"
   ]
  },
  {
   "cell_type": "code",
   "execution_count": 7,
   "metadata": {},
   "outputs": [
    {
     "data": {
      "text/html": [
       "<div>\n",
       "<style scoped>\n",
       "    .dataframe tbody tr th:only-of-type {\n",
       "        vertical-align: middle;\n",
       "    }\n",
       "\n",
       "    .dataframe tbody tr th {\n",
       "        vertical-align: top;\n",
       "    }\n",
       "\n",
       "    .dataframe thead th {\n",
       "        text-align: right;\n",
       "    }\n",
       "</style>\n",
       "<table border=\"1\" class=\"dataframe\">\n",
       "  <thead>\n",
       "    <tr style=\"text-align: right;\">\n",
       "      <th></th>\n",
       "      <th>StdSMILES</th>\n",
       "      <th>P23458</th>\n",
       "      <th>O60674</th>\n",
       "      <th>P52333</th>\n",
       "      <th>P29597</th>\n",
       "    </tr>\n",
       "  </thead>\n",
       "  <tbody>\n",
       "    <tr>\n",
       "      <th>0</th>\n",
       "      <td>Cc1ccccc1-n1nccc1NC(=O)c1cnn2ccc(N)nc12</td>\n",
       "      <td>0.0</td>\n",
       "      <td>0.0</td>\n",
       "      <td>0.0</td>\n",
       "      <td>0.0</td>\n",
       "    </tr>\n",
       "    <tr>\n",
       "      <th>1</th>\n",
       "      <td>C[C@@H]1CCN(S(=O)(=O)c2cccc(C(F)(F)F)c2)C[C@@H...</td>\n",
       "      <td>1.0</td>\n",
       "      <td>1.0</td>\n",
       "      <td>1.0</td>\n",
       "      <td>1.0</td>\n",
       "    </tr>\n",
       "    <tr>\n",
       "      <th>2</th>\n",
       "      <td>O=C(Nc1ccc2cc1CCc1cccc(c1)Nc1ncc(Cl)c(n1)N2)N[...</td>\n",
       "      <td>1.0</td>\n",
       "      <td>1.0</td>\n",
       "      <td>1.0</td>\n",
       "      <td>1.0</td>\n",
       "    </tr>\n",
       "    <tr>\n",
       "      <th>3</th>\n",
       "      <td>COc1cc(CNc2ccn3ncc(C(=O)NC4CCCCC4)c3n2)cc(OC)c1</td>\n",
       "      <td>0.0</td>\n",
       "      <td>0.0</td>\n",
       "      <td>0.0</td>\n",
       "      <td>0.0</td>\n",
       "    </tr>\n",
       "    <tr>\n",
       "      <th>4</th>\n",
       "      <td>Cc1cc2ncc(-c3ccccc3)nc2cc1C</td>\n",
       "      <td>0.0</td>\n",
       "      <td>0.0</td>\n",
       "      <td>0.0</td>\n",
       "      <td>0.0</td>\n",
       "    </tr>\n",
       "  </tbody>\n",
       "</table>\n",
       "</div>"
      ],
      "text/plain": [
       "                                           StdSMILES  P23458  O60674  P52333  \\\n",
       "0            Cc1ccccc1-n1nccc1NC(=O)c1cnn2ccc(N)nc12     0.0     0.0     0.0   \n",
       "1  C[C@@H]1CCN(S(=O)(=O)c2cccc(C(F)(F)F)c2)C[C@@H...     1.0     1.0     1.0   \n",
       "2  O=C(Nc1ccc2cc1CCc1cccc(c1)Nc1ncc(Cl)c(n1)N2)N[...     1.0     1.0     1.0   \n",
       "3    COc1cc(CNc2ccn3ncc(C(=O)NC4CCCCC4)c3n2)cc(OC)c1     0.0     0.0     0.0   \n",
       "4                        Cc1cc2ncc(-c3ccccc3)nc2cc1C     0.0     0.0     0.0   \n",
       "\n",
       "   P29597  \n",
       "0     0.0  \n",
       "1     1.0  \n",
       "2     1.0  \n",
       "3     0.0  \n",
       "4     0.0  "
      ]
     },
     "execution_count": 7,
     "metadata": {},
     "output_type": "execute_result"
    }
   ],
   "source": [
    "df.head()"
   ]
  },
  {
   "cell_type": "code",
   "execution_count": 8,
   "metadata": {},
   "outputs": [],
   "source": [
    "predictions = np.array(predictions)"
   ]
  },
  {
   "cell_type": "code",
   "execution_count": 9,
   "metadata": {},
   "outputs": [],
   "source": [
    "df_prediction = pd.DataFrame({'StdSMILES': list(df['StdSMILES']), 'P23458':predictions[:, 0],\n",
    "                              'O60674': predictions[:, 1],\n",
    "                              'P52333': predictions[:, 2],\n",
    "                              'P29597': predictions[:, 3]})"
   ]
  },
  {
   "cell_type": "code",
   "execution_count": 10,
   "metadata": {},
   "outputs": [
    {
     "data": {
      "text/html": [
       "<div>\n",
       "<style scoped>\n",
       "    .dataframe tbody tr th:only-of-type {\n",
       "        vertical-align: middle;\n",
       "    }\n",
       "\n",
       "    .dataframe tbody tr th {\n",
       "        vertical-align: top;\n",
       "    }\n",
       "\n",
       "    .dataframe thead th {\n",
       "        text-align: right;\n",
       "    }\n",
       "</style>\n",
       "<table border=\"1\" class=\"dataframe\">\n",
       "  <thead>\n",
       "    <tr style=\"text-align: right;\">\n",
       "      <th></th>\n",
       "      <th>StdSMILES</th>\n",
       "      <th>P23458</th>\n",
       "      <th>O60674</th>\n",
       "      <th>P52333</th>\n",
       "      <th>P29597</th>\n",
       "    </tr>\n",
       "  </thead>\n",
       "  <tbody>\n",
       "    <tr>\n",
       "      <th>0</th>\n",
       "      <td>Cc1ccccc1-n1nccc1NC(=O)c1cnn2ccc(N)nc12</td>\n",
       "      <td>0</td>\n",
       "      <td>0</td>\n",
       "      <td>0</td>\n",
       "      <td>0</td>\n",
       "    </tr>\n",
       "    <tr>\n",
       "      <th>1</th>\n",
       "      <td>C[C@@H]1CCN(S(=O)(=O)c2cccc(C(F)(F)F)c2)C[C@@H...</td>\n",
       "      <td>1</td>\n",
       "      <td>1</td>\n",
       "      <td>1</td>\n",
       "      <td>1</td>\n",
       "    </tr>\n",
       "    <tr>\n",
       "      <th>2</th>\n",
       "      <td>O=C(Nc1ccc2cc1CCc1cccc(c1)Nc1ncc(Cl)c(n1)N2)N[...</td>\n",
       "      <td>1</td>\n",
       "      <td>1</td>\n",
       "      <td>1</td>\n",
       "      <td>1</td>\n",
       "    </tr>\n",
       "    <tr>\n",
       "      <th>3</th>\n",
       "      <td>COc1cc(CNc2ccn3ncc(C(=O)NC4CCCCC4)c3n2)cc(OC)c1</td>\n",
       "      <td>0</td>\n",
       "      <td>1</td>\n",
       "      <td>0</td>\n",
       "      <td>1</td>\n",
       "    </tr>\n",
       "    <tr>\n",
       "      <th>4</th>\n",
       "      <td>Cc1cc2ncc(-c3ccccc3)nc2cc1C</td>\n",
       "      <td>0</td>\n",
       "      <td>0</td>\n",
       "      <td>0</td>\n",
       "      <td>0</td>\n",
       "    </tr>\n",
       "  </tbody>\n",
       "</table>\n",
       "</div>"
      ],
      "text/plain": [
       "                                           StdSMILES  P23458  O60674  P52333  \\\n",
       "0            Cc1ccccc1-n1nccc1NC(=O)c1cnn2ccc(N)nc12       0       0       0   \n",
       "1  C[C@@H]1CCN(S(=O)(=O)c2cccc(C(F)(F)F)c2)C[C@@H...       1       1       1   \n",
       "2  O=C(Nc1ccc2cc1CCc1cccc(c1)Nc1ncc(Cl)c(n1)N2)N[...       1       1       1   \n",
       "3    COc1cc(CNc2ccn3ncc(C(=O)NC4CCCCC4)c3n2)cc(OC)c1       0       1       0   \n",
       "4                        Cc1cc2ncc(-c3ccccc3)nc2cc1C       0       0       0   \n",
       "\n",
       "   P29597  \n",
       "0       0  \n",
       "1       1  \n",
       "2       1  \n",
       "3       1  \n",
       "4       0  "
      ]
     },
     "execution_count": 10,
     "metadata": {},
     "output_type": "execute_result"
    }
   ],
   "source": [
    "df_prediction.head()"
   ]
  },
  {
   "cell_type": "code",
   "execution_count": 11,
   "metadata": {},
   "outputs": [],
   "source": [
    "df_prediction.to_csv('lstm_submission.csv', index=False)"
   ]
  }
 ],
 "metadata": {
  "kernelspec": {
   "display_name": "py39",
   "language": "python",
   "name": "python3"
  },
  "language_info": {
   "codemirror_mode": {
    "name": "ipython",
    "version": 3
   },
   "file_extension": ".py",
   "mimetype": "text/x-python",
   "name": "python",
   "nbconvert_exporter": "python",
   "pygments_lexer": "ipython3",
   "version": "3.9.12"
  },
  "orig_nbformat": 4
 },
 "nbformat": 4,
 "nbformat_minor": 2
}
