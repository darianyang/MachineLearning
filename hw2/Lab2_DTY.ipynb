{
 "cells": [
  {
   "cell_type": "markdown",
   "metadata": {},
   "source": [
    "## Lab 2 : Clustering\n",
    "### Darian Yang\n",
    "\n",
    "Tasks:\n",
    "1. Load the data and explore it.\n",
    "2. Perform k-means clustering. Determine the optimal number of clusters using e.g. elbow method.\n",
    "3. Perform clustering with different clustering methods implemented in Scikit Learn.\n",
    "4. Now, try clustering with another distance metric (e.g. Cosine, Jaccard, etc). Hint: Think whether the default distance metric is appropriate for your data or not.\n",
    "5. Visualize results using the dimensionality reduction (UMAP or tSNE) technique with respect to the cluster labels.\n",
    "6. Compare clustering results. Try to rationalize observed commonalities or differences with respect to clustering methods and distance metrics."
   ]
  },
  {
   "cell_type": "markdown",
   "metadata": {},
   "source": []
  }
 ],
 "metadata": {
  "language_info": {
   "name": "python"
  },
  "orig_nbformat": 4
 },
 "nbformat": 4,
 "nbformat_minor": 2
}
