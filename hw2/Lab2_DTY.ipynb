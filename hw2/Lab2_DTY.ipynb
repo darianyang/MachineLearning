{
 "cells": [
  {
   "cell_type": "markdown",
   "metadata": {},
   "source": [
    "## Lab 2 : Clustering\n",
    "### Darian Yang\n",
    "\n",
    "Tasks:\n",
    "1. Load the data and explore it.\n",
    "2. Perform k-means clustering. Determine the optimal number of clusters using e.g. elbow method.\n",
    "3. Perform clustering with different clustering methods implemented in Scikit Learn.\n",
    "4. Now, try clustering with another distance metric (e.g. Cosine, Jaccard, etc). Hint: Think whether the default distance metric is appropriate for your data or not.\n",
    "5. Visualize results using the dimensionality reduction (UMAP or tSNE) technique with respect to the cluster labels.\n",
    "6. Compare clustering results. Try to rationalize observed commonalities or differences with respect to clustering methods and distance metrics."
   ]
  },
  {
   "cell_type": "code",
   "execution_count": 3,
   "metadata": {},
   "outputs": [],
   "source": [
    "import numpy as np\n",
    "import pandas as pd\n",
    "import matplotlib.pyplot as plt\n",
    "%matplotlib inline"
   ]
  },
  {
   "cell_type": "markdown",
   "metadata": {},
   "source": [
    "### Loading and Exploring the Dataset"
   ]
  },
  {
   "cell_type": "code",
   "execution_count": 4,
   "metadata": {},
   "outputs": [
    {
     "data": {
      "text/html": [
       "<div>\n",
       "<style scoped>\n",
       "    .dataframe tbody tr th:only-of-type {\n",
       "        vertical-align: middle;\n",
       "    }\n",
       "\n",
       "    .dataframe tbody tr th {\n",
       "        vertical-align: top;\n",
       "    }\n",
       "\n",
       "    .dataframe thead th {\n",
       "        text-align: right;\n",
       "    }\n",
       "</style>\n",
       "<table border=\"1\" class=\"dataframe\">\n",
       "  <thead>\n",
       "    <tr style=\"text-align: right;\">\n",
       "      <th></th>\n",
       "      <th>ID</th>\n",
       "      <th>D_0</th>\n",
       "      <th>D_1</th>\n",
       "      <th>D_2</th>\n",
       "      <th>D_3</th>\n",
       "      <th>D_4</th>\n",
       "      <th>D_5</th>\n",
       "      <th>D_6</th>\n",
       "      <th>D_7</th>\n",
       "      <th>D_8</th>\n",
       "      <th>...</th>\n",
       "      <th>D_1014</th>\n",
       "      <th>D_1015</th>\n",
       "      <th>D_1016</th>\n",
       "      <th>D_1017</th>\n",
       "      <th>D_1018</th>\n",
       "      <th>D_1019</th>\n",
       "      <th>D_1020</th>\n",
       "      <th>D_1021</th>\n",
       "      <th>D_1022</th>\n",
       "      <th>D_1023</th>\n",
       "    </tr>\n",
       "  </thead>\n",
       "  <tbody>\n",
       "    <tr>\n",
       "      <th>0</th>\n",
       "      <td>AAEAMMIUQZAASJ-MRXNPFEDSA-N</td>\n",
       "      <td>1</td>\n",
       "      <td>1</td>\n",
       "      <td>1</td>\n",
       "      <td>1</td>\n",
       "      <td>1</td>\n",
       "      <td>1</td>\n",
       "      <td>1</td>\n",
       "      <td>0</td>\n",
       "      <td>1</td>\n",
       "      <td>...</td>\n",
       "      <td>1</td>\n",
       "      <td>1</td>\n",
       "      <td>1</td>\n",
       "      <td>1</td>\n",
       "      <td>1</td>\n",
       "      <td>1</td>\n",
       "      <td>0</td>\n",
       "      <td>1</td>\n",
       "      <td>1</td>\n",
       "      <td>1</td>\n",
       "    </tr>\n",
       "    <tr>\n",
       "      <th>1</th>\n",
       "      <td>AAEFNWQXBPYXAC-UHFFFAOYSA-N</td>\n",
       "      <td>1</td>\n",
       "      <td>1</td>\n",
       "      <td>1</td>\n",
       "      <td>1</td>\n",
       "      <td>0</td>\n",
       "      <td>1</td>\n",
       "      <td>1</td>\n",
       "      <td>1</td>\n",
       "      <td>0</td>\n",
       "      <td>...</td>\n",
       "      <td>1</td>\n",
       "      <td>0</td>\n",
       "      <td>1</td>\n",
       "      <td>1</td>\n",
       "      <td>1</td>\n",
       "      <td>0</td>\n",
       "      <td>0</td>\n",
       "      <td>1</td>\n",
       "      <td>1</td>\n",
       "      <td>1</td>\n",
       "    </tr>\n",
       "    <tr>\n",
       "      <th>2</th>\n",
       "      <td>AAMHSIWFDKXUMZ-UHFFFAOYSA-N</td>\n",
       "      <td>1</td>\n",
       "      <td>1</td>\n",
       "      <td>1</td>\n",
       "      <td>1</td>\n",
       "      <td>1</td>\n",
       "      <td>1</td>\n",
       "      <td>0</td>\n",
       "      <td>1</td>\n",
       "      <td>1</td>\n",
       "      <td>...</td>\n",
       "      <td>1</td>\n",
       "      <td>1</td>\n",
       "      <td>1</td>\n",
       "      <td>1</td>\n",
       "      <td>1</td>\n",
       "      <td>1</td>\n",
       "      <td>0</td>\n",
       "      <td>0</td>\n",
       "      <td>1</td>\n",
       "      <td>1</td>\n",
       "    </tr>\n",
       "    <tr>\n",
       "      <th>3</th>\n",
       "      <td>AAPQXEOSVSLLMB-UHFFFAOYSA-N</td>\n",
       "      <td>1</td>\n",
       "      <td>1</td>\n",
       "      <td>1</td>\n",
       "      <td>1</td>\n",
       "      <td>0</td>\n",
       "      <td>1</td>\n",
       "      <td>1</td>\n",
       "      <td>1</td>\n",
       "      <td>1</td>\n",
       "      <td>...</td>\n",
       "      <td>1</td>\n",
       "      <td>1</td>\n",
       "      <td>1</td>\n",
       "      <td>1</td>\n",
       "      <td>1</td>\n",
       "      <td>1</td>\n",
       "      <td>1</td>\n",
       "      <td>1</td>\n",
       "      <td>1</td>\n",
       "      <td>1</td>\n",
       "    </tr>\n",
       "    <tr>\n",
       "      <th>4</th>\n",
       "      <td>AARXXEHXOBTROW-UHFFFAOYSA-N</td>\n",
       "      <td>1</td>\n",
       "      <td>1</td>\n",
       "      <td>1</td>\n",
       "      <td>1</td>\n",
       "      <td>1</td>\n",
       "      <td>1</td>\n",
       "      <td>1</td>\n",
       "      <td>0</td>\n",
       "      <td>1</td>\n",
       "      <td>...</td>\n",
       "      <td>1</td>\n",
       "      <td>1</td>\n",
       "      <td>1</td>\n",
       "      <td>1</td>\n",
       "      <td>1</td>\n",
       "      <td>1</td>\n",
       "      <td>0</td>\n",
       "      <td>1</td>\n",
       "      <td>1</td>\n",
       "      <td>1</td>\n",
       "    </tr>\n",
       "    <tr>\n",
       "      <th>...</th>\n",
       "      <td>...</td>\n",
       "      <td>...</td>\n",
       "      <td>...</td>\n",
       "      <td>...</td>\n",
       "      <td>...</td>\n",
       "      <td>...</td>\n",
       "      <td>...</td>\n",
       "      <td>...</td>\n",
       "      <td>...</td>\n",
       "      <td>...</td>\n",
       "      <td>...</td>\n",
       "      <td>...</td>\n",
       "      <td>...</td>\n",
       "      <td>...</td>\n",
       "      <td>...</td>\n",
       "      <td>...</td>\n",
       "      <td>...</td>\n",
       "      <td>...</td>\n",
       "      <td>...</td>\n",
       "      <td>...</td>\n",
       "      <td>...</td>\n",
       "    </tr>\n",
       "    <tr>\n",
       "      <th>964</th>\n",
       "      <td>ZSRJHGJCRGZJNH-UHFFFAOYSA-N</td>\n",
       "      <td>1</td>\n",
       "      <td>1</td>\n",
       "      <td>1</td>\n",
       "      <td>1</td>\n",
       "      <td>1</td>\n",
       "      <td>1</td>\n",
       "      <td>1</td>\n",
       "      <td>1</td>\n",
       "      <td>1</td>\n",
       "      <td>...</td>\n",
       "      <td>1</td>\n",
       "      <td>1</td>\n",
       "      <td>1</td>\n",
       "      <td>1</td>\n",
       "      <td>1</td>\n",
       "      <td>1</td>\n",
       "      <td>0</td>\n",
       "      <td>1</td>\n",
       "      <td>1</td>\n",
       "      <td>1</td>\n",
       "    </tr>\n",
       "    <tr>\n",
       "      <th>965</th>\n",
       "      <td>ZTCGLAMYEAGAAN-UHFFFAOYSA-N</td>\n",
       "      <td>1</td>\n",
       "      <td>1</td>\n",
       "      <td>1</td>\n",
       "      <td>1</td>\n",
       "      <td>1</td>\n",
       "      <td>1</td>\n",
       "      <td>1</td>\n",
       "      <td>0</td>\n",
       "      <td>0</td>\n",
       "      <td>...</td>\n",
       "      <td>1</td>\n",
       "      <td>1</td>\n",
       "      <td>1</td>\n",
       "      <td>1</td>\n",
       "      <td>1</td>\n",
       "      <td>0</td>\n",
       "      <td>0</td>\n",
       "      <td>1</td>\n",
       "      <td>1</td>\n",
       "      <td>1</td>\n",
       "    </tr>\n",
       "    <tr>\n",
       "      <th>966</th>\n",
       "      <td>ZVWRFVCNQOECJS-UHFFFAOYSA-N</td>\n",
       "      <td>1</td>\n",
       "      <td>0</td>\n",
       "      <td>1</td>\n",
       "      <td>1</td>\n",
       "      <td>1</td>\n",
       "      <td>1</td>\n",
       "      <td>0</td>\n",
       "      <td>1</td>\n",
       "      <td>0</td>\n",
       "      <td>...</td>\n",
       "      <td>1</td>\n",
       "      <td>0</td>\n",
       "      <td>1</td>\n",
       "      <td>0</td>\n",
       "      <td>0</td>\n",
       "      <td>0</td>\n",
       "      <td>0</td>\n",
       "      <td>0</td>\n",
       "      <td>0</td>\n",
       "      <td>1</td>\n",
       "    </tr>\n",
       "    <tr>\n",
       "      <th>967</th>\n",
       "      <td>ZXAGZULZCKUUKQ-UHFFFAOYSA-N</td>\n",
       "      <td>1</td>\n",
       "      <td>1</td>\n",
       "      <td>1</td>\n",
       "      <td>1</td>\n",
       "      <td>1</td>\n",
       "      <td>1</td>\n",
       "      <td>1</td>\n",
       "      <td>0</td>\n",
       "      <td>0</td>\n",
       "      <td>...</td>\n",
       "      <td>1</td>\n",
       "      <td>1</td>\n",
       "      <td>1</td>\n",
       "      <td>1</td>\n",
       "      <td>1</td>\n",
       "      <td>0</td>\n",
       "      <td>0</td>\n",
       "      <td>1</td>\n",
       "      <td>1</td>\n",
       "      <td>1</td>\n",
       "    </tr>\n",
       "    <tr>\n",
       "      <th>968</th>\n",
       "      <td>ZXUIBIOEWLNNLY-UHFFFAOYSA-N</td>\n",
       "      <td>1</td>\n",
       "      <td>1</td>\n",
       "      <td>1</td>\n",
       "      <td>1</td>\n",
       "      <td>0</td>\n",
       "      <td>1</td>\n",
       "      <td>0</td>\n",
       "      <td>0</td>\n",
       "      <td>0</td>\n",
       "      <td>...</td>\n",
       "      <td>0</td>\n",
       "      <td>0</td>\n",
       "      <td>1</td>\n",
       "      <td>1</td>\n",
       "      <td>1</td>\n",
       "      <td>0</td>\n",
       "      <td>0</td>\n",
       "      <td>0</td>\n",
       "      <td>1</td>\n",
       "      <td>1</td>\n",
       "    </tr>\n",
       "  </tbody>\n",
       "</table>\n",
       "<p>969 rows × 1025 columns</p>\n",
       "</div>"
      ],
      "text/plain": [
       "                              ID  D_0  D_1  D_2  D_3  D_4  D_5  D_6  D_7  D_8  \\\n",
       "0    AAEAMMIUQZAASJ-MRXNPFEDSA-N    1    1    1    1    1    1    1    0    1   \n",
       "1    AAEFNWQXBPYXAC-UHFFFAOYSA-N    1    1    1    1    0    1    1    1    0   \n",
       "2    AAMHSIWFDKXUMZ-UHFFFAOYSA-N    1    1    1    1    1    1    0    1    1   \n",
       "3    AAPQXEOSVSLLMB-UHFFFAOYSA-N    1    1    1    1    0    1    1    1    1   \n",
       "4    AARXXEHXOBTROW-UHFFFAOYSA-N    1    1    1    1    1    1    1    0    1   \n",
       "..                           ...  ...  ...  ...  ...  ...  ...  ...  ...  ...   \n",
       "964  ZSRJHGJCRGZJNH-UHFFFAOYSA-N    1    1    1    1    1    1    1    1    1   \n",
       "965  ZTCGLAMYEAGAAN-UHFFFAOYSA-N    1    1    1    1    1    1    1    0    0   \n",
       "966  ZVWRFVCNQOECJS-UHFFFAOYSA-N    1    0    1    1    1    1    0    1    0   \n",
       "967  ZXAGZULZCKUUKQ-UHFFFAOYSA-N    1    1    1    1    1    1    1    0    0   \n",
       "968  ZXUIBIOEWLNNLY-UHFFFAOYSA-N    1    1    1    1    0    1    0    0    0   \n",
       "\n",
       "     ...  D_1014  D_1015  D_1016  D_1017  D_1018  D_1019  D_1020  D_1021  \\\n",
       "0    ...       1       1       1       1       1       1       0       1   \n",
       "1    ...       1       0       1       1       1       0       0       1   \n",
       "2    ...       1       1       1       1       1       1       0       0   \n",
       "3    ...       1       1       1       1       1       1       1       1   \n",
       "4    ...       1       1       1       1       1       1       0       1   \n",
       "..   ...     ...     ...     ...     ...     ...     ...     ...     ...   \n",
       "964  ...       1       1       1       1       1       1       0       1   \n",
       "965  ...       1       1       1       1       1       0       0       1   \n",
       "966  ...       1       0       1       0       0       0       0       0   \n",
       "967  ...       1       1       1       1       1       0       0       1   \n",
       "968  ...       0       0       1       1       1       0       0       0   \n",
       "\n",
       "     D_1022  D_1023  \n",
       "0         1       1  \n",
       "1         1       1  \n",
       "2         1       1  \n",
       "3         1       1  \n",
       "4         1       1  \n",
       "..      ...     ...  \n",
       "964       1       1  \n",
       "965       1       1  \n",
       "966       0       1  \n",
       "967       1       1  \n",
       "968       1       1  \n",
       "\n",
       "[969 rows x 1025 columns]"
      ]
     },
     "execution_count": 4,
     "metadata": {},
     "output_type": "execute_result"
    }
   ],
   "source": [
    "df = pd.read_csv(\"Lab2_clustering_dataset.csv\")\n",
    "df"
   ]
  },
  {
   "cell_type": "code",
   "execution_count": 5,
   "metadata": {},
   "outputs": [
    {
     "name": "stdout",
     "output_type": "stream",
     "text": [
      "<class 'pandas.core.frame.DataFrame'>\n",
      "RangeIndex: 969 entries, 0 to 968\n",
      "Columns: 1025 entries, ID to D_1023\n",
      "dtypes: int64(1024), object(1)\n",
      "memory usage: 7.6+ MB\n"
     ]
    }
   ],
   "source": [
    "df.info()"
   ]
  },
  {
   "cell_type": "code",
   "execution_count": 6,
   "metadata": {},
   "outputs": [
    {
     "data": {
      "image/png": "[encoded data removed]",
      "text/plain": [
       "<Figure size 432x288 with 1 Axes>"
      ]
     },
     "metadata": {
      "needs_background": "light"
     },
     "output_type": "display_data"
    }
   ],
   "source": [
    "# first row\n",
    "plt.scatter(range(0, len(df.iloc[0,1:])), df.iloc[0,1:])\n",
    "plt.show()"
   ]
  },
  {
   "cell_type": "code",
   "execution_count": 7,
   "metadata": {},
   "outputs": [
    {
     "data": {
      "image/png": "[encoded data removed]",
      "text/plain": [
       "<Figure size 432x288 with 1 Axes>"
      ]
     },
     "metadata": {
      "needs_background": "light"
     },
     "output_type": "display_data"
    }
   ],
   "source": [
    "# first column\n",
    "plt.scatter(range(0, len(df.iloc[:,1])), df.iloc[:,1])\n",
    "plt.show()"
   ]
  },
  {
   "cell_type": "markdown",
   "metadata": {},
   "source": [
    "Seems like the data is all binary, I need to transform it in some way to better analyze it. My first thoughts are to either standardize it (Z-score) or to maybe run PCA and then analyze the PCA value per column. I'll try standardizing for now."
   ]
  },
  {
   "cell_type": "markdown",
   "metadata": {},
   "source": [
    "Scikit-learn has a few nice scaler functions, lets use standard scaler, which scales by calculating the Z-score (z = (x - $\\mu$) / $\\sigma$)."
   ]
  },
  {
   "cell_type": "code",
   "execution_count": 8,
   "metadata": {},
   "outputs": [
    {
     "name": "stdout",
     "output_type": "stream",
     "text": [
      "<class 'pandas.core.frame.DataFrame'>\n",
      "RangeIndex: 969 entries, 0 to 968\n",
      "Columns: 1024 entries, D_0 to D_1023\n",
      "dtypes: int64(1024)\n",
      "memory usage: 7.6 MB\n"
     ]
    }
   ],
   "source": [
    "# first drop the ID column\n",
    "df = df.drop(\"ID\",axis=1)\n",
    "df.info()"
   ]
  },
  {
   "cell_type": "code",
   "execution_count": 9,
   "metadata": {},
   "outputs": [
    {
     "data": {
      "text/plain": [
       "array([[ 0.        ,  0.33161067,  0.        , ...,  0.4857668 ,\n",
       "         0.46619383,  0.31008684],\n",
       "       [ 0.        ,  0.33161067,  0.        , ...,  0.4857668 ,\n",
       "         0.46619383,  0.31008684],\n",
       "       [ 0.        ,  0.33161067,  0.        , ..., -2.05860094,\n",
       "         0.46619383,  0.31008684],\n",
       "       ...,\n",
       "       [ 0.        , -3.01558452,  0.        , ..., -2.05860094,\n",
       "        -2.14503055,  0.31008684],\n",
       "       [ 0.        ,  0.33161067,  0.        , ...,  0.4857668 ,\n",
       "         0.46619383,  0.31008684],\n",
       "       [ 0.        ,  0.33161067,  0.        , ..., -2.05860094,\n",
       "         0.46619383,  0.31008684]])"
      ]
     },
     "execution_count": 9,
     "metadata": {},
     "output_type": "execute_result"
    }
   ],
   "source": [
    "from sklearn.preprocessing import StandardScaler\n",
    "scaler = StandardScaler()\n",
    "scaler.fit(df)\n",
    "df_scaled = scaler.transform(df)\n",
    "df_scaled"
   ]
  },
  {
   "cell_type": "code",
   "execution_count": 10,
   "metadata": {},
   "outputs": [
    {
     "data": {
      "text/plain": [
       "[<matplotlib.lines.Line2D at 0x2aabed19e0d0>]"
      ]
     },
     "execution_count": 10,
     "metadata": {},
     "output_type": "execute_result"
    },
    {
     "data": {
      "image/png": "[encoded data removed]",
      "text/plain": [
       "<Figure size 432x288 with 1 Axes>"
      ]
     },
     "metadata": {
      "needs_background": "light"
     },
     "output_type": "display_data"
    }
   ],
   "source": [
    "plt.plot(df_scaled[0])"
   ]
  },
  {
   "cell_type": "markdown",
   "metadata": {},
   "source": [
    "## K-means Clustering"
   ]
  },
  {
   "cell_type": "code",
   "execution_count": 11,
   "metadata": {},
   "outputs": [],
   "source": [
    "from sklearn.cluster import KMeans"
   ]
  },
  {
   "cell_type": "markdown",
   "metadata": {},
   "source": [
    "Have to use the correct amount of clusters, can do this using the elbow method."
   ]
  },
  {
   "cell_type": "code",
   "execution_count": 12,
   "metadata": {},
   "outputs": [
    {
     "data": {
      "text/plain": [
       "[920550.0000000005,\n",
       " 783816.3724466466,\n",
       " 669279.0567315551,\n",
       " 581753.3571139674,\n",
       " 526917.192481172,\n",
       " 464913.65146482387,\n",
       " 432899.6997881019,\n",
       " 376312.65939958696,\n",
       " 344909.55233382765,\n",
       " 326120.41589188785,\n",
       " 309354.381564928,\n",
       " 299473.109143765,\n",
       " 291267.0678356921,\n",
       " 282847.4296888987,\n",
       " 272993.82149095606,\n",
       " 264805.5266235705,\n",
       " 262385.7327493067,\n",
       " 253934.54215982129,\n",
       " 251187.54238531872,\n",
       " 245814.16276888823]"
      ]
     },
     "execution_count": 12,
     "metadata": {},
     "output_type": "execute_result"
    }
   ],
   "source": [
    "# get the inertia values for a range of k values\n",
    "inertia = [KMeans(n_clusters=k).fit(df_scaled).inertia_ for k in range(1, 21)]\n",
    "inertia"
   ]
  },
  {
   "cell_type": "code",
   "execution_count": 13,
   "metadata": {},
   "outputs": [
    {
     "data": {
      "text/plain": [
       "Text(0,0.5,'inertia')"
      ]
     },
     "execution_count": 13,
     "metadata": {},
     "output_type": "execute_result"
    },
    {
     "data": {
      "image/png": "[encoded data removed]",
      "text/plain": [
       "<Figure size 432x288 with 1 Axes>"
      ]
     },
     "metadata": {
      "needs_background": "light"
     },
     "output_type": "display_data"
    }
   ],
   "source": [
    "plt.plot(inertia)\n",
    "plt.title(\"Elbow Plot\")\n",
    "plt.xlabel(\"k clusters\")\n",
    "plt.ylabel(\"inertia\")"
   ]
  },
  {
   "cell_type": "markdown",
   "metadata": {},
   "source": [
    "From the elbow plot, maybe k = 8 would be appropriate for this data."
   ]
  },
  {
   "cell_type": "code",
   "execution_count": 14,
   "metadata": {},
   "outputs": [],
   "source": [
    "km8 = KMeans(n_clusters=8).fit(df_scaled)"
   ]
  },
  {
   "cell_type": "markdown",
   "metadata": {},
   "source": [
    "It's not in the order of the task list, but I want to see the clustering results on a t-SNE or UMAP based plot."
   ]
  },
  {
   "cell_type": "code",
   "execution_count": 15,
   "metadata": {},
   "outputs": [],
   "source": [
    "from sklearn import manifold"
   ]
  },
  {
   "cell_type": "code",
   "execution_count": 22,
   "metadata": {},
   "outputs": [
    {
     "data": {
      "text/plain": [
       "(969, 2)"
      ]
     },
     "execution_count": 22,
     "metadata": {},
     "output_type": "execute_result"
    }
   ],
   "source": [
    "tsne = manifold.TSNE(perplexity=40, n_components=2)\n",
    "df_tsne = tsne.fit_transform(df_scaled)\n",
    "df_tsne.shape"
   ]
  },
  {
   "cell_type": "code",
   "execution_count": 23,
   "metadata": {},
   "outputs": [
    {
     "data": {
      "text/plain": [
       "<matplotlib.colorbar.Colorbar at 0x2aabef4e5c10>"
      ]
     },
     "execution_count": 23,
     "metadata": {},
     "output_type": "execute_result"
    },
    {
     "data": {
      "image/png": "[encoded data removed]",
      "text/plain": [
       "<Figure size 432x288 with 2 Axes>"
      ]
     },
     "metadata": {
      "needs_background": "light"
     },
     "output_type": "display_data"
    }
   ],
   "source": [
    "plt.scatter(df_tsne[:,0], df_tsne[:,1], c=km8.labels_, s=2, cmap=\"tab10\")\n",
    "plt.xlabel(\"tSNE1\")\n",
    "plt.ylabel(\"tSNE2\")\n",
    "plt.title(\"tSNE1 and tSNE2 Colored by Cluster Label\")\n",
    "plt.colorbar()"
   ]
  },
  {
   "cell_type": "markdown",
   "metadata": {},
   "source": [
    "As expected, the clusters look pretty reasonable with km = 8."
   ]
  },
  {
   "cell_type": "markdown",
   "metadata": {},
   "source": [
    "## Time to try other sklearn clustering methods"
   ]
  },
  {
   "cell_type": "code",
   "execution_count": 26,
   "metadata": {},
   "outputs": [],
   "source": [
    "from sklearn import cluster, mixture"
   ]
  },
  {
   "cell_type": "code",
   "execution_count": 27,
   "metadata": {},
   "outputs": [],
   "source": [
    "# from k-means\n",
    "n_clusters = 8"
   ]
  },
  {
   "cell_type": "code",
   "execution_count": 28,
   "metadata": {},
   "outputs": [
    {
     "name": "stderr",
     "output_type": "stream",
     "text": [
      "/ihome/crc/install/python/miniconda3-3.7/lib/python3.7/site-packages/sklearn/manifold/spectral_embedding_.py:234: UserWarning: Graph is not fully connected, spectral embedding may not work as expected.\n",
      "  warnings.warn(\"Graph is not fully connected, spectral embedding\"\n"
     ]
    }
   ],
   "source": [
    "# spectral clustering\n",
    "spectral = cluster.SpectralClustering(n_clusters=n_clusters, eigen_solver=\"arpack\", affinity=\"rbf\").fit(df_scaled)"
   ]
  },
  {
   "cell_type": "code",
   "execution_count": 29,
   "metadata": {},
   "outputs": [],
   "source": [
    "# gmm clustering\n",
    "gmm = mixture.GaussianMixture(n_components=n_clusters, covariance_type=\"full\").fit(df_scaled)"
   ]
  },
  {
   "cell_type": "code",
   "execution_count": 30,
   "metadata": {},
   "outputs": [],
   "source": [
    "# DBSCAN\n",
    "dbscan = cluster.DBSCAN().fit(df_scaled)"
   ]
  },
  {
   "cell_type": "code",
   "execution_count": 31,
   "metadata": {},
   "outputs": [],
   "source": [
    "# agglomerative with ward linkage\n",
    "ward = cluster.AgglomerativeClustering(n_clusters=n_clusters, linkage=\"ward\").fit(df_scaled)"
   ]
  },
  {
   "cell_type": "code",
   "execution_count": 32,
   "metadata": {},
   "outputs": [],
   "source": [
    "# affinity propagation\n",
    "ap = cluster.AffinityPropagation().fit(df_scaled)"
   ]
  },
  {
   "cell_type": "markdown",
   "metadata": {},
   "source": [
    "Okay, now let's visualize the results from each using t-sne plots."
   ]
  },
  {
   "cell_type": "code",
   "execution_count": 43,
   "metadata": {},
   "outputs": [],
   "source": [
    "def tsne_plot(df, clusters, ax=None, title=\"tSNE plot\"):\n",
    "    \"\"\"\n",
    "    Run and plot t-sne with cluster labels.\n",
    "    \"\"\"\n",
    "    if ax is None:\n",
    "        fig, ax = plt.subplots()\n",
    "    else:\n",
    "        fig = plt.gcf()\n",
    "    \n",
    "    # run t-sne\n",
    "    tsne = manifold.TSNE(perplexity=40, n_components=2)\n",
    "    df_tsne = tsne.fit_transform(df)\n",
    "    \n",
    "    # get cluster labels\n",
    "    if hasattr(clusters, \"labels_\"):\n",
    "        labels = clusters.labels_.astype(int)\n",
    "    else:\n",
    "        labels = clusters.predict(df)\n",
    "    \n",
    "    # plot the figure\n",
    "    plot = ax.scatter(df_tsne[:,0], df_tsne[:,1], c=labels, s=2, cmap=\"nipy_spectral\")\n",
    "    ax.set_xlabel(\"tSNE1\")\n",
    "    ax.set_ylabel(\"tSNE2\")\n",
    "    ax.set_title(title)\n",
    "    fig.colorbar(plot, ax=ax)"
   ]
  },
  {
   "cell_type": "markdown",
   "metadata": {},
   "source": [
    "Let's test my tsne_plot function to make sure it works."
   ]
  },
  {
   "cell_type": "code",
   "execution_count": 41,
   "metadata": {},
   "outputs": [
    {
     "data": {
      "image/png": "[encoded data removed]",
      "text/plain": [
       "<Figure size 432x288 with 2 Axes>"
      ]
     },
     "metadata": {
      "needs_background": "light"
     },
     "output_type": "display_data"
    }
   ],
   "source": [
    "tsne_plot(df_scaled, km8)\n",
    "plt.show()"
   ]
  },
  {
   "cell_type": "markdown",
   "metadata": {},
   "source": [
    "Okay, looks good, now lets plot everything."
   ]
  },
  {
   "cell_type": "code",
   "execution_count": 45,
   "metadata": {},
   "outputs": [
    {
     "data": {
      "image/png": "[encoded data removed]",
      "text/plain": [
       "<Figure size 648x432 with 12 Axes>"
      ]
     },
     "metadata": {
      "needs_background": "light"
     },
     "output_type": "display_data"
    }
   ],
   "source": [
    "fig, ax = plt.subplots(nrows=2, ncols=3, figsize=(9,6))\n",
    "tsne_plot(df_scaled, km8, ax=ax[0,0], title=\"K-means\")\n",
    "tsne_plot(df_scaled, spectral, ax=ax[0,1], title=\"Spectral\")\n",
    "tsne_plot(df_scaled, gmm, ax=ax[0,2], title=\"Gaussian Mixture Models\")\n",
    "tsne_plot(df_scaled, dbscan, ax=ax[1,0], title=\"DBSCAN\")\n",
    "tsne_plot(df_scaled, ward, ax=ax[1,1], title=\"Agglomerative\")\n",
    "tsne_plot(df_scaled, ap, ax=ax[1,2], title=\"Affinity Propagation\")\n",
    "plt.tight_layout()\n",
    "plt.show()"
   ]
  },
  {
   "cell_type": "markdown",
   "metadata": {},
   "source": [
    "So, the results are in, looks like some algorithms performed pretty poorly (such as spectral clustering), while others were pretty discriminating (agglomerative). And DBSCAN seems like I may not have done something properly in terms of the label output (all of which seems to be labeled as -1). Maybe the default settings didn't work well for this dataset."
   ]
  },
  {
   "cell_type": "markdown",
   "metadata": {},
   "source": [
    "## Next, need to try clustering using different distance metrics"
   ]
  },
  {
   "cell_type": "markdown",
   "metadata": {},
   "source": [
    "My first thought is to try this using k-means, but upon a quick google search, it seems like this isn't readily implemented in sklearn (although the custom callable for init in k-means could be an avenue probably). Perhaps it will be best to just implement my own k-means function with a custom distance matrix."
   ]
  },
  {
   "cell_type": "code",
   "execution_count": 46,
   "metadata": {},
   "outputs": [],
   "source": [
    "# NEXT: need to implement a custom distance function in kmeans or custom kmeans function from scratch and use other distances\n",
    "# then test out cosine distances, jaccard, manhattan distance, maybe some others?\n",
    "# make another row on the previous comparison plot"
   ]
  },
  {
   "cell_type": "code",
   "execution_count": null,
   "metadata": {},
   "outputs": [],
   "source": []
  },
  {
   "cell_type": "code",
   "execution_count": null,
   "metadata": {},
   "outputs": [],
   "source": []
  },
  {
   "cell_type": "markdown",
   "metadata": {},
   "source": [
    "## Finally, need to compare all of clustering results so far"
   ]
  },
  {
   "cell_type": "code",
   "execution_count": 47,
   "metadata": {},
   "outputs": [],
   "source": [
    "# finally just need to compare and summarize all clustering algorithm / distance metric variation results, which should be quantified and compared at this point\n",
    "# maybe I can compare using inertia or something based on the distance, inter-cluster distances maximized and intra-cluster distances minimized."
   ]
  },
  {
   "cell_type": "code",
   "execution_count": null,
   "metadata": {},
   "outputs": [],
   "source": []
  }
 ],
 "metadata": {
  "kernelspec": {
   "display_name": "md",
   "language": "python",
   "name": "md"
  },
  "language_info": {
   "codemirror_mode": {
    "name": "ipython",
    "version": 3
   },
   "file_extension": ".py",
   "mimetype": "text/x-python",
   "name": "python",
   "nbconvert_exporter": "python",
   "pygments_lexer": "ipython3",
   "version": "3.7.13"
  }
 },
 "nbformat": 4,
 "nbformat_minor": 4
}
